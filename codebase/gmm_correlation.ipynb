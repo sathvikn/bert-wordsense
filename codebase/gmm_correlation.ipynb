{
 "cells": [
  {
   "cell_type": "code",
   "execution_count": 1,
   "metadata": {},
   "outputs": [],
   "source": [
    "import pandas as pd\n",
    "import json\n",
    "from metrics import *"
   ]
  },
  {
   "cell_type": "code",
   "execution_count": 2,
   "metadata": {},
   "outputs": [],
   "source": [
    "corr_dict = {}\n",
    "for i in range(2, 10):\n",
    "    corr_dict[i] = {'num_senses': [], 'gmm_ari': [], 'random_ari': []}\n",
    "    "
   ]
  },
  {
   "cell_type": "code",
   "execution_count": 3,
   "metadata": {},
   "outputs": [],
   "source": [
    "folder_names = get_corr_words()\n",
    "for f in folder_names:\n",
    "    num_senses, ari_result_dict = get_word_senses_ri(f)\n",
    "    sense_lst = [num_senses] * 1000\n",
    "    for k in ari_result_dict.keys():\n",
    "        i = int(k)\n",
    "        corr_dict[i]['num_senses'] += (sense_lst)\n",
    "        corr_dict[i]['gmm_ari'] += (ari_result_dict[k]['gmm_raw_aris'])\n",
    "        corr_dict[i]['random_ari'] += (ari_result_dict[k]['random_baseline_raw_ari'])\n",
    "    "
   ]
  },
  {
   "cell_type": "code",
   "execution_count": null,
   "metadata": {},
   "outputs": [],
   "source": []
  }
 ],
 "metadata": {
  "kernelspec": {
   "display_name": "Python [conda env:bert] *",
   "language": "python",
   "name": "conda-env-bert-py"
  },
  "language_info": {
   "codemirror_mode": {
    "name": "ipython",
    "version": 3
   },
   "file_extension": ".py",
   "mimetype": "text/x-python",
   "name": "python",
   "nbconvert_exporter": "python",
   "pygments_lexer": "ipython3",
   "version": "3.7.6"
  }
 },
 "nbformat": 4,
 "nbformat_minor": 2
}
