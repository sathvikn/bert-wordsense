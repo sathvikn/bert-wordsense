{
 "cells": [
  {
   "cell_type": "code",
   "execution_count": 63,
   "metadata": {},
   "outputs": [],
   "source": [
    "from nltk.corpus import semcor\n",
    "import pandas as pd\n",
    "import numpy as np\n",
    "from semcor_bert_utils import *"
   ]
  },
  {
   "cell_type": "code",
   "execution_count": 3,
   "metadata": {},
   "outputs": [],
   "source": [
    "tagged_sents = nltk.corpus.semcor.tagged_sents(tag = 'sem')"
   ]
  },
  {
   "cell_type": "code",
   "execution_count": 4,
   "metadata": {},
   "outputs": [],
   "source": [
    "sel = SemCorSelector()"
   ]
  },
  {
   "cell_type": "code",
   "execution_count": 5,
   "metadata": {},
   "outputs": [],
   "source": [
    "tag_freqs = {}\n",
    "for s in tagged_sents:\n",
    "    for tok in s:\n",
    "        if type(tok) == nltk.tree.Tree:\n",
    "            if tok.label() in tag_freqs.keys():\n",
    "                tag_freqs[tok.label()] += 1\n",
    "            else:\n",
    "                tag_freqs[tok.label()] = 1\n",
    "    "
   ]
  },
  {
   "cell_type": "code",
   "execution_count": 47,
   "metadata": {
    "scrolled": true
   },
   "outputs": [],
   "source": [
    "freqs = pd.DataFrame(pd.Series(tag_freqs)).reset_index()\n",
    "freqs.columns = ['lemma', 'count']\n",
    "sorted_freqs = freqs.sort_values('count', ascending = False)\n",
    "words = []\n",
    "def get_word(lem):\n",
    "    if type(lem) == nltk.corpus.reader.wordnet.Lemma:\n",
    "        return lem.name()\n",
    "    else:\n",
    "        return lem.split('.')[0]\n",
    "sorted_freqs['word'] = sorted_freqs['lemma'].apply(get_word)"
   ]
  },
  {
   "cell_type": "code",
   "execution_count": 38,
   "metadata": {},
   "outputs": [],
   "source": [
    "def get_pos(lem):\n",
    "    lem = str(lem)\n",
    "    try:\n",
    "        return lem.split('.')[1]\n",
    "    except:\n",
    "        return 'No POS'\n",
    "\n",
    "def get_sense_num(lem):\n",
    "    lem = str(lem)\n",
    "    try:\n",
    "        return lem.split('.')[2]\n",
    "    except:\n",
    "        return \"No marked sense\""
   ]
  },
  {
   "cell_type": "code",
   "execution_count": 43,
   "metadata": {},
   "outputs": [
    {
     "data": {
      "text/plain": [
       "Lemma('appointment.n.01.appointment')"
      ]
     },
     "execution_count": 43,
     "metadata": {},
     "output_type": "execute_result"
    }
   ],
   "source": [
    "tagged_sents[465][1].label()"
   ]
  },
  {
   "cell_type": "code",
   "execution_count": 48,
   "metadata": {},
   "outputs": [],
   "source": [
    "decomp_tags = []\n",
    "for s in tagged_sents:\n",
    "    for tok in s:\n",
    "        if type(tok) == nltk.tree.Tree:\n",
    "            lem = tok.label()\n",
    "            decomp_tags.append({'lemma': lem, 'word': get_word(lem), \n",
    "                                'pos': get_pos(lem), 'sense': get_sense_num(lem)})\n",
    "            \n",
    "semcor_tags = pd.DataFrame(decomp_tags)"
   ]
  },
  {
   "cell_type": "code",
   "execution_count": 49,
   "metadata": {},
   "outputs": [
    {
     "data": {
      "text/html": [
       "<div>\n",
       "<style scoped>\n",
       "    .dataframe tbody tr th:only-of-type {\n",
       "        vertical-align: middle;\n",
       "    }\n",
       "\n",
       "    .dataframe tbody tr th {\n",
       "        vertical-align: top;\n",
       "    }\n",
       "\n",
       "    .dataframe thead th {\n",
       "        text-align: right;\n",
       "    }\n",
       "</style>\n",
       "<table border=\"1\" class=\"dataframe\">\n",
       "  <thead>\n",
       "    <tr style=\"text-align: right;\">\n",
       "      <th></th>\n",
       "      <th>lemma</th>\n",
       "      <th>word</th>\n",
       "      <th>pos</th>\n",
       "      <th>sense</th>\n",
       "    </tr>\n",
       "  </thead>\n",
       "  <tbody>\n",
       "    <tr>\n",
       "      <th>0</th>\n",
       "      <td>Lemma('group.n.01.group')</td>\n",
       "      <td>group</td>\n",
       "      <td>n</td>\n",
       "      <td>01</td>\n",
       "    </tr>\n",
       "    <tr>\n",
       "      <th>1</th>\n",
       "      <td>Lemma('state.v.01.say')</td>\n",
       "      <td>say</td>\n",
       "      <td>v</td>\n",
       "      <td>01</td>\n",
       "    </tr>\n",
       "    <tr>\n",
       "      <th>2</th>\n",
       "      <td>Lemma('friday.n.01.Friday')</td>\n",
       "      <td>Friday</td>\n",
       "      <td>n</td>\n",
       "      <td>01</td>\n",
       "    </tr>\n",
       "    <tr>\n",
       "      <th>3</th>\n",
       "      <td>Lemma('probe.n.01.investigation')</td>\n",
       "      <td>investigation</td>\n",
       "      <td>n</td>\n",
       "      <td>01</td>\n",
       "    </tr>\n",
       "    <tr>\n",
       "      <th>4</th>\n",
       "      <td>Lemma('atlanta.n.01.Atlanta')</td>\n",
       "      <td>Atlanta</td>\n",
       "      <td>n</td>\n",
       "      <td>01</td>\n",
       "    </tr>\n",
       "    <tr>\n",
       "      <th>...</th>\n",
       "      <td>...</td>\n",
       "      <td>...</td>\n",
       "      <td>...</td>\n",
       "      <td>...</td>\n",
       "    </tr>\n",
       "    <tr>\n",
       "      <th>235074</th>\n",
       "      <td>Lemma('be.v.01.be')</td>\n",
       "      <td>be</td>\n",
       "      <td>v</td>\n",
       "      <td>01</td>\n",
       "    </tr>\n",
       "    <tr>\n",
       "      <th>235075</th>\n",
       "      <td>Lemma('let.v.01.let')</td>\n",
       "      <td>let</td>\n",
       "      <td>v</td>\n",
       "      <td>01</td>\n",
       "    </tr>\n",
       "    <tr>\n",
       "      <th>235076</th>\n",
       "      <td>Lemma('make.v.01.make')</td>\n",
       "      <td>make</td>\n",
       "      <td>v</td>\n",
       "      <td>01</td>\n",
       "    </tr>\n",
       "    <tr>\n",
       "      <th>235077</th>\n",
       "      <td>turn_into.v.00</td>\n",
       "      <td>turn_into</td>\n",
       "      <td>v</td>\n",
       "      <td>00</td>\n",
       "    </tr>\n",
       "    <tr>\n",
       "      <th>235078</th>\n",
       "      <td>Lemma('state.v.01.say')</td>\n",
       "      <td>say</td>\n",
       "      <td>v</td>\n",
       "      <td>01</td>\n",
       "    </tr>\n",
       "  </tbody>\n",
       "</table>\n",
       "<p>235079 rows × 4 columns</p>\n",
       "</div>"
      ],
      "text/plain": [
       "                                    lemma           word pos sense\n",
       "0               Lemma('group.n.01.group')          group   n    01\n",
       "1                 Lemma('state.v.01.say')            say   v    01\n",
       "2             Lemma('friday.n.01.Friday')         Friday   n    01\n",
       "3       Lemma('probe.n.01.investigation')  investigation   n    01\n",
       "4           Lemma('atlanta.n.01.Atlanta')        Atlanta   n    01\n",
       "...                                   ...            ...  ..   ...\n",
       "235074                Lemma('be.v.01.be')             be   v    01\n",
       "235075              Lemma('let.v.01.let')            let   v    01\n",
       "235076            Lemma('make.v.01.make')           make   v    01\n",
       "235077                     turn_into.v.00      turn_into   v    00\n",
       "235078            Lemma('state.v.01.say')            say   v    01\n",
       "\n",
       "[235079 rows x 4 columns]"
      ]
     },
     "execution_count": 49,
     "metadata": {},
     "output_type": "execute_result"
    }
   ],
   "source": [
    "semcor_tags"
   ]
  },
  {
   "cell_type": "code",
   "execution_count": 51,
   "metadata": {},
   "outputs": [],
   "source": [
    "semcor_tags.to_csv('semcor_tags.csv')"
   ]
  },
  {
   "cell_type": "code",
   "execution_count": 149,
   "metadata": {},
   "outputs": [],
   "source": [
    "freqs_for_sense = semcor_tags.groupby([\"word\", 'pos',\n",
    "                                       'sense']).agg('count').rename({'lemma': 'freq'}, axis = 1).reset_index()\n",
    "sparsity = freqs_for_sense.groupby(['word', 'pos']).agg([np.std, 'count'])"
   ]
  },
  {
   "cell_type": "code",
   "execution_count": 164,
   "metadata": {},
   "outputs": [],
   "source": [
    "sparsity[('freq', 'count')] = sparsity['freq']['count'].apply(lambda x: x - 1)\n",
    "sparsity = sparsity[sparsity['freq']['count'] > 1]\n",
    "sparsity = sparsity.sort_values([('freq', 'std')], ascending = False).reset_index()"
   ]
  },
  {
   "cell_type": "code",
   "execution_count": 165,
   "metadata": {},
   "outputs": [
    {
     "data": {
      "text/html": [
       "<div>\n",
       "<style scoped>\n",
       "    .dataframe tbody tr th:only-of-type {\n",
       "        vertical-align: middle;\n",
       "    }\n",
       "\n",
       "    .dataframe tbody tr th {\n",
       "        vertical-align: top;\n",
       "    }\n",
       "\n",
       "    .dataframe thead tr th {\n",
       "        text-align: left;\n",
       "    }\n",
       "</style>\n",
       "<table border=\"1\" class=\"dataframe\">\n",
       "  <thead>\n",
       "    <tr>\n",
       "      <th></th>\n",
       "      <th>word</th>\n",
       "      <th>pos</th>\n",
       "      <th colspan=\"2\" halign=\"left\">freq</th>\n",
       "    </tr>\n",
       "    <tr>\n",
       "      <th></th>\n",
       "      <th></th>\n",
       "      <th></th>\n",
       "      <th>std</th>\n",
       "      <th>count</th>\n",
       "    </tr>\n",
       "  </thead>\n",
       "  <tbody>\n",
       "    <tr>\n",
       "      <th>0</th>\n",
       "      <td>be</td>\n",
       "      <td>v</td>\n",
       "      <td>2753.646765</td>\n",
       "      <td>8</td>\n",
       "    </tr>\n",
       "    <tr>\n",
       "      <th>1</th>\n",
       "      <td>have</td>\n",
       "      <td>v</td>\n",
       "      <td>341.328009</td>\n",
       "      <td>6</td>\n",
       "    </tr>\n",
       "    <tr>\n",
       "      <th>2</th>\n",
       "      <td>do</td>\n",
       "      <td>v</td>\n",
       "      <td>214.057214</td>\n",
       "      <td>2</td>\n",
       "    </tr>\n",
       "    <tr>\n",
       "      <th>3</th>\n",
       "      <td>make</td>\n",
       "      <td>v</td>\n",
       "      <td>176.710568</td>\n",
       "      <td>8</td>\n",
       "    </tr>\n",
       "    <tr>\n",
       "      <th>4</th>\n",
       "      <td>see</td>\n",
       "      <td>v</td>\n",
       "      <td>128.110418</td>\n",
       "      <td>13</td>\n",
       "    </tr>\n",
       "  </tbody>\n",
       "</table>\n",
       "</div>"
      ],
      "text/plain": [
       "   word pos         freq      \n",
       "                     std count\n",
       "0    be   v  2753.646765     8\n",
       "1  have   v   341.328009     6\n",
       "2    do   v   214.057214     2\n",
       "3  make   v   176.710568     8\n",
       "4   see   v   128.110418    13"
      ]
     },
     "execution_count": 165,
     "metadata": {},
     "output_type": "execute_result"
    }
   ],
   "source": [
    "sparsity.head()"
   ]
  },
  {
   "cell_type": "code",
   "execution_count": 166,
   "metadata": {},
   "outputs": [],
   "source": [
    "sparsity.columns = ['word', 'pos', 'freq_sd', 'senses_for_pos']"
   ]
  },
  {
   "cell_type": "code",
   "execution_count": 170,
   "metadata": {},
   "outputs": [],
   "source": [
    "sparsity.to_csv('data/semcor_sparsity.csv', index = False)"
   ]
  }
 ],
 "metadata": {
  "kernelspec": {
   "display_name": "Python [conda env:bert]",
   "language": "python",
   "name": "conda-env-bert-py"
  },
  "language_info": {
   "codemirror_mode": {
    "name": "ipython",
    "version": 3
   },
   "file_extension": ".py",
   "mimetype": "text/x-python",
   "name": "python",
   "nbconvert_exporter": "python",
   "pygments_lexer": "ipython3",
   "version": "3.7.6"
  }
 },
 "nbformat": 4,
 "nbformat_minor": 2
}
