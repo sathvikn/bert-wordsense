{
 "cells": [
  {
   "cell_type": "code",
   "execution_count": 544,
   "metadata": {},
   "outputs": [],
   "source": [
    "from core.fr_1989_analysis import *\n",
    "import pandas as pd\n",
    "from transformers import BertTokenizer\n",
    "import matplotlib.pyplot as plt\n",
    "import seaborn as sns"
   ]
  },
  {
   "cell_type": "markdown",
   "metadata": {},
   "source": [
    "IMPORTANT: due to shared variable names, run the cells for each experiment from the top."
   ]
  },
  {
   "cell_type": "markdown",
   "metadata": {},
   "source": [
    "# Experiment 1 "
   ]
  },
  {
   "cell_type": "markdown",
   "metadata": {},
   "source": [
    "This experiment measured reading time on the disambiguating token for when it came immediately after an ambiguous word vs. when it was preceded by filler context.\n",
    "\n",
    "Conditions: a = dominant-early; b = subordinate-early; c = dominant-late; d = subordinate-late.\n",
    "dominant/subordinate refers to sense, early/late refers to when the disambiguating token comes in relation to the target.\n",
    "\n",
    "\n",
    "Example Stimuli: Target tokens in **bold**, disambiguating tokens in *italics*.\n",
    "\n",
    "a. Tom was unhappy that the **fall** *arrived* so early.\n",
    "\n",
    "b. Tom was unhappy that the **fall** *hurt* Sue's back permanently.\n",
    "\n",
    "c. Tom was unhappy that the **fall** had seemed to *arrive* so\n",
    "early.\n",
    "\n",
    "d. Tom was unhappy that the **fall** had seemed to *hurt* Sue's\n"
   ]
  },
  {
   "cell_type": "code",
   "execution_count": 526,
   "metadata": {},
   "outputs": [],
   "source": [
    "df = pd.read_csv(\"../data/expt_1_stimuli.csv\")\n",
    "tokenizer = BertTokenizer.from_pretrained('bert-base-uncased')\n",
    "df['dt_stem'] = df['disambig_token'].apply(lambda t: tokenizer.tokenize(t)[0])\n",
    "a = df[(df['d_s'] == 'd') & (df['early_late'] == 'early')]\n",
    "b = df[(df['d_s'] == 's') & (df['early_late'] == 'early')]\n",
    "c = df[(df['d_s'] == 'd') & (df['early_late'] == 'late')]\n",
    "d = df[(df['d_s'] == 's') & (df['early_late'] == 'early')]"
   ]
  },
  {
   "cell_type": "code",
   "execution_count": 528,
   "metadata": {},
   "outputs": [],
   "source": [
    "a_data, c_data = sentence_pair_comparison(a, c, 9)"
   ]
  },
  {
   "cell_type": "markdown",
   "metadata": {},
   "source": [
    "These are the layers where the disambiguating token has the most attention for stimuli A and C. B and D are done in the cell below the next one."
   ]
  },
  {
   "cell_type": "code",
   "execution_count": 537,
   "metadata": {},
   "outputs": [
    {
     "data": {
      "text/plain": [
       "[{5, 7},\n",
       " {0},\n",
       " {0, 3, 4},\n",
       " set(),\n",
       " {7},\n",
       " {3},\n",
       " {0, 4},\n",
       " {5, 7},\n",
       " {0},\n",
       " {4, 5},\n",
       " {3},\n",
       " {3, 4, 5, 7},\n",
       " {0, 5},\n",
       " {3, 4, 5},\n",
       " {4},\n",
       " {3, 4}]"
      ]
     },
     "execution_count": 537,
     "metadata": {},
     "output_type": "execute_result"
    }
   ],
   "source": [
    "a_attn, a_embeds = first_item(a_data), second_item(a_data)\n",
    "c_attn, c_embeds = first_item(c_data), second_item(c_data)\n",
    "top_layers(a_attn, c_attn)"
   ]
  },
  {
   "cell_type": "code",
   "execution_count": 538,
   "metadata": {},
   "outputs": [
    {
     "data": {
      "text/plain": [
       "[{0, 1, 2, 3, 4, 5, 7},\n",
       " {2, 3, 4, 5, 7},\n",
       " {0, 2, 6},\n",
       " {0, 2, 5, 7},\n",
       " {0, 2, 5, 7},\n",
       " {2},\n",
       " {2, 4, 5},\n",
       " {0, 2, 5, 8},\n",
       " {2, 4, 5},\n",
       " {2, 5},\n",
       " {2, 5},\n",
       " {0, 2, 4, 5, 6, 7},\n",
       " {2, 7},\n",
       " {2, 4, 5, 7},\n",
       " {0, 2, 3, 4, 5, 7, 8},\n",
       " {1, 2, 4, 5, 7}]"
      ]
     },
     "execution_count": 538,
     "metadata": {},
     "output_type": "execute_result"
    }
   ],
   "source": [
    "b_data, d_data = sentence_pair_comparison(b, d, 9)\n",
    "b_attn, b_embeds = first_item(b_data), second_item(b_data)\n",
    "d_attn, d_embeds = first_item(b_data), second_item(b_data)\n",
    "top_layers(b_attn, d_attn)"
   ]
  },
  {
   "cell_type": "code",
   "execution_count": 407,
   "metadata": {},
   "outputs": [],
   "source": [
    "no_gap = a_attn + b_attn\n",
    "gap = c_attn + d_attn"
   ]
  },
  {
   "cell_type": "code",
   "execution_count": 431,
   "metadata": {},
   "outputs": [],
   "source": [
    "ng_layers = []\n",
    "g_layers = []\n",
    "ng_attn = []\n",
    "g_attn = []\n",
    "for ab, cd in zip(no_gap, gap):\n",
    "    for l1, l2 in zip(ab.keys(), cd.keys()):\n",
    "        ng_layers.append(l1)\n",
    "        g_layers.append(l2)\n",
    "        ng_attn.append(ab[l1]['attn_vector'][ab[l1]['hc_token_idx']])\n",
    "        g_attn.append(cd[l2]['attn_vector'][cd[l2]['hc_token_idx']])"
   ]
  },
  {
   "cell_type": "code",
   "execution_count": 438,
   "metadata": {
    "scrolled": true
   },
   "outputs": [
    {
     "data": {
      "text/plain": [
       "Text(0.5, 1.0, 'Attention on Disambiguating Token')"
      ]
     },
     "execution_count": 438,
     "metadata": {},
     "output_type": "execute_result"
    },
    {
     "data": {
      "image/png": "[encoded data removed]",
      "text/plain": [
       "<Figure size 432x288 with 1 Axes>"
      ]
     },
     "metadata": {
      "needs_background": "light"
     },
     "output_type": "display_data"
    }
   ],
   "source": [
    "dis_attn = pd.DataFrame({'layers': ng_layers + g_layers, \"attention\": ng_attn + g_attn,\n",
    "              \"gap\": ['no_gap'] * len(ng_layers) + ['gap'] * len(g_layers)})\n",
    "sns.pointplot(x = 'layers', y = 'attention', hue = 'gap', data = dis_attn)\n",
    "plt.title(\"Attention on Disambiguating Token\")"
   ]
  },
  {
   "cell_type": "markdown",
   "metadata": {},
   "source": [
    "`no_gap` refers to Sentences a and b (i.e. Larry knew that the suit fit him very well.), `gap` refers to Sentences c and d (Larry knew that the suit would have to fit him very well.)"
   ]
  },
  {
   "cell_type": "markdown",
   "metadata": {},
   "source": [
    "Cosine similarity between pairs of stimuli with the same sense/different distances to disambiguating token"
   ]
  },
  {
   "cell_type": "code",
   "execution_count": 539,
   "metadata": {},
   "outputs": [
    {
     "data": {
      "text/plain": [
       "0.98095644"
      ]
     },
     "execution_count": 539,
     "metadata": {},
     "output_type": "execute_result"
    }
   ],
   "source": [
    "no_gap_embeds = a_embeds + b_embeds\n",
    "gap_embeds = c_embeds + d_embeds\n",
    "avg_pairwise_cosine_sim(no_gap_embeds, gap_embeds)"
   ]
  },
  {
   "cell_type": "markdown",
   "metadata": {},
   "source": [
    "Cosine similarity between pairs of stimuli with different senses/same distance to disambiguating token"
   ]
  },
  {
   "cell_type": "code",
   "execution_count": 541,
   "metadata": {},
   "outputs": [
    {
     "data": {
      "text/plain": [
       "0.7917545"
      ]
     },
     "execution_count": 541,
     "metadata": {},
     "output_type": "execute_result"
    }
   ],
   "source": [
    "dom_embeds_1 = a_embeds + c_embeds\n",
    "sub_embeds_1 = b_embeds + d_embeds\n",
    "avg_pairwise_cosine_sim(dom_embeds_1, sub_embeds_1)"
   ]
  },
  {
   "cell_type": "markdown",
   "metadata": {},
   "source": [
    "# Experiment 2"
   ]
  },
  {
   "cell_type": "markdown",
   "metadata": {},
   "source": [
    "This experiment measured reading time for sentences where the disambiguating context came before an ambiguous word vs. after the token.\n",
    "\n",
    "a — dominant-prior, b = subordinate-prior; c = dominant-follow- ing; d = subordinate-following.\n",
    "dominant/subordinate refers to sense, prior/following refers to the position of the disambiguating information.\n",
    "\n",
    "Example stimuli: target token in **bold**, disambiguating context in *italics*\n",
    "\n",
    "a. *Apologizing for their behavior*, the **club** was virtually useless.\n",
    "\n",
    "b. *Weighing almost thirty pounds*, the **club** was virtually useless.\n",
    "\n",
    "c. Unfortunately the **club** was virtually useless, *apologizing for their behavior.*\n",
    "\n",
    "d. Unfortunately the **club** was virtually useless, *weighing almost thirty pounds.*\n"
   ]
  },
  {
   "cell_type": "code",
   "execution_count": 502,
   "metadata": {},
   "outputs": [],
   "source": [
    "df = pd.read_csv(\"../data/expt_2_stimuli.csv\")\n",
    "df['dt_stem'] = df['disambig_token'].apply(lambda t: tokenizer.tokenize(t)[0])\n",
    "a = df[(df['d_s'] == 'd') & (df['before_after'] == 'before')]\n",
    "b = df[(df['d_s'] == 's') & (df['before_after'] == 'before')]\n",
    "c = df[(df['d_s'] == 'd') & (df['before_after'] == 'after')]\n",
    "d = df[(df['d_s'] == 's') & (df['before_after'] == 'after')]"
   ]
  },
  {
   "cell_type": "code",
   "execution_count": 505,
   "metadata": {},
   "outputs": [],
   "source": [
    "a_data, c_data = sentence_pair_comparison(a, c, 13)\n",
    "a_attn, a_embeds = first_item(a_data), second_item(a_data)\n",
    "c_attn, c_embeds = first_item(c_data), second_item(c_data)\n",
    "b_data, d_data = sentence_pair_comparison(b, d, 13)\n",
    "b_attn, b_embeds = first_item(b_data), second_item(b_data)\n",
    "d_attn, d_embeds = first_item(d_data), second_item(d_data)\n"
   ]
  },
  {
   "cell_type": "code",
   "execution_count": 507,
   "metadata": {},
   "outputs": [],
   "source": [
    "d_before = a_attn + b_attn\n",
    "d_after = c_attn + d_attn"
   ]
  },
  {
   "cell_type": "code",
   "execution_count": 508,
   "metadata": {},
   "outputs": [],
   "source": [
    "embeds_before = a_embeds + b_embeds\n",
    "embeds_after = c_embeds + d_embeds"
   ]
  },
  {
   "cell_type": "markdown",
   "metadata": {},
   "source": [
    "The average cosine similarity of pairs of A and C & B and D sentences is higher than when the sense is different.\n",
    "So here, we see that the location of the disambiguating context does not play a significant role in the word's representation. "
   ]
  },
  {
   "cell_type": "code",
   "execution_count": 509,
   "metadata": {},
   "outputs": [
    {
     "data": {
      "text/plain": [
       "0.960975"
      ]
     },
     "execution_count": 509,
     "metadata": {},
     "output_type": "execute_result"
    }
   ],
   "source": [
    "avg_pairwise_cosine_sim(embeds_before, embeds_after)"
   ]
  },
  {
   "cell_type": "code",
   "execution_count": 510,
   "metadata": {},
   "outputs": [],
   "source": [
    "dom_embeds = a_embeds + c_embeds\n",
    "sub_embeds = b_embeds + d_embeds"
   ]
  },
  {
   "cell_type": "code",
   "execution_count": 511,
   "metadata": {},
   "outputs": [
    {
     "data": {
      "text/plain": [
       "0.88935876"
      ]
     },
     "execution_count": 511,
     "metadata": {},
     "output_type": "execute_result"
    }
   ],
   "source": [
    "avg_pairwise_cosine_sim(dom_embeds, sub_embeds)"
   ]
  },
  {
   "cell_type": "markdown",
   "metadata": {},
   "source": [
    "These graphs plot the total attention before/after the target token. One issue that we were running into was that when we take the mean, the results don't look like what we should expect, but when we take the sum, there are much fewer tokens before the target. This is particularly an issue for stimulus categories c and d, but isn't much of a problem for a and b.\n"
   ]
  },
  {
   "cell_type": "code",
   "execution_count": 546,
   "metadata": {
    "scrolled": true
   },
   "outputs": [
    {
     "data": {
      "image/png": "[encoded data removed]",
      "text/plain": [
       "<Figure size 432x288 with 1 Axes>"
      ]
     },
     "metadata": {
      "needs_background": "light"
     },
     "output_type": "display_data"
    }
   ],
   "source": [
    "ab_before, ab_after, layers = attn_before_after(d_before, \n",
    "                                             \"Sentences with Disambiguating Information Before Target\")"
   ]
  },
  {
   "cell_type": "markdown",
   "metadata": {},
   "source": [
    "Example sentence: Being so elegantly designed, the pitcher pleased Mary. (a and b)"
   ]
  },
  {
   "cell_type": "code",
   "execution_count": 547,
   "metadata": {},
   "outputs": [
    {
     "data": {
      "image/png": "[encoded data removed]",
      "text/plain": [
       "<Figure size 432x288 with 1 Axes>"
      ]
     },
     "metadata": {
      "needs_background": "light"
     },
     "output_type": "display_data"
    }
   ],
   "source": [
    "cd_before, cd_after, cd_layers = attn_before_after(d_after,\"Sentences with Disambiguating Information After Target\")"
   ]
  },
  {
   "cell_type": "markdown",
   "metadata": {},
   "source": [
    "Example sentence: Of course the pitcher pleased Mary, being so elegantly designed. (c and d)"
   ]
  },
  {
   "cell_type": "markdown",
   "metadata": {},
   "source": [
    "Something to do- Linear Model: before/after(binary), number of tokens before/after. Layers as non-continuous factor. Outcome variable is sum/mean of attention"
   ]
  }
 ],
 "metadata": {
  "kernelspec": {
   "display_name": "Python [conda env:bert]",
   "language": "python",
   "name": "conda-env-bert-py"
  },
  "language_info": {
   "codemirror_mode": {
    "name": "ipython",
    "version": 3
   },
   "file_extension": ".py",
   "mimetype": "text/x-python",
   "name": "python",
   "nbconvert_exporter": "python",
   "pygments_lexer": "ipython3",
   "version": "3.7.6"
  }
 },
 "nbformat": 4,
 "nbformat_minor": 2
}
