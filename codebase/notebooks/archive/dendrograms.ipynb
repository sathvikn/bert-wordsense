{
 "cells": [
  {
   "cell_type": "markdown",
   "metadata": {},
   "source": [
    "Plotting a dendrogram & trying out PCA"
   ]
  },
  {
   "cell_type": "code",
   "execution_count": 1,
   "metadata": {},
   "outputs": [],
   "source": [
    "import numpy as np\n",
    "import pandas as pd\n",
    "import matplotlib.patches as mpatches\n",
    "import matplotlib.pyplot as plt\n",
    "from nltk.corpus import wordnet\n",
    "from scipy.cluster.hierarchy import dendrogram, linkage \n",
    "from semcor_bert_utils import *"
   ]
  },
  {
   "cell_type": "code",
   "execution_count": 2,
   "metadata": {},
   "outputs": [
    {
     "data": {
      "text/html": [
       "<div>\n",
       "<style scoped>\n",
       "    .dataframe tbody tr th:only-of-type {\n",
       "        vertical-align: middle;\n",
       "    }\n",
       "\n",
       "    .dataframe tbody tr th {\n",
       "        vertical-align: top;\n",
       "    }\n",
       "\n",
       "    .dataframe thead th {\n",
       "        text-align: right;\n",
       "    }\n",
       "</style>\n",
       "<table border=\"1\" class=\"dataframe\">\n",
       "  <thead>\n",
       "    <tr style=\"text-align: right;\">\n",
       "      <th></th>\n",
       "      <th>word</th>\n",
       "      <th>pos</th>\n",
       "      <th>freq_sd</th>\n",
       "      <th>senses_for_pos</th>\n",
       "    </tr>\n",
       "  </thead>\n",
       "  <tbody>\n",
       "    <tr>\n",
       "      <th>0</th>\n",
       "      <td>be</td>\n",
       "      <td>v</td>\n",
       "      <td>2753.646765</td>\n",
       "      <td>8</td>\n",
       "    </tr>\n",
       "    <tr>\n",
       "      <th>1</th>\n",
       "      <td>have</td>\n",
       "      <td>v</td>\n",
       "      <td>341.328009</td>\n",
       "      <td>6</td>\n",
       "    </tr>\n",
       "    <tr>\n",
       "      <th>2</th>\n",
       "      <td>do</td>\n",
       "      <td>v</td>\n",
       "      <td>214.057214</td>\n",
       "      <td>2</td>\n",
       "    </tr>\n",
       "    <tr>\n",
       "      <th>3</th>\n",
       "      <td>make</td>\n",
       "      <td>v</td>\n",
       "      <td>176.710568</td>\n",
       "      <td>8</td>\n",
       "    </tr>\n",
       "    <tr>\n",
       "      <th>4</th>\n",
       "      <td>see</td>\n",
       "      <td>v</td>\n",
       "      <td>128.110418</td>\n",
       "      <td>13</td>\n",
       "    </tr>\n",
       "    <tr>\n",
       "      <th>5</th>\n",
       "      <td>get</td>\n",
       "      <td>v</td>\n",
       "      <td>109.046114</td>\n",
       "      <td>5</td>\n",
       "    </tr>\n",
       "    <tr>\n",
       "      <th>6</th>\n",
       "      <td>come</td>\n",
       "      <td>v</td>\n",
       "      <td>104.112211</td>\n",
       "      <td>6</td>\n",
       "    </tr>\n",
       "    <tr>\n",
       "      <th>7</th>\n",
       "      <td>give</td>\n",
       "      <td>v</td>\n",
       "      <td>80.185312</td>\n",
       "      <td>11</td>\n",
       "    </tr>\n",
       "    <tr>\n",
       "      <th>8</th>\n",
       "      <td>go</td>\n",
       "      <td>v</td>\n",
       "      <td>77.299226</td>\n",
       "      <td>5</td>\n",
       "    </tr>\n",
       "    <tr>\n",
       "      <th>9</th>\n",
       "      <td>show</td>\n",
       "      <td>v</td>\n",
       "      <td>62.752327</td>\n",
       "      <td>2</td>\n",
       "    </tr>\n",
       "    <tr>\n",
       "      <th>10</th>\n",
       "      <td>take</td>\n",
       "      <td>v</td>\n",
       "      <td>59.585600</td>\n",
       "      <td>13</td>\n",
       "    </tr>\n",
       "    <tr>\n",
       "      <th>11</th>\n",
       "      <td>turn</td>\n",
       "      <td>v</td>\n",
       "      <td>47.314422</td>\n",
       "      <td>2</td>\n",
       "    </tr>\n",
       "    <tr>\n",
       "      <th>12</th>\n",
       "      <td>move</td>\n",
       "      <td>v</td>\n",
       "      <td>33.613850</td>\n",
       "      <td>2</td>\n",
       "    </tr>\n",
       "    <tr>\n",
       "      <th>13</th>\n",
       "      <td>hold</td>\n",
       "      <td>v</td>\n",
       "      <td>30.649004</td>\n",
       "      <td>13</td>\n",
       "    </tr>\n",
       "    <tr>\n",
       "      <th>14</th>\n",
       "      <td>develop</td>\n",
       "      <td>v</td>\n",
       "      <td>26.671382</td>\n",
       "      <td>5</td>\n",
       "    </tr>\n",
       "    <tr>\n",
       "      <th>15</th>\n",
       "      <td>run</td>\n",
       "      <td>v</td>\n",
       "      <td>25.833349</td>\n",
       "      <td>12</td>\n",
       "    </tr>\n",
       "    <tr>\n",
       "      <th>16</th>\n",
       "      <td>carry</td>\n",
       "      <td>v</td>\n",
       "      <td>25.082720</td>\n",
       "      <td>5</td>\n",
       "    </tr>\n",
       "    <tr>\n",
       "      <th>17</th>\n",
       "      <td>case</td>\n",
       "      <td>n</td>\n",
       "      <td>23.767816</td>\n",
       "      <td>3</td>\n",
       "    </tr>\n",
       "    <tr>\n",
       "      <th>18</th>\n",
       "      <td>place</td>\n",
       "      <td>n</td>\n",
       "      <td>22.046645</td>\n",
       "      <td>2</td>\n",
       "    </tr>\n",
       "    <tr>\n",
       "      <th>19</th>\n",
       "      <td>thing</td>\n",
       "      <td>n</td>\n",
       "      <td>21.955741</td>\n",
       "      <td>2</td>\n",
       "    </tr>\n",
       "  </tbody>\n",
       "</table>\n",
       "</div>"
      ],
      "text/plain": [
       "       word pos      freq_sd  senses_for_pos\n",
       "0        be   v  2753.646765               8\n",
       "1      have   v   341.328009               6\n",
       "2        do   v   214.057214               2\n",
       "3      make   v   176.710568               8\n",
       "4       see   v   128.110418              13\n",
       "5       get   v   109.046114               5\n",
       "6      come   v   104.112211               6\n",
       "7      give   v    80.185312              11\n",
       "8        go   v    77.299226               5\n",
       "9      show   v    62.752327               2\n",
       "10     take   v    59.585600              13\n",
       "11     turn   v    47.314422               2\n",
       "12     move   v    33.613850               2\n",
       "13     hold   v    30.649004              13\n",
       "14  develop   v    26.671382               5\n",
       "15      run   v    25.833349              12\n",
       "16    carry   v    25.082720               5\n",
       "17     case   n    23.767816               3\n",
       "18    place   n    22.046645               2\n",
       "19    thing   n    21.955741               2"
      ]
     },
     "execution_count": 2,
     "metadata": {},
     "output_type": "execute_result"
    }
   ],
   "source": [
    "sparsity_ranks = pd.read_csv('../data/semcor_sparsity.csv')\n",
    "sparsity_ranks.iloc[:20]"
   ]
  },
  {
   "cell_type": "code",
   "execution_count": 3,
   "metadata": {},
   "outputs": [],
   "source": [
    "model = initialize_model()"
   ]
  },
  {
   "cell_type": "code",
   "execution_count": 4,
   "metadata": {
    "scrolled": true
   },
   "outputs": [
    {
     "name": "stdout",
     "output_type": "stream",
     "text": [
      "Getting data from SEMCOR\n",
      "Senses for word place\n",
      "Getting sentences for relevant senses\n",
      "Number of sentences for sense ('n', '01') 57\n",
      "Number of sentences for sense ('n', '03') 17\n",
      "Number of sentences for sense ('n', '02') 31\n",
      "Generating BERT embeddings\n"
     ]
    }
   ],
   "source": [
    "place_embeds, place_labels = run_pipeline('place', 'n', model)"
   ]
  },
  {
   "cell_type": "code",
   "execution_count": 8,
   "metadata": {},
   "outputs": [],
   "source": [
    "def plot_dendrogram(embeds, labels, color_dict, label_dict, word_pos):\n",
    "    embeds = [v.numpy() for v in embeds]\n",
    "    Z = linkage(embeds, method = 'single', metric = 'cosine')\n",
    "    plt.figure(figsize = (20, 8))\n",
    "    dendrogram(Z, labels = labels, link_color_func=lambda k: 'gray')\n",
    "\n",
    "    ax = plt.gca()\n",
    "    xlbls = ax.get_xmajorticklabels()\n",
    "    for lbl in xlbls:\n",
    "        lbl.set_color(color_dict[lbl.get_text()])\n",
    "    \n",
    "    leg_patches = [mpatches.Patch(color = label_dict[i]['color'],\n",
    "                                  label = label_dict[i]['label']) for i in np.arange(len(label_dict))]\n",
    "    plt.legend(handles=leg_patches)\n",
    "    plt.title(\"Nearest Neighbor Dendrogram for BERT Embeddings of \" + word_pos + \" in SEMCOR\")\n"
   ]
  },
  {
   "cell_type": "code",
   "execution_count": 10,
   "metadata": {},
   "outputs": [
    {
     "data": {
      "image/png": "[encoded data removed]",
      "text/plain": [
       "<Figure size 1440x576 with 1 Axes>"
      ]
     },
     "metadata": {
      "needs_background": "light"
     },
     "output_type": "display_data"
    }
   ],
   "source": [
    "plot_dendrogram(place_embeds, place_labels, {\"('n', '01')\": 'r', \"('n', '02')\": 'g', \"('n', '03')\": 'b'},\n",
    "               {0:{'color': 'r', 'label': 'Location'}, 1: {'color': 'b', 'label': 'Property/Home'},\n",
    "               2: {'color': 'g', 'label': 'Abstract'}}, 'place.n')"
   ]
  },
  {
   "cell_type": "code",
   "execution_count": 11,
   "metadata": {},
   "outputs": [],
   "source": [
    "from sklearn.decomposition import PCA"
   ]
  },
  {
   "cell_type": "code",
   "execution_count": 14,
   "metadata": {},
   "outputs": [],
   "source": [
    "place_embeds = np.array([v.numpy() for v in place_embeds])"
   ]
  },
  {
   "cell_type": "markdown",
   "metadata": {},
   "source": [
    "10 principle components explain 73.5% of the variance."
   ]
  },
  {
   "cell_type": "code",
   "execution_count": 15,
   "metadata": {},
   "outputs": [
    {
     "data": {
      "text/plain": [
       "0.735107259824872"
      ]
     },
     "execution_count": 15,
     "metadata": {},
     "output_type": "execute_result"
    }
   ],
   "source": [
    "transposed_place = np.transpose(place_embeds)\n",
    "test_pca = PCA(n_components = 10)\n",
    "pca_embeds = test_pca.fit(transposed_place).components_\n",
    "sum(test_pca.explained_variance_ratio_)"
   ]
  },
  {
   "cell_type": "code",
   "execution_count": 48,
   "metadata": {},
   "outputs": [],
   "source": [
    "recode_label = lambda s: int(s[1]) - 1\n",
    "true_labels = [recode_label(l) for l in place_labels]\n"
   ]
  },
  {
   "cell_type": "code",
   "execution_count": 83,
   "metadata": {
    "scrolled": true
   },
   "outputs": [],
   "source": [
    "ev_ratios = []\n",
    "gmm_gt_means = []\n",
    "gmm_gt_sds = []\n",
    "gmm_random_means = []\n",
    "gmm_random_sds = []\n",
    "\n",
    "n_comps = range(2, 60)\n",
    "for c in n_comps:\n",
    "    pca = PCA(n_components = c)\n",
    "    pca.fit(transposed_place)\n",
    "    ev_ratios.append(sum(pca.explained_variance_ratio_))\n",
    "    results = gmm_rand(pca.components_.T, true_labels)\n",
    "    gmm_gt_means.append(results['GMM'][0])\n",
    "    gmm_gt_sds.append(results['GMM'][1])\n",
    "    gmm_random_means.append(results['Random'][0])\n",
    "    gmm_random_sds.append(results['Random'][1])"
   ]
  },
  {
   "cell_type": "code",
   "execution_count": 84,
   "metadata": {},
   "outputs": [
    {
     "data": {
      "text/plain": [
       "Text(0.5, 1.0, 'PCA on BERT embeddings of place.n')"
      ]
     },
     "execution_count": 84,
     "metadata": {},
     "output_type": "execute_result"
    },
    {
     "data": {
      "image/png": "[encoded data removed]",
      "text/plain": [
       "<Figure size 432x288 with 1 Axes>"
      ]
     },
     "metadata": {
      "needs_background": "light"
     },
     "output_type": "display_data"
    }
   ],
   "source": [
    "plt.plot(n_comps, ev_ratios)\n",
    "plt.xlabel(\"Number of Components\")\n",
    "plt.ylabel(\"Variance Explained\")\n",
    "plt.title(\"PCA on BERT embeddings of place.n\")\n",
    "\n"
   ]
  },
  {
   "cell_type": "code",
   "execution_count": 86,
   "metadata": {},
   "outputs": [
    {
     "data": {
      "text/plain": [
       "<matplotlib.legend.Legend at 0x147a68110>"
      ]
     },
     "execution_count": 86,
     "metadata": {},
     "output_type": "execute_result"
    },
    {
     "data": {
      "image/png": "[encoded data removed]",
      "text/plain": [
       "<Figure size 432x288 with 1 Axes>"
      ]
     },
     "metadata": {
      "needs_background": "light"
     },
     "output_type": "display_data"
    }
   ],
   "source": [
    "plt.errorbar(n_comps, gmm_gt_means, yerr = gmm_gt_sds, label = \"WordNet Senses\")\n",
    "plt.errorbar(n_comps, gmm_random_means, yerr = gmm_random_sds, label = \"Random Baseline\")\n",
    "plt.xlabel(\"Number of PCA Components\")\n",
    "plt.ylabel(\"Rand Index\")\n",
    "plt.title(\"Rand Indices for PCA decomposition of place.n\")\n",
    "plt.legend(title = 'Ground Truth')\n"
   ]
  },
  {
   "cell_type": "code",
   "execution_count": 89,
   "metadata": {},
   "outputs": [
    {
     "data": {
      "text/plain": [
       "Text(0, 0.5, 'Average Rand Index with 1000 GMMs')"
      ]
     },
     "execution_count": 89,
     "metadata": {},
     "output_type": "execute_result"
    },
    {
     "data": {
      "image/png": "[encoded data removed]",
      "text/plain": [
       "<Figure size 432x288 with 1 Axes>"
      ]
     },
     "metadata": {
      "needs_background": "light"
     },
     "output_type": "display_data"
    }
   ],
   "source": [
    "plt.scatter(ev_ratios, gmm_gt_means)\n",
    "plt.xlabel(\"Explained Variance Ratio\")\n",
    "plt.ylabel(\"Average Rand Index with 1000 GMMs\")"
   ]
  },
  {
   "cell_type": "code",
   "execution_count": 65,
   "metadata": {},
   "outputs": [],
   "source": [
    "import sklearn.mixture\n",
    "from sklearn.metrics import adjusted_rand_score"
   ]
  },
  {
   "cell_type": "code",
   "execution_count": 29,
   "metadata": {},
   "outputs": [],
   "source": [
    "dpgmm = sklearn.mixture.BayesianGaussianMixture(n_components = 3)"
   ]
  },
  {
   "cell_type": "code",
   "execution_count": 30,
   "metadata": {},
   "outputs": [
    {
     "data": {
      "text/plain": [
       "(105, 10)"
      ]
     },
     "execution_count": 30,
     "metadata": {},
     "output_type": "execute_result"
    }
   ],
   "source": [
    "test_pca.components_.T.shape"
   ]
  },
  {
   "cell_type": "code",
   "execution_count": 42,
   "metadata": {},
   "outputs": [],
   "source": [
    "recode_label = lambda s: int(s[1]) - 1\n",
    "true_labels = [recode_label(l) for l in place_labels]\n"
   ]
  },
  {
   "cell_type": "code",
   "execution_count": 73,
   "metadata": {},
   "outputs": [
    {
     "data": {
      "text/plain": [
       "{'GMM': [0.09457273091967475, 0.07052145780447742],\n",
       " 'Random': [-0.0005761316661795151, 0.012375447377076772]}"
      ]
     },
     "execution_count": 73,
     "metadata": {},
     "output_type": "execute_result"
    }
   ],
   "source": [
    "gmm_rand(test_pca.components_.T, true_labels)"
   ]
  }
 ],
 "metadata": {
  "kernelspec": {
   "display_name": "Python [conda env:bert]",
   "language": "python",
   "name": "conda-env-bert-py"
  },
  "language_info": {
   "codemirror_mode": {
    "name": "ipython",
    "version": 3
   },
   "file_extension": ".py",
   "mimetype": "text/x-python",
   "name": "python",
   "nbconvert_exporter": "python",
   "pygments_lexer": "ipython3",
   "version": "3.7.6"
  }
 },
 "nbformat": 4,
 "nbformat_minor": 2
}
