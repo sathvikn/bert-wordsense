{
 "cells": [
  {
   "cell_type": "code",
   "execution_count": 89,
   "metadata": {},
   "outputs": [],
   "source": [
    "from core.semcor_bert_pipeline import *\n",
    "import pandas as pd\n",
    "from core.metrics import cosine_sim, centroid"
   ]
  },
  {
   "cell_type": "code",
   "execution_count": 37,
   "metadata": {},
   "outputs": [],
   "source": [
    "df = pd.read_csv('../data/rabagliati_2013_stimuli.csv', sep = '\\t')\n",
    "df = df[~df['target'].isin(['moose', 'mousse'])] #BERT tokenization issues\n",
    "model = initialize_masking_lm()\n",
    "tokenizer = BertTokenizer.from_pretrained('bert-base-uncased')"
   ]
  },
  {
   "cell_type": "code",
   "execution_count": 38,
   "metadata": {},
   "outputs": [],
   "source": [
    "df['pos'] = ['n'] * len(df.index)\n",
    "df['word'] = df['target']\n",
    "word_pos_pairs = df[['word', 'pos']].drop_duplicates()\n",
    "word_pos_pairs.to_csv('../data/r_13_for_semcor.csv')"
   ]
  },
  {
   "cell_type": "code",
   "execution_count": 39,
   "metadata": {},
   "outputs": [],
   "source": [
    "mask_results = []\n",
    "for i in range(len(df.index)):\n",
    "    row = df.iloc[i]\n",
    "    s1, s2, target_token = row['s1'], row['s2'], row['target']\n",
    "    indexed_tokens, tokenized_text = preprocess(s1, target_token, s2 = s2, masking = True)\n",
    "    embed, preds = mask_predictions(indexed_tokens, model, tokenizer)\n",
    "    mask_results.append({'mask_embed': embed, 'predicted_tokens': preds[1], 'predicted_probs': preds[0]})"
   ]
  },
  {
   "cell_type": "code",
   "execution_count": 226,
   "metadata": {},
   "outputs": [
    {
     "data": {
      "text/html": [
       "<div>\n",
       "<style scoped>\n",
       "    .dataframe tbody tr th:only-of-type {\n",
       "        vertical-align: middle;\n",
       "    }\n",
       "\n",
       "    .dataframe tbody tr th {\n",
       "        vertical-align: top;\n",
       "    }\n",
       "\n",
       "    .dataframe thead th {\n",
       "        text-align: right;\n",
       "    }\n",
       "</style>\n",
       "<table border=\"1\" class=\"dataframe\">\n",
       "  <thead>\n",
       "    <tr style=\"text-align: right;\">\n",
       "      <th></th>\n",
       "      <th>word</th>\n",
       "      <th>pos</th>\n",
       "    </tr>\n",
       "  </thead>\n",
       "  <tbody>\n",
       "    <tr>\n",
       "      <th>0</th>\n",
       "      <td>chicken</td>\n",
       "      <td>n</td>\n",
       "    </tr>\n",
       "    <tr>\n",
       "      <th>4</th>\n",
       "      <td>fish</td>\n",
       "      <td>n</td>\n",
       "    </tr>\n",
       "    <tr>\n",
       "      <th>8</th>\n",
       "      <td>lamb</td>\n",
       "      <td>n</td>\n",
       "    </tr>\n",
       "    <tr>\n",
       "      <th>12</th>\n",
       "      <td>herbs</td>\n",
       "      <td>n</td>\n",
       "    </tr>\n",
       "    <tr>\n",
       "      <th>16</th>\n",
       "      <td>turkey</td>\n",
       "      <td>n</td>\n",
       "    </tr>\n",
       "    <tr>\n",
       "      <th>20</th>\n",
       "      <td>tuna</td>\n",
       "      <td>n</td>\n",
       "    </tr>\n",
       "    <tr>\n",
       "      <th>24</th>\n",
       "      <td>duck</td>\n",
       "      <td>n</td>\n",
       "    </tr>\n",
       "    <tr>\n",
       "      <th>28</th>\n",
       "      <td>shrimp</td>\n",
       "      <td>n</td>\n",
       "    </tr>\n",
       "    <tr>\n",
       "      <th>32</th>\n",
       "      <td>glasses</td>\n",
       "      <td>n</td>\n",
       "    </tr>\n",
       "    <tr>\n",
       "      <th>36</th>\n",
       "      <td>letter</td>\n",
       "      <td>n</td>\n",
       "    </tr>\n",
       "    <tr>\n",
       "      <th>40</th>\n",
       "      <td>button</td>\n",
       "      <td>n</td>\n",
       "    </tr>\n",
       "    <tr>\n",
       "      <th>44</th>\n",
       "      <td>mouse</td>\n",
       "      <td>n</td>\n",
       "    </tr>\n",
       "    <tr>\n",
       "      <th>48</th>\n",
       "      <td>bow</td>\n",
       "      <td>n</td>\n",
       "    </tr>\n",
       "    <tr>\n",
       "      <th>52</th>\n",
       "      <td>roll</td>\n",
       "      <td>n</td>\n",
       "    </tr>\n",
       "    <tr>\n",
       "      <th>56</th>\n",
       "      <td>line</td>\n",
       "      <td>n</td>\n",
       "    </tr>\n",
       "    <tr>\n",
       "      <th>60</th>\n",
       "      <td>cards</td>\n",
       "      <td>n</td>\n",
       "    </tr>\n",
       "    <tr>\n",
       "      <th>64</th>\n",
       "      <td>bat</td>\n",
       "      <td>n</td>\n",
       "    </tr>\n",
       "    <tr>\n",
       "      <th>68</th>\n",
       "      <td>nail</td>\n",
       "      <td>n</td>\n",
       "    </tr>\n",
       "    <tr>\n",
       "      <th>72</th>\n",
       "      <td>pitcher</td>\n",
       "      <td>n</td>\n",
       "    </tr>\n",
       "    <tr>\n",
       "      <th>76</th>\n",
       "      <td>bark</td>\n",
       "      <td>n</td>\n",
       "    </tr>\n",
       "    <tr>\n",
       "      <th>80</th>\n",
       "      <td>band</td>\n",
       "      <td>n</td>\n",
       "    </tr>\n",
       "    <tr>\n",
       "      <th>84</th>\n",
       "      <td>sun</td>\n",
       "      <td>n</td>\n",
       "    </tr>\n",
       "    <tr>\n",
       "      <th>85</th>\n",
       "      <td>son</td>\n",
       "      <td>n</td>\n",
       "    </tr>\n",
       "    <tr>\n",
       "      <th>88</th>\n",
       "      <td>knight</td>\n",
       "      <td>n</td>\n",
       "    </tr>\n",
       "    <tr>\n",
       "      <th>89</th>\n",
       "      <td>night</td>\n",
       "      <td>n</td>\n",
       "    </tr>\n",
       "  </tbody>\n",
       "</table>\n",
       "</div>"
      ],
      "text/plain": [
       "       word pos\n",
       "0   chicken   n\n",
       "4      fish   n\n",
       "8      lamb   n\n",
       "12    herbs   n\n",
       "16   turkey   n\n",
       "20     tuna   n\n",
       "24     duck   n\n",
       "28   shrimp   n\n",
       "32  glasses   n\n",
       "36   letter   n\n",
       "40   button   n\n",
       "44    mouse   n\n",
       "48      bow   n\n",
       "52     roll   n\n",
       "56     line   n\n",
       "60    cards   n\n",
       "64      bat   n\n",
       "68     nail   n\n",
       "72  pitcher   n\n",
       "76     bark   n\n",
       "80     band   n\n",
       "84      sun   n\n",
       "85      son   n\n",
       "88   knight   n\n",
       "89    night   n"
      ]
     },
     "execution_count": 226,
     "metadata": {},
     "output_type": "execute_result"
    }
   ],
   "source": [
    "word_pos_pairs"
   ]
  },
  {
   "cell_type": "code",
   "execution_count": 231,
   "metadata": {},
   "outputs": [
    {
     "name": "stdout",
     "output_type": "stream",
     "text": [
      "lamb\n",
      "herbs\n",
      "turkey\n",
      "tuna\n",
      "shrimp\n"
     ]
    }
   ],
   "source": [
    "both_sense_types = []\n",
    "one_sense_types = []\n",
    "available_sense = []\n",
    "missing_words = ['lamb', 'herbs', 'turkey', 'tuna', 'shrimp', 'cards']\n",
    "for w in word_pos_pairs.iterrows():\n",
    "    w = w[1]\n",
    "    word, pos = w['word'], w['pos']\n",
    "    try:\n",
    "        type_data = load_data(word, pos, 'semcor')\n",
    "        word_senses = df[df['target'] == word]['wn_sense'].unique()\n",
    "        contains_both_senses = lambda l1, l2: all([s in l2 for s in l1])\n",
    "        if contains_both_senses(word_senses, type_data['sense_labels']):\n",
    "                both_sense_types.append(word)\n",
    "        common_senses = set(word_senses).intersection(set(type_data['sense_labels']))\n",
    "        if len(common_senses) == 1 and word not in ['son', 'sun', 'night', 'knight']:\n",
    "            one_sense_types.append(word)\n",
    "            available_sense.append(common_senses.pop())\n",
    "            \n",
    "    except:\n",
    "        print(word)"
   ]
  },
  {
   "cell_type": "code",
   "execution_count": 230,
   "metadata": {},
   "outputs": [
    {
     "ename": "FileNotFoundError",
     "evalue": "[Errno 2] No such file or directory: '../data/pipeline_results/semcor/turkey_n.json'",
     "output_type": "error",
     "traceback": [
      "\u001b[0;31m---------------------------------------------------------------------------\u001b[0m",
      "\u001b[0;31mFileNotFoundError\u001b[0m                         Traceback (most recent call last)",
      "\u001b[0;32m<ipython-input-230-009a2d4c1e28>\u001b[0m in \u001b[0;36m<module>\u001b[0;34m\u001b[0m\n\u001b[0;32m----> 1\u001b[0;31m \u001b[0mload_data\u001b[0m\u001b[0;34m(\u001b[0m\u001b[0;34m'turkey'\u001b[0m\u001b[0;34m,\u001b[0m \u001b[0;34m'n'\u001b[0m\u001b[0;34m,\u001b[0m \u001b[0;34m'semcor'\u001b[0m\u001b[0;34m)\u001b[0m\u001b[0;34m\u001b[0m\u001b[0;34m\u001b[0m\u001b[0m\n\u001b[0m",
      "\u001b[0;32m~/Desktop/Berkeley/Research/thesis/codebase/core/semcor_bert_pipeline.py\u001b[0m in \u001b[0;36mload_data\u001b[0;34m(word, pos, corpus_dir)\u001b[0m\n\u001b[1;32m    543\u001b[0m     \u001b[0mfname\u001b[0m \u001b[0;34m=\u001b[0m \u001b[0mword\u001b[0m \u001b[0;34m+\u001b[0m \u001b[0;34m'_'\u001b[0m \u001b[0;34m+\u001b[0m \u001b[0mpos\u001b[0m \u001b[0;34m+\u001b[0m \u001b[0;34m'.json'\u001b[0m\u001b[0;34m\u001b[0m\u001b[0;34m\u001b[0m\u001b[0m\n\u001b[1;32m    544\u001b[0m     \u001b[0mfpath\u001b[0m \u001b[0;34m=\u001b[0m \u001b[0mos\u001b[0m\u001b[0;34m.\u001b[0m\u001b[0mpath\u001b[0m\u001b[0;34m.\u001b[0m\u001b[0mjoin\u001b[0m\u001b[0;34m(\u001b[0m\u001b[0;34m'..'\u001b[0m\u001b[0;34m,\u001b[0m \u001b[0;34m'data'\u001b[0m\u001b[0;34m,\u001b[0m \u001b[0;34m'pipeline_results'\u001b[0m\u001b[0;34m,\u001b[0m \u001b[0mcorpus_dir\u001b[0m\u001b[0;34m,\u001b[0m \u001b[0mfname\u001b[0m\u001b[0;34m)\u001b[0m\u001b[0;34m\u001b[0m\u001b[0;34m\u001b[0m\u001b[0m\n\u001b[0;32m--> 545\u001b[0;31m     \u001b[0;32mwith\u001b[0m \u001b[0mopen\u001b[0m\u001b[0;34m(\u001b[0m\u001b[0mfpath\u001b[0m\u001b[0;34m,\u001b[0m \u001b[0;34m'r'\u001b[0m\u001b[0;34m)\u001b[0m \u001b[0;32mas\u001b[0m \u001b[0mpath\u001b[0m\u001b[0;34m:\u001b[0m\u001b[0;34m\u001b[0m\u001b[0;34m\u001b[0m\u001b[0m\n\u001b[0m\u001b[1;32m    546\u001b[0m         \u001b[0mresults\u001b[0m \u001b[0;34m=\u001b[0m \u001b[0mjson\u001b[0m\u001b[0;34m.\u001b[0m\u001b[0mload\u001b[0m\u001b[0;34m(\u001b[0m\u001b[0mpath\u001b[0m\u001b[0;34m)\u001b[0m\u001b[0;34m\u001b[0m\u001b[0;34m\u001b[0m\u001b[0m\n\u001b[1;32m    547\u001b[0m     \u001b[0;32mreturn\u001b[0m \u001b[0mresults\u001b[0m\u001b[0;34m\u001b[0m\u001b[0;34m\u001b[0m\u001b[0m\n",
      "\u001b[0;31mFileNotFoundError\u001b[0m: [Errno 2] No such file or directory: '../data/pipeline_results/semcor/turkey_n.json'"
     ]
    }
   ],
   "source": [
    "load_data('turkey', 'n', 'semcor')"
   ]
  },
  {
   "cell_type": "code",
   "execution_count": 206,
   "metadata": {},
   "outputs": [
    {
     "data": {
      "text/plain": [
       "12"
      ]
     },
     "execution_count": 206,
     "metadata": {},
     "output_type": "execute_result"
    }
   ],
   "source": [
    "len(both_sense_types)"
   ]
  },
  {
   "cell_type": "code",
   "execution_count": 207,
   "metadata": {},
   "outputs": [
    {
     "data": {
      "text/plain": [
       "7"
      ]
     },
     "execution_count": 207,
     "metadata": {},
     "output_type": "execute_result"
    }
   ],
   "source": [
    "len(one_sense_types)"
   ]
  },
  {
   "cell_type": "markdown",
   "metadata": {},
   "source": [
    "This looks like a little less than half the types. Let's work on these first, then get to the edge cases (1 sense, glass.n, homophones)"
   ]
  },
  {
   "cell_type": "code",
   "execution_count": 185,
   "metadata": {},
   "outputs": [],
   "source": [
    "def nearest_neighbor(query, s1, s2, sense_names):\n",
    "    if num_senses == 2:\n",
    "        s1_sims = [cosine_sim(query, e) for e in s1]\n",
    "        s2_sims = [cosine_sim(query, e) for e in s2]\n",
    "        if max(s1_sims) > max(s2_sims):\n",
    "            return sense_names[0]\n",
    "        if max(s1_sims) < max(s2_sims):\n",
    "            return sense_names[1]\n",
    "def centroid_pred(query, c1, c2, sense_names):\n",
    "    c1_sim = cosine_sim(query, c1)\n",
    "    c2_sim = cosine_sim(query, c2)\n",
    "    if c1_sim > c2_sim:\n",
    "        return sense_names[0]\n",
    "    if c1_sim < c2_sim:\n",
    "        return sense_names[1]"
   ]
  },
  {
   "cell_type": "code",
   "execution_count": 212,
   "metadata": {},
   "outputs": [],
   "source": [
    "def one_sense_preds(query_embeds, sense_embeds, data_sense, other_sense, method):\n",
    "    #method is either \"nn\" or \"centroid\"\n",
    "    if method == \"nn\":\n",
    "        cos_sims = [max([cosine_sim(q, s) for s in sense_embeds]) for q in query_embeds]\n",
    "    if method == 'centroid':\n",
    "        c = centroid(sense_embeds)\n",
    "        cos_sims = [cosine_sim(q, c) for q in query_embeds]\n",
    "    sense_preds = [\"\" for i in range(4)]\n",
    "    sorted_indices = np.argsort(cos_sims)\n",
    "    least_sim, most_sim = sorted_indices[:2], sorted_indices[2:]\n",
    "    for i in range(len(sense_preds)):\n",
    "        if i in least_sim:\n",
    "            sense_preds[i] = other_sense\n",
    "        if i in most_sim:\n",
    "            sense_preds[i] = data_sense\n",
    "    return sense_preds\n"
   ]
  },
  {
   "cell_type": "code",
   "execution_count": 108,
   "metadata": {},
   "outputs": [],
   "source": [
    "reg_cases = df[df['target'].isin(both_sense_types[:-4])]\n",
    "e_preds = []\n",
    "c_preds = []\n",
    "for w in reg_cases['target'].unique():\n",
    "    indices = df[df['target'] == w].index\n",
    "    senses = df[df['target'] == w]['wn_sense'].unique()\n",
    "    mask_embeddings = [mask_results[i]['mask_embed'] for i in indices]\n",
    "    token_data = load_data(w, 'n', 'semcor')\n",
    "    semcor_embeddings = np.array(token_data['embeddings'])\n",
    "    num_embeddings = len(semcor_embeddings)\n",
    "    s1_embeds = semcor_embeddings[[i for i in range(num_embeddings) if token_data['sense_labels'][i] == senses[0]]]\n",
    "    s2_embeds = semcor_embeddings[[i for i in range(num_embeddings) if token_data['sense_labels'][i] == senses[1]]]\n",
    "    s1_centroid, s2_centroid = centroid(s1_embeds), centroid(s2_embeds)\n",
    "    e_preds += [nearest_neighbor(e, s1_embeds, s2_embeds, senses) for e in mask_embeddings]\n",
    "    c_preds += [centroid_pred(e, s1_centroid, s2_centroid, senses) for e in mask_embeddings]\n",
    "    "
   ]
  },
  {
   "cell_type": "code",
   "execution_count": 120,
   "metadata": {},
   "outputs": [
    {
     "data": {
      "text/plain": [
       "Int64Index([85, 87], dtype='int64')"
      ]
     },
     "execution_count": 120,
     "metadata": {},
     "output_type": "execute_result"
    }
   ],
   "source": [
    "df[df['target'] == 'son'].index"
   ]
  },
  {
   "cell_type": "code",
   "execution_count": 125,
   "metadata": {},
   "outputs": [],
   "source": [
    "homophones = [('son', 'sun'), ('night', 'knight')]\n",
    "for p in homophones:\n",
    "    t1, t2 = load_data(p[0], 'n', 'semcor'), load_data(p[1], 'n', 'semcor')\n",
    "    s1, s2 = df[df['target'] == p[0]]['wn_sense'].values[0], df[df['target'] == p[1]]['wn_sense'].values[0]\n",
    "    mask_indices = list(df[df['target'] == p[0]].index) + list(df[df['target'] == p[1]].index)\n",
    "    mask_embeddings = [mask_results[i]['mask_embed'] for i in mask_indices]\n",
    "    s1_embeds = np.array(t1['embeddings'])[[i for i in range(len(t1['embeddings'])) if t1['sense_labels'][i] \\\n",
    "                                            == s1]]\n",
    "    s2_embeds = np.array(t2['embeddings'])[[i for i in range(len(t2['embeddings'])) if t2['sense_labels'][i] \\\n",
    "                                            == s2]]\n",
    "    e_preds += [nearest_neighbor(e, s1_embeds, s2_embeds, [s1, s2]) for e in mask_embeddings]\n",
    "    s1_centroid, s2_centroid = centroid(s1_embeds), centroid(s2_embeds)\n",
    "    c_preds += [centroid_pred(e, s1_centroid, s2_centroid, [s1, s2]) for e in mask_embeddings]\n",
    "    \n",
    "\n"
   ]
  },
  {
   "cell_type": "code",
   "execution_count": 162,
   "metadata": {},
   "outputs": [
    {
     "name": "stderr",
     "output_type": "stream",
     "text": [
      "/anaconda3/envs/bert/lib/python3.7/site-packages/ipykernel_launcher.py:2: SettingWithCopyWarning: \n",
      "A value is trying to be set on a copy of a slice from a DataFrame.\n",
      "Try using .loc[row_indexer,col_indexer] = value instead\n",
      "\n",
      "See the caveats in the documentation: http://pandas.pydata.org/pandas-docs/stable/user_guide/indexing.html#returning-a-view-versus-a-copy\n",
      "  \n",
      "/anaconda3/envs/bert/lib/python3.7/site-packages/ipykernel_launcher.py:3: SettingWithCopyWarning: \n",
      "A value is trying to be set on a copy of a slice from a DataFrame.\n",
      "Try using .loc[row_indexer,col_indexer] = value instead\n",
      "\n",
      "See the caveats in the documentation: http://pandas.pydata.org/pandas-docs/stable/user_guide/indexing.html#returning-a-view-versus-a-copy\n",
      "  This is separate from the ipykernel package so we can avoid doing imports until\n"
     ]
    }
   ],
   "source": [
    "two_senses = df[df['target'].isin(both_sense_types)]\n",
    "two_senses['nn_preds'] = e_preds\n",
    "two_senses['centroid_preds'] = c_preds"
   ]
  },
  {
   "cell_type": "code",
   "execution_count": 215,
   "metadata": {},
   "outputs": [
    {
     "name": "stderr",
     "output_type": "stream",
     "text": [
      "/anaconda3/envs/bert/lib/python3.7/site-packages/ipykernel_launcher.py:17: SettingWithCopyWarning: \n",
      "A value is trying to be set on a copy of a slice from a DataFrame.\n",
      "Try using .loc[row_indexer,col_indexer] = value instead\n",
      "\n",
      "See the caveats in the documentation: http://pandas.pydata.org/pandas-docs/stable/user_guide/indexing.html#returning-a-view-versus-a-copy\n",
      "/anaconda3/envs/bert/lib/python3.7/site-packages/ipykernel_launcher.py:18: SettingWithCopyWarning: \n",
      "A value is trying to be set on a copy of a slice from a DataFrame.\n",
      "Try using .loc[row_indexer,col_indexer] = value instead\n",
      "\n",
      "See the caveats in the documentation: http://pandas.pydata.org/pandas-docs/stable/user_guide/indexing.html#returning-a-view-versus-a-copy\n"
     ]
    }
   ],
   "source": [
    "one_sense = df[df['target'].isin(one_sense_types)]\n",
    "one_sense_nn = []\n",
    "one_sense_centroid = []\n",
    "\n",
    "for w, s in zip(one_sense_types, available_sense):\n",
    "    indices = df[df['target'] == w].index\n",
    "    senses = df[df['target'] == w]['wn_sense'].unique()\n",
    "    mask_embeddings = [mask_results[i]['mask_embed'] for i in indices]\n",
    "    token_data = load_data(w, 'n', 'semcor')\n",
    "    semcor_embeddings = np.array(token_data['embeddings'])\n",
    "    num_embeddings = len(semcor_embeddings)\n",
    "    sense_embeds = semcor_embeddings[[i for i in range(num_embeddings) if token_data['sense_labels'][i] == s]]\n",
    "    other = [sen for sen in senses if sen != s]\n",
    "    one_sense_nn += one_sense_preds(mask_embeddings, semcor_embeddings, s, other[0], 'nn')\n",
    "    one_sense_centroid += one_sense_preds(mask_embeddings, semcor_embeddings, s, other[0], 'nn')\n",
    "    \n",
    "one_sense['nn_preds'] = one_sense_nn\n",
    "one_sense['centroid_preds'] = one_sense_centroid"
   ]
  },
  {
   "cell_type": "code",
   "execution_count": 224,
   "metadata": {},
   "outputs": [
    {
     "data": {
      "text/plain": [
       "array(['duck', 'glasses', 'mouse', 'bow', 'roll', 'bat', 'bark',\n",
       "       'chicken', 'fish', 'letter', 'button', 'line', 'nail', 'pitcher',\n",
       "       'band', 'sun', 'son', 'knight', 'night'], dtype=object)"
      ]
     },
     "execution_count": 224,
     "metadata": {},
     "output_type": "execute_result"
    }
   ],
   "source": [
    "all_data = pd.concat([one_sense, two_senses], axis = 0)\n",
    "all_data['target'].unique()"
   ]
  },
  {
   "cell_type": "markdown",
   "metadata": {},
   "source": [
    "Missing types: lamb, herbs, turkey, tuna, shrimp, card"
   ]
  },
  {
   "cell_type": "code",
   "execution_count": 163,
   "metadata": {},
   "outputs": [],
   "source": [
    "def accuracy_by_rel_type(df, rel_type, pred_type):\n",
    "    df = df[df['rel_type'] == rel_type]\n",
    "    return sum(df[pred_type] == df['wn_sense']) / len(df.index)"
   ]
  },
  {
   "cell_type": "code",
   "execution_count": 233,
   "metadata": {},
   "outputs": [
    {
     "data": {
      "text/plain": [
       "0.6323529411764706"
      ]
     },
     "execution_count": 233,
     "metadata": {},
     "output_type": "execute_result"
    }
   ],
   "source": [
    "sum(all_data['nn_preds'] == all_data['wn_sense']) / len(all_data.index)"
   ]
  },
  {
   "cell_type": "code",
   "execution_count": 235,
   "metadata": {},
   "outputs": [
    {
     "data": {
      "text/plain": [
       "0.4166666666666667"
      ]
     },
     "execution_count": 235,
     "metadata": {},
     "output_type": "execute_result"
    }
   ],
   "source": [
    "accuracy_by_rel_type(all_data, 'reg_pol', 'centroid_preds')"
   ]
  },
  {
   "cell_type": "code",
   "execution_count": 236,
   "metadata": {},
   "outputs": [
    {
     "data": {
      "text/plain": [
       "0.7142857142857143"
      ]
     },
     "execution_count": 236,
     "metadata": {},
     "output_type": "execute_result"
    }
   ],
   "source": [
    "accuracy_by_rel_type(all_data, 'irreg_pol', 'centroid_preds')"
   ]
  },
  {
   "cell_type": "code",
   "execution_count": 237,
   "metadata": {},
   "outputs": [
    {
     "data": {
      "text/plain": [
       "0.5357142857142857"
      ]
     },
     "execution_count": 237,
     "metadata": {},
     "output_type": "execute_result"
    }
   ],
   "source": [
    "accuracy_by_rel_type(all_data, 'hom', 'centroid_preds')"
   ]
  }
 ],
 "metadata": {
  "kernelspec": {
   "display_name": "Python [conda env:bert]",
   "language": "python",
   "name": "conda-env-bert-py"
  },
  "language_info": {
   "codemirror_mode": {
    "name": "ipython",
    "version": 3
   },
   "file_extension": ".py",
   "mimetype": "text/x-python",
   "name": "python",
   "nbconvert_exporter": "python",
   "pygments_lexer": "ipython3",
   "version": "3.7.6"
  }
 },
 "nbformat": 4,
 "nbformat_minor": 2
}
