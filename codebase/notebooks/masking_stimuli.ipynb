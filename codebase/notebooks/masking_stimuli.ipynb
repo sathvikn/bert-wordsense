{
 "cells": [
  {
   "cell_type": "code",
   "execution_count": 356,
   "metadata": {},
   "outputs": [],
   "source": [
    "from core.semcor_bert_pipeline import *\n",
    "import pandas as pd\n",
    "from core.metrics import cosine_sim, centroid"
   ]
  },
  {
   "cell_type": "code",
   "execution_count": 357,
   "metadata": {},
   "outputs": [],
   "source": [
    "df = pd.read_csv('../data/rabagliati_2013_stimuli.csv', sep = '\\t')\n",
    "df = df[~df['target'].isin(['moose', 'mousse'])] #BERT tokenization issues\n",
    "model = initialize_masking_lm()\n",
    "tokenizer = BertTokenizer.from_pretrained('bert-base-uncased')"
   ]
  },
  {
   "cell_type": "code",
   "execution_count": 358,
   "metadata": {},
   "outputs": [],
   "source": [
    "df['pos'] = ['n'] * len(df.index)\n",
    "df['word'] = df['target']\n",
    "word_pos_pairs = df[['word', 'pos']].drop_duplicates()\n",
    "word_pos_pairs.to_csv('../data/r_13_for_semcor.csv')"
   ]
  },
  {
   "cell_type": "code",
   "execution_count": 359,
   "metadata": {},
   "outputs": [],
   "source": [
    "mask_results = []\n",
    "for i in range(len(df.index)):\n",
    "    row = df.iloc[i]\n",
    "    s1, s2, target_token = row['s1'], row['s2'], row['target']\n",
    "    indexed_tokens, tokenized_text = preprocess(s1, target_token, s2 = s2, masking = True)\n",
    "    embed, preds = mask_predictions(indexed_tokens, model, tokenizer)\n",
    "    mask_results.append({'mask_embed': embed, 'predicted_tokens': preds[1], 'predicted_probs': preds[0]})"
   ]
  },
  {
   "cell_type": "code",
   "execution_count": 360,
   "metadata": {},
   "outputs": [],
   "source": [
    "both_sense_types = []\n",
    "one_sense_types = []\n",
    "available_sense = []\n",
    "missing_words = ['lamb', 'herbs', 'turkey', 'tuna', 'shrimp', 'cards']\n",
    "for w in word_pos_pairs.iterrows():\n",
    "    w = w[1]\n",
    "    word, pos = w['word'], w['pos']\n",
    "    if word == 'cards':\n",
    "        semcor_word = 'card'\n",
    "    elif word == 'herbs':\n",
    "        semcor_word = 'herb'\n",
    "    else:\n",
    "        semcor_word = word\n",
    "    try:\n",
    "        type_data = load_data(semcor_word, pos, 'semcor')\n",
    "        word_senses = df[df['target'] == word]['wn_sense'].unique()\n",
    "        contains_both_senses = lambda l1, l2: all([s in l2 for s in l1])\n",
    "        if contains_both_senses(word_senses, type_data['sense_labels']):\n",
    "            both_sense_types.append(word)\n",
    "        common_senses = set(word_senses).intersection(set(type_data['sense_labels']))\n",
    "        if len(common_senses) == 1 and word not in ['son', 'sun', 'night', 'knight']:\n",
    "            one_sense_types.append(word)\n",
    "            available_sense.append(common_senses.pop())\n",
    "            \n",
    "    except:\n",
    "        pass"
   ]
  },
  {
   "cell_type": "code",
   "execution_count": 361,
   "metadata": {},
   "outputs": [
    {
     "data": {
      "text/plain": [
       "15"
      ]
     },
     "execution_count": 361,
     "metadata": {},
     "output_type": "execute_result"
    }
   ],
   "source": [
    "len(both_sense_types)"
   ]
  },
  {
   "cell_type": "code",
   "execution_count": 362,
   "metadata": {},
   "outputs": [
    {
     "data": {
      "text/plain": [
       "8"
      ]
     },
     "execution_count": 362,
     "metadata": {},
     "output_type": "execute_result"
    }
   ],
   "source": [
    "len(one_sense_types)"
   ]
  },
  {
   "cell_type": "markdown",
   "metadata": {},
   "source": [
    "This looks like a little less than half the types. Let's work on these first, then get to the edge cases (1 sense, glass.n, homophones)"
   ]
  },
  {
   "cell_type": "code",
   "execution_count": 363,
   "metadata": {},
   "outputs": [
    {
     "data": {
      "text/plain": [
       "['chicken',\n",
       " 'fish',\n",
       " 'herbs',\n",
       " 'letter',\n",
       " 'button',\n",
       " 'bow',\n",
       " 'line',\n",
       " 'bat',\n",
       " 'nail',\n",
       " 'pitcher',\n",
       " 'band',\n",
       " 'sun',\n",
       " 'son',\n",
       " 'knight',\n",
       " 'night']"
      ]
     },
     "execution_count": 363,
     "metadata": {},
     "output_type": "execute_result"
    }
   ],
   "source": [
    "both_sense_types"
   ]
  },
  {
   "cell_type": "code",
   "execution_count": 364,
   "metadata": {},
   "outputs": [
    {
     "data": {
      "text/plain": [
       "['lamb', 'turkey', 'duck', 'glasses', 'mouse', 'roll', 'cards', 'bark']"
      ]
     },
     "execution_count": 364,
     "metadata": {},
     "output_type": "execute_result"
    }
   ],
   "source": [
    "one_sense_types"
   ]
  },
  {
   "cell_type": "code",
   "execution_count": 365,
   "metadata": {},
   "outputs": [],
   "source": [
    "def nearest_neighbor(query, s1, s2, sense_names):\n",
    "    s1_sims = [cosine_sim(query, e) for e in s1]\n",
    "    s2_sims = [cosine_sim(query, e) for e in s2]\n",
    "    if max(s1_sims) > max(s2_sims):\n",
    "        return sense_names[0]\n",
    "    if max(s1_sims) < max(s2_sims):\n",
    "        return sense_names[1]\n",
    "def centroid_pred(query, c1, c2, sense_names):\n",
    "    c1_sim = cosine_sim(query, c1)\n",
    "    c2_sim = cosine_sim(query, c2)\n",
    "    if c1_sim > c2_sim:\n",
    "        return sense_names[0]\n",
    "    if c1_sim < c2_sim:\n",
    "        return sense_names[1]"
   ]
  },
  {
   "cell_type": "code",
   "execution_count": 366,
   "metadata": {},
   "outputs": [],
   "source": [
    "def one_sense_preds(query_embeds, sense_embeds, data_sense, other_sense, method):\n",
    "    #method is either \"nn\" or \"centroid\"\n",
    "    if method == \"nn\":\n",
    "        cos_sims = [max([cosine_sim(q, s) for s in sense_embeds]) for q in query_embeds]\n",
    "    if method == 'centroid':\n",
    "        c = centroid(sense_embeds)\n",
    "        cos_sims = [cosine_sim(q, c) for q in query_embeds]\n",
    "    sense_preds = [\"\" for i in range(4)]\n",
    "    sorted_indices = np.argsort(cos_sims)\n",
    "    least_sim, most_sim = sorted_indices[:2], sorted_indices[2:]\n",
    "    for i in range(len(sense_preds)):\n",
    "        if i in least_sim:\n",
    "            sense_preds[i] = other_sense\n",
    "        if i in most_sim:\n",
    "            sense_preds[i] = data_sense\n",
    "    return sense_preds\n"
   ]
  },
  {
   "cell_type": "code",
   "execution_count": 368,
   "metadata": {},
   "outputs": [],
   "source": [
    "reg_cases = df[df['target'].isin(both_sense_types[:-4])]\n",
    "e_preds = []\n",
    "c_preds = []\n",
    "for w in reg_cases['target'].unique():\n",
    "    indices = df[df['target'] == w].index\n",
    "    senses = df[df['target'] == w]['wn_sense'].unique()\n",
    "    mask_embeddings = [mask_results[i]['mask_embed'] for i in indices]\n",
    "    if w == 'herbs':\n",
    "        semcor_word = 'herb'\n",
    "    else:\n",
    "        semcor_word = w\n",
    "    token_data = load_data(semcor_word, 'n', 'semcor')\n",
    "    semcor_embeddings = np.array(token_data['embeddings'])\n",
    "    num_embeddings = len(semcor_embeddings)\n",
    "    s1_embeds = semcor_embeddings[[i for i in range(num_embeddings) if token_data['sense_labels'][i] == senses[0]]]\n",
    "    s2_embeds = semcor_embeddings[[i for i in range(num_embeddings) if token_data['sense_labels'][i] == senses[1]]]\n",
    "    s1_centroid, s2_centroid = centroid(s1_embeds), centroid(s2_embeds)\n",
    "    e_preds += [nearest_neighbor(e, s1_embeds, s2_embeds, senses) for e in mask_embeddings]\n",
    "    c_preds += [centroid_pred(e, s1_centroid, s2_centroid, senses) for e in mask_embeddings]\n",
    "    "
   ]
  },
  {
   "cell_type": "code",
   "execution_count": 369,
   "metadata": {},
   "outputs": [],
   "source": [
    "homophones = [('son', 'sun'), ('night', 'knight')]\n",
    "for p in homophones:\n",
    "    t1, t2 = load_data(p[0], 'n', 'semcor'), load_data(p[1], 'n', 'semcor')\n",
    "    s1, s2 = df[df['target'] == p[0]]['wn_sense'].values[0], df[df['target'] == p[1]]['wn_sense'].values[0]\n",
    "    mask_indices = list(df[df['target'] == p[0]].index) + list(df[df['target'] == p[1]].index)\n",
    "    mask_embeddings = [mask_results[i]['mask_embed'] for i in mask_indices]\n",
    "    s1_embeds = np.array(t1['embeddings'])[[i for i in range(len(t1['embeddings'])) if t1['sense_labels'][i] \\\n",
    "                                            == s1]]\n",
    "    s2_embeds = np.array(t2['embeddings'])[[i for i in range(len(t2['embeddings'])) if t2['sense_labels'][i] \\\n",
    "                                            == s2]]\n",
    "    e_preds += [nearest_neighbor(e, s1_embeds, s2_embeds, [s1, s2]) for e in mask_embeddings]\n",
    "    s1_centroid, s2_centroid = centroid(s1_embeds), centroid(s2_embeds)\n",
    "    c_preds += [centroid_pred(e, s1_centroid, s2_centroid, [s1, s2]) for e in mask_embeddings]\n",
    "    \n",
    "\n"
   ]
  },
  {
   "cell_type": "code",
   "execution_count": 370,
   "metadata": {},
   "outputs": [
    {
     "name": "stderr",
     "output_type": "stream",
     "text": [
      "/anaconda3/envs/bert/lib/python3.7/site-packages/ipykernel_launcher.py:2: SettingWithCopyWarning: \n",
      "A value is trying to be set on a copy of a slice from a DataFrame.\n",
      "Try using .loc[row_indexer,col_indexer] = value instead\n",
      "\n",
      "See the caveats in the documentation: http://pandas.pydata.org/pandas-docs/stable/user_guide/indexing.html#returning-a-view-versus-a-copy\n",
      "  \n",
      "/anaconda3/envs/bert/lib/python3.7/site-packages/ipykernel_launcher.py:3: SettingWithCopyWarning: \n",
      "A value is trying to be set on a copy of a slice from a DataFrame.\n",
      "Try using .loc[row_indexer,col_indexer] = value instead\n",
      "\n",
      "See the caveats in the documentation: http://pandas.pydata.org/pandas-docs/stable/user_guide/indexing.html#returning-a-view-versus-a-copy\n",
      "  This is separate from the ipykernel package so we can avoid doing imports until\n"
     ]
    }
   ],
   "source": [
    "two_senses = df[df['target'].isin(both_sense_types)]\n",
    "two_senses['nn_preds'] = e_preds\n",
    "two_senses['centroid_preds'] = c_preds"
   ]
  },
  {
   "cell_type": "code",
   "execution_count": 372,
   "metadata": {},
   "outputs": [
    {
     "name": "stderr",
     "output_type": "stream",
     "text": [
      "/anaconda3/envs/bert/lib/python3.7/site-packages/ipykernel_launcher.py:31: SettingWithCopyWarning: \n",
      "A value is trying to be set on a copy of a slice from a DataFrame.\n",
      "Try using .loc[row_indexer,col_indexer] = value instead\n",
      "\n",
      "See the caveats in the documentation: http://pandas.pydata.org/pandas-docs/stable/user_guide/indexing.html#returning-a-view-versus-a-copy\n",
      "/anaconda3/envs/bert/lib/python3.7/site-packages/ipykernel_launcher.py:32: SettingWithCopyWarning: \n",
      "A value is trying to be set on a copy of a slice from a DataFrame.\n",
      "Try using .loc[row_indexer,col_indexer] = value instead\n",
      "\n",
      "See the caveats in the documentation: http://pandas.pydata.org/pandas-docs/stable/user_guide/indexing.html#returning-a-view-versus-a-copy\n"
     ]
    }
   ],
   "source": [
    "one_sense = df[df['target'].isin(one_sense_types)]\n",
    "one_sense_nn = []\n",
    "one_sense_centroid = []\n",
    "\n",
    "for w, s in zip(one_sense_types, available_sense):\n",
    "    indices = df[df['target'] == w].index\n",
    "    senses = df[df['target'] == w]['wn_sense'].unique()\n",
    "    mask_embeddings = [mask_results[i]['mask_embed'] for i in indices]\n",
    "    if w == 'cards':\n",
    "        semcor_word = 'card'\n",
    "    else:\n",
    "        semcor_word = word\n",
    "    token_data = load_data(w, 'n', 'semcor')\n",
    "    semcor_embeddings = np.array(token_data['embeddings'])\n",
    "    num_embeddings = len(semcor_embeddings)\n",
    "    sense_embeds = semcor_embeddings[[i for i in range(num_embeddings) if token_data['sense_labels'][i] == s]]\n",
    "    other = [sen for sen in senses if sen != s][0]\n",
    "    \n",
    "    if w == 'glasses':\n",
    "        glass_embeds = load_data('glass', 'n', 'semcor')\n",
    "        item_embeds = np.array(glass_embeds['embeddings'])[[i for i in range(len(glass_embeds['embeddings'])) \\\n",
    "                                              if glass_embeds['sense_labels'][i] == other]]\n",
    "        one_sense_nn += [nearest_neighbor(e, sense_embeds, item_embeds, [s1, s2]) for e in mask_embeddings]\n",
    "        s1_centroid, s2_centroid = centroid(sense_embeds), centroid(item_embeds)\n",
    "        one_sense_centroid += [centroid_pred(e, s1_centroid, s2_centroid, [s, other]) for e in mask_embeddings]\n",
    "\n",
    "    else:\n",
    "        one_sense_nn += one_sense_preds(mask_embeddings, semcor_embeddings, s, other, 'nn')\n",
    "        one_sense_centroid += one_sense_preds(mask_embeddings, semcor_embeddings, s, other, 'nn')\n",
    "    \n",
    "one_sense['nn_preds'] = one_sense_nn\n",
    "one_sense['centroid_preds'] = one_sense_centroid"
   ]
  },
  {
   "cell_type": "code",
   "execution_count": 373,
   "metadata": {},
   "outputs": [],
   "source": [
    "all_data = pd.concat([two_senses, one_sense])\n",
    "def accuracy_by_rel_type(df, rel_type, pred_type):\n",
    "    df = df[df['rel_type'] == rel_type]\n",
    "    return sum(df[pred_type] == df['wn_sense']) / len(df.index)"
   ]
  },
  {
   "cell_type": "code",
   "execution_count": 383,
   "metadata": {},
   "outputs": [
    {
     "data": {
      "text/plain": [
       "0.6190476190476191"
      ]
     },
     "execution_count": 383,
     "metadata": {},
     "output_type": "execute_result"
    }
   ],
   "source": [
    "sum(all_data['centroid_preds'] == all_data['wn_sense']) / len(all_data.index)"
   ]
  },
  {
   "cell_type": "code",
   "execution_count": 384,
   "metadata": {},
   "outputs": [
    {
     "data": {
      "text/plain": [
       "0.4583333333333333"
      ]
     },
     "execution_count": 384,
     "metadata": {},
     "output_type": "execute_result"
    }
   ],
   "source": [
    "accuracy_by_rel_type(all_data, 'reg_pol', 'centroid_preds')"
   ]
  },
  {
   "cell_type": "code",
   "execution_count": 385,
   "metadata": {},
   "outputs": [
    {
     "data": {
      "text/plain": [
       "0.8125"
      ]
     },
     "execution_count": 385,
     "metadata": {},
     "output_type": "execute_result"
    }
   ],
   "source": [
    "accuracy_by_rel_type(all_data, 'irreg_pol', 'centroid_preds')"
   ]
  },
  {
   "cell_type": "code",
   "execution_count": 386,
   "metadata": {},
   "outputs": [
    {
     "data": {
      "text/plain": [
       "0.5357142857142857"
      ]
     },
     "execution_count": 386,
     "metadata": {},
     "output_type": "execute_result"
    }
   ],
   "source": [
    "accuracy_by_rel_type(all_data, 'hom', 'centroid_preds')"
   ]
  },
  {
   "cell_type": "code",
   "execution_count": 388,
   "metadata": {},
   "outputs": [
    {
     "data": {
      "text/html": [
       "<div>\n",
       "<style scoped>\n",
       "    .dataframe tbody tr th:only-of-type {\n",
       "        vertical-align: middle;\n",
       "    }\n",
       "\n",
       "    .dataframe tbody tr th {\n",
       "        vertical-align: top;\n",
       "    }\n",
       "\n",
       "    .dataframe thead th {\n",
       "        text-align: right;\n",
       "    }\n",
       "</style>\n",
       "<table border=\"1\" class=\"dataframe\">\n",
       "  <thead>\n",
       "    <tr style=\"text-align: right;\">\n",
       "      <th></th>\n",
       "      <th>rel_type</th>\n",
       "      <th>centroid_acc</th>\n",
       "      <th>nn_acc</th>\n",
       "    </tr>\n",
       "  </thead>\n",
       "  <tbody>\n",
       "    <tr>\n",
       "      <th>0</th>\n",
       "      <td>reg_pol</td>\n",
       "      <td>0.458333</td>\n",
       "      <td>0.500000</td>\n",
       "    </tr>\n",
       "    <tr>\n",
       "      <th>1</th>\n",
       "      <td>irreg_pol</td>\n",
       "      <td>0.812500</td>\n",
       "      <td>0.656250</td>\n",
       "    </tr>\n",
       "    <tr>\n",
       "      <th>2</th>\n",
       "      <td>hom</td>\n",
       "      <td>0.535714</td>\n",
       "      <td>0.642857</td>\n",
       "    </tr>\n",
       "  </tbody>\n",
       "</table>\n",
       "</div>"
      ],
      "text/plain": [
       "    rel_type  centroid_acc    nn_acc\n",
       "0    reg_pol      0.458333  0.500000\n",
       "1  irreg_pol      0.812500  0.656250\n",
       "2        hom      0.535714  0.642857"
      ]
     },
     "execution_count": 388,
     "metadata": {},
     "output_type": "execute_result"
    }
   ],
   "source": [
    "pd.DataFrame({\"rel_type\": df['rel_type'].unique(), \"centroid_acc\": [accuracy_by_rel_type(all_data,\n",
    "                                                                                        rt, 'centroid_preds') for rt in df['rel_type'].unique()],\n",
    "             \"nn_acc\": [accuracy_by_rel_type(all_data, rt, 'nn_preds') for rt in df['rel_type'].unique()]})"
   ]
  },
  {
   "cell_type": "code",
   "execution_count": null,
   "metadata": {},
   "outputs": [],
   "source": []
  }
 ],
 "metadata": {
  "kernelspec": {
   "display_name": "Python [conda env:bert]",
   "language": "python",
   "name": "conda-env-bert-py"
  },
  "language_info": {
   "codemirror_mode": {
    "name": "ipython",
    "version": 3
   },
   "file_extension": ".py",
   "mimetype": "text/x-python",
   "name": "python",
   "nbconvert_exporter": "python",
   "pygments_lexer": "ipython3",
   "version": "3.7.6"
  }
 },
 "nbformat": 4,
 "nbformat_minor": 2
}
