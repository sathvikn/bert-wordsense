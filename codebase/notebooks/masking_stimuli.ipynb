{
 "cells": [
  {
   "cell_type": "code",
   "execution_count": 74,
   "metadata": {},
   "outputs": [
    {
     "data": {
      "text/plain": [
       "<Figure size 432x288 with 0 Axes>"
      ]
     },
     "metadata": {},
     "output_type": "display_data"
    }
   ],
   "source": [
    "from core.semcor_bert_pipeline import *\n",
    "import pandas as pd\n",
    "from core.metrics import cosine_sim"
   ]
  },
  {
   "cell_type": "code",
   "execution_count": 37,
   "metadata": {},
   "outputs": [],
   "source": [
    "df = pd.read_csv('../data/rabagliati_2013_stimuli.csv', sep = '\\t')\n",
    "df = df[~df['target'].isin(['moose', 'mousse'])] #BERT tokenization issues\n",
    "model = initialize_masking_lm()\n",
    "tokenizer = BertTokenizer.from_pretrained('bert-base-uncased')"
   ]
  },
  {
   "cell_type": "code",
   "execution_count": 38,
   "metadata": {},
   "outputs": [],
   "source": [
    "df['pos'] = ['n'] * len(df.index)\n",
    "df['word'] = df['target']\n",
    "word_pos_pairs = df[['word', 'pos']].drop_duplicates()\n",
    "word_pos_pairs.to_csv('../data/r_13_for_semcor.csv')"
   ]
  },
  {
   "cell_type": "code",
   "execution_count": 39,
   "metadata": {},
   "outputs": [],
   "source": [
    "mask_results = []\n",
    "for i in range(len(df.index)):\n",
    "    row = df.iloc[i]\n",
    "    s1, s2, target_token = row['s1'], row['s2'], row['target']\n",
    "    indexed_tokens, tokenized_text = preprocess(s1, target_token, s2 = s2, masking = True)\n",
    "    embed, preds = mask_predictions(indexed_tokens, model, tokenizer)\n",
    "    mask_results.append({'mask_embed': embed, 'predicted_tokens': preds[1], 'predicted_probs': preds[0]})"
   ]
  },
  {
   "cell_type": "code",
   "execution_count": 44,
   "metadata": {},
   "outputs": [],
   "source": [
    "both_sense_types = []\n",
    "for w in word_pos_pairs.iterrows():\n",
    "    w = w[1]\n",
    "    word, pos = w['word'], w['pos']\n",
    "    try:\n",
    "        type_data = load_data(word, pos, 'semcor')\n",
    "        word_senses = df[df['target'] == word]['wn_sense'].unique()\n",
    "        contains_both_senses = lambda l1, l2: all([s in l2 for s in l1])\n",
    "        if contains_both_senses(word_senses, type_data['sense_labels']):\n",
    "            both_sense_types.append(word)\n",
    "    except:\n",
    "        pass"
   ]
  },
  {
   "cell_type": "code",
   "execution_count": 47,
   "metadata": {},
   "outputs": [
    {
     "data": {
      "text/plain": [
       "12"
      ]
     },
     "execution_count": 47,
     "metadata": {},
     "output_type": "execute_result"
    }
   ],
   "source": [
    "len(both_sense_types)"
   ]
  },
  {
   "cell_type": "code",
   "execution_count": 53,
   "metadata": {},
   "outputs": [
    {
     "data": {
      "text/plain": [
       "['chicken',\n",
       " 'fish',\n",
       " 'letter',\n",
       " 'button',\n",
       " 'line',\n",
       " 'nail',\n",
       " 'pitcher',\n",
       " 'band',\n",
       " 'sun',\n",
       " 'son',\n",
       " 'knight',\n",
       " 'night']"
      ]
     },
     "execution_count": 53,
     "metadata": {},
     "output_type": "execute_result"
    }
   ],
   "source": [
    "both_sense_types"
   ]
  },
  {
   "cell_type": "markdown",
   "metadata": {},
   "source": [
    "This looks like a little less than half the types. Let's work on these first, then get to the edge cases (1 sense, glass.n, homophones)"
   ]
  },
  {
   "cell_type": "code",
   "execution_count": 76,
   "metadata": {},
   "outputs": [],
   "source": [
    "def nearest_neighbor(query, s1, s2, sense_names):\n",
    "    s1_sims = [cosine_sim(query, e) for e in s1]\n",
    "    s2_sims = [cosine_sim(query, e) for e in s2]\n",
    "    if max(s1_sims) > max(s2_sims):\n",
    "        return sense_names[0]\n",
    "    if max(s1_sims) < max(s2_sims):\n",
    "        return sense_names[1]"
   ]
  },
  {
   "cell_type": "code",
   "execution_count": null,
   "metadata": {},
   "outputs": [],
   "source": []
  },
  {
   "cell_type": "code",
   "execution_count": 78,
   "metadata": {},
   "outputs": [],
   "source": [
    "cases = df[df['target'].isin(both_sense_types[:-4])]\n",
    "e_preds = []\n",
    "for w in reg_cases['target'].unique():\n",
    "    indices = df[df['target'] == w].index\n",
    "    senses = df[df['target'] == w]['wn_sense'].unique()\n",
    "    mask_embeddings = [mask_results[i]['mask_embed'] for i in indices]\n",
    "    token_data = load_data(w, 'n', 'semcor')\n",
    "    semcor_embeddings = np.array(token_data['embeddings'])\n",
    "    num_embeddings = len(semcor_embeddings)\n",
    "    s1_embeds = semcor_embeddings[[i for i in range(num_embeddings) if token_data['sense_labels'][i] == senses[0]]]\n",
    "    s2_embeds = semcor_embeddings[[i for i in range(num_embeddings) if token_data['sense_labels'][i] == senses[1]]]\n",
    "    e_preds += [nearest_neighbor(e, s1_embeds, s2_embeds, senses) for e in mask_embeddings]\n",
    "        \n",
    "    "
   ]
  },
  {
   "cell_type": "code",
   "execution_count": 84,
   "metadata": {},
   "outputs": [
    {
     "name": "stderr",
     "output_type": "stream",
     "text": [
      "/anaconda3/envs/bert/lib/python3.7/site-packages/ipykernel_launcher.py:1: SettingWithCopyWarning: \n",
      "A value is trying to be set on a copy of a slice from a DataFrame.\n",
      "Try using .loc[row_indexer,col_indexer] = value instead\n",
      "\n",
      "See the caveats in the documentation: http://pandas.pydata.org/pandas-docs/stable/user_guide/indexing.html#returning-a-view-versus-a-copy\n",
      "  \"\"\"Entry point for launching an IPython kernel.\n"
     ]
    }
   ],
   "source": [
    "reg_cases['nn_preds'] = e_preds\n",
    "\n",
    "def accuracy_by_rel_type(df, rel_type):\n",
    "    df = df[df['rel_type'] == rel_type]\n",
    "    return sum(df['nn_preds'] == df['wn_sense']) / len(df.index)"
   ]
  },
  {
   "cell_type": "code",
   "execution_count": 86,
   "metadata": {},
   "outputs": [
    {
     "data": {
      "text/plain": [
       "0.5"
      ]
     },
     "execution_count": 86,
     "metadata": {},
     "output_type": "execute_result"
    }
   ],
   "source": [
    "accuracy_by_rel_type(reg_cases, 'reg_pol')"
   ]
  },
  {
   "cell_type": "code",
   "execution_count": 87,
   "metadata": {},
   "outputs": [
    {
     "data": {
      "text/plain": [
       "0.5833333333333334"
      ]
     },
     "execution_count": 87,
     "metadata": {},
     "output_type": "execute_result"
    }
   ],
   "source": [
    "accuracy_by_rel_type(reg_cases, 'irreg_pol')"
   ]
  },
  {
   "cell_type": "code",
   "execution_count": 88,
   "metadata": {},
   "outputs": [
    {
     "data": {
      "text/plain": [
       "0.5"
      ]
     },
     "execution_count": 88,
     "metadata": {},
     "output_type": "execute_result"
    }
   ],
   "source": [
    "accuracy_by_rel_type(reg_cases, 'hom')"
   ]
  },
  {
   "cell_type": "code",
   "execution_count": null,
   "metadata": {},
   "outputs": [],
   "source": []
  }
 ],
 "metadata": {
  "kernelspec": {
   "display_name": "Python [conda env:bert]",
   "language": "python",
   "name": "conda-env-bert-py"
  },
  "language_info": {
   "codemirror_mode": {
    "name": "ipython",
    "version": 3
   },
   "file_extension": ".py",
   "mimetype": "text/x-python",
   "name": "python",
   "nbconvert_exporter": "python",
   "pygments_lexer": "ipython3",
   "version": "3.7.6"
  }
 },
 "nbformat": 4,
 "nbformat_minor": 2
}
