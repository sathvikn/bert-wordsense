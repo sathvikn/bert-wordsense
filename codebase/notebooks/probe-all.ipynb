{
 "cells": [
  {
   "cell_type": "markdown",
   "metadata": {},
   "source": [
    "We run the probe(multiclass logistic regression over senses) on all words we have embeddings for."
   ]
  },
  {
   "cell_type": "code",
   "execution_count": 18,
   "metadata": {},
   "outputs": [],
   "source": [
    "from core.metrics import *\n",
    "from core.semcor_bert_pipeline import get_pos\n",
    "from sklearn.linear_model import LinearRegression\n",
    "import numpy as np\n",
    "import pandas as pd\n",
    "import matplotlib.pyplot as plt\n",
    "import seaborn as sns"
   ]
  },
  {
   "cell_type": "markdown",
   "metadata": {},
   "source": [
    "## Data Prep & Model Training"
   ]
  },
  {
   "cell_type": "code",
   "execution_count": 3,
   "metadata": {},
   "outputs": [],
   "source": [
    "df = pd.read_csv('../data/randscore_entropy.csv') \n",
    "#From a previous analysis, contains which words we have embeddings for\n",
    "df['pos'] = df['Lemma'].apply(get_pos)\n",
    "df = df[df['pos'].isin(['n', 'v'])]\n",
    "df = df[['Lemma', 'pos', 'entropy', 'num_senses']].drop_duplicates()\n",
    "words = df['Lemma']\n",
    "\n",
    "updated_entropy = pd.read_csv('../data/semcor_entropy_revised.csv')\n",
    "updated_entropy = updated_entropy.rename({'word': 'Lemma'}, axis = 1)\n",
    "updated_entropy['Lemma'] = updated_entropy['Lemma'] + ['.'] + updated_entropy['pos']\n",
    "df = updated_entropy[(updated_entropy['Lemma'].isin(df['Lemma'])) & (updated_entropy['num_senses'] > 2)]"
   ]
  },
  {
   "cell_type": "code",
   "execution_count": 6,
   "metadata": {},
   "outputs": [],
   "source": [
    "model_data = {}\n",
    "test_stats = []"
   ]
  },
  {
   "cell_type": "code",
   "execution_count": 7,
   "metadata": {
    "scrolled": true
   },
   "outputs": [
    {
     "name": "stdout",
     "output_type": "stream",
     "text": [
      "Running Model for thing.n\n",
      "Running Model for meet.v\n",
      "Running Model for lead.v\n",
      "Running Model for serve.v\n",
      "Running Model for give.v\n",
      "Running Model for raise.v\n",
      "Running Model for cover.v\n",
      "Running Model for play.v\n",
      "Running Model for grow.v\n",
      "Running Model for apply.v\n",
      "Running Model for life.n\n",
      "Running Model for follow.v\n",
      "Running Model for time.n\n",
      "Running Model for find.v\n",
      "Running Model for trouble.n\n",
      "Running Model for deny.v\n",
      "Running Model for discover.v\n",
      "Running Model for line.n\n"
     ]
    },
    {
     "name": "stderr",
     "output_type": "stream",
     "text": [
      "/anaconda3/envs/bert/lib/python3.7/site-packages/sklearn/linear_model/_sag.py:330: ConvergenceWarning: The max_iter was reached which means the coef_ did not converge\n",
      "  \"the coef_ did not converge\", ConvergenceWarning)\n"
     ]
    },
    {
     "name": "stdout",
     "output_type": "stream",
     "text": [
      "Running Model for make.v\n",
      "Running Model for show.v\n",
      "Running Model for feel.v\n",
      "Running Model for death.n\n",
      "Running Model for accept.v\n",
      "Running Model for reach.v\n",
      "Running Model for wish.v\n",
      "Running Model for world.n\n",
      "Running Model for force.n\n",
      "Running Model for call.v\n",
      "Running Model for write.v\n",
      "Running Model for system.n\n",
      "Running Model for set.v\n",
      "Running Model for history.n\n",
      "Running Model for move.v\n",
      "Running Model for change.n\n",
      "Running Model for end.n\n",
      "Running Model for side.n\n",
      "Running Model for open.v\n",
      "Running Model for represent.v\n",
      "Running Model for receive.v\n",
      "Running Model for section.n\n",
      "Running Model for day.n\n",
      "Running Model for place.n\n",
      "Running Model for hold.v\n",
      "Running Model for think_of.v\n",
      "Running Model for drive.v\n",
      "Running Model for bring.v\n",
      "Running Model for state.n\n",
      "Running Model for part.n\n",
      "Running Model for know.v\n",
      "Running Model for suffer.v\n",
      "Running Model for form.v\n",
      "Running Model for avoid.v\n",
      "Running Model for perform.v\n",
      "Running Model for indicate.v\n",
      "Running Model for spirit.n\n",
      "Running Model for note.v\n",
      "Running Model for go.v\n",
      "Running Model for course.n\n"
     ]
    },
    {
     "name": "stderr",
     "output_type": "stream",
     "text": [
      "/anaconda3/envs/bert/lib/python3.7/site-packages/sklearn/linear_model/_sag.py:330: ConvergenceWarning: The max_iter was reached which means the coef_ did not converge\n",
      "  \"the coef_ did not converge\", ConvergenceWarning)\n"
     ]
    },
    {
     "name": "stdout",
     "output_type": "stream",
     "text": [
      "Running Model for paint.v\n",
      "Running Model for expression.n\n"
     ]
    },
    {
     "name": "stderr",
     "output_type": "stream",
     "text": [
      "/anaconda3/envs/bert/lib/python3.7/site-packages/sklearn/linear_model/_sag.py:330: ConvergenceWarning: The max_iter was reached which means the coef_ did not converge\n",
      "  \"the coef_ did not converge\", ConvergenceWarning)\n"
     ]
    },
    {
     "name": "stdout",
     "output_type": "stream",
     "text": [
      "Running Model for direction.n\n",
      "Running Model for corner.n\n",
      "Running Model for experience.n\n",
      "Running Model for stage.n\n",
      "Running Model for develop.v\n",
      "Running Model for refer.v\n",
      "Running Model for rise.v\n",
      "Running Model for mark.v\n",
      "Running Model for performance.n\n"
     ]
    },
    {
     "name": "stderr",
     "output_type": "stream",
     "text": [
      "/anaconda3/envs/bert/lib/python3.7/site-packages/sklearn/linear_model/_sag.py:330: ConvergenceWarning: The max_iter was reached which means the coef_ did not converge\n",
      "  \"the coef_ did not converge\", ConvergenceWarning)\n"
     ]
    },
    {
     "name": "stdout",
     "output_type": "stream",
     "text": [
      "Running Model for strike.v\n",
      "Running Model for start.v\n",
      "Running Model for space.n\n",
      "Running Model for study.v\n",
      "Running Model for break.v\n",
      "Running Model for get.v\n",
      "Running Model for fire.v\n",
      "Running Model for contribute.v\n",
      "Running Model for gain.v\n",
      "Running Model for sense.n\n",
      "Running Model for item.n\n"
     ]
    },
    {
     "name": "stderr",
     "output_type": "stream",
     "text": [
      "/anaconda3/envs/bert/lib/python3.7/site-packages/sklearn/linear_model/_sag.py:330: ConvergenceWarning: The max_iter was reached which means the coef_ did not converge\n",
      "  \"the coef_ did not converge\", ConvergenceWarning)\n"
     ]
    },
    {
     "name": "stdout",
     "output_type": "stream",
     "text": [
      "Running Model for answer.n\n",
      "Running Model for plan.v\n",
      "Running Model for hit.v\n",
      "Running Model for produce.v\n",
      "Running Model for hope.v\n",
      "Running Model for deal.v\n"
     ]
    },
    {
     "name": "stderr",
     "output_type": "stream",
     "text": [
      "/anaconda3/envs/bert/lib/python3.7/site-packages/sklearn/linear_model/_sag.py:330: ConvergenceWarning: The max_iter was reached which means the coef_ did not converge\n",
      "  \"the coef_ did not converge\", ConvergenceWarning)\n"
     ]
    },
    {
     "name": "stdout",
     "output_type": "stream",
     "text": [
      "Running Model for sound.n\n",
      "Running Model for game.n\n",
      "Running Model for watch.v\n",
      "Running Model for hang.v\n",
      "Running Model for party.n\n",
      "Running Model for speak.v\n",
      "Running Model for heart.n\n",
      "Running Model for change.v\n",
      "Running Model for love.v\n"
     ]
    },
    {
     "name": "stderr",
     "output_type": "stream",
     "text": [
      "/anaconda3/envs/bert/lib/python3.7/site-packages/sklearn/linear_model/_sag.py:330: ConvergenceWarning: The max_iter was reached which means the coef_ did not converge\n",
      "  \"the coef_ did not converge\", ConvergenceWarning)\n"
     ]
    },
    {
     "name": "stdout",
     "output_type": "stream",
     "text": [
      "Running Model for express.v\n",
      "Running Model for need.v\n",
      "Running Model for wait.v\n",
      "Running Model for declare.v\n",
      "Running Model for light.n\n",
      "Running Model for point.n\n",
      "Running Model for reveal.v\n",
      "Running Model for maintain.v\n",
      "Running Model for put.v\n",
      "Running Model for consider.v\n",
      "Running Model for position.n\n"
     ]
    },
    {
     "name": "stderr",
     "output_type": "stream",
     "text": [
      "/anaconda3/envs/bert/lib/python3.7/site-packages/sklearn/linear_model/_sag.py:330: ConvergenceWarning: The max_iter was reached which means the coef_ did not converge\n",
      "  \"the coef_ did not converge\", ConvergenceWarning)\n"
     ]
    },
    {
     "name": "stdout",
     "output_type": "stream",
     "text": [
      "Running Model for drop.v\n",
      "Running Model for field.n\n",
      "Running Model for recognize.v\n",
      "Running Model for close.v\n",
      "Running Model for involve.v\n",
      "Running Model for value.n\n",
      "Running Model for prepare.v\n",
      "Running Model for remain.v\n",
      "Running Model for support.v\n",
      "Running Model for report.v\n",
      "Running Model for quality.n\n",
      "Running Model for keep.v\n",
      "Running Model for end.v\n",
      "Running Model for remember.v\n",
      "Running Model for present.v\n",
      "Running Model for result.n\n",
      "Running Model for source.n\n",
      "Running Model for stand.v\n",
      "Running Model for begin.v\n",
      "Running Model for send.v\n",
      "Running Model for treat.v\n",
      "Running Model for suggest.v\n",
      "Running Model for stay.v\n",
      "Running Model for case.n\n",
      "Running Model for look.v\n",
      "Running Model for surface.n\n",
      "Running Model for man.n\n",
      "Running Model for determine.v\n",
      "Running Model for ask.v\n",
      "Running Model for live.v\n",
      "Running Model for continue.v\n",
      "Running Model for occur.v\n",
      "Running Model for choose.v\n",
      "Running Model for interest.n\n",
      "Running Model for assume.v\n",
      "Running Model for area.n\n",
      "Running Model for control.n\n",
      "Running Model for secretary.n\n",
      "Running Model for matter.n\n",
      "Running Model for note.n\n",
      "Running Model for property.n\n",
      "Running Model for notion.n\n",
      "Running Model for standard.n\n"
     ]
    },
    {
     "name": "stderr",
     "output_type": "stream",
     "text": [
      "/anaconda3/envs/bert/lib/python3.7/site-packages/sklearn/linear_model/_sag.py:330: ConvergenceWarning: The max_iter was reached which means the coef_ did not converge\n",
      "  \"the coef_ did not converge\", ConvergenceWarning)\n"
     ]
    },
    {
     "name": "stdout",
     "output_type": "stream",
     "text": [
      "Running Model for extend.v\n",
      "Running Model for labor.n\n",
      "Running Model for fear.v\n",
      "Running Model for culture.n\n",
      "Running Model for bond.n\n",
      "Running Model for match.v\n",
      "Running Model for trade.n\n",
      "Running Model for commit.v\n"
     ]
    },
    {
     "name": "stderr",
     "output_type": "stream",
     "text": [
      "/anaconda3/envs/bert/lib/python3.7/site-packages/sklearn/linear_model/_sag.py:330: ConvergenceWarning: The max_iter was reached which means the coef_ did not converge\n",
      "  \"the coef_ did not converge\", ConvergenceWarning)\n"
     ]
    },
    {
     "name": "stdout",
     "output_type": "stream",
     "text": [
      "Running Model for frequency.n\n",
      "Running Model for duty.n\n",
      "Running Model for dry.v\n",
      "Running Model for operation.n\n",
      "Running Model for phase.n\n",
      "Running Model for reject.v\n",
      "Running Model for news.n\n",
      "Running Model for voice.n\n",
      "Running Model for task.n\n",
      "Running Model for benefit.n\n",
      "Running Model for propose.v\n",
      "Running Model for combine.v\n",
      "Running Model for assumption.n\n"
     ]
    },
    {
     "name": "stderr",
     "output_type": "stream",
     "text": [
      "/anaconda3/envs/bert/lib/python3.7/site-packages/sklearn/linear_model/_sag.py:330: ConvergenceWarning: The max_iter was reached which means the coef_ did not converge\n",
      "  \"the coef_ did not converge\", ConvergenceWarning)\n"
     ]
    },
    {
     "name": "stdout",
     "output_type": "stream",
     "text": [
      "Running Model for unit.n\n",
      "Running Model for threaten.v\n",
      "Running Model for snow.n\n",
      "Running Model for result.v\n",
      "Running Model for foot.n\n",
      "Running Model for treatment.n\n",
      "Running Model for church.n\n",
      "Running Model for aspect.n\n",
      "Running Model for list.v\n",
      "Running Model for pass_through.v\n",
      "Running Model for pattern.n\n",
      "Running Model for face.v\n",
      "Running Model for discussion.n\n",
      "Running Model for sign.v\n"
     ]
    },
    {
     "name": "stderr",
     "output_type": "stream",
     "text": [
      "/anaconda3/envs/bert/lib/python3.7/site-packages/sklearn/linear_model/_sag.py:330: ConvergenceWarning: The max_iter was reached which means the coef_ did not converge\n",
      "  \"the coef_ did not converge\", ConvergenceWarning)\n"
     ]
    },
    {
     "name": "stdout",
     "output_type": "stream",
     "text": [
      "Running Model for dance.v\n",
      "Running Model for prove.v\n",
      "Running Model for pick_up.v\n",
      "Running Model for sing.v\n",
      "Running Model for work.n\n",
      "Running Model for captain.n\n",
      "Running Model for establish.v\n",
      "Running Model for imply.v\n",
      "Running Model for question.v\n",
      "Running Model for tone.n\n",
      "Running Model for demonstrate.v\n",
      "Running Model for earth.n\n",
      "Running Model for carry_out.v\n",
      "Running Model for plane.n\n",
      "Running Model for policy.n\n",
      "Running Model for design.n\n",
      "Running Model for story.n\n",
      "Running Model for control.v\n",
      "Running Model for increase.v\n",
      "Running Model for cloud.n\n",
      "Running Model for payment.n\n",
      "Running Model for question.n\n",
      "Running Model for conduct.v\n",
      "Running Model for order.v\n",
      "Running Model for loss.n\n",
      "Running Model for consideration.n\n",
      "Running Model for meaning.n\n",
      "Running Model for university.n\n",
      "Running Model for investigate.v\n",
      "Running Model for store.v\n",
      "Running Model for maturity.n\n",
      "Running Model for class.n\n",
      "Running Model for family.n\n",
      "Running Model for share.v\n",
      "Running Model for destroy.v\n",
      "Running Model for development.n\n",
      "Running Model for score.v\n",
      "Running Model for subject.n\n",
      "Running Model for become.v\n",
      "Running Model for memory.n\n",
      "Running Model for ride.v\n",
      "Running Model for run.v\n",
      "Running Model for character.n\n",
      "Running Model for extent.n\n",
      "Running Model for activity.n\n",
      "Running Model for amount.n\n",
      "Running Model for look.n\n",
      "Running Model for land.n\n",
      "Running Model for read.v\n",
      "Running Model for sale.n\n",
      "Running Model for cell.n\n",
      "Running Model for enjoy.v\n",
      "Running Model for win.v\n",
      "Running Model for vary.v\n",
      "Running Model for requirement.n\n",
      "Running Model for prevent.v\n",
      "Running Model for act.v\n",
      "Running Model for remind.v\n",
      "Running Model for miss.v\n",
      "Running Model for head.v\n",
      "Running Model for message.n\n",
      "Running Model for require.v\n",
      "Running Model for rate.n\n",
      "Running Model for plant.n\n",
      "Running Model for act.n\n",
      "Running Model for board.n\n"
     ]
    },
    {
     "name": "stderr",
     "output_type": "stream",
     "text": [
      "/anaconda3/envs/bert/lib/python3.7/site-packages/sklearn/linear_model/_sag.py:330: ConvergenceWarning: The max_iter was reached which means the coef_ did not converge\n",
      "  \"the coef_ did not converge\", ConvergenceWarning)\n"
     ]
    },
    {
     "name": "stdout",
     "output_type": "stream",
     "text": [
      "Running Model for distribution.n\n",
      "Running Model for design.v\n",
      "Running Model for reality.n\n",
      "Running Model for top.n\n",
      "Running Model for function.n\n",
      "Running Model for success.n\n",
      "Running Model for hope.n\n",
      "Running Model for response.n\n",
      "Running Model for happen.v\n",
      "Running Model for difficulty.n\n",
      "Running Model for war.n\n",
      "Running Model for gas.n\n",
      "Running Model for structure.n\n",
      "Running Model for piece.n\n",
      "Running Model for level.n\n",
      "Running Model for find_out.v\n",
      "Running Model for lay.v\n",
      "Running Model for confront.v\n",
      "Running Model for glass.n\n",
      "Running Model for set.n\n",
      "Running Model for deliver.v\n",
      "Running Model for growth.n\n",
      "Running Model for paper.n\n",
      "Running Model for learn.v\n",
      "Running Model for moment.n\n",
      "Running Model for production.n\n",
      "Running Model for model.n\n",
      "Running Model for pain.n\n",
      "Running Model for shout.v\n",
      "Running Model for divide.v\n",
      "Running Model for add.v\n",
      "Running Model for include.v\n",
      "Running Model for country.n\n",
      "Running Model for pay.v\n",
      "Running Model for fail.v\n",
      "Running Model for radiation.n\n",
      "Running Model for number.n\n",
      "Running Model for law.n\n",
      "Running Model for table.n\n",
      "Running Model for succeed.v\n",
      "Running Model for shot.n\n",
      "Running Model for dollar.n\n",
      "Running Model for examine.v\n",
      "Running Model for notice.v\n",
      "Running Model for degree.n\n",
      "Running Model for argue.v\n",
      "Running Model for information.n\n",
      "Running Model for share.n\n",
      "Running Model for define.v\n",
      "Running Model for neighborhood.n\n",
      "Running Model for product.n\n",
      "Running Model for step.n\n",
      "Running Model for cost.v\n",
      "Running Model for offer.v\n",
      "Running Model for nod.v\n",
      "Running Model for job.n\n",
      "Running Model for tradition.n\n",
      "Running Model for regard.v\n",
      "Running Model for floor.n\n",
      "Running Model for newspaper.n\n",
      "Running Model for believe.v\n",
      "Running Model for fact.n\n",
      "Running Model for pressure.n\n",
      "Running Model for need.n\n",
      "Running Model for material.n\n",
      "Running Model for claim.n\n",
      "Running Model for help.v\n",
      "Running Model for film.n\n",
      "Running Model for program.n\n",
      "Running Model for swing.v\n",
      "Running Model for business.n\n",
      "Running Model for claim.v\n",
      "Running Model for child.n\n",
      "Running Model for air.n\n",
      "Running Model for evidence.n\n",
      "Running Model for refuse.v\n",
      "Running Model for organization.n\n"
     ]
    },
    {
     "name": "stderr",
     "output_type": "stream",
     "text": [
      "/anaconda3/envs/bert/lib/python3.7/site-packages/sklearn/linear_model/_sag.py:330: ConvergenceWarning: The max_iter was reached which means the coef_ did not converge\n",
      "  \"the coef_ did not converge\", ConvergenceWarning)\n"
     ]
    },
    {
     "name": "stdout",
     "output_type": "stream",
     "text": [
      "Running Model for reason.n\n",
      "Running Model for fall.v\n",
      "Running Model for create.v\n",
      "Running Model for power.n\n",
      "Running Model for sound.v\n",
      "Running Model for increase.n\n",
      "Running Model for spend.v\n",
      "Running Model for procedure.n\n",
      "Running Model for agree.v\n",
      "Running Model for purpose.n\n",
      "Running Model for save.v\n",
      "Running Model for manner.n\n",
      "Running Model for cause.v\n",
      "Running Model for promise.v\n",
      "Running Model for collect.v\n",
      "Running Model for issue.v\n",
      "Running Model for yard.n\n",
      "Running Model for season.n\n",
      "Running Model for expect.v\n",
      "Running Model for reflect.v\n",
      "Running Model for publish.v\n",
      "Running Model for handle.v\n",
      "Running Model for theory.n\n",
      "Running Model for feed.v\n",
      "Running Model for situation.n\n",
      "Running Model for direct.v\n",
      "Running Model for contain.v\n",
      "Running Model for individual.n\n",
      "Running Model for ground.n\n",
      "Running Model for art.n\n",
      "Running Model for enter.v\n",
      "Running Model for right.n\n",
      "Running Model for shake.v\n",
      "Running Model for operate.v\n"
     ]
    },
    {
     "name": "stderr",
     "output_type": "stream",
     "text": [
      "/anaconda3/envs/bert/lib/python3.7/site-packages/sklearn/linear_model/_sag.py:330: ConvergenceWarning: The max_iter was reached which means the coef_ did not converge\n",
      "  \"the coef_ did not converge\", ConvergenceWarning)\n"
     ]
    },
    {
     "name": "stdout",
     "output_type": "stream",
     "text": [
      "Running Model for industry.n\n",
      "Running Model for come_in.v\n",
      "Running Model for visit.v\n",
      "Running Model for way.n\n",
      "Running Model for hour.n\n",
      "Running Model for example.n\n",
      "Running Model for join.v\n",
      "Running Model for stop.v\n",
      "Running Model for appear.v\n",
      "Running Model for difference.n\n",
      "Running Model for problem.n\n",
      "Running Model for means.n\n",
      "Running Model for finish.v\n",
      "Running Model for sit.v\n",
      "Running Model for company.n\n",
      "Running Model for figure.n\n",
      "Running Model for form.n\n",
      "Running Model for affect.v\n",
      "Running Model for feeling.n\n",
      "Running Model for go_on.v\n",
      "Running Model for talk.v\n",
      "Running Model for compare.v\n",
      "Running Model for mean.v\n",
      "Running Model for encourage.v\n",
      "Running Model for eat.v\n",
      "Running Model for state.v\n",
      "Running Model for wear.v\n",
      "Running Model for observe.v\n"
     ]
    },
    {
     "name": "stderr",
     "output_type": "stream",
     "text": [
      "/anaconda3/envs/bert/lib/python3.7/site-packages/sklearn/linear_model/_sag.py:330: ConvergenceWarning: The max_iter was reached which means the coef_ did not converge\n",
      "  \"the coef_ did not converge\", ConvergenceWarning)\n"
     ]
    },
    {
     "name": "stdout",
     "output_type": "stream",
     "text": [
      "Running Model for experiment.n\n",
      "Running Model for thought.n\n",
      "Running Model for admit.v\n",
      "Running Model for improve.v\n",
      "Running Model for announce.v\n",
      "Running Model for face.n\n",
      "Running Model for condition.n\n",
      "Running Model for study.n\n",
      "Running Model for sell.v\n",
      "Running Model for allow.v\n",
      "Running Model for obtain.v\n",
      "Running Model for action.n\n",
      "Running Model for head.n\n",
      "Running Model for pass.v\n",
      "Running Model for seem.v\n",
      "Running Model for lose.v\n",
      "Running Model for return.v\n",
      "Running Model for mind.n\n",
      "Running Model for city.n\n",
      "Running Model for school.n\n",
      "Running Model for place.v\n",
      "Running Model for build.v\n",
      "Running Model for turn.v\n"
     ]
    }
   ],
   "source": [
    "for w in words:\n",
    "    print(\"Running Model for\", w)\n",
    "    try:\n",
    "        model_results = logistic_cv(w, use_masc = False)\n",
    "        model_data[w] = model_results\n",
    "        test_stats.append({\"word\": w, 'avg_f1': np.mean(model_results['f1']),\n",
    "                             'avg_acc': np.mean(model_results['acc'])})  \n",
    "    except:\n",
    "        continue"
   ]
  },
  {
   "cell_type": "code",
   "execution_count": 9,
   "metadata": {},
   "outputs": [
    {
     "data": {
      "text/plain": [
       "406"
      ]
     },
     "execution_count": 9,
     "metadata": {},
     "output_type": "execute_result"
    }
   ],
   "source": [
    "len(model_data) #How many words were classified by probe"
   ]
  },
  {
   "cell_type": "markdown",
   "metadata": {},
   "source": [
    "## Plotting F score vs. Number of Senses, Entropy"
   ]
  },
  {
   "cell_type": "code",
   "execution_count": 10,
   "metadata": {},
   "outputs": [
    {
     "data": {
      "image/png": "[encoded data removed]",
      "text/plain": [
       "<Figure size 360x360 with 1 Axes>"
      ]
     },
     "metadata": {
      "needs_background": "light"
     },
     "output_type": "display_data"
    }
   ],
   "source": [
    "model_perf = pd.DataFrame(test_stats).merge(df, left_on ='word', right_on = 'Lemma')\n",
    "plot = sns.catplot(x = 'num_senses', y = 'avg_f1', hue = 'pos', legend = False, data = model_perf, alpha = 0.5)\n",
    "plt.ylim(0, 1.05)\n",
    "plt.xlabel(\"Number of Senses\")\n",
    "plt.ylabel(\"Average F1 Score\")\n",
    "plt.title(\"Classifier Performance with Respect to Number of Senses\")\n",
    "plt.legend([\"Noun\", \"Verb\"], title = 'Part of Speech')\n",
    "plt.tight_layout()\n",
    "plt.savefig(\"../../results/figures/f1_num_senses.png\")"
   ]
  },
  {
   "cell_type": "code",
   "execution_count": 11,
   "metadata": {},
   "outputs": [
    {
     "data": {
      "text/html": [
       "<div>\n",
       "<style scoped>\n",
       "    .dataframe tbody tr th:only-of-type {\n",
       "        vertical-align: middle;\n",
       "    }\n",
       "\n",
       "    .dataframe tbody tr th {\n",
       "        vertical-align: top;\n",
       "    }\n",
       "\n",
       "    .dataframe thead th {\n",
       "        text-align: right;\n",
       "    }\n",
       "</style>\n",
       "<table border=\"1\" class=\"dataframe\">\n",
       "  <thead>\n",
       "    <tr style=\"text-align: right;\">\n",
       "      <th></th>\n",
       "      <th>word</th>\n",
       "      <th>avg_f1</th>\n",
       "      <th>avg_acc</th>\n",
       "      <th>Lemma</th>\n",
       "      <th>pos</th>\n",
       "      <th>entropy</th>\n",
       "      <th>num_senses</th>\n",
       "      <th>freq</th>\n",
       "      <th>Part of Speech</th>\n",
       "    </tr>\n",
       "  </thead>\n",
       "  <tbody>\n",
       "    <tr>\n",
       "      <th>0</th>\n",
       "      <td>thing.n</td>\n",
       "      <td>0.457054</td>\n",
       "      <td>0.469521</td>\n",
       "      <td>thing.n</td>\n",
       "      <td>n</td>\n",
       "      <td>2.812869</td>\n",
       "      <td>8</td>\n",
       "      <td>264</td>\n",
       "      <td>Noun</td>\n",
       "    </tr>\n",
       "    <tr>\n",
       "      <th>1</th>\n",
       "      <td>meet.v</td>\n",
       "      <td>0.654408</td>\n",
       "      <td>0.650150</td>\n",
       "      <td>meet.v</td>\n",
       "      <td>v</td>\n",
       "      <td>2.774648</td>\n",
       "      <td>9</td>\n",
       "      <td>214</td>\n",
       "      <td>Verb</td>\n",
       "    </tr>\n",
       "    <tr>\n",
       "      <th>2</th>\n",
       "      <td>lead.v</td>\n",
       "      <td>0.622337</td>\n",
       "      <td>0.637241</td>\n",
       "      <td>lead.v</td>\n",
       "      <td>v</td>\n",
       "      <td>2.684982</td>\n",
       "      <td>7</td>\n",
       "      <td>170</td>\n",
       "      <td>Verb</td>\n",
       "    </tr>\n",
       "    <tr>\n",
       "      <th>3</th>\n",
       "      <td>serve.v</td>\n",
       "      <td>0.715248</td>\n",
       "      <td>0.716464</td>\n",
       "      <td>serve.v</td>\n",
       "      <td>v</td>\n",
       "      <td>2.359147</td>\n",
       "      <td>6</td>\n",
       "      <td>194</td>\n",
       "      <td>Verb</td>\n",
       "    </tr>\n",
       "    <tr>\n",
       "      <th>4</th>\n",
       "      <td>give.v</td>\n",
       "      <td>0.487120</td>\n",
       "      <td>0.495654</td>\n",
       "      <td>give.v</td>\n",
       "      <td>v</td>\n",
       "      <td>2.268538</td>\n",
       "      <td>9</td>\n",
       "      <td>704</td>\n",
       "      <td>Verb</td>\n",
       "    </tr>\n",
       "    <tr>\n",
       "      <th>...</th>\n",
       "      <td>...</td>\n",
       "      <td>...</td>\n",
       "      <td>...</td>\n",
       "      <td>...</td>\n",
       "      <td>...</td>\n",
       "      <td>...</td>\n",
       "      <td>...</td>\n",
       "      <td>...</td>\n",
       "      <td>...</td>\n",
       "    </tr>\n",
       "    <tr>\n",
       "      <th>141</th>\n",
       "      <td>believe.v</td>\n",
       "      <td>0.559066</td>\n",
       "      <td>0.565854</td>\n",
       "      <td>believe.v</td>\n",
       "      <td>v</td>\n",
       "      <td>0.889375</td>\n",
       "      <td>3</td>\n",
       "      <td>215</td>\n",
       "      <td>Verb</td>\n",
       "    </tr>\n",
       "    <tr>\n",
       "      <th>142</th>\n",
       "      <td>help.v</td>\n",
       "      <td>0.747203</td>\n",
       "      <td>0.769697</td>\n",
       "      <td>help.v</td>\n",
       "      <td>v</td>\n",
       "      <td>0.877312</td>\n",
       "      <td>3</td>\n",
       "      <td>226</td>\n",
       "      <td>Verb</td>\n",
       "    </tr>\n",
       "    <tr>\n",
       "      <th>143</th>\n",
       "      <td>expect.v</td>\n",
       "      <td>0.816213</td>\n",
       "      <td>0.837558</td>\n",
       "      <td>expect.v</td>\n",
       "      <td>v</td>\n",
       "      <td>0.816499</td>\n",
       "      <td>3</td>\n",
       "      <td>234</td>\n",
       "      <td>Verb</td>\n",
       "    </tr>\n",
       "    <tr>\n",
       "      <th>144</th>\n",
       "      <td>way.n</td>\n",
       "      <td>0.716721</td>\n",
       "      <td>0.725227</td>\n",
       "      <td>way.n</td>\n",
       "      <td>n</td>\n",
       "      <td>0.728521</td>\n",
       "      <td>3</td>\n",
       "      <td>269</td>\n",
       "      <td>Noun</td>\n",
       "    </tr>\n",
       "    <tr>\n",
       "      <th>145</th>\n",
       "      <td>appear.v</td>\n",
       "      <td>0.858968</td>\n",
       "      <td>0.865217</td>\n",
       "      <td>appear.v</td>\n",
       "      <td>v</td>\n",
       "      <td>0.711120</td>\n",
       "      <td>3</td>\n",
       "      <td>230</td>\n",
       "      <td>Verb</td>\n",
       "    </tr>\n",
       "  </tbody>\n",
       "</table>\n",
       "<p>146 rows × 9 columns</p>\n",
       "</div>"
      ],
      "text/plain": [
       "          word    avg_f1   avg_acc      Lemma pos   entropy  num_senses  freq  \\\n",
       "0      thing.n  0.457054  0.469521    thing.n   n  2.812869           8   264   \n",
       "1       meet.v  0.654408  0.650150     meet.v   v  2.774648           9   214   \n",
       "2       lead.v  0.622337  0.637241     lead.v   v  2.684982           7   170   \n",
       "3      serve.v  0.715248  0.716464    serve.v   v  2.359147           6   194   \n",
       "4       give.v  0.487120  0.495654     give.v   v  2.268538           9   704   \n",
       "..         ...       ...       ...        ...  ..       ...         ...   ...   \n",
       "141  believe.v  0.559066  0.565854  believe.v   v  0.889375           3   215   \n",
       "142     help.v  0.747203  0.769697     help.v   v  0.877312           3   226   \n",
       "143   expect.v  0.816213  0.837558   expect.v   v  0.816499           3   234   \n",
       "144      way.n  0.716721  0.725227      way.n   n  0.728521           3   269   \n",
       "145   appear.v  0.858968  0.865217   appear.v   v  0.711120           3   230   \n",
       "\n",
       "    Part of Speech  \n",
       "0             Noun  \n",
       "1             Verb  \n",
       "2             Verb  \n",
       "3             Verb  \n",
       "4             Verb  \n",
       "..             ...  \n",
       "141           Verb  \n",
       "142           Verb  \n",
       "143           Verb  \n",
       "144           Noun  \n",
       "145           Verb  \n",
       "\n",
       "[146 rows x 9 columns]"
      ]
     },
     "execution_count": 11,
     "metadata": {},
     "output_type": "execute_result"
    }
   ],
   "source": [
    "model_perf['Part of Speech'] = model_perf['pos'].replace({'n': \"Noun\", 'v': 'Verb'})\n",
    "model_perf"
   ]
  },
  {
   "cell_type": "code",
   "execution_count": 24,
   "metadata": {},
   "outputs": [
    {
     "data": {
      "image/png": "[encoded data removed]",
      "text/plain": [
       "<Figure size 432x288 with 1 Axes>"
      ]
     },
     "metadata": {
      "needs_background": "light"
     },
     "output_type": "display_data"
    }
   ],
   "source": [
    "sns.scatterplot(x = 'entropy', y = 'avg_f1', hue = 'Part of Speech', data = model_perf, alpha = 0.5)\n",
    "lm = LinearRegression()\n",
    "x = model_perf['entropy'].values.reshape(-1, 1)\n",
    "lm.fit(x, model_perf['avg_f1'])\n",
    "y_pred = lm.predict(x)\n",
    "plt.plot(x, y_pred, color = '')\n",
    "\n",
    "plt.ylim(0, 1.05)\n",
    "plt.xlabel(\"Entropy in Semcor\")\n",
    "plt.ylabel(\"Average F1 Score\")\n",
    "plt.title(\"Classifier Performance with Respect to Entropy in Semcor\")\n",
    "plt.tight_layout()\n",
    "\n",
    "plt.title(\"Classifier Performance with Respect to Entropy\")\n",
    "plt.savefig(\"../../results/figures/f1_entropy.png\")"
   ]
  },
  {
   "cell_type": "markdown",
   "metadata": {},
   "source": [
    "## Top level information on Probe Performance"
   ]
  },
  {
   "cell_type": "code",
   "execution_count": 17,
   "metadata": {
    "scrolled": true
   },
   "outputs": [
    {
     "data": {
      "text/plain": [
       "0.7034182039571342"
      ]
     },
     "execution_count": 17,
     "metadata": {},
     "output_type": "execute_result"
    }
   ],
   "source": [
    "np.mean(model_perf['avg_f1']) #Average F1 Score"
   ]
  },
  {
   "cell_type": "code",
   "execution_count": 14,
   "metadata": {},
   "outputs": [],
   "source": [
    "model_perf.to_csv(\"../data/model_perf.csv\")"
   ]
  },
  {
   "cell_type": "code",
   "execution_count": 15,
   "metadata": {},
   "outputs": [],
   "source": [
    "import seaborn as sns"
   ]
  },
  {
   "cell_type": "code",
   "execution_count": 16,
   "metadata": {},
   "outputs": [
    {
     "data": {
      "image/png": "[encoded data removed]",
      "text/plain": [
       "<Figure size 432x288 with 1 Axes>"
      ]
     },
     "metadata": {
      "needs_background": "light"
     },
     "output_type": "display_data"
    }
   ],
   "source": [
    "sns.distplot(model_perf['avg_f1'])\n",
    "plt.xlabel(\"Average F1 Score\")\n",
    "plt.title(\"Probe Accuracy on Semcor Sentences for 406 WordNet Lemmas\")\n",
    "plt.savefig(\"../../results/figures/f1distplot.png\")"
   ]
  }
 ],
 "metadata": {
  "kernelspec": {
   "display_name": "Python [conda env:bert]",
   "language": "python",
   "name": "conda-env-bert-py"
  },
  "language_info": {
   "codemirror_mode": {
    "name": "ipython",
    "version": 3
   },
   "file_extension": ".py",
   "mimetype": "text/x-python",
   "name": "python",
   "nbconvert_exporter": "python",
   "pygments_lexer": "ipython3",
   "version": "3.7.6"
  }
 },
 "nbformat": 4,
 "nbformat_minor": 2
}
