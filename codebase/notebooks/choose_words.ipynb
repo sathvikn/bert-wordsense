{
 "cells": [
  {
   "cell_type": "code",
   "execution_count": 7,
   "metadata": {},
   "outputs": [],
   "source": [
    "import numpy as np\n",
    "import pandas as pd\n",
    "import seaborn as sns\n",
    "import matplotlib.pyplot as plt"
   ]
  },
  {
   "cell_type": "markdown",
   "metadata": {},
   "source": [
    "##  High-Entropy SEMCOR Entries"
   ]
  },
  {
   "cell_type": "markdown",
   "metadata": {},
   "source": [
    "We first inspect the data and make visualizations, and then choose words based on criteria like number of senses, frequency, entropy, and PoS."
   ]
  },
  {
   "cell_type": "markdown",
   "metadata": {},
   "source": [
    "### EDA"
   ]
  },
  {
   "cell_type": "code",
   "execution_count": 10,
   "metadata": {},
   "outputs": [],
   "source": [
    "df = pd.read_csv('../data/randscore_entropy.csv') #The CSV file contains data we have BERT embeddings for"
   ]
  },
  {
   "cell_type": "code",
   "execution_count": 11,
   "metadata": {},
   "outputs": [],
   "source": [
    "df = df[(df['num_senses'] > 2) & (df['Principle Components'] == 2)]\n",
    "#Exclude items with two senses"
   ]
  },
  {
   "cell_type": "markdown",
   "metadata": {},
   "source": [
    "Counting number of types with each POS"
   ]
  },
  {
   "cell_type": "code",
   "execution_count": 12,
   "metadata": {},
   "outputs": [
    {
     "data": {
      "text/plain": [
       "v    105\n",
       "n     48\n",
       "r      6\n",
       "a      3\n",
       "s      2\n",
       "Name: pos, dtype: int64"
      ]
     },
     "execution_count": 12,
     "metadata": {},
     "output_type": "execute_result"
    }
   ],
   "source": [
    "get_pos = lambda l: l.split('.')[1]\n",
    "df['pos'] = df['Lemma'].apply(get_pos)\n",
    "df['pos'].value_counts()"
   ]
  },
  {
   "cell_type": "markdown",
   "metadata": {},
   "source": [
    "Looking at nouns and verbs"
   ]
  },
  {
   "cell_type": "code",
   "execution_count": 13,
   "metadata": {},
   "outputs": [],
   "source": [
    "df = df[df['pos'].isin(['v', 'n'])]\n",
    "df = df[['Lemma', 'entropy', 'num_senses', 'freq', 'pos']]"
   ]
  },
  {
   "cell_type": "code",
   "execution_count": 14,
   "metadata": {
    "scrolled": true
   },
   "outputs": [
    {
     "data": {
      "text/html": [
       "<div>\n",
       "<style scoped>\n",
       "    .dataframe tbody tr th:only-of-type {\n",
       "        vertical-align: middle;\n",
       "    }\n",
       "\n",
       "    .dataframe tbody tr th {\n",
       "        vertical-align: top;\n",
       "    }\n",
       "\n",
       "    .dataframe thead th {\n",
       "        text-align: right;\n",
       "    }\n",
       "</style>\n",
       "<table border=\"1\" class=\"dataframe\">\n",
       "  <thead>\n",
       "    <tr style=\"text-align: right;\">\n",
       "      <th></th>\n",
       "      <th>Lemma</th>\n",
       "      <th>entropy</th>\n",
       "      <th>num_senses</th>\n",
       "      <th>freq</th>\n",
       "      <th>pos</th>\n",
       "    </tr>\n",
       "  </thead>\n",
       "  <tbody>\n",
       "    <tr>\n",
       "      <th>0</th>\n",
       "      <td>thing.n</td>\n",
       "      <td>2.812869</td>\n",
       "      <td>8</td>\n",
       "      <td>264</td>\n",
       "      <td>n</td>\n",
       "    </tr>\n",
       "    <tr>\n",
       "      <th>20</th>\n",
       "      <td>life.n</td>\n",
       "      <td>2.040158</td>\n",
       "      <td>5</td>\n",
       "      <td>217</td>\n",
       "      <td>n</td>\n",
       "    </tr>\n",
       "    <tr>\n",
       "      <th>24</th>\n",
       "      <td>time.n</td>\n",
       "      <td>2.002842</td>\n",
       "      <td>5</td>\n",
       "      <td>505</td>\n",
       "      <td>n</td>\n",
       "    </tr>\n",
       "    <tr>\n",
       "      <th>28</th>\n",
       "      <td>trouble.n</td>\n",
       "      <td>1.973889</td>\n",
       "      <td>4</td>\n",
       "      <td>61</td>\n",
       "      <td>n</td>\n",
       "    </tr>\n",
       "    <tr>\n",
       "      <th>36</th>\n",
       "      <td>line.n</td>\n",
       "      <td>1.912234</td>\n",
       "      <td>5</td>\n",
       "      <td>100</td>\n",
       "      <td>n</td>\n",
       "    </tr>\n",
       "    <tr>\n",
       "      <th>44</th>\n",
       "      <td>death.n</td>\n",
       "      <td>1.894325</td>\n",
       "      <td>4</td>\n",
       "      <td>103</td>\n",
       "      <td>n</td>\n",
       "    </tr>\n",
       "    <tr>\n",
       "      <th>52</th>\n",
       "      <td>world.n</td>\n",
       "      <td>1.865668</td>\n",
       "      <td>4</td>\n",
       "      <td>202</td>\n",
       "      <td>n</td>\n",
       "    </tr>\n",
       "    <tr>\n",
       "      <th>54</th>\n",
       "      <td>force.n</td>\n",
       "      <td>1.861400</td>\n",
       "      <td>4</td>\n",
       "      <td>84</td>\n",
       "      <td>n</td>\n",
       "    </tr>\n",
       "    <tr>\n",
       "      <th>60</th>\n",
       "      <td>system.n</td>\n",
       "      <td>1.832076</td>\n",
       "      <td>4</td>\n",
       "      <td>98</td>\n",
       "      <td>n</td>\n",
       "    </tr>\n",
       "    <tr>\n",
       "      <th>64</th>\n",
       "      <td>history.n</td>\n",
       "      <td>1.798130</td>\n",
       "      <td>4</td>\n",
       "      <td>99</td>\n",
       "      <td>n</td>\n",
       "    </tr>\n",
       "    <tr>\n",
       "      <th>68</th>\n",
       "      <td>change.n</td>\n",
       "      <td>1.781964</td>\n",
       "      <td>4</td>\n",
       "      <td>103</td>\n",
       "      <td>n</td>\n",
       "    </tr>\n",
       "    <tr>\n",
       "      <th>70</th>\n",
       "      <td>end.n</td>\n",
       "      <td>1.772543</td>\n",
       "      <td>4</td>\n",
       "      <td>112</td>\n",
       "      <td>n</td>\n",
       "    </tr>\n",
       "    <tr>\n",
       "      <th>72</th>\n",
       "      <td>side.n</td>\n",
       "      <td>1.767755</td>\n",
       "      <td>5</td>\n",
       "      <td>129</td>\n",
       "      <td>n</td>\n",
       "    </tr>\n",
       "    <tr>\n",
       "      <th>80</th>\n",
       "      <td>section.n</td>\n",
       "      <td>1.746882</td>\n",
       "      <td>4</td>\n",
       "      <td>95</td>\n",
       "      <td>n</td>\n",
       "    </tr>\n",
       "    <tr>\n",
       "      <th>82</th>\n",
       "      <td>day.n</td>\n",
       "      <td>1.744650</td>\n",
       "      <td>4</td>\n",
       "      <td>313</td>\n",
       "      <td>n</td>\n",
       "    </tr>\n",
       "    <tr>\n",
       "      <th>84</th>\n",
       "      <td>place.n</td>\n",
       "      <td>1.718519</td>\n",
       "      <td>4</td>\n",
       "      <td>141</td>\n",
       "      <td>n</td>\n",
       "    </tr>\n",
       "    <tr>\n",
       "      <th>94</th>\n",
       "      <td>state.n</td>\n",
       "      <td>1.651143</td>\n",
       "      <td>4</td>\n",
       "      <td>190</td>\n",
       "      <td>n</td>\n",
       "    </tr>\n",
       "    <tr>\n",
       "      <th>96</th>\n",
       "      <td>part.n</td>\n",
       "      <td>1.612206</td>\n",
       "      <td>4</td>\n",
       "      <td>188</td>\n",
       "      <td>n</td>\n",
       "    </tr>\n",
       "    <tr>\n",
       "      <th>110</th>\n",
       "      <td>spirit.n</td>\n",
       "      <td>1.569815</td>\n",
       "      <td>3</td>\n",
       "      <td>68</td>\n",
       "      <td>n</td>\n",
       "    </tr>\n",
       "    <tr>\n",
       "      <th>118</th>\n",
       "      <td>course.n</td>\n",
       "      <td>1.566352</td>\n",
       "      <td>4</td>\n",
       "      <td>99</td>\n",
       "      <td>n</td>\n",
       "    </tr>\n",
       "    <tr>\n",
       "      <th>124</th>\n",
       "      <td>expression.n</td>\n",
       "      <td>1.559790</td>\n",
       "      <td>3</td>\n",
       "      <td>46</td>\n",
       "      <td>n</td>\n",
       "    </tr>\n",
       "    <tr>\n",
       "      <th>126</th>\n",
       "      <td>direction.n</td>\n",
       "      <td>1.543730</td>\n",
       "      <td>3</td>\n",
       "      <td>48</td>\n",
       "      <td>n</td>\n",
       "    </tr>\n",
       "    <tr>\n",
       "      <th>128</th>\n",
       "      <td>corner.n</td>\n",
       "      <td>1.541524</td>\n",
       "      <td>3</td>\n",
       "      <td>45</td>\n",
       "      <td>n</td>\n",
       "    </tr>\n",
       "    <tr>\n",
       "      <th>132</th>\n",
       "      <td>experience.n</td>\n",
       "      <td>1.535854</td>\n",
       "      <td>3</td>\n",
       "      <td>125</td>\n",
       "      <td>n</td>\n",
       "    </tr>\n",
       "    <tr>\n",
       "      <th>134</th>\n",
       "      <td>stage.n</td>\n",
       "      <td>1.535657</td>\n",
       "      <td>3</td>\n",
       "      <td>59</td>\n",
       "      <td>n</td>\n",
       "    </tr>\n",
       "    <tr>\n",
       "      <th>144</th>\n",
       "      <td>performance.n</td>\n",
       "      <td>1.523350</td>\n",
       "      <td>3</td>\n",
       "      <td>59</td>\n",
       "      <td>n</td>\n",
       "    </tr>\n",
       "    <tr>\n",
       "      <th>150</th>\n",
       "      <td>space.n</td>\n",
       "      <td>1.518751</td>\n",
       "      <td>3</td>\n",
       "      <td>59</td>\n",
       "      <td>n</td>\n",
       "    </tr>\n",
       "    <tr>\n",
       "      <th>164</th>\n",
       "      <td>sense.n</td>\n",
       "      <td>1.496387</td>\n",
       "      <td>3</td>\n",
       "      <td>80</td>\n",
       "      <td>n</td>\n",
       "    </tr>\n",
       "    <tr>\n",
       "      <th>166</th>\n",
       "      <td>item.n</td>\n",
       "      <td>1.491512</td>\n",
       "      <td>3</td>\n",
       "      <td>63</td>\n",
       "      <td>n</td>\n",
       "    </tr>\n",
       "    <tr>\n",
       "      <th>170</th>\n",
       "      <td>answer.n</td>\n",
       "      <td>1.489527</td>\n",
       "      <td>3</td>\n",
       "      <td>58</td>\n",
       "      <td>n</td>\n",
       "    </tr>\n",
       "    <tr>\n",
       "      <th>184</th>\n",
       "      <td>sound.n</td>\n",
       "      <td>1.471293</td>\n",
       "      <td>3</td>\n",
       "      <td>53</td>\n",
       "      <td>n</td>\n",
       "    </tr>\n",
       "    <tr>\n",
       "      <th>186</th>\n",
       "      <td>game.n</td>\n",
       "      <td>1.470731</td>\n",
       "      <td>3</td>\n",
       "      <td>76</td>\n",
       "      <td>n</td>\n",
       "    </tr>\n",
       "    <tr>\n",
       "      <th>192</th>\n",
       "      <td>party.n</td>\n",
       "      <td>1.454181</td>\n",
       "      <td>3</td>\n",
       "      <td>54</td>\n",
       "      <td>n</td>\n",
       "    </tr>\n",
       "    <tr>\n",
       "      <th>198</th>\n",
       "      <td>heart.n</td>\n",
       "      <td>1.442482</td>\n",
       "      <td>3</td>\n",
       "      <td>66</td>\n",
       "      <td>n</td>\n",
       "    </tr>\n",
       "    <tr>\n",
       "      <th>212</th>\n",
       "      <td>light.n</td>\n",
       "      <td>1.415633</td>\n",
       "      <td>3</td>\n",
       "      <td>77</td>\n",
       "      <td>n</td>\n",
       "    </tr>\n",
       "    <tr>\n",
       "      <th>214</th>\n",
       "      <td>point.n</td>\n",
       "      <td>1.413418</td>\n",
       "      <td>3</td>\n",
       "      <td>118</td>\n",
       "      <td>n</td>\n",
       "    </tr>\n",
       "    <tr>\n",
       "      <th>228</th>\n",
       "      <td>position.n</td>\n",
       "      <td>1.392461</td>\n",
       "      <td>3</td>\n",
       "      <td>73</td>\n",
       "      <td>n</td>\n",
       "    </tr>\n",
       "    <tr>\n",
       "      <th>232</th>\n",
       "      <td>field.n</td>\n",
       "      <td>1.391613</td>\n",
       "      <td>3</td>\n",
       "      <td>81</td>\n",
       "      <td>n</td>\n",
       "    </tr>\n",
       "    <tr>\n",
       "      <th>240</th>\n",
       "      <td>value.n</td>\n",
       "      <td>1.360964</td>\n",
       "      <td>3</td>\n",
       "      <td>130</td>\n",
       "      <td>n</td>\n",
       "    </tr>\n",
       "    <tr>\n",
       "      <th>250</th>\n",
       "      <td>quality.n</td>\n",
       "      <td>1.344250</td>\n",
       "      <td>3</td>\n",
       "      <td>70</td>\n",
       "      <td>n</td>\n",
       "    </tr>\n",
       "    <tr>\n",
       "      <th>262</th>\n",
       "      <td>result.n</td>\n",
       "      <td>1.327661</td>\n",
       "      <td>3</td>\n",
       "      <td>131</td>\n",
       "      <td>n</td>\n",
       "    </tr>\n",
       "    <tr>\n",
       "      <th>264</th>\n",
       "      <td>source.n</td>\n",
       "      <td>1.325752</td>\n",
       "      <td>3</td>\n",
       "      <td>67</td>\n",
       "      <td>n</td>\n",
       "    </tr>\n",
       "    <tr>\n",
       "      <th>278</th>\n",
       "      <td>case.n</td>\n",
       "      <td>1.211936</td>\n",
       "      <td>3</td>\n",
       "      <td>127</td>\n",
       "      <td>n</td>\n",
       "    </tr>\n",
       "    <tr>\n",
       "      <th>282</th>\n",
       "      <td>surface.n</td>\n",
       "      <td>1.201350</td>\n",
       "      <td>3</td>\n",
       "      <td>136</td>\n",
       "      <td>n</td>\n",
       "    </tr>\n",
       "    <tr>\n",
       "      <th>284</th>\n",
       "      <td>man.n</td>\n",
       "      <td>1.187622</td>\n",
       "      <td>4</td>\n",
       "      <td>638</td>\n",
       "      <td>n</td>\n",
       "    </tr>\n",
       "    <tr>\n",
       "      <th>298</th>\n",
       "      <td>interest.n</td>\n",
       "      <td>1.104984</td>\n",
       "      <td>3</td>\n",
       "      <td>126</td>\n",
       "      <td>n</td>\n",
       "    </tr>\n",
       "    <tr>\n",
       "      <th>302</th>\n",
       "      <td>area.n</td>\n",
       "      <td>1.002968</td>\n",
       "      <td>3</td>\n",
       "      <td>200</td>\n",
       "      <td>n</td>\n",
       "    </tr>\n",
       "    <tr>\n",
       "      <th>818</th>\n",
       "      <td>way.n</td>\n",
       "      <td>0.728521</td>\n",
       "      <td>3</td>\n",
       "      <td>269</td>\n",
       "      <td>n</td>\n",
       "    </tr>\n",
       "  </tbody>\n",
       "</table>\n",
       "</div>"
      ],
      "text/plain": [
       "             Lemma   entropy  num_senses  freq pos\n",
       "0          thing.n  2.812869           8   264   n\n",
       "20          life.n  2.040158           5   217   n\n",
       "24          time.n  2.002842           5   505   n\n",
       "28       trouble.n  1.973889           4    61   n\n",
       "36          line.n  1.912234           5   100   n\n",
       "44         death.n  1.894325           4   103   n\n",
       "52         world.n  1.865668           4   202   n\n",
       "54         force.n  1.861400           4    84   n\n",
       "60        system.n  1.832076           4    98   n\n",
       "64       history.n  1.798130           4    99   n\n",
       "68        change.n  1.781964           4   103   n\n",
       "70           end.n  1.772543           4   112   n\n",
       "72          side.n  1.767755           5   129   n\n",
       "80       section.n  1.746882           4    95   n\n",
       "82           day.n  1.744650           4   313   n\n",
       "84         place.n  1.718519           4   141   n\n",
       "94         state.n  1.651143           4   190   n\n",
       "96          part.n  1.612206           4   188   n\n",
       "110       spirit.n  1.569815           3    68   n\n",
       "118       course.n  1.566352           4    99   n\n",
       "124   expression.n  1.559790           3    46   n\n",
       "126    direction.n  1.543730           3    48   n\n",
       "128       corner.n  1.541524           3    45   n\n",
       "132   experience.n  1.535854           3   125   n\n",
       "134        stage.n  1.535657           3    59   n\n",
       "144  performance.n  1.523350           3    59   n\n",
       "150        space.n  1.518751           3    59   n\n",
       "164        sense.n  1.496387           3    80   n\n",
       "166         item.n  1.491512           3    63   n\n",
       "170       answer.n  1.489527           3    58   n\n",
       "184        sound.n  1.471293           3    53   n\n",
       "186         game.n  1.470731           3    76   n\n",
       "192        party.n  1.454181           3    54   n\n",
       "198        heart.n  1.442482           3    66   n\n",
       "212        light.n  1.415633           3    77   n\n",
       "214        point.n  1.413418           3   118   n\n",
       "228     position.n  1.392461           3    73   n\n",
       "232        field.n  1.391613           3    81   n\n",
       "240        value.n  1.360964           3   130   n\n",
       "250      quality.n  1.344250           3    70   n\n",
       "262       result.n  1.327661           3   131   n\n",
       "264       source.n  1.325752           3    67   n\n",
       "278         case.n  1.211936           3   127   n\n",
       "282      surface.n  1.201350           3   136   n\n",
       "284          man.n  1.187622           4   638   n\n",
       "298     interest.n  1.104984           3   126   n\n",
       "302         area.n  1.002968           3   200   n\n",
       "818          way.n  0.728521           3   269   n"
      ]
     },
     "execution_count": 14,
     "metadata": {},
     "output_type": "execute_result"
    }
   ],
   "source": [
    "nouns = df[df['pos'] == 'n']\n",
    "nouns"
   ]
  },
  {
   "cell_type": "code",
   "execution_count": 15,
   "metadata": {
    "scrolled": true
   },
   "outputs": [
    {
     "data": {
      "text/html": [
       "<div>\n",
       "<style scoped>\n",
       "    .dataframe tbody tr th:only-of-type {\n",
       "        vertical-align: middle;\n",
       "    }\n",
       "\n",
       "    .dataframe tbody tr th {\n",
       "        vertical-align: top;\n",
       "    }\n",
       "\n",
       "    .dataframe thead th {\n",
       "        text-align: right;\n",
       "    }\n",
       "</style>\n",
       "<table border=\"1\" class=\"dataframe\">\n",
       "  <thead>\n",
       "    <tr style=\"text-align: right;\">\n",
       "      <th></th>\n",
       "      <th>Lemma</th>\n",
       "      <th>entropy</th>\n",
       "      <th>num_senses</th>\n",
       "      <th>freq</th>\n",
       "      <th>pos</th>\n",
       "    </tr>\n",
       "  </thead>\n",
       "  <tbody>\n",
       "    <tr>\n",
       "      <th>2</th>\n",
       "      <td>meet.v</td>\n",
       "      <td>2.774648</td>\n",
       "      <td>9</td>\n",
       "      <td>214</td>\n",
       "      <td>v</td>\n",
       "    </tr>\n",
       "    <tr>\n",
       "      <th>4</th>\n",
       "      <td>lead.v</td>\n",
       "      <td>2.684982</td>\n",
       "      <td>7</td>\n",
       "      <td>170</td>\n",
       "      <td>v</td>\n",
       "    </tr>\n",
       "    <tr>\n",
       "      <th>6</th>\n",
       "      <td>serve.v</td>\n",
       "      <td>2.359147</td>\n",
       "      <td>6</td>\n",
       "      <td>194</td>\n",
       "      <td>v</td>\n",
       "    </tr>\n",
       "    <tr>\n",
       "      <th>8</th>\n",
       "      <td>give.v</td>\n",
       "      <td>2.268538</td>\n",
       "      <td>9</td>\n",
       "      <td>704</td>\n",
       "      <td>v</td>\n",
       "    </tr>\n",
       "    <tr>\n",
       "      <th>10</th>\n",
       "      <td>raise.v</td>\n",
       "      <td>2.234669</td>\n",
       "      <td>5</td>\n",
       "      <td>111</td>\n",
       "      <td>v</td>\n",
       "    </tr>\n",
       "    <tr>\n",
       "      <th>...</th>\n",
       "      <td>...</td>\n",
       "      <td>...</td>\n",
       "      <td>...</td>\n",
       "      <td>...</td>\n",
       "      <td>...</td>\n",
       "    </tr>\n",
       "    <tr>\n",
       "      <th>628</th>\n",
       "      <td>pay.v</td>\n",
       "      <td>0.913283</td>\n",
       "      <td>3</td>\n",
       "      <td>190</td>\n",
       "      <td>v</td>\n",
       "    </tr>\n",
       "    <tr>\n",
       "      <th>688</th>\n",
       "      <td>believe.v</td>\n",
       "      <td>0.889375</td>\n",
       "      <td>3</td>\n",
       "      <td>215</td>\n",
       "      <td>v</td>\n",
       "    </tr>\n",
       "    <tr>\n",
       "      <th>700</th>\n",
       "      <td>help.v</td>\n",
       "      <td>0.877312</td>\n",
       "      <td>3</td>\n",
       "      <td>226</td>\n",
       "      <td>v</td>\n",
       "    </tr>\n",
       "    <tr>\n",
       "      <th>768</th>\n",
       "      <td>expect.v</td>\n",
       "      <td>0.816499</td>\n",
       "      <td>3</td>\n",
       "      <td>234</td>\n",
       "      <td>v</td>\n",
       "    </tr>\n",
       "    <tr>\n",
       "      <th>830</th>\n",
       "      <td>appear.v</td>\n",
       "      <td>0.711120</td>\n",
       "      <td>3</td>\n",
       "      <td>230</td>\n",
       "      <td>v</td>\n",
       "    </tr>\n",
       "  </tbody>\n",
       "</table>\n",
       "<p>105 rows × 5 columns</p>\n",
       "</div>"
      ],
      "text/plain": [
       "         Lemma   entropy  num_senses  freq pos\n",
       "2       meet.v  2.774648           9   214   v\n",
       "4       lead.v  2.684982           7   170   v\n",
       "6      serve.v  2.359147           6   194   v\n",
       "8       give.v  2.268538           9   704   v\n",
       "10     raise.v  2.234669           5   111   v\n",
       "..         ...       ...         ...   ...  ..\n",
       "628      pay.v  0.913283           3   190   v\n",
       "688  believe.v  0.889375           3   215   v\n",
       "700     help.v  0.877312           3   226   v\n",
       "768   expect.v  0.816499           3   234   v\n",
       "830   appear.v  0.711120           3   230   v\n",
       "\n",
       "[105 rows x 5 columns]"
      ]
     },
     "execution_count": 15,
     "metadata": {},
     "output_type": "execute_result"
    }
   ],
   "source": [
    "verbs = df[df['pos'] == 'v']\n",
    "verbs"
   ]
  },
  {
   "cell_type": "markdown",
   "metadata": {},
   "source": [
    "We plot the number of types with 3-9 senses."
   ]
  },
  {
   "cell_type": "code",
   "execution_count": 16,
   "metadata": {},
   "outputs": [],
   "source": [
    "facet_pos = pd.concat([nouns, verbs])[['pos', 'num_senses']]\n",
    "facet_pos['pos'] = facet_pos['pos'].replace({\"n\": \"Noun\", \"v\": \"Verb\"})\n",
    "facet_pos.rename({\"pos\": \"Part of Speech\", \"num_senses\": \"Number of Senses\"}, axis = 1, inplace = True)\n"
   ]
  },
  {
   "cell_type": "code",
   "execution_count": 21,
   "metadata": {},
   "outputs": [
    {
     "data": {
      "image/png": "[encoded data removed]",
      "text/plain": [
       "<Figure size 432x216 with 2 Axes>"
      ]
     },
     "metadata": {
      "needs_background": "light"
     },
     "output_type": "display_data"
    }
   ],
   "source": [
    "g = sns.FacetGrid(facet_pos, col=\"Part of Speech\")\n",
    "g = g.map(plt.hist, \"Number of Senses\")\n",
    "plt.savefig(\"../../results/figures/nounverbfreq.png\")"
   ]
  },
  {
   "cell_type": "markdown",
   "metadata": {},
   "source": [
    "Plotting entropy vs frequency for nouns and verbs "
   ]
  },
  {
   "cell_type": "code",
   "execution_count": 32,
   "metadata": {},
   "outputs": [
    {
     "data": {
      "image/png": "[encoded data removed]",
      "text/plain": [
       "<Figure size 432x432 with 3 Axes>"
      ]
     },
     "metadata": {
      "needs_background": "light"
     },
     "output_type": "display_data"
    }
   ],
   "source": [
    "nounplot = sns.jointplot(x=\"entropy\", y=\"freq\", data=nouns)\n",
    "nounplot.set_axis_labels('Entropy', 'Frequency in Semcor')\n",
    "#plt.subplots_adjust(top=0.9, left = 0.2)\n",
    "nounplot.fig.suptitle(\"Entropy and Frequency for Nouns with 3+ Senses\", y=1.04, fontsize = 13)\n",
    "nounplot.savefig(\"../../results/figures/nounentfreq.png\")"
   ]
  },
  {
   "cell_type": "code",
   "execution_count": 31,
   "metadata": {},
   "outputs": [
    {
     "data": {
      "image/png": "[encoded data removed]",
      "text/plain": [
       "<Figure size 432x432 with 3 Axes>"
      ]
     },
     "metadata": {
      "needs_background": "light"
     },
     "output_type": "display_data"
    }
   ],
   "source": [
    "verbplot = sns.jointplot(x=\"entropy\", y=\"freq\", data=verbs)\n",
    "verbplot.set_axis_labels('Entropy', 'Frequency in Semcor')\n",
    "#plt.subplots_adjust(top=0.9, left = 0.2)\n",
    "verbplot.fig.suptitle(\"Entropy and Frequency for Verbs with 3+ Senses\", y=1.04, fontsize = 13)\n",
    "verbplot.savefig(\"../../results/figures/verbentfreq.png\")"
   ]
  },
  {
   "cell_type": "markdown",
   "metadata": {},
   "source": [
    "These words were selected as experimentall stimuli by inspecting entropy, number of instances, and number of senses."
   ]
  },
  {
   "cell_type": "code",
   "execution_count": 23,
   "metadata": {},
   "outputs": [],
   "source": [
    "sel_words = ['life.n', 'lead.v', 'time.n', 'world.n', 'death.n', 'man.n', 'begin.v', 'cover.v', 'raise.v', 'drive.v',\n",
    "    'ask.v', 'indicate.v', 'put.v', 'produce.v', 'consider.v', 'way.n', 'area.n', 'point.n', 'light.n', 'case.n']"
   ]
  },
  {
   "cell_type": "code",
   "execution_count": 24,
   "metadata": {},
   "outputs": [
    {
     "data": {
      "text/html": [
       "<div>\n",
       "<style scoped>\n",
       "    .dataframe tbody tr th:only-of-type {\n",
       "        vertical-align: middle;\n",
       "    }\n",
       "\n",
       "    .dataframe tbody tr th {\n",
       "        vertical-align: top;\n",
       "    }\n",
       "\n",
       "    .dataframe thead th {\n",
       "        text-align: right;\n",
       "    }\n",
       "</style>\n",
       "<table border=\"1\" class=\"dataframe\">\n",
       "  <thead>\n",
       "    <tr style=\"text-align: right;\">\n",
       "      <th></th>\n",
       "      <th>Lemma</th>\n",
       "      <th>entropy</th>\n",
       "      <th>num_senses</th>\n",
       "      <th>freq</th>\n",
       "      <th>pos</th>\n",
       "    </tr>\n",
       "  </thead>\n",
       "  <tbody>\n",
       "    <tr>\n",
       "      <th>4</th>\n",
       "      <td>lead.v</td>\n",
       "      <td>2.684982</td>\n",
       "      <td>7</td>\n",
       "      <td>170</td>\n",
       "      <td>v</td>\n",
       "    </tr>\n",
       "    <tr>\n",
       "      <th>10</th>\n",
       "      <td>raise.v</td>\n",
       "      <td>2.234669</td>\n",
       "      <td>5</td>\n",
       "      <td>111</td>\n",
       "      <td>v</td>\n",
       "    </tr>\n",
       "    <tr>\n",
       "      <th>12</th>\n",
       "      <td>cover.v</td>\n",
       "      <td>2.159471</td>\n",
       "      <td>5</td>\n",
       "      <td>118</td>\n",
       "      <td>v</td>\n",
       "    </tr>\n",
       "    <tr>\n",
       "      <th>20</th>\n",
       "      <td>life.n</td>\n",
       "      <td>2.040158</td>\n",
       "      <td>5</td>\n",
       "      <td>217</td>\n",
       "      <td>n</td>\n",
       "    </tr>\n",
       "    <tr>\n",
       "      <th>24</th>\n",
       "      <td>time.n</td>\n",
       "      <td>2.002842</td>\n",
       "      <td>5</td>\n",
       "      <td>505</td>\n",
       "      <td>n</td>\n",
       "    </tr>\n",
       "    <tr>\n",
       "      <th>44</th>\n",
       "      <td>death.n</td>\n",
       "      <td>1.894325</td>\n",
       "      <td>4</td>\n",
       "      <td>103</td>\n",
       "      <td>n</td>\n",
       "    </tr>\n",
       "    <tr>\n",
       "      <th>52</th>\n",
       "      <td>world.n</td>\n",
       "      <td>1.865668</td>\n",
       "      <td>4</td>\n",
       "      <td>202</td>\n",
       "      <td>n</td>\n",
       "    </tr>\n",
       "    <tr>\n",
       "      <th>90</th>\n",
       "      <td>drive.v</td>\n",
       "      <td>1.683292</td>\n",
       "      <td>4</td>\n",
       "      <td>106</td>\n",
       "      <td>v</td>\n",
       "    </tr>\n",
       "    <tr>\n",
       "      <th>108</th>\n",
       "      <td>indicate.v</td>\n",
       "      <td>1.572229</td>\n",
       "      <td>3</td>\n",
       "      <td>177</td>\n",
       "      <td>v</td>\n",
       "    </tr>\n",
       "    <tr>\n",
       "      <th>178</th>\n",
       "      <td>produce.v</td>\n",
       "      <td>1.473220</td>\n",
       "      <td>3</td>\n",
       "      <td>130</td>\n",
       "      <td>v</td>\n",
       "    </tr>\n",
       "    <tr>\n",
       "      <th>212</th>\n",
       "      <td>light.n</td>\n",
       "      <td>1.415633</td>\n",
       "      <td>3</td>\n",
       "      <td>77</td>\n",
       "      <td>n</td>\n",
       "    </tr>\n",
       "    <tr>\n",
       "      <th>214</th>\n",
       "      <td>point.n</td>\n",
       "      <td>1.413418</td>\n",
       "      <td>3</td>\n",
       "      <td>118</td>\n",
       "      <td>n</td>\n",
       "    </tr>\n",
       "    <tr>\n",
       "      <th>224</th>\n",
       "      <td>put.v</td>\n",
       "      <td>1.402340</td>\n",
       "      <td>3</td>\n",
       "      <td>257</td>\n",
       "      <td>v</td>\n",
       "    </tr>\n",
       "    <tr>\n",
       "      <th>226</th>\n",
       "      <td>consider.v</td>\n",
       "      <td>1.394831</td>\n",
       "      <td>3</td>\n",
       "      <td>229</td>\n",
       "      <td>v</td>\n",
       "    </tr>\n",
       "    <tr>\n",
       "      <th>268</th>\n",
       "      <td>begin.v</td>\n",
       "      <td>1.300172</td>\n",
       "      <td>4</td>\n",
       "      <td>390</td>\n",
       "      <td>v</td>\n",
       "    </tr>\n",
       "    <tr>\n",
       "      <th>278</th>\n",
       "      <td>case.n</td>\n",
       "      <td>1.211936</td>\n",
       "      <td>3</td>\n",
       "      <td>127</td>\n",
       "      <td>n</td>\n",
       "    </tr>\n",
       "    <tr>\n",
       "      <th>284</th>\n",
       "      <td>man.n</td>\n",
       "      <td>1.187622</td>\n",
       "      <td>4</td>\n",
       "      <td>638</td>\n",
       "      <td>n</td>\n",
       "    </tr>\n",
       "    <tr>\n",
       "      <th>288</th>\n",
       "      <td>ask.v</td>\n",
       "      <td>1.178508</td>\n",
       "      <td>3</td>\n",
       "      <td>408</td>\n",
       "      <td>v</td>\n",
       "    </tr>\n",
       "    <tr>\n",
       "      <th>302</th>\n",
       "      <td>area.n</td>\n",
       "      <td>1.002968</td>\n",
       "      <td>3</td>\n",
       "      <td>200</td>\n",
       "      <td>n</td>\n",
       "    </tr>\n",
       "    <tr>\n",
       "      <th>818</th>\n",
       "      <td>way.n</td>\n",
       "      <td>0.728521</td>\n",
       "      <td>3</td>\n",
       "      <td>269</td>\n",
       "      <td>n</td>\n",
       "    </tr>\n",
       "  </tbody>\n",
       "</table>\n",
       "</div>"
      ],
      "text/plain": [
       "          Lemma   entropy  num_senses  freq pos\n",
       "4        lead.v  2.684982           7   170   v\n",
       "10      raise.v  2.234669           5   111   v\n",
       "12      cover.v  2.159471           5   118   v\n",
       "20       life.n  2.040158           5   217   n\n",
       "24       time.n  2.002842           5   505   n\n",
       "44      death.n  1.894325           4   103   n\n",
       "52      world.n  1.865668           4   202   n\n",
       "90      drive.v  1.683292           4   106   v\n",
       "108  indicate.v  1.572229           3   177   v\n",
       "178   produce.v  1.473220           3   130   v\n",
       "212     light.n  1.415633           3    77   n\n",
       "214     point.n  1.413418           3   118   n\n",
       "224       put.v  1.402340           3   257   v\n",
       "226  consider.v  1.394831           3   229   v\n",
       "268     begin.v  1.300172           4   390   v\n",
       "278      case.n  1.211936           3   127   n\n",
       "284       man.n  1.187622           4   638   n\n",
       "288       ask.v  1.178508           3   408   v\n",
       "302      area.n  1.002968           3   200   n\n",
       "818       way.n  0.728521           3   269   n"
      ]
     },
     "execution_count": 24,
     "metadata": {},
     "output_type": "execute_result"
    }
   ],
   "source": [
    "df[df['Lemma'].isin(sel_words)]"
   ]
  },
  {
   "cell_type": "code",
   "execution_count": 304,
   "metadata": {},
   "outputs": [],
   "source": [
    "df[df['Lemma'].isin(sel_words)].to_csv('../data/expt_semcor_types.csv')"
   ]
  },
  {
   "cell_type": "markdown",
   "metadata": {},
   "source": [
    "Formatting for LaTeX"
   ]
  },
  {
   "cell_type": "code",
   "execution_count": null,
   "metadata": {},
   "outputs": [],
   "source": [
    "expt_semcor_types = pd.read_csv('../data/expt_semcor_types.csv')\n",
    "expt_semcor_types.drop(\"Unnamed: 0\", axis = 1, inplace = True)\n",
    "expt_semcor_types['pos'] = expt_semcor_types['pos'].replace({\"n\": \"Noun\", \"v\": \"Verb\"})\n",
    "expt_semcor_types.rename({\"entropy\": \"Entropy\", \"num_senses\": \"Number of Senses\", \"freq\": \"Frequency in Semcor\",\n",
    "                         \"pos\": \"Part of Speech\"}, axis = 1, inplace = True)\n",
    "#expt_semcor_types.to_latex(index = False)\n",
    "expt_semcor_types.to_csv(\"../../results/expt_semcor_types.csv\", index = False)"
   ]
  },
  {
   "cell_type": "markdown",
   "metadata": {},
   "source": [
    "## Words showing Polysemous Patterns (Srinivasan & Rabagliati, 2015)"
   ]
  },
  {
   "cell_type": "markdown",
   "metadata": {},
   "source": [
    "We read in a dataframe of all the tagged senses in SEMCOR"
   ]
  },
  {
   "cell_type": "code",
   "execution_count": 190,
   "metadata": {},
   "outputs": [],
   "source": [
    "tags = pd.read_csv('../data/semcor_tags.csv')"
   ]
  },
  {
   "cell_type": "markdown",
   "metadata": {},
   "source": [
    "This function finds the number of instances for each sense of a type (specified by the word and pos arguments). We use it to look at types whose senses exhibit relationships in the paper."
   ]
  },
  {
   "cell_type": "code",
   "execution_count": 192,
   "metadata": {},
   "outputs": [],
   "source": [
    "def find_type_cnts(word, pos):\n",
    "    df = tags[(tags['word'] == word) & (tags['pos'] == pos)]\n",
    "    sense_freqs = df.groupby('sense').agg('count')\n",
    "    return sense_freqs.drop(['word', 'pos'], axis = 1).rename({'lemma':'freq'}, axis = 1)"
   ]
  },
  {
   "cell_type": "markdown",
   "metadata": {},
   "source": [
    "RepCont: book.n, 1 is the contents, 2 is physical object"
   ]
  },
  {
   "cell_type": "code",
   "execution_count": 52,
   "metadata": {
    "scrolled": true
   },
   "outputs": [
    {
     "data": {
      "text/html": [
       "<div>\n",
       "<style scoped>\n",
       "    .dataframe tbody tr th:only-of-type {\n",
       "        vertical-align: middle;\n",
       "    }\n",
       "\n",
       "    .dataframe tbody tr th {\n",
       "        vertical-align: top;\n",
       "    }\n",
       "\n",
       "    .dataframe thead th {\n",
       "        text-align: right;\n",
       "    }\n",
       "</style>\n",
       "<table border=\"1\" class=\"dataframe\">\n",
       "  <thead>\n",
       "    <tr style=\"text-align: right;\">\n",
       "      <th></th>\n",
       "      <th>freq</th>\n",
       "    </tr>\n",
       "    <tr>\n",
       "      <th>sense</th>\n",
       "      <th></th>\n",
       "    </tr>\n",
       "  </thead>\n",
       "  <tbody>\n",
       "    <tr>\n",
       "      <th>01</th>\n",
       "      <td>47</td>\n",
       "    </tr>\n",
       "    <tr>\n",
       "      <th>02</th>\n",
       "      <td>10</td>\n",
       "    </tr>\n",
       "    <tr>\n",
       "      <th>05</th>\n",
       "      <td>2</td>\n",
       "    </tr>\n",
       "  </tbody>\n",
       "</table>\n",
       "</div>"
      ],
      "text/plain": [
       "       freq\n",
       "sense      \n",
       "01       47\n",
       "02       10\n",
       "05        2"
      ]
     },
     "execution_count": 52,
     "metadata": {},
     "output_type": "execute_result"
    }
   ],
   "source": [
    "find_type_cnts('book', 'n')"
   ]
  },
  {
   "cell_type": "markdown",
   "metadata": {},
   "source": [
    "MatArt: glass.n, 1 is material, 2 is container"
   ]
  },
  {
   "cell_type": "code",
   "execution_count": 96,
   "metadata": {},
   "outputs": [
    {
     "data": {
      "text/html": [
       "<div>\n",
       "<style scoped>\n",
       "    .dataframe tbody tr th:only-of-type {\n",
       "        vertical-align: middle;\n",
       "    }\n",
       "\n",
       "    .dataframe tbody tr th {\n",
       "        vertical-align: top;\n",
       "    }\n",
       "\n",
       "    .dataframe thead th {\n",
       "        text-align: right;\n",
       "    }\n",
       "</style>\n",
       "<table border=\"1\" class=\"dataframe\">\n",
       "  <thead>\n",
       "    <tr style=\"text-align: right;\">\n",
       "      <th></th>\n",
       "      <th>freq</th>\n",
       "    </tr>\n",
       "    <tr>\n",
       "      <th>sense</th>\n",
       "      <th></th>\n",
       "    </tr>\n",
       "  </thead>\n",
       "  <tbody>\n",
       "    <tr>\n",
       "      <th>01</th>\n",
       "      <td>23</td>\n",
       "    </tr>\n",
       "    <tr>\n",
       "      <th>02</th>\n",
       "      <td>12</td>\n",
       "    </tr>\n",
       "    <tr>\n",
       "      <th>03</th>\n",
       "      <td>4</td>\n",
       "    </tr>\n",
       "  </tbody>\n",
       "</table>\n",
       "</div>"
      ],
      "text/plain": [
       "       freq\n",
       "sense      \n",
       "01       23\n",
       "02       12\n",
       "03        4"
      ]
     },
     "execution_count": 96,
     "metadata": {},
     "output_type": "execute_result"
    }
   ],
   "source": [
    "find_type_cnts('glass', 'n')"
   ]
  },
  {
   "cell_type": "markdown",
   "metadata": {},
   "source": [
    "FigGrd: door.n: 1- \"on the door\", doorway.n.1- \"through the door\""
   ]
  },
  {
   "cell_type": "code",
   "execution_count": 85,
   "metadata": {
    "scrolled": false
   },
   "outputs": [
    {
     "data": {
      "text/html": [
       "<div>\n",
       "<style scoped>\n",
       "    .dataframe tbody tr th:only-of-type {\n",
       "        vertical-align: middle;\n",
       "    }\n",
       "\n",
       "    .dataframe tbody tr th {\n",
       "        vertical-align: top;\n",
       "    }\n",
       "\n",
       "    .dataframe thead th {\n",
       "        text-align: right;\n",
       "    }\n",
       "</style>\n",
       "<table border=\"1\" class=\"dataframe\">\n",
       "  <thead>\n",
       "    <tr style=\"text-align: right;\">\n",
       "      <th></th>\n",
       "      <th>freq</th>\n",
       "    </tr>\n",
       "    <tr>\n",
       "      <th>sense</th>\n",
       "      <th></th>\n",
       "    </tr>\n",
       "  </thead>\n",
       "  <tbody>\n",
       "    <tr>\n",
       "      <th>00</th>\n",
       "      <td>1</td>\n",
       "    </tr>\n",
       "    <tr>\n",
       "      <th>01</th>\n",
       "      <td>131</td>\n",
       "    </tr>\n",
       "    <tr>\n",
       "      <th>03</th>\n",
       "      <td>4</td>\n",
       "    </tr>\n",
       "    <tr>\n",
       "      <th>2;1</th>\n",
       "      <td>1</td>\n",
       "    </tr>\n",
       "  </tbody>\n",
       "</table>\n",
       "</div>"
      ],
      "text/plain": [
       "       freq\n",
       "sense      \n",
       "00        1\n",
       "01      131\n",
       "03        4\n",
       "2;1       1"
      ]
     },
     "execution_count": 85,
     "metadata": {},
     "output_type": "execute_result"
    }
   ],
   "source": [
    "find_type_cnts('door', 'n')"
   ]
  },
  {
   "cell_type": "markdown",
   "metadata": {},
   "source": [
    "This looks confusing so we'll call the pipeline"
   ]
  },
  {
   "cell_type": "code",
   "execution_count": 26,
   "metadata": {},
   "outputs": [],
   "source": [
    "from core.semcor_bert_pipeline import SemCorSelector"
   ]
  },
  {
   "cell_type": "code",
   "execution_count": 27,
   "metadata": {},
   "outputs": [],
   "source": [
    "sel = SemCorSelector()\n"
   ]
  },
  {
   "cell_type": "code",
   "execution_count": 28,
   "metadata": {
    "scrolled": true
   },
   "outputs": [
    {
     "name": "stdout",
     "output_type": "stream",
     "text": [
      "Senses for word door.n\n",
      "Number of sentences for sense Synset('door.n.03') 4\n",
      "Number of sentences for sense Synset('door.n.01') 97\n",
      "Number of sentences for sense Synset('doorway.n.01') 34\n"
     ]
    }
   ],
   "source": [
    "sel.get_word_data('door', 'n')\n",
    "_ = sel.get_selected_sense_sents(sel.get_senses_for_curr_word())"
   ]
  },
  {
   "cell_type": "markdown",
   "metadata": {},
   "source": [
    "BldPers- school.n 1. institution, 2. building "
   ]
  },
  {
   "cell_type": "code",
   "execution_count": 128,
   "metadata": {
    "scrolled": true
   },
   "outputs": [
    {
     "data": {
      "text/html": [
       "<div>\n",
       "<style scoped>\n",
       "    .dataframe tbody tr th:only-of-type {\n",
       "        vertical-align: middle;\n",
       "    }\n",
       "\n",
       "    .dataframe tbody tr th {\n",
       "        vertical-align: top;\n",
       "    }\n",
       "\n",
       "    .dataframe thead th {\n",
       "        text-align: right;\n",
       "    }\n",
       "</style>\n",
       "<table border=\"1\" class=\"dataframe\">\n",
       "  <thead>\n",
       "    <tr style=\"text-align: right;\">\n",
       "      <th></th>\n",
       "      <th>freq</th>\n",
       "    </tr>\n",
       "    <tr>\n",
       "      <th>sense</th>\n",
       "      <th></th>\n",
       "    </tr>\n",
       "  </thead>\n",
       "  <tbody>\n",
       "    <tr>\n",
       "      <th>01</th>\n",
       "      <td>125</td>\n",
       "    </tr>\n",
       "    <tr>\n",
       "      <th>02</th>\n",
       "      <td>12</td>\n",
       "    </tr>\n",
       "    <tr>\n",
       "      <th>03</th>\n",
       "      <td>6</td>\n",
       "    </tr>\n",
       "    <tr>\n",
       "      <th>04</th>\n",
       "      <td>4</td>\n",
       "    </tr>\n",
       "    <tr>\n",
       "      <th>05</th>\n",
       "      <td>1</td>\n",
       "    </tr>\n",
       "  </tbody>\n",
       "</table>\n",
       "</div>"
      ],
      "text/plain": [
       "       freq\n",
       "sense      \n",
       "01      125\n",
       "02       12\n",
       "03        6\n",
       "04        4\n",
       "05        1"
      ]
     },
     "execution_count": 128,
     "metadata": {},
     "output_type": "execute_result"
    }
   ],
   "source": [
    "find_type_cnts('school', 'n')"
   ]
  },
  {
   "cell_type": "markdown",
   "metadata": {},
   "source": [
    "BdyObj: heart.n: 1- metaphorical, 2- organ, face.n: 1- body part, 3- appearance"
   ]
  },
  {
   "cell_type": "code",
   "execution_count": 146,
   "metadata": {
    "scrolled": true
   },
   "outputs": [
    {
     "data": {
      "text/html": [
       "<div>\n",
       "<style scoped>\n",
       "    .dataframe tbody tr th:only-of-type {\n",
       "        vertical-align: middle;\n",
       "    }\n",
       "\n",
       "    .dataframe tbody tr th {\n",
       "        vertical-align: top;\n",
       "    }\n",
       "\n",
       "    .dataframe thead th {\n",
       "        text-align: right;\n",
       "    }\n",
       "</style>\n",
       "<table border=\"1\" class=\"dataframe\">\n",
       "  <thead>\n",
       "    <tr style=\"text-align: right;\">\n",
       "      <th></th>\n",
       "      <th>freq</th>\n",
       "    </tr>\n",
       "    <tr>\n",
       "      <th>sense</th>\n",
       "      <th></th>\n",
       "    </tr>\n",
       "  </thead>\n",
       "  <tbody>\n",
       "    <tr>\n",
       "      <th>00</th>\n",
       "      <td>4</td>\n",
       "    </tr>\n",
       "    <tr>\n",
       "      <th>01</th>\n",
       "      <td>117</td>\n",
       "    </tr>\n",
       "    <tr>\n",
       "      <th>03</th>\n",
       "      <td>21</td>\n",
       "    </tr>\n",
       "    <tr>\n",
       "      <th>04</th>\n",
       "      <td>4</td>\n",
       "    </tr>\n",
       "    <tr>\n",
       "      <th>05</th>\n",
       "      <td>1</td>\n",
       "    </tr>\n",
       "    <tr>\n",
       "      <th>07</th>\n",
       "      <td>1</td>\n",
       "    </tr>\n",
       "    <tr>\n",
       "      <th>5;1</th>\n",
       "      <td>1</td>\n",
       "    </tr>\n",
       "  </tbody>\n",
       "</table>\n",
       "</div>"
      ],
      "text/plain": [
       "       freq\n",
       "sense      \n",
       "00        4\n",
       "01      117\n",
       "03       21\n",
       "04        4\n",
       "05        1\n",
       "07        1\n",
       "5;1       1"
      ]
     },
     "execution_count": 146,
     "metadata": {},
     "output_type": "execute_result"
    }
   ],
   "source": [
    "find_type_cnts('face', 'n')"
   ]
  },
  {
   "cell_type": "code",
   "execution_count": 157,
   "metadata": {},
   "outputs": [
    {
     "data": {
      "text/html": [
       "<div>\n",
       "<style scoped>\n",
       "    .dataframe tbody tr th:only-of-type {\n",
       "        vertical-align: middle;\n",
       "    }\n",
       "\n",
       "    .dataframe tbody tr th {\n",
       "        vertical-align: top;\n",
       "    }\n",
       "\n",
       "    .dataframe thead th {\n",
       "        text-align: right;\n",
       "    }\n",
       "</style>\n",
       "<table border=\"1\" class=\"dataframe\">\n",
       "  <thead>\n",
       "    <tr style=\"text-align: right;\">\n",
       "      <th></th>\n",
       "      <th>freq</th>\n",
       "    </tr>\n",
       "    <tr>\n",
       "      <th>sense</th>\n",
       "      <th></th>\n",
       "    </tr>\n",
       "  </thead>\n",
       "  <tbody>\n",
       "    <tr>\n",
       "      <th>01</th>\n",
       "      <td>33</td>\n",
       "    </tr>\n",
       "    <tr>\n",
       "      <th>02</th>\n",
       "      <td>23</td>\n",
       "    </tr>\n",
       "    <tr>\n",
       "      <th>03</th>\n",
       "      <td>10</td>\n",
       "    </tr>\n",
       "  </tbody>\n",
       "</table>\n",
       "</div>"
      ],
      "text/plain": [
       "       freq\n",
       "sense      \n",
       "01       33\n",
       "02       23\n",
       "03       10"
      ]
     },
     "execution_count": 157,
     "metadata": {},
     "output_type": "execute_result"
    }
   ],
   "source": [
    "find_type_cnts('heart', 'n')"
   ]
  },
  {
   "cell_type": "code",
   "execution_count": 30,
   "metadata": {},
   "outputs": [
    {
     "name": "stdout",
     "output_type": "stream",
     "text": [
      "Senses for word heart.n\n",
      "Number of sentences for sense Synset('center.n.01') 4\n",
      "Number of sentences for sense Synset('heart.n.02') 23\n",
      "Number of sentences for sense Synset('kernel.n.03') 2\n",
      "Number of sentences for sense Synset('heart.n.01') 29\n",
      "Number of sentences for sense Synset('heart.n.03') 8\n"
     ]
    }
   ],
   "source": [
    "sel.get_word_data('heart', 'n')\n",
    "_ = sel.get_selected_sense_sents(sel.get_senses_for_curr_word())"
   ]
  },
  {
   "cell_type": "markdown",
   "metadata": {},
   "source": [
    "## Finding Words with Homonymous Senses"
   ]
  },
  {
   "cell_type": "markdown",
   "metadata": {},
   "source": [
    "We pick a set of words with homonymous senses for the shared trials in the experiment. These trials would be given to all participants. We decided on foot.n, table.n, plane.n, degree.n, right.n, and model.n"
   ]
  },
  {
   "cell_type": "code",
   "execution_count": 177,
   "metadata": {},
   "outputs": [
    {
     "data": {
      "text/html": [
       "<div>\n",
       "<style scoped>\n",
       "    .dataframe tbody tr th:only-of-type {\n",
       "        vertical-align: middle;\n",
       "    }\n",
       "\n",
       "    .dataframe tbody tr th {\n",
       "        vertical-align: top;\n",
       "    }\n",
       "\n",
       "    .dataframe thead th {\n",
       "        text-align: right;\n",
       "    }\n",
       "</style>\n",
       "<table border=\"1\" class=\"dataframe\">\n",
       "  <thead>\n",
       "    <tr style=\"text-align: right;\">\n",
       "      <th></th>\n",
       "      <th>freq</th>\n",
       "    </tr>\n",
       "    <tr>\n",
       "      <th>sense</th>\n",
       "      <th></th>\n",
       "    </tr>\n",
       "  </thead>\n",
       "  <tbody>\n",
       "    <tr>\n",
       "      <th>01</th>\n",
       "      <td>52</td>\n",
       "    </tr>\n",
       "    <tr>\n",
       "      <th>02</th>\n",
       "      <td>25</td>\n",
       "    </tr>\n",
       "    <tr>\n",
       "      <th>03</th>\n",
       "      <td>4</td>\n",
       "    </tr>\n",
       "  </tbody>\n",
       "</table>\n",
       "</div>"
      ],
      "text/plain": [
       "       freq\n",
       "sense      \n",
       "01       52\n",
       "02       25\n",
       "03        4"
      ]
     },
     "execution_count": 177,
     "metadata": {},
     "output_type": "execute_result"
    }
   ],
   "source": [
    "find_type_cnts('table', 'n')"
   ]
  },
  {
   "cell_type": "code",
   "execution_count": 182,
   "metadata": {},
   "outputs": [
    {
     "data": {
      "text/html": [
       "<div>\n",
       "<style scoped>\n",
       "    .dataframe tbody tr th:only-of-type {\n",
       "        vertical-align: middle;\n",
       "    }\n",
       "\n",
       "    .dataframe tbody tr th {\n",
       "        vertical-align: top;\n",
       "    }\n",
       "\n",
       "    .dataframe thead th {\n",
       "        text-align: right;\n",
       "    }\n",
       "</style>\n",
       "<table border=\"1\" class=\"dataframe\">\n",
       "  <thead>\n",
       "    <tr style=\"text-align: right;\">\n",
       "      <th></th>\n",
       "      <th>freq</th>\n",
       "    </tr>\n",
       "    <tr>\n",
       "      <th>sense</th>\n",
       "      <th></th>\n",
       "    </tr>\n",
       "  </thead>\n",
       "  <tbody>\n",
       "    <tr>\n",
       "      <th>01</th>\n",
       "      <td>21</td>\n",
       "    </tr>\n",
       "    <tr>\n",
       "      <th>02</th>\n",
       "      <td>16</td>\n",
       "    </tr>\n",
       "    <tr>\n",
       "      <th>03</th>\n",
       "      <td>2</td>\n",
       "    </tr>\n",
       "  </tbody>\n",
       "</table>\n",
       "</div>"
      ],
      "text/plain": [
       "       freq\n",
       "sense      \n",
       "01       21\n",
       "02       16\n",
       "03        2"
      ]
     },
     "execution_count": 182,
     "metadata": {},
     "output_type": "execute_result"
    }
   ],
   "source": [
    "find_type_cnts('plane', 'n')"
   ]
  },
  {
   "cell_type": "code",
   "execution_count": 32,
   "metadata": {},
   "outputs": [
    {
     "name": "stdout",
     "output_type": "stream",
     "text": [
      "Senses for word foot.n\n",
      "Number of sentences for sense Synset('foot.n.01') 62\n",
      "Number of sentences for sense Synset('foot.n.06') 1\n",
      "Number of sentences for sense Synset('foot.n.03') 5\n",
      "Number of sentences for sense Synset('foot.n.02') 79\n",
      "Number of sentences for sense Synset('animal_foot.n.01') 4\n",
      "Number of sentences for sense Synset('foundation.n.03') 1\n",
      "Number of sentences for sense Synset('foot.n.07') 1\n"
     ]
    }
   ],
   "source": [
    "sel.get_word_data('foot', 'n')\n",
    "_ = sel.get_selected_sense_sents(sel.get_senses_for_curr_word())"
   ]
  },
  {
   "cell_type": "code",
   "execution_count": 239,
   "metadata": {
    "scrolled": true
   },
   "outputs": [
    {
     "data": {
      "text/html": [
       "<div>\n",
       "<style scoped>\n",
       "    .dataframe tbody tr th:only-of-type {\n",
       "        vertical-align: middle;\n",
       "    }\n",
       "\n",
       "    .dataframe tbody tr th {\n",
       "        vertical-align: top;\n",
       "    }\n",
       "\n",
       "    .dataframe thead th {\n",
       "        text-align: right;\n",
       "    }\n",
       "</style>\n",
       "<table border=\"1\" class=\"dataframe\">\n",
       "  <thead>\n",
       "    <tr style=\"text-align: right;\">\n",
       "      <th></th>\n",
       "      <th>freq</th>\n",
       "    </tr>\n",
       "    <tr>\n",
       "      <th>sense</th>\n",
       "      <th></th>\n",
       "    </tr>\n",
       "  </thead>\n",
       "  <tbody>\n",
       "    <tr>\n",
       "      <th>01</th>\n",
       "      <td>66</td>\n",
       "    </tr>\n",
       "    <tr>\n",
       "      <th>02</th>\n",
       "      <td>79</td>\n",
       "    </tr>\n",
       "    <tr>\n",
       "      <th>03</th>\n",
       "      <td>6</td>\n",
       "    </tr>\n",
       "    <tr>\n",
       "      <th>06</th>\n",
       "      <td>1</td>\n",
       "    </tr>\n",
       "    <tr>\n",
       "      <th>07</th>\n",
       "      <td>1</td>\n",
       "    </tr>\n",
       "  </tbody>\n",
       "</table>\n",
       "</div>"
      ],
      "text/plain": [
       "       freq\n",
       "sense      \n",
       "01       66\n",
       "02       79\n",
       "03        6\n",
       "06        1\n",
       "07        1"
      ]
     },
     "execution_count": 239,
     "metadata": {},
     "output_type": "execute_result"
    }
   ],
   "source": [
    "find_type_cnts('foot', 'n')"
   ]
  },
  {
   "cell_type": "code",
   "execution_count": 33,
   "metadata": {
    "scrolled": true
   },
   "outputs": [
    {
     "name": "stdout",
     "output_type": "stream",
     "text": [
      "Senses for word degree.n\n",
      "Number of sentences for sense Synset('degree.n.05') 6\n",
      "Number of sentences for sense Synset('degree.n.06') 1\n",
      "Number of sentences for sense Synset('academic_degree.n.01') 13\n",
      "Number of sentences for sense Synset('degree.n.01') 23\n",
      "Number of sentences for sense Synset('degree.n.04') 7\n",
      "Number of sentences for sense Synset('degree.n.02') 17\n"
     ]
    }
   ],
   "source": [
    "sel.get_word_data('degree', 'n')\n",
    "_ = sel.get_selected_sense_sents(sel.get_senses_for_curr_word())"
   ]
  },
  {
   "cell_type": "code",
   "execution_count": 34,
   "metadata": {},
   "outputs": [
    {
     "name": "stdout",
     "output_type": "stream",
     "text": [
      "Senses for word model.n\n",
      "Number of sentences for sense Synset('model.n.04') 4\n",
      "Number of sentences for sense Synset('exemplar.n.01') 3\n",
      "Number of sentences for sense Synset('model.n.07') 1\n",
      "Number of sentences for sense Synset('model.n.03') 6\n",
      "Number of sentences for sense Synset('model.n.01') 19\n",
      "Number of sentences for sense Synset('model.n.02') 11\n",
      "Number of sentences for sense Synset('model.n.06') 1\n"
     ]
    }
   ],
   "source": [
    "sel.get_word_data('model', 'n')\n",
    "_ = sel.get_selected_sense_sents(sel.get_senses_for_curr_word())"
   ]
  },
  {
   "cell_type": "code",
   "execution_count": 273,
   "metadata": {},
   "outputs": [
    {
     "data": {
      "text/html": [
       "<div>\n",
       "<style scoped>\n",
       "    .dataframe tbody tr th:only-of-type {\n",
       "        vertical-align: middle;\n",
       "    }\n",
       "\n",
       "    .dataframe tbody tr th {\n",
       "        vertical-align: top;\n",
       "    }\n",
       "\n",
       "    .dataframe thead th {\n",
       "        text-align: right;\n",
       "    }\n",
       "</style>\n",
       "<table border=\"1\" class=\"dataframe\">\n",
       "  <thead>\n",
       "    <tr style=\"text-align: right;\">\n",
       "      <th></th>\n",
       "      <th>freq</th>\n",
       "    </tr>\n",
       "    <tr>\n",
       "      <th>sense</th>\n",
       "      <th></th>\n",
       "    </tr>\n",
       "  </thead>\n",
       "  <tbody>\n",
       "    <tr>\n",
       "      <th>01</th>\n",
       "      <td>22</td>\n",
       "    </tr>\n",
       "    <tr>\n",
       "      <th>02</th>\n",
       "      <td>11</td>\n",
       "    </tr>\n",
       "    <tr>\n",
       "      <th>03</th>\n",
       "      <td>6</td>\n",
       "    </tr>\n",
       "    <tr>\n",
       "      <th>04</th>\n",
       "      <td>4</td>\n",
       "    </tr>\n",
       "    <tr>\n",
       "      <th>06</th>\n",
       "      <td>1</td>\n",
       "    </tr>\n",
       "    <tr>\n",
       "      <th>07</th>\n",
       "      <td>1</td>\n",
       "    </tr>\n",
       "  </tbody>\n",
       "</table>\n",
       "</div>"
      ],
      "text/plain": [
       "       freq\n",
       "sense      \n",
       "01       22\n",
       "02       11\n",
       "03        6\n",
       "04        4\n",
       "06        1\n",
       "07        1"
      ]
     },
     "execution_count": 273,
     "metadata": {},
     "output_type": "execute_result"
    }
   ],
   "source": [
    "find_type_cnts('model', 'n')"
   ]
  },
  {
   "cell_type": "code",
   "execution_count": 275,
   "metadata": {
    "scrolled": true
   },
   "outputs": [
    {
     "data": {
      "text/html": [
       "<div>\n",
       "<style scoped>\n",
       "    .dataframe tbody tr th:only-of-type {\n",
       "        vertical-align: middle;\n",
       "    }\n",
       "\n",
       "    .dataframe tbody tr th {\n",
       "        vertical-align: top;\n",
       "    }\n",
       "\n",
       "    .dataframe thead th {\n",
       "        text-align: right;\n",
       "    }\n",
       "</style>\n",
       "<table border=\"1\" class=\"dataframe\">\n",
       "  <thead>\n",
       "    <tr style=\"text-align: right;\">\n",
       "      <th></th>\n",
       "      <th>freq</th>\n",
       "    </tr>\n",
       "    <tr>\n",
       "      <th>sense</th>\n",
       "      <th></th>\n",
       "    </tr>\n",
       "  </thead>\n",
       "  <tbody>\n",
       "    <tr>\n",
       "      <th>01</th>\n",
       "      <td>43</td>\n",
       "    </tr>\n",
       "    <tr>\n",
       "      <th>02</th>\n",
       "      <td>12</td>\n",
       "    </tr>\n",
       "    <tr>\n",
       "      <th>04</th>\n",
       "      <td>4</td>\n",
       "    </tr>\n",
       "    <tr>\n",
       "      <th>05</th>\n",
       "      <td>1</td>\n",
       "    </tr>\n",
       "    <tr>\n",
       "      <th>06</th>\n",
       "      <td>2</td>\n",
       "    </tr>\n",
       "    <tr>\n",
       "      <th>07</th>\n",
       "      <td>1</td>\n",
       "    </tr>\n",
       "  </tbody>\n",
       "</table>\n",
       "</div>"
      ],
      "text/plain": [
       "       freq\n",
       "sense      \n",
       "01       43\n",
       "02       12\n",
       "04        4\n",
       "05        1\n",
       "06        2\n",
       "07        1"
      ]
     },
     "execution_count": 275,
     "metadata": {},
     "output_type": "execute_result"
    }
   ],
   "source": [
    "find_type_cnts('right', 'n')"
   ]
  },
  {
   "cell_type": "code",
   "execution_count": 35,
   "metadata": {},
   "outputs": [
    {
     "name": "stdout",
     "output_type": "stream",
     "text": [
      "Senses for word bank.n\n",
      "Number of sentences for sense Synset('depository_financial_institution.n.01') 20\n",
      "Number of sentences for sense Synset('bank.n.04') 1\n",
      "Number of sentences for sense Synset('bank.n.03') 2\n",
      "Number of sentences for sense Synset('bank.n.01') 14\n"
     ]
    }
   ],
   "source": [
    "sel.get_word_data('bank', 'n')\n",
    "_ = sel.get_selected_sense_sents(sel.get_senses_for_curr_word())"
   ]
  },
  {
   "cell_type": "code",
   "execution_count": 36,
   "metadata": {},
   "outputs": [
    {
     "name": "stdout",
     "output_type": "stream",
     "text": [
      "Senses for word right.n\n",
      "Number of sentences for sense Synset('right.n.05') 1\n",
      "Number of sentences for sense Synset('right.n.01') 38\n",
      "Number of sentences for sense Synset('right.n.02') 12\n",
      "Number of sentences for sense Synset('right.n.07') 1\n",
      "Number of sentences for sense Synset('right.n.04') 4\n",
      "Number of sentences for sense Synset('right_field.n.01') 5\n",
      "Number of sentences for sense Synset('right.n.06') 2\n"
     ]
    }
   ],
   "source": [
    "sel.get_word_data('right', 'n')\n",
    "_ = sel.get_selected_sense_sents(sel.get_senses_for_curr_word())"
   ]
  },
  {
   "cell_type": "code",
   "execution_count": 285,
   "metadata": {},
   "outputs": [
    {
     "data": {
      "text/html": [
       "<div>\n",
       "<style scoped>\n",
       "    .dataframe tbody tr th:only-of-type {\n",
       "        vertical-align: middle;\n",
       "    }\n",
       "\n",
       "    .dataframe tbody tr th {\n",
       "        vertical-align: top;\n",
       "    }\n",
       "\n",
       "    .dataframe thead th {\n",
       "        text-align: right;\n",
       "    }\n",
       "</style>\n",
       "<table border=\"1\" class=\"dataframe\">\n",
       "  <thead>\n",
       "    <tr style=\"text-align: right;\">\n",
       "      <th></th>\n",
       "      <th>freq</th>\n",
       "    </tr>\n",
       "    <tr>\n",
       "      <th>sense</th>\n",
       "      <th></th>\n",
       "    </tr>\n",
       "  </thead>\n",
       "  <tbody>\n",
       "    <tr>\n",
       "      <th>01</th>\n",
       "      <td>1</td>\n",
       "    </tr>\n",
       "    <tr>\n",
       "      <th>02</th>\n",
       "      <td>1</td>\n",
       "    </tr>\n",
       "  </tbody>\n",
       "</table>\n",
       "</div>"
      ],
      "text/plain": [
       "       freq\n",
       "sense      \n",
       "01        1\n",
       "02        1"
      ]
     },
     "execution_count": 285,
     "metadata": {},
     "output_type": "execute_result"
    }
   ],
   "source": [
    "find_type_cnts('bass', 'n')"
   ]
  }
 ],
 "metadata": {
  "kernelspec": {
   "display_name": "Python [conda env:bert]",
   "language": "python",
   "name": "conda-env-bert-py"
  },
  "language_info": {
   "codemirror_mode": {
    "name": "ipython",
    "version": 3
   },
   "file_extension": ".py",
   "mimetype": "text/x-python",
   "name": "python",
   "nbconvert_exporter": "python",
   "pygments_lexer": "ipython3",
   "version": "3.7.6"
  }
 },
 "nbformat": 4,
 "nbformat_minor": 2
}
