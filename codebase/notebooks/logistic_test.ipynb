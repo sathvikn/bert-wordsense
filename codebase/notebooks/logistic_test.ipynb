{
 "cells": [
  {
   "cell_type": "markdown",
   "metadata": {},
   "source": [
    "This notebook evaluates the probe on the set of test words (all polysemous senses)"
   ]
  },
  {
   "cell_type": "code",
   "execution_count": 98,
   "metadata": {},
   "outputs": [],
   "source": [
    "from core.analysis import *\n",
    "from core.metrics import *\n",
    "from core.semcor_bert_pipeline import get_pos, save_embeds_with_wts, load_data\n",
    "from scipy.stats import mode\n",
    "import numpy as np\n",
    "import pandas as pd\n",
    "import json\n",
    "import warnings\n",
    "warnings.filterwarnings('ignore')"
   ]
  },
  {
   "cell_type": "markdown",
   "metadata": {},
   "source": [
    "## Data Prep"
   ]
  },
  {
   "cell_type": "markdown",
   "metadata": {},
   "source": [
    "Reading in experimental data to see which words to run the model on"
   ]
  },
  {
   "cell_type": "code",
   "execution_count": 97,
   "metadata": {},
   "outputs": [],
   "source": [
    "with open('../data/stimuli.json') as f:\n",
    "    db = json.load(f)"
   ]
  },
  {
   "cell_type": "code",
   "execution_count": 6,
   "metadata": {},
   "outputs": [],
   "source": [
    "results = pd.read_csv('../data/approved_expt_results.csv')\n",
    "incl_users = results['userID'].unique()"
   ]
  },
  {
   "cell_type": "code",
   "execution_count": 7,
   "metadata": {},
   "outputs": [],
   "source": [
    "test_repeat_lem_cnt = get_lemma_counts(results, incl_users, db)\n",
    "test_words = test_repeat_lem_cnt[test_repeat_lem_cnt['num_trials'] > 10]['lemma']"
   ]
  },
  {
   "cell_type": "markdown",
   "metadata": {},
   "source": [
    "## Modeling"
   ]
  },
  {
   "cell_type": "markdown",
   "metadata": {},
   "source": [
    "Compute F1 scores through cross validation"
   ]
  },
  {
   "cell_type": "code",
   "execution_count": 8,
   "metadata": {},
   "outputs": [],
   "source": [
    "model_data = {}\n",
    "test_stats = []\n",
    "incorrect = []\n",
    "for w in test_words:\n",
    "    word, pos = w.split('_')\n",
    "    word_data = load_data(word, pos, 'semcor')\n",
    "    true_labels = word_data['sense_labels']\n",
    "    random_labels = np.random.choice(true_labels, len(true_labels))\n",
    "    most_common = mode(true_labels)\n",
    "    maj_labels = [most_common[0][0]] * len(true_labels)\n",
    "    pca_results = logistic_cv(w, sel_senses = [fb_to_local(s) for s in get_senses(db, w)], use_pca = True,\n",
    "                               use_masc = False, delim = '_')\n",
    "\n",
    "    model_results = logistic_cv(w, sel_senses = [fb_to_local(s) for s in get_senses(db, w)],\n",
    "                               use_masc = False, delim = '_')\n",
    "    model_data[w] = model_results\n",
    "    test_stats.append({\"word\": w, 'avg_f1': np.mean(model_results['f1']),\n",
    "                         'avg_f1_pca': np.mean(pca_results['f1']),\n",
    "                      'avg_f1_random': f1_score(true_labels, random_labels, average = 'weighted'),\n",
    "                      'avg_f1_maj': f1_score(true_labels, maj_labels, average = 'weighted')})    \n",
    "    incorrect.append(misclassified_sentences(model_results, model_results['incorrect_indices']))"
   ]
  },
  {
   "cell_type": "markdown",
   "metadata": {},
   "source": [
    "Accuracies and F1 scores for Test Words for 5 fold Cross Validation "
   ]
  },
  {
   "cell_type": "code",
   "execution_count": 9,
   "metadata": {},
   "outputs": [],
   "source": [
    "model_perf = pd.DataFrame(test_stats).sort_values('avg_f1', ascending = False)"
   ]
  },
  {
   "cell_type": "code",
   "execution_count": 10,
   "metadata": {},
   "outputs": [
    {
     "data": {
      "text/html": [
       "<div>\n",
       "<style scoped>\n",
       "    .dataframe tbody tr th:only-of-type {\n",
       "        vertical-align: middle;\n",
       "    }\n",
       "\n",
       "    .dataframe tbody tr th {\n",
       "        vertical-align: top;\n",
       "    }\n",
       "\n",
       "    .dataframe thead th {\n",
       "        text-align: right;\n",
       "    }\n",
       "</style>\n",
       "<table border=\"1\" class=\"dataframe\">\n",
       "  <thead>\n",
       "    <tr style=\"text-align: right;\">\n",
       "      <th></th>\n",
       "      <th>word</th>\n",
       "      <th>avg_f1</th>\n",
       "      <th>avg_f1_pca</th>\n",
       "      <th>avg_f1_random</th>\n",
       "      <th>avg_f1_maj</th>\n",
       "    </tr>\n",
       "  </thead>\n",
       "  <tbody>\n",
       "    <tr>\n",
       "      <th>1</th>\n",
       "      <td>area_n</td>\n",
       "      <td>0.922816</td>\n",
       "      <td>0.913305</td>\n",
       "      <td>0.587714</td>\n",
       "      <td>0.655229</td>\n",
       "    </tr>\n",
       "    <tr>\n",
       "      <th>3</th>\n",
       "      <td>ask_v</td>\n",
       "      <td>0.904956</td>\n",
       "      <td>0.909774</td>\n",
       "      <td>0.505595</td>\n",
       "      <td>0.406448</td>\n",
       "    </tr>\n",
       "    <tr>\n",
       "      <th>12</th>\n",
       "      <td>raise_v</td>\n",
       "      <td>0.898952</td>\n",
       "      <td>0.842472</td>\n",
       "      <td>0.299354</td>\n",
       "      <td>0.210181</td>\n",
       "    </tr>\n",
       "    <tr>\n",
       "      <th>20</th>\n",
       "      <td>light_n</td>\n",
       "      <td>0.863464</td>\n",
       "      <td>0.812170</td>\n",
       "      <td>0.357120</td>\n",
       "      <td>0.325313</td>\n",
       "    </tr>\n",
       "    <tr>\n",
       "      <th>9</th>\n",
       "      <td>heart_n</td>\n",
       "      <td>0.835934</td>\n",
       "      <td>0.789240</td>\n",
       "      <td>0.266167</td>\n",
       "      <td>0.268262</td>\n",
       "    </tr>\n",
       "    <tr>\n",
       "      <th>24</th>\n",
       "      <td>man_n</td>\n",
       "      <td>0.826705</td>\n",
       "      <td>0.800340</td>\n",
       "      <td>0.598059</td>\n",
       "      <td>0.653590</td>\n",
       "    </tr>\n",
       "    <tr>\n",
       "      <th>22</th>\n",
       "      <td>point_n</td>\n",
       "      <td>0.818048</td>\n",
       "      <td>0.779114</td>\n",
       "      <td>0.255230</td>\n",
       "      <td>0.260856</td>\n",
       "    </tr>\n",
       "    <tr>\n",
       "      <th>18</th>\n",
       "      <td>glass_n</td>\n",
       "      <td>0.814986</td>\n",
       "      <td>0.669453</td>\n",
       "      <td>0.393985</td>\n",
       "      <td>0.424561</td>\n",
       "    </tr>\n",
       "    <tr>\n",
       "      <th>11</th>\n",
       "      <td>school_n</td>\n",
       "      <td>0.807611</td>\n",
       "      <td>0.815811</td>\n",
       "      <td>0.732605</td>\n",
       "      <td>0.781563</td>\n",
       "    </tr>\n",
       "    <tr>\n",
       "      <th>17</th>\n",
       "      <td>face_n</td>\n",
       "      <td>0.793446</td>\n",
       "      <td>0.782206</td>\n",
       "      <td>0.701405</td>\n",
       "      <td>0.715009</td>\n",
       "    </tr>\n",
       "    <tr>\n",
       "      <th>2</th>\n",
       "      <td>door_n</td>\n",
       "      <td>0.778644</td>\n",
       "      <td>0.783260</td>\n",
       "      <td>0.561116</td>\n",
       "      <td>0.600830</td>\n",
       "    </tr>\n",
       "    <tr>\n",
       "      <th>19</th>\n",
       "      <td>book_n</td>\n",
       "      <td>0.773299</td>\n",
       "      <td>0.696448</td>\n",
       "      <td>0.637753</td>\n",
       "      <td>0.701592</td>\n",
       "    </tr>\n",
       "    <tr>\n",
       "      <th>4</th>\n",
       "      <td>put_v</td>\n",
       "      <td>0.753195</td>\n",
       "      <td>0.747806</td>\n",
       "      <td>0.441551</td>\n",
       "      <td>0.342260</td>\n",
       "    </tr>\n",
       "    <tr>\n",
       "      <th>8</th>\n",
       "      <td>time_n</td>\n",
       "      <td>0.748277</td>\n",
       "      <td>0.765517</td>\n",
       "      <td>0.264394</td>\n",
       "      <td>0.224215</td>\n",
       "    </tr>\n",
       "    <tr>\n",
       "      <th>10</th>\n",
       "      <td>begin_v</td>\n",
       "      <td>0.745435</td>\n",
       "      <td>0.774574</td>\n",
       "      <td>0.667281</td>\n",
       "      <td>0.675905</td>\n",
       "    </tr>\n",
       "    <tr>\n",
       "      <th>23</th>\n",
       "      <td>way_n</td>\n",
       "      <td>0.737605</td>\n",
       "      <td>0.785986</td>\n",
       "      <td>0.352034</td>\n",
       "      <td>0.390540</td>\n",
       "    </tr>\n",
       "    <tr>\n",
       "      <th>7</th>\n",
       "      <td>case_n</td>\n",
       "      <td>0.688863</td>\n",
       "      <td>0.707182</td>\n",
       "      <td>0.381531</td>\n",
       "      <td>0.337717</td>\n",
       "    </tr>\n",
       "    <tr>\n",
       "      <th>5</th>\n",
       "      <td>death_n</td>\n",
       "      <td>0.659997</td>\n",
       "      <td>0.491620</td>\n",
       "      <td>0.237842</td>\n",
       "      <td>0.172365</td>\n",
       "    </tr>\n",
       "    <tr>\n",
       "      <th>16</th>\n",
       "      <td>consider_v</td>\n",
       "      <td>0.654463</td>\n",
       "      <td>0.694181</td>\n",
       "      <td>0.287706</td>\n",
       "      <td>0.265460</td>\n",
       "    </tr>\n",
       "    <tr>\n",
       "      <th>14</th>\n",
       "      <td>produce_v</td>\n",
       "      <td>0.648029</td>\n",
       "      <td>0.615103</td>\n",
       "      <td>0.428686</td>\n",
       "      <td>0.350566</td>\n",
       "    </tr>\n",
       "    <tr>\n",
       "      <th>13</th>\n",
       "      <td>life_n</td>\n",
       "      <td>0.634642</td>\n",
       "      <td>0.643818</td>\n",
       "      <td>0.208030</td>\n",
       "      <td>0.146320</td>\n",
       "    </tr>\n",
       "    <tr>\n",
       "      <th>6</th>\n",
       "      <td>cover_v</td>\n",
       "      <td>0.614777</td>\n",
       "      <td>0.572344</td>\n",
       "      <td>0.211412</td>\n",
       "      <td>0.169564</td>\n",
       "    </tr>\n",
       "    <tr>\n",
       "      <th>0</th>\n",
       "      <td>world_n</td>\n",
       "      <td>0.578757</td>\n",
       "      <td>0.576228</td>\n",
       "      <td>0.259308</td>\n",
       "      <td>0.131720</td>\n",
       "    </tr>\n",
       "    <tr>\n",
       "      <th>25</th>\n",
       "      <td>lead_v</td>\n",
       "      <td>0.558166</td>\n",
       "      <td>0.491090</td>\n",
       "      <td>0.230291</td>\n",
       "      <td>0.103650</td>\n",
       "    </tr>\n",
       "    <tr>\n",
       "      <th>21</th>\n",
       "      <td>drive_v</td>\n",
       "      <td>0.555599</td>\n",
       "      <td>0.526179</td>\n",
       "      <td>0.417376</td>\n",
       "      <td>0.376923</td>\n",
       "    </tr>\n",
       "    <tr>\n",
       "      <th>15</th>\n",
       "      <td>indicate_v</td>\n",
       "      <td>0.468096</td>\n",
       "      <td>0.509074</td>\n",
       "      <td>0.294104</td>\n",
       "      <td>0.213260</td>\n",
       "    </tr>\n",
       "  </tbody>\n",
       "</table>\n",
       "</div>"
      ],
      "text/plain": [
       "          word    avg_f1  avg_f1_pca  avg_f1_random  avg_f1_maj\n",
       "1       area_n  0.922816    0.913305       0.587714    0.655229\n",
       "3        ask_v  0.904956    0.909774       0.505595    0.406448\n",
       "12     raise_v  0.898952    0.842472       0.299354    0.210181\n",
       "20     light_n  0.863464    0.812170       0.357120    0.325313\n",
       "9      heart_n  0.835934    0.789240       0.266167    0.268262\n",
       "24       man_n  0.826705    0.800340       0.598059    0.653590\n",
       "22     point_n  0.818048    0.779114       0.255230    0.260856\n",
       "18     glass_n  0.814986    0.669453       0.393985    0.424561\n",
       "11    school_n  0.807611    0.815811       0.732605    0.781563\n",
       "17      face_n  0.793446    0.782206       0.701405    0.715009\n",
       "2       door_n  0.778644    0.783260       0.561116    0.600830\n",
       "19      book_n  0.773299    0.696448       0.637753    0.701592\n",
       "4        put_v  0.753195    0.747806       0.441551    0.342260\n",
       "8       time_n  0.748277    0.765517       0.264394    0.224215\n",
       "10     begin_v  0.745435    0.774574       0.667281    0.675905\n",
       "23       way_n  0.737605    0.785986       0.352034    0.390540\n",
       "7       case_n  0.688863    0.707182       0.381531    0.337717\n",
       "5      death_n  0.659997    0.491620       0.237842    0.172365\n",
       "16  consider_v  0.654463    0.694181       0.287706    0.265460\n",
       "14   produce_v  0.648029    0.615103       0.428686    0.350566\n",
       "13      life_n  0.634642    0.643818       0.208030    0.146320\n",
       "6      cover_v  0.614777    0.572344       0.211412    0.169564\n",
       "0      world_n  0.578757    0.576228       0.259308    0.131720\n",
       "25      lead_v  0.558166    0.491090       0.230291    0.103650\n",
       "21     drive_v  0.555599    0.526179       0.417376    0.376923\n",
       "15  indicate_v  0.468096    0.509074       0.294104    0.213260"
      ]
     },
     "execution_count": 10,
     "metadata": {},
     "output_type": "execute_result"
    }
   ],
   "source": [
    "model_perf"
   ]
  },
  {
   "cell_type": "code",
   "execution_count": 13,
   "metadata": {},
   "outputs": [
    {
     "data": {
      "text/plain": [
       "word             0.000000e+00+4.940656e-324j\n",
       "avg_f1            7.340292e-01+0.000000e+00j\n",
       "avg_f1_pca        7.113190e-01+0.000000e+00j\n",
       "avg_f1_random     4.068326e-01+0.000000e+00j\n",
       "avg_f1_maj        3.809191e-01+0.000000e+00j\n",
       "dtype: complex128"
      ]
     },
     "execution_count": 13,
     "metadata": {},
     "output_type": "execute_result"
    }
   ],
   "source": [
    "model_perf.mean()"
   ]
  },
  {
   "cell_type": "markdown",
   "metadata": {},
   "source": [
    "## Analysis of Classifier Performance"
   ]
  },
  {
   "cell_type": "markdown",
   "metadata": {},
   "source": [
    "We plot F1 score with respect to entropy and number of senses"
   ]
  },
  {
   "cell_type": "code",
   "execution_count": 75,
   "metadata": {},
   "outputs": [
    {
     "data": {
      "text/html": [
       "<div>\n",
       "<style scoped>\n",
       "    .dataframe tbody tr th:only-of-type {\n",
       "        vertical-align: middle;\n",
       "    }\n",
       "\n",
       "    .dataframe tbody tr th {\n",
       "        vertical-align: top;\n",
       "    }\n",
       "\n",
       "    .dataframe thead th {\n",
       "        text-align: right;\n",
       "    }\n",
       "</style>\n",
       "<table border=\"1\" class=\"dataframe\">\n",
       "  <thead>\n",
       "    <tr style=\"text-align: right;\">\n",
       "      <th></th>\n",
       "      <th>word</th>\n",
       "      <th>avg_f1</th>\n",
       "      <th>avg_f1_pca</th>\n",
       "      <th>avg_f1_random</th>\n",
       "      <th>avg_f1_maj</th>\n",
       "      <th>Part of Speech</th>\n",
       "    </tr>\n",
       "  </thead>\n",
       "  <tbody>\n",
       "    <tr>\n",
       "      <th>1</th>\n",
       "      <td>area_n</td>\n",
       "      <td>0.922816</td>\n",
       "      <td>0.913305</td>\n",
       "      <td>0.587714</td>\n",
       "      <td>0.655229</td>\n",
       "      <td>Noun</td>\n",
       "    </tr>\n",
       "    <tr>\n",
       "      <th>3</th>\n",
       "      <td>ask_v</td>\n",
       "      <td>0.904956</td>\n",
       "      <td>0.909774</td>\n",
       "      <td>0.505595</td>\n",
       "      <td>0.406448</td>\n",
       "      <td>Verb</td>\n",
       "    </tr>\n",
       "    <tr>\n",
       "      <th>12</th>\n",
       "      <td>raise_v</td>\n",
       "      <td>0.898952</td>\n",
       "      <td>0.842472</td>\n",
       "      <td>0.299354</td>\n",
       "      <td>0.210181</td>\n",
       "      <td>Verb</td>\n",
       "    </tr>\n",
       "    <tr>\n",
       "      <th>20</th>\n",
       "      <td>light_n</td>\n",
       "      <td>0.863464</td>\n",
       "      <td>0.812170</td>\n",
       "      <td>0.357120</td>\n",
       "      <td>0.325313</td>\n",
       "      <td>Noun</td>\n",
       "    </tr>\n",
       "    <tr>\n",
       "      <th>9</th>\n",
       "      <td>heart_n</td>\n",
       "      <td>0.835934</td>\n",
       "      <td>0.789240</td>\n",
       "      <td>0.266167</td>\n",
       "      <td>0.268262</td>\n",
       "      <td>Noun</td>\n",
       "    </tr>\n",
       "    <tr>\n",
       "      <th>24</th>\n",
       "      <td>man_n</td>\n",
       "      <td>0.826705</td>\n",
       "      <td>0.800340</td>\n",
       "      <td>0.598059</td>\n",
       "      <td>0.653590</td>\n",
       "      <td>Noun</td>\n",
       "    </tr>\n",
       "    <tr>\n",
       "      <th>22</th>\n",
       "      <td>point_n</td>\n",
       "      <td>0.818048</td>\n",
       "      <td>0.779114</td>\n",
       "      <td>0.255230</td>\n",
       "      <td>0.260856</td>\n",
       "      <td>Noun</td>\n",
       "    </tr>\n",
       "    <tr>\n",
       "      <th>18</th>\n",
       "      <td>glass_n</td>\n",
       "      <td>0.814986</td>\n",
       "      <td>0.669453</td>\n",
       "      <td>0.393985</td>\n",
       "      <td>0.424561</td>\n",
       "      <td>Noun</td>\n",
       "    </tr>\n",
       "    <tr>\n",
       "      <th>11</th>\n",
       "      <td>school_n</td>\n",
       "      <td>0.807611</td>\n",
       "      <td>0.815811</td>\n",
       "      <td>0.732605</td>\n",
       "      <td>0.781563</td>\n",
       "      <td>Noun</td>\n",
       "    </tr>\n",
       "    <tr>\n",
       "      <th>17</th>\n",
       "      <td>face_n</td>\n",
       "      <td>0.793446</td>\n",
       "      <td>0.782206</td>\n",
       "      <td>0.701405</td>\n",
       "      <td>0.715009</td>\n",
       "      <td>Noun</td>\n",
       "    </tr>\n",
       "    <tr>\n",
       "      <th>2</th>\n",
       "      <td>door_n</td>\n",
       "      <td>0.778644</td>\n",
       "      <td>0.783260</td>\n",
       "      <td>0.561116</td>\n",
       "      <td>0.600830</td>\n",
       "      <td>Noun</td>\n",
       "    </tr>\n",
       "    <tr>\n",
       "      <th>19</th>\n",
       "      <td>book_n</td>\n",
       "      <td>0.773299</td>\n",
       "      <td>0.696448</td>\n",
       "      <td>0.637753</td>\n",
       "      <td>0.701592</td>\n",
       "      <td>Noun</td>\n",
       "    </tr>\n",
       "    <tr>\n",
       "      <th>4</th>\n",
       "      <td>put_v</td>\n",
       "      <td>0.753195</td>\n",
       "      <td>0.747806</td>\n",
       "      <td>0.441551</td>\n",
       "      <td>0.342260</td>\n",
       "      <td>Verb</td>\n",
       "    </tr>\n",
       "    <tr>\n",
       "      <th>8</th>\n",
       "      <td>time_n</td>\n",
       "      <td>0.748277</td>\n",
       "      <td>0.765517</td>\n",
       "      <td>0.264394</td>\n",
       "      <td>0.224215</td>\n",
       "      <td>Noun</td>\n",
       "    </tr>\n",
       "    <tr>\n",
       "      <th>10</th>\n",
       "      <td>begin_v</td>\n",
       "      <td>0.745435</td>\n",
       "      <td>0.774574</td>\n",
       "      <td>0.667281</td>\n",
       "      <td>0.675905</td>\n",
       "      <td>Verb</td>\n",
       "    </tr>\n",
       "    <tr>\n",
       "      <th>23</th>\n",
       "      <td>way_n</td>\n",
       "      <td>0.737605</td>\n",
       "      <td>0.785986</td>\n",
       "      <td>0.352034</td>\n",
       "      <td>0.390540</td>\n",
       "      <td>Noun</td>\n",
       "    </tr>\n",
       "    <tr>\n",
       "      <th>7</th>\n",
       "      <td>case_n</td>\n",
       "      <td>0.688863</td>\n",
       "      <td>0.707182</td>\n",
       "      <td>0.381531</td>\n",
       "      <td>0.337717</td>\n",
       "      <td>Noun</td>\n",
       "    </tr>\n",
       "    <tr>\n",
       "      <th>5</th>\n",
       "      <td>death_n</td>\n",
       "      <td>0.659997</td>\n",
       "      <td>0.491620</td>\n",
       "      <td>0.237842</td>\n",
       "      <td>0.172365</td>\n",
       "      <td>Noun</td>\n",
       "    </tr>\n",
       "    <tr>\n",
       "      <th>16</th>\n",
       "      <td>consider_v</td>\n",
       "      <td>0.654463</td>\n",
       "      <td>0.694181</td>\n",
       "      <td>0.287706</td>\n",
       "      <td>0.265460</td>\n",
       "      <td>Verb</td>\n",
       "    </tr>\n",
       "    <tr>\n",
       "      <th>14</th>\n",
       "      <td>produce_v</td>\n",
       "      <td>0.648029</td>\n",
       "      <td>0.615103</td>\n",
       "      <td>0.428686</td>\n",
       "      <td>0.350566</td>\n",
       "      <td>Verb</td>\n",
       "    </tr>\n",
       "    <tr>\n",
       "      <th>13</th>\n",
       "      <td>life_n</td>\n",
       "      <td>0.634642</td>\n",
       "      <td>0.643818</td>\n",
       "      <td>0.208030</td>\n",
       "      <td>0.146320</td>\n",
       "      <td>Noun</td>\n",
       "    </tr>\n",
       "    <tr>\n",
       "      <th>6</th>\n",
       "      <td>cover_v</td>\n",
       "      <td>0.614777</td>\n",
       "      <td>0.572344</td>\n",
       "      <td>0.211412</td>\n",
       "      <td>0.169564</td>\n",
       "      <td>Verb</td>\n",
       "    </tr>\n",
       "    <tr>\n",
       "      <th>0</th>\n",
       "      <td>world_n</td>\n",
       "      <td>0.578757</td>\n",
       "      <td>0.576228</td>\n",
       "      <td>0.259308</td>\n",
       "      <td>0.131720</td>\n",
       "      <td>Noun</td>\n",
       "    </tr>\n",
       "    <tr>\n",
       "      <th>25</th>\n",
       "      <td>lead_v</td>\n",
       "      <td>0.558166</td>\n",
       "      <td>0.491090</td>\n",
       "      <td>0.230291</td>\n",
       "      <td>0.103650</td>\n",
       "      <td>Verb</td>\n",
       "    </tr>\n",
       "    <tr>\n",
       "      <th>21</th>\n",
       "      <td>drive_v</td>\n",
       "      <td>0.555599</td>\n",
       "      <td>0.526179</td>\n",
       "      <td>0.417376</td>\n",
       "      <td>0.376923</td>\n",
       "      <td>Verb</td>\n",
       "    </tr>\n",
       "    <tr>\n",
       "      <th>15</th>\n",
       "      <td>indicate_v</td>\n",
       "      <td>0.468096</td>\n",
       "      <td>0.509074</td>\n",
       "      <td>0.294104</td>\n",
       "      <td>0.213260</td>\n",
       "      <td>Verb</td>\n",
       "    </tr>\n",
       "  </tbody>\n",
       "</table>\n",
       "</div>"
      ],
      "text/plain": [
       "          word    avg_f1  avg_f1_pca  avg_f1_random  avg_f1_maj Part of Speech\n",
       "1       area_n  0.922816    0.913305       0.587714    0.655229           Noun\n",
       "3        ask_v  0.904956    0.909774       0.505595    0.406448           Verb\n",
       "12     raise_v  0.898952    0.842472       0.299354    0.210181           Verb\n",
       "20     light_n  0.863464    0.812170       0.357120    0.325313           Noun\n",
       "9      heart_n  0.835934    0.789240       0.266167    0.268262           Noun\n",
       "24       man_n  0.826705    0.800340       0.598059    0.653590           Noun\n",
       "22     point_n  0.818048    0.779114       0.255230    0.260856           Noun\n",
       "18     glass_n  0.814986    0.669453       0.393985    0.424561           Noun\n",
       "11    school_n  0.807611    0.815811       0.732605    0.781563           Noun\n",
       "17      face_n  0.793446    0.782206       0.701405    0.715009           Noun\n",
       "2       door_n  0.778644    0.783260       0.561116    0.600830           Noun\n",
       "19      book_n  0.773299    0.696448       0.637753    0.701592           Noun\n",
       "4        put_v  0.753195    0.747806       0.441551    0.342260           Verb\n",
       "8       time_n  0.748277    0.765517       0.264394    0.224215           Noun\n",
       "10     begin_v  0.745435    0.774574       0.667281    0.675905           Verb\n",
       "23       way_n  0.737605    0.785986       0.352034    0.390540           Noun\n",
       "7       case_n  0.688863    0.707182       0.381531    0.337717           Noun\n",
       "5      death_n  0.659997    0.491620       0.237842    0.172365           Noun\n",
       "16  consider_v  0.654463    0.694181       0.287706    0.265460           Verb\n",
       "14   produce_v  0.648029    0.615103       0.428686    0.350566           Verb\n",
       "13      life_n  0.634642    0.643818       0.208030    0.146320           Noun\n",
       "6      cover_v  0.614777    0.572344       0.211412    0.169564           Verb\n",
       "0      world_n  0.578757    0.576228       0.259308    0.131720           Noun\n",
       "25      lead_v  0.558166    0.491090       0.230291    0.103650           Verb\n",
       "21     drive_v  0.555599    0.526179       0.417376    0.376923           Verb\n",
       "15  indicate_v  0.468096    0.509074       0.294104    0.213260           Verb"
      ]
     },
     "execution_count": 75,
     "metadata": {},
     "output_type": "execute_result"
    }
   ],
   "source": [
    "model_perf['Part of Speech'] = model_perf['word'].apply(lambda s: s.split(\"_\")[1])\n",
    "model_perf['Part of Speech'].replace({\"n\": \"Noun\", \"v\": \"Verb\"}, inplace = True)\n",
    "model_perf"
   ]
  },
  {
   "cell_type": "markdown",
   "metadata": {},
   "source": [
    "Average F1 score on polysemous items"
   ]
  },
  {
   "cell_type": "code",
   "execution_count": 77,
   "metadata": {},
   "outputs": [
    {
     "data": {
      "text/plain": [
       "0.7340292289538529"
      ]
     },
     "execution_count": 77,
     "metadata": {},
     "output_type": "execute_result"
    }
   ],
   "source": [
    "np.mean(model_perf['avg_f1'])"
   ]
  },
  {
   "cell_type": "markdown",
   "metadata": {},
   "source": [
    "Adding the data from the homonymous stimuli"
   ]
  },
  {
   "cell_type": "code",
   "execution_count": 76,
   "metadata": {},
   "outputs": [
    {
     "data": {
      "text/plain": [
       "0.7821487485250055"
      ]
     },
     "execution_count": 76,
     "metadata": {},
     "output_type": "execute_result"
    }
   ],
   "source": [
    "np.mean(list(model_perf['avg_f1']) + [1, 1, 1, 1, 0.962, 0.982])"
   ]
  },
  {
   "cell_type": "markdown",
   "metadata": {},
   "source": [
    "Reading in the entropy data"
   ]
  },
  {
   "cell_type": "code",
   "execution_count": 63,
   "metadata": {},
   "outputs": [],
   "source": [
    "semcor_entropy = pd.read_csv('../data/expt_semcor_types_revised.csv')\n",
    "semcor_entropy['word'] = semcor_entropy['Lemma'].apply(lambda l: l.replace('.', '_'))\n",
    "with_entropy = model_perf.merge(semcor_entropy, on = 'word')"
   ]
  },
  {
   "cell_type": "code",
   "execution_count": 66,
   "metadata": {},
   "outputs": [
    {
     "data": {
      "text/plain": [
       "0.7618612797638472"
      ]
     },
     "execution_count": 66,
     "metadata": {},
     "output_type": "execute_result"
    }
   ],
   "source": [
    "np.mean(with_entropy[with_entropy['entropy'] < 1.5]['avg_f1'])"
   ]
  },
  {
   "cell_type": "code",
   "execution_count": 67,
   "metadata": {},
   "outputs": [
    {
     "data": {
      "text/plain": [
       "0.6423132069888564"
      ]
     },
     "execution_count": 67,
     "metadata": {},
     "output_type": "execute_result"
    }
   ],
   "source": [
    "np.mean(with_entropy[with_entropy['entropy'] > 1.5]['avg_f1'])"
   ]
  },
  {
   "cell_type": "code",
   "execution_count": 12,
   "metadata": {},
   "outputs": [],
   "source": [
    "from adjustText import adjust_text"
   ]
  },
  {
   "cell_type": "code",
   "execution_count": 13,
   "metadata": {},
   "outputs": [
    {
     "data": {
      "image/png": "[encoded data removed]",
      "text/plain": [
       "<Figure size 432x288 with 1 Axes>"
      ]
     },
     "metadata": {
      "needs_background": "light"
     },
     "output_type": "display_data"
    }
   ],
   "source": [
    "ent_f1 = sns.scatterplot(x = 'entropy', y = 'avg_f1', hue = 'Part of Speech', data = with_entropy)\n",
    "\n",
    "texts = []\n",
    "for x, y, s in zip(with_entropy['entropy'], with_entropy['avg_f1'], with_entropy['word'].apply(lambda s: s.split(\"_\")[0])):\n",
    "    texts.append(plt.text(x, y, s))\n",
    "\n",
    "adjust_text(texts, force_points=0.2, force_text=0.2, expand_points=(1, 1), expand_text=(1, 1))\n",
    "plt.xlabel(\"Entropy in Semcor\")\n",
    "plt.ylabel(\"Average F1 Score\")\n",
    "plt.title(\"Classifier Performance with Respect to Entropy for Experiment Stimuli\")\n",
    "plt.tight_layout()\n",
    "plt.savefig(\"../../results/figures/f1_entropy_expt.png\")"
   ]
  },
  {
   "cell_type": "code",
   "execution_count": 15,
   "metadata": {},
   "outputs": [
    {
     "data": {
      "image/png": "[encoded data removed]",
      "text/plain": [
       "<Figure size 440.625x360 with 1 Axes>"
      ]
     },
     "metadata": {
      "needs_background": "light"
     },
     "output_type": "display_data"
    }
   ],
   "source": [
    "sns.catplot(x = 'num_senses', y = 'avg_f1', hue = 'Part of Speech', data = model_perf)\n",
    "texts = []\n",
    "for x, y, s in zip(model_perf['num_senses'] - 3, model_perf['avg_f1'], \n",
    "                   model_perf['word'].apply(lambda s: s.split(\"_\")[0])): \n",
    "    texts.append(plt.text(x, y, s))\n",
    "\n",
    "adjust_text(texts, force_points=0.2, force_text=0.2, expand_points=(1, 1), expand_text=(1, 1))\n",
    "\n",
    "plt.title(\"Classifer Performance and Number of Senses for Experiment Stimuli\")\n",
    "plt.xlabel(\"Number of Senses\")\n",
    "plt.ylabel(\"Average F1 Score\")\n",
    "plt.tight_layout()\n",
    "plt.savefig(\"../../results/figures/f1_num_sense_expt\")"
   ]
  },
  {
   "cell_type": "markdown",
   "metadata": {},
   "source": [
    "## Confusion Matrices"
   ]
  },
  {
   "cell_type": "markdown",
   "metadata": {},
   "source": [
    "We plot the results from the experiment with the cosine similarity of the BERT centroids, as well as the confusion matrices for the classification task. "
   ]
  },
  {
   "cell_type": "code",
   "execution_count": 13,
   "metadata": {},
   "outputs": [],
   "source": [
    "import seaborn as sns"
   ]
  },
  {
   "cell_type": "code",
   "execution_count": 14,
   "metadata": {},
   "outputs": [],
   "source": [
    "from matplotlib.backends.backend_pdf import PdfPages"
   ]
  },
  {
   "cell_type": "code",
   "execution_count": 85,
   "metadata": {
    "scrolled": false
   },
   "outputs": [
    {
     "data": {
      "image/png": "[encoded data removed]",
      "text/plain": [
       "<Figure size 216x216 with 2 Axes>"
      ]
     },
     "metadata": {
      "needs_background": "light"
     },
     "output_type": "display_data"
    },
    {
     "data": {
      "image/png": "[encoded data removed]",
      "text/plain": [
       "<Figure size 288x288 with 3 Axes>"
      ]
     },
     "metadata": {
      "needs_background": "light"
     },
     "output_type": "display_data"
    }
   ],
   "source": [
    "plt.rcParams[\"font.family\"] = \"Times New Roman\"\n",
    "\n",
    "confusion_matrices = {w: {} for w in test_words}\n",
    "title_size = 14\n",
    "text_size = 12\n",
    "\n",
    "for w in test_words:\n",
    "    fig, (ax1, ax2) = plt.subplots(1, 2, figsize = (3, 3))\n",
    "\n",
    "    avg_reported = get_test_result_data(results, w, incl_users)\n",
    "    senses = np.array([fb_to_local(s) for s in get_senses(db, w.replace('.', '_'))])\n",
    "    cg = sns.clustermap(mtx_to_df(1 - avg_reported, senses), cmap = 'mako', annot = True, figsize = (4, 4),\n",
    "                        \n",
    "                           cbar_pos = None, vmin = 0, vmax = 1, annot_kws={\"size\": text_size})\n",
    "    cg.fig.suptitle('Relatedness Judgements', y = 0.9, fontsize = title_size)\n",
    "    cg.ax_heatmap.set_xticklabels(cg.ax_heatmap.get_xmajorticklabels(), fontsize = text_size)\n",
    "    cg.ax_row_dendrogram.set_visible(False)\n",
    "    cg.ax_col_dendrogram.set_visible(False)\n",
    "    reordered_sense_indices = cg.dendrogram_row.reordered_ind\n",
    "\n",
    "    word, pos = w.split(\"_\")\n",
    "    \n",
    "    bert_cs, sense_names = cosine_sim_mtx(word, pos, sel_senses = senses,\n",
    "                                         corpus = 'semcor', use_masc = False)\n",
    "    bert_cs = normalize_cos_dist(bert_cs)\n",
    "    bcs_fig = sns.heatmap(mtx_to_df(1 - bert_cs, senses, reorder = reordered_sense_indices),\n",
    "                          ax = ax1, annot = True, cmap = 'mako', cbar = False,  vmin = 0, vmax = 1,\n",
    "                          annot_kws={\"size\": text_size})\n",
    "    bcs_fig.set_title(\"Cosine Similarity of BERT Centroids\", fontsize = title_size)\n",
    "    bcs_fig.set_xticklabels(bcs_fig.get_xmajorticklabels(), fontsize = text_size)\n",
    "\n",
    "    word_matrices = model_data[w]['confusion_matrices']\n",
    "    agg_confusion = np.sum(np.asarray(word_matrices), axis = 0)\n",
    "    agg_confusion = np.nan_to_num(agg_confusion / np.sum(agg_confusion, axis = 0))\n",
    "    confusion_matrices[w] = agg_confusion.tolist()\n",
    "    conf_fig = sns.heatmap(mtx_to_df(agg_confusion, senses, reorder = reordered_sense_indices),\n",
    "                           cmap = 'mako', ax = ax2, annot = True, cbar = False,  vmin = 0, vmax = 1,\n",
    "                          annot_kws={\"size\": text_size})\n",
    "    conf_fig.set_title(\"Confusion Matrix from Classification\", fontsize = title_size)\n",
    "    conf_fig.set_xticklabels(conf_fig.get_xmajorticklabels(), fontsize = text_size)\n",
    "    \n",
    "    ax2.set_xlabel(\"Predicted\", fontsize = text_size)\n",
    "    ax2.set_ylabel(\"True Sense\", fontsize = text_size)\n",
    "    fig.subplots_adjust(right = 2)\n",
    "    break"
   ]
  },
  {
   "cell_type": "markdown",
   "metadata": {},
   "source": [
    "Writing the confusion matrices to disk"
   ]
  },
  {
   "cell_type": "code",
   "execution_count": 33,
   "metadata": {},
   "outputs": [],
   "source": [
    "with open('../data/test_confusion_matrices.json', 'w') as f:\n",
    "    f.write(json.dumps(confusion_matrices))"
   ]
  },
  {
   "cell_type": "markdown",
   "metadata": {},
   "source": [
    "## Saving values with nonzero weights"
   ]
  },
  {
   "cell_type": "code",
   "execution_count": 19,
   "metadata": {},
   "outputs": [],
   "source": [
    "from core.semcor_bert_pipeline import save_embeds_with_wts"
   ]
  },
  {
   "cell_type": "code",
   "execution_count": 20,
   "metadata": {
    "scrolled": true
   },
   "outputs": [
    {
     "name": "stdout",
     "output_type": "stream",
     "text": [
      "door.n Proportion of Weights that are Nonzero 0.17578125\n",
      "time.n Proportion of Weights that are Nonzero 0.6419270833333334\n",
      "case.n Proportion of Weights that are Nonzero 0.16536458333333334\n",
      "world.n Proportion of Weights that are Nonzero 0.1875\n",
      "consider.v Proportion of Weights that are Nonzero 0.2981770833333333\n",
      "indicate.v Proportion of Weights that are Nonzero 0.23046875\n",
      "area.n Proportion of Weights that are Nonzero 0.24869791666666666\n",
      "heart.n Proportion of Weights that are Nonzero 0.078125\n",
      "face.n Proportion of Weights that are Nonzero 0.18489583333333334\n",
      "life.n Proportion of Weights that are Nonzero 0.2734375\n",
      "light.n Proportion of Weights that are Nonzero 0.08984375\n",
      "put.v Proportion of Weights that are Nonzero 0.3255208333333333\n",
      "ask.v Proportion of Weights that are Nonzero 0.53125\n",
      "begin.v Proportion of Weights that are Nonzero 0.4674479166666667\n",
      "death.n Proportion of Weights that are Nonzero 0.13411458333333334\n",
      "man.n Proportion of Weights that are Nonzero 0.7369791666666666\n",
      "cover.v Proportion of Weights that are Nonzero 0.13151041666666666\n",
      "produce.v Proportion of Weights that are Nonzero 0.16927083333333334\n",
      "drive.v Proportion of Weights that are Nonzero 0.13541666666666666\n",
      "book.n Proportion of Weights that are Nonzero 0.07552083333333333\n",
      "glass.n Proportion of Weights that are Nonzero 0.049479166666666664\n",
      "raise.v Proportion of Weights that are Nonzero 0.109375\n",
      "point.n Proportion of Weights that are Nonzero 0.15364583333333334\n",
      "lead.v Proportion of Weights that are Nonzero 0.19401041666666666\n",
      "way.n Proportion of Weights that are Nonzero 0.3502604166666667\n",
      "school.n Proportion of Weights that are Nonzero 0.18619791666666666\n"
     ]
    }
   ],
   "source": [
    "for w in model_data.keys():\n",
    "    results = model_data[w]\n",
    "    save_embeds_with_wts(results['data'], results['labels'], results['weights'], w.replace('_', '.'))"
   ]
  },
  {
   "cell_type": "code",
   "execution_count": null,
   "metadata": {},
   "outputs": [],
   "source": []
  }
 ],
 "metadata": {
  "kernelspec": {
   "display_name": "Python [conda env:bert]",
   "language": "python",
   "name": "conda-env-bert-py"
  },
  "language_info": {
   "codemirror_mode": {
    "name": "ipython",
    "version": 3
   },
   "file_extension": ".py",
   "mimetype": "text/x-python",
   "name": "python",
   "nbconvert_exporter": "python",
   "pygments_lexer": "ipython3",
   "version": "3.7.6"
  }
 },
 "nbformat": 4,
 "nbformat_minor": 2
}
