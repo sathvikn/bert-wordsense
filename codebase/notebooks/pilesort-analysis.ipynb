{
 "cells": [
  {
   "cell_type": "code",
   "execution_count": 1,
   "metadata": {},
   "outputs": [],
   "source": [
    "import json\n",
    "from core import analysis"
   ]
  },
  {
   "cell_type": "code",
   "execution_count": 4,
   "metadata": {},
   "outputs": [],
   "source": [
    "db = analysis.access_db()"
   ]
  },
  {
   "cell_type": "code",
   "execution_count": 5,
   "metadata": {},
   "outputs": [],
   "source": [
    "s = \"left: 135px;top: 286px\""
   ]
  },
  {
   "cell_type": "code",
   "execution_count": 6,
   "metadata": {},
   "outputs": [],
   "source": [
    "trials = analysis.get_trial_data(db)"
   ]
  },
  {
   "cell_type": "code",
   "execution_count": 7,
   "metadata": {},
   "outputs": [],
   "source": [
    "participants = analysis.get_participant_data(db)"
   ]
  },
  {
   "cell_type": "code",
   "execution_count": 8,
   "metadata": {},
   "outputs": [],
   "source": [
    "wids = [27046826551,\n",
    "67313721753,\n",
    "14715705020,\n",
    "65643517184,\n",
    "86979612220,\n",
    "26312944991]\n",
    "wids = [str(i) for i in wids]"
   ]
  },
  {
   "cell_type": "code",
   "execution_count": 103,
   "metadata": {},
   "outputs": [
    {
     "data": {
      "text/html": [
       "<div>\n",
       "<style scoped>\n",
       "    .dataframe tbody tr th:only-of-type {\n",
       "        vertical-align: middle;\n",
       "    }\n",
       "\n",
       "    .dataframe tbody tr th {\n",
       "        vertical-align: top;\n",
       "    }\n",
       "\n",
       "    .dataframe thead th {\n",
       "        text-align: right;\n",
       "    }\n",
       "</style>\n",
       "<table border=\"1\" class=\"dataframe\">\n",
       "  <thead>\n",
       "    <tr style=\"text-align: right;\">\n",
       "      <th></th>\n",
       "      <th>trialID</th>\n",
       "      <th>userID</th>\n",
       "      <th>trialIndex</th>\n",
       "      <th>trialType</th>\n",
       "      <th>prevChanged</th>\n",
       "      <th>lemma</th>\n",
       "      <th>sense</th>\n",
       "      <th>x</th>\n",
       "      <th>y</th>\n",
       "    </tr>\n",
       "  </thead>\n",
       "  <tbody>\n",
       "    <tr>\n",
       "      <th>206</th>\n",
       "      <td>-M3pVhmrS4LVzC6_gIcJ</td>\n",
       "      <td>-M3pVTw9ili6muvdZKg4</td>\n",
       "      <td>1</td>\n",
       "      <td>training</td>\n",
       "      <td>1</td>\n",
       "      <td>bank_n</td>\n",
       "      <td>bank_n_01</td>\n",
       "      <td>173.0</td>\n",
       "      <td>360.0</td>\n",
       "    </tr>\n",
       "    <tr>\n",
       "      <th>207</th>\n",
       "      <td>-M3pVhmrS4LVzC6_gIcJ</td>\n",
       "      <td>-M3pVTw9ili6muvdZKg4</td>\n",
       "      <td>1</td>\n",
       "      <td>training</td>\n",
       "      <td>1</td>\n",
       "      <td>bank_n</td>\n",
       "      <td>bank_n_05</td>\n",
       "      <td>614.0</td>\n",
       "      <td>362.0</td>\n",
       "    </tr>\n",
       "    <tr>\n",
       "      <th>208</th>\n",
       "      <td>-M3pVhmrS4LVzC6_gIcJ</td>\n",
       "      <td>-M3pVTw9ili6muvdZKg4</td>\n",
       "      <td>1</td>\n",
       "      <td>training</td>\n",
       "      <td>1</td>\n",
       "      <td>bank_n</td>\n",
       "      <td>depository_financial_institution_n_01</td>\n",
       "      <td>499.0</td>\n",
       "      <td>368.0</td>\n",
       "    </tr>\n",
       "    <tr>\n",
       "      <th>209</th>\n",
       "      <td>-M3pVmug0DJj2iajKInK</td>\n",
       "      <td>-M3pVTw9ili6muvdZKg4</td>\n",
       "      <td>2</td>\n",
       "      <td>training</td>\n",
       "      <td>0</td>\n",
       "      <td>bass_n</td>\n",
       "      <td>bass_n_03</td>\n",
       "      <td>241.0</td>\n",
       "      <td>402.0</td>\n",
       "    </tr>\n",
       "    <tr>\n",
       "      <th>210</th>\n",
       "      <td>-M3pVmug0DJj2iajKInK</td>\n",
       "      <td>-M3pVTw9ili6muvdZKg4</td>\n",
       "      <td>2</td>\n",
       "      <td>training</td>\n",
       "      <td>0</td>\n",
       "      <td>bass_n</td>\n",
       "      <td>bass_n_04</td>\n",
       "      <td>723.0</td>\n",
       "      <td>324.0</td>\n",
       "    </tr>\n",
       "    <tr>\n",
       "      <th>...</th>\n",
       "      <td>...</td>\n",
       "      <td>...</td>\n",
       "      <td>...</td>\n",
       "      <td>...</td>\n",
       "      <td>...</td>\n",
       "      <td>...</td>\n",
       "      <td>...</td>\n",
       "      <td>...</td>\n",
       "      <td>...</td>\n",
       "    </tr>\n",
       "    <tr>\n",
       "      <th>583</th>\n",
       "      <td>-M3xeVNWfkT0t_uBUSUG</td>\n",
       "      <td>-M3xbEdg3XIZca4MA7SZ</td>\n",
       "      <td>17</td>\n",
       "      <td>repeat</td>\n",
       "      <td>2</td>\n",
       "      <td>drive_v</td>\n",
       "      <td>force_v_06</td>\n",
       "      <td>-1.0</td>\n",
       "      <td>-1.0</td>\n",
       "    </tr>\n",
       "    <tr>\n",
       "      <th>584</th>\n",
       "      <td>-M3xedDrx2cDlTV-jcAH</td>\n",
       "      <td>-M3xbEdg3XIZca4MA7SZ</td>\n",
       "      <td>18</td>\n",
       "      <td>repeat</td>\n",
       "      <td>1</td>\n",
       "      <td>death_n</td>\n",
       "      <td>death_n_01</td>\n",
       "      <td>592.0</td>\n",
       "      <td>366.0</td>\n",
       "    </tr>\n",
       "    <tr>\n",
       "      <th>585</th>\n",
       "      <td>-M3xedDrx2cDlTV-jcAH</td>\n",
       "      <td>-M3xbEdg3XIZca4MA7SZ</td>\n",
       "      <td>18</td>\n",
       "      <td>repeat</td>\n",
       "      <td>1</td>\n",
       "      <td>death_n</td>\n",
       "      <td>death_n_02</td>\n",
       "      <td>403.0</td>\n",
       "      <td>383.0</td>\n",
       "    </tr>\n",
       "    <tr>\n",
       "      <th>586</th>\n",
       "      <td>-M3xedDrx2cDlTV-jcAH</td>\n",
       "      <td>-M3xbEdg3XIZca4MA7SZ</td>\n",
       "      <td>18</td>\n",
       "      <td>repeat</td>\n",
       "      <td>1</td>\n",
       "      <td>death_n</td>\n",
       "      <td>death_n_03</td>\n",
       "      <td>345.0</td>\n",
       "      <td>361.0</td>\n",
       "    </tr>\n",
       "    <tr>\n",
       "      <th>587</th>\n",
       "      <td>-M3xedDrx2cDlTV-jcAH</td>\n",
       "      <td>-M3xbEdg3XIZca4MA7SZ</td>\n",
       "      <td>18</td>\n",
       "      <td>repeat</td>\n",
       "      <td>1</td>\n",
       "      <td>death_n</td>\n",
       "      <td>death_n_04</td>\n",
       "      <td>648.0</td>\n",
       "      <td>342.0</td>\n",
       "    </tr>\n",
       "  </tbody>\n",
       "</table>\n",
       "<p>376 rows × 9 columns</p>\n",
       "</div>"
      ],
      "text/plain": [
       "                  trialID                userID  trialIndex trialType  \\\n",
       "206  -M3pVhmrS4LVzC6_gIcJ  -M3pVTw9ili6muvdZKg4           1  training   \n",
       "207  -M3pVhmrS4LVzC6_gIcJ  -M3pVTw9ili6muvdZKg4           1  training   \n",
       "208  -M3pVhmrS4LVzC6_gIcJ  -M3pVTw9ili6muvdZKg4           1  training   \n",
       "209  -M3pVmug0DJj2iajKInK  -M3pVTw9ili6muvdZKg4           2  training   \n",
       "210  -M3pVmug0DJj2iajKInK  -M3pVTw9ili6muvdZKg4           2  training   \n",
       "..                    ...                   ...         ...       ...   \n",
       "583  -M3xeVNWfkT0t_uBUSUG  -M3xbEdg3XIZca4MA7SZ          17    repeat   \n",
       "584  -M3xedDrx2cDlTV-jcAH  -M3xbEdg3XIZca4MA7SZ          18    repeat   \n",
       "585  -M3xedDrx2cDlTV-jcAH  -M3xbEdg3XIZca4MA7SZ          18    repeat   \n",
       "586  -M3xedDrx2cDlTV-jcAH  -M3xbEdg3XIZca4MA7SZ          18    repeat   \n",
       "587  -M3xedDrx2cDlTV-jcAH  -M3xbEdg3XIZca4MA7SZ          18    repeat   \n",
       "\n",
       "     prevChanged    lemma                                  sense      x      y  \n",
       "206            1   bank_n                              bank_n_01  173.0  360.0  \n",
       "207            1   bank_n                              bank_n_05  614.0  362.0  \n",
       "208            1   bank_n  depository_financial_institution_n_01  499.0  368.0  \n",
       "209            0   bass_n                              bass_n_03  241.0  402.0  \n",
       "210            0   bass_n                              bass_n_04  723.0  324.0  \n",
       "..           ...      ...                                    ...    ...    ...  \n",
       "583            2  drive_v                             force_v_06   -1.0   -1.0  \n",
       "584            1  death_n                             death_n_01  592.0  366.0  \n",
       "585            1  death_n                             death_n_02  403.0  383.0  \n",
       "586            1  death_n                             death_n_03  345.0  361.0  \n",
       "587            1  death_n                             death_n_04  648.0  342.0  \n",
       "\n",
       "[376 rows x 9 columns]"
      ]
     },
     "execution_count": 103,
     "metadata": {},
     "output_type": "execute_result"
    }
   ],
   "source": [
    "users = participants[participants['workerID'].isin(wids) & participants['completedTask'] == 1]['userID']\n",
    "results = trials[trials['userID'].isin(users)]\n",
    "results"
   ]
  },
  {
   "cell_type": "code",
   "execution_count": 11,
   "metadata": {},
   "outputs": [],
   "source": [
    "import numpy as np"
   ]
  },
  {
   "cell_type": "code",
   "execution_count": 20,
   "metadata": {},
   "outputs": [],
   "source": [
    "def calculate_distance(r1, r2):\n",
    "    s1 = np.array([r1['x'], r1['y']])\n",
    "    s2 = np.array([r2['x'], r2['y']])\n",
    "    return np.linalg.norm(s1 - s2)"
   ]
  },
  {
   "cell_type": "markdown",
   "metadata": {},
   "source": [
    "1. Get a matrix for each subject/each word\n",
    "2. Do this for repeat trials, shared trials"
   ]
  },
  {
   "cell_type": "code",
   "execution_count": 21,
   "metadata": {},
   "outputs": [
    {
     "data": {
      "text/plain": [
       "441.0045351240733"
      ]
     },
     "execution_count": 21,
     "metadata": {},
     "output_type": "execute_result"
    }
   ],
   "source": [
    "calculate_distance(results.iloc[0], results.iloc[1])"
   ]
  },
  {
   "cell_type": "code",
   "execution_count": 22,
   "metadata": {},
   "outputs": [
    {
     "data": {
      "text/plain": [
       "326.0981447355995"
      ]
     },
     "execution_count": 22,
     "metadata": {},
     "output_type": "execute_result"
    }
   ],
   "source": [
    "calculate_distance(results.iloc[0], results.iloc[2])"
   ]
  },
  {
   "cell_type": "code",
   "execution_count": 23,
   "metadata": {},
   "outputs": [
    {
     "data": {
      "text/plain": [
       "115.15641536623133"
      ]
     },
     "execution_count": 23,
     "metadata": {},
     "output_type": "execute_result"
    }
   ],
   "source": [
    "calculate_distance(results.iloc[1], results.iloc[2])"
   ]
  },
  {
   "cell_type": "code",
   "execution_count": 101,
   "metadata": {},
   "outputs": [],
   "source": [
    "def get_subject_mtx(results, userID, word_type, trial_type):\n",
    "    word_data = results[(results['userID'] == userID) & (results['lemma'] == word_type) & (results['trialType'] == trial_type)]\n",
    "    result_mtx = []\n",
    "    senses = word_data['sense']\n",
    "    for i in range(len(word_data.index)):\n",
    "        row = []\n",
    "        for j in range(len(word_data.index)):\n",
    "            row.append(calculate_distance(word_data.iloc[i], word_data.iloc[j]))\n",
    "        result_mtx.append(np.asarray(row))\n",
    "    result_mtx = np.asarray(result_mtx)\n",
    "    return result_mtx, senses\n",
    "\n",
    "def plot_mtx(result_mtx, senses):\n",
    "    fig, ax = plt.subplots()\n",
    "    im = ax.imshow(result_mtx)\n",
    "\n",
    "    # We want to show all ticks...\n",
    "    ax.set_xticks(np.arange(len(senses)))\n",
    "    ax.set_yticks(np.arange(len(senses)))\n",
    "    # ... and label them with the respective list entries\n",
    "    ax.set_xticklabels(senses)\n",
    "    ax.set_yticklabels(senses)\n",
    "    \n",
    "    threshold = im.norm(result_mtx.max())/2.\n",
    "        \n",
    "\n",
    "    # Rotate the tick labels and set their alignment.\n",
    "    plt.setp(ax.get_xticklabels(), rotation=45, ha=\"right\",\n",
    "             rotation_mode=\"anchor\")\n",
    "    textcolors = ['black', 'white']\n",
    "    # Loop over data dimensions and create text annotations.\n",
    "    for i in range(len(senses)):\n",
    "        for j in range(len(senses)):\n",
    "            square_color = textcolors[int(im.norm(result_mtx[i][j]) < threshold)]\n",
    "            text = ax.text(j, i, np.round(result_mtx[i][j], 3),\n",
    "                           ha=\"center\", va=\"center\", color=square_color)\n",
    "\n",
    "    #fig.tight_layout()\n",
    "    plt.show()\n"
   ]
  },
  {
   "cell_type": "code",
   "execution_count": 104,
   "metadata": {
    "scrolled": false
   },
   "outputs": [
    {
     "data": {
      "image/png": "[encoded data removed]",
      "text/plain": [
       "<Figure size 432x288 with 1 Axes>"
      ]
     },
     "metadata": {
      "needs_background": "light"
     },
     "output_type": "display_data"
    },
    {
     "ename": "IndexError",
     "evalue": "only integers, slices (`:`), ellipsis (`...`), numpy.newaxis (`None`) and integer or boolean arrays are valid indices",
     "output_type": "error",
     "traceback": [
      "\u001b[0;31m---------------------------------------------------------------------------\u001b[0m",
      "\u001b[0;31mIndexError\u001b[0m                                Traceback (most recent call last)",
      "\u001b[0;32m<ipython-input-104-ba31bb8e05d0>\u001b[0m in \u001b[0;36m<module>\u001b[0;34m\u001b[0m\n\u001b[1;32m      1\u001b[0m \u001b[0;32mfor\u001b[0m \u001b[0mu\u001b[0m \u001b[0;32min\u001b[0m \u001b[0musers\u001b[0m\u001b[0;34m:\u001b[0m\u001b[0;34m\u001b[0m\u001b[0;34m\u001b[0m\u001b[0m\n\u001b[0;32m----> 2\u001b[0;31m     \u001b[0mresults\u001b[0m\u001b[0;34m,\u001b[0m \u001b[0msenses\u001b[0m \u001b[0;34m=\u001b[0m \u001b[0mget_subject_mtx\u001b[0m\u001b[0;34m(\u001b[0m\u001b[0mresults\u001b[0m\u001b[0;34m,\u001b[0m \u001b[0mu\u001b[0m\u001b[0;34m,\u001b[0m \u001b[0;34m'bank_n'\u001b[0m\u001b[0;34m,\u001b[0m \u001b[0;34m'training'\u001b[0m\u001b[0;34m)\u001b[0m\u001b[0;34m\u001b[0m\u001b[0;34m\u001b[0m\u001b[0m\n\u001b[0m\u001b[1;32m      3\u001b[0m     \u001b[0mplot_mtx\u001b[0m\u001b[0;34m(\u001b[0m\u001b[0mresults\u001b[0m\u001b[0;34m,\u001b[0m \u001b[0msenses\u001b[0m\u001b[0;34m)\u001b[0m\u001b[0;34m\u001b[0m\u001b[0;34m\u001b[0m\u001b[0m\n",
      "\u001b[0;32m<ipython-input-101-69bbc893bd2c>\u001b[0m in \u001b[0;36mget_subject_mtx\u001b[0;34m(results, userID, word_type, trial_type)\u001b[0m\n\u001b[1;32m      1\u001b[0m \u001b[0;32mdef\u001b[0m \u001b[0mget_subject_mtx\u001b[0m\u001b[0;34m(\u001b[0m\u001b[0mresults\u001b[0m\u001b[0;34m,\u001b[0m \u001b[0muserID\u001b[0m\u001b[0;34m,\u001b[0m \u001b[0mword_type\u001b[0m\u001b[0;34m,\u001b[0m \u001b[0mtrial_type\u001b[0m\u001b[0;34m)\u001b[0m\u001b[0;34m:\u001b[0m\u001b[0;34m\u001b[0m\u001b[0;34m\u001b[0m\u001b[0m\n\u001b[0;32m----> 2\u001b[0;31m     \u001b[0mword_data\u001b[0m \u001b[0;34m=\u001b[0m \u001b[0mresults\u001b[0m\u001b[0;34m[\u001b[0m\u001b[0;34m(\u001b[0m\u001b[0mresults\u001b[0m\u001b[0;34m[\u001b[0m\u001b[0;34m'userID'\u001b[0m\u001b[0;34m]\u001b[0m \u001b[0;34m==\u001b[0m \u001b[0muserID\u001b[0m\u001b[0;34m)\u001b[0m \u001b[0;34m&\u001b[0m \u001b[0;34m(\u001b[0m\u001b[0mresults\u001b[0m\u001b[0;34m[\u001b[0m\u001b[0;34m'lemma'\u001b[0m\u001b[0;34m]\u001b[0m \u001b[0;34m==\u001b[0m \u001b[0mword_type\u001b[0m\u001b[0;34m)\u001b[0m \u001b[0;34m&\u001b[0m \u001b[0;34m(\u001b[0m\u001b[0mresults\u001b[0m\u001b[0;34m[\u001b[0m\u001b[0;34m'trialType'\u001b[0m\u001b[0;34m]\u001b[0m \u001b[0;34m==\u001b[0m \u001b[0mtrial_type\u001b[0m\u001b[0;34m)\u001b[0m\u001b[0;34m]\u001b[0m\u001b[0;34m\u001b[0m\u001b[0;34m\u001b[0m\u001b[0m\n\u001b[0m\u001b[1;32m      3\u001b[0m     \u001b[0mresult_mtx\u001b[0m \u001b[0;34m=\u001b[0m \u001b[0;34m[\u001b[0m\u001b[0;34m]\u001b[0m\u001b[0;34m\u001b[0m\u001b[0;34m\u001b[0m\u001b[0m\n\u001b[1;32m      4\u001b[0m     \u001b[0msenses\u001b[0m \u001b[0;34m=\u001b[0m \u001b[0mword_data\u001b[0m\u001b[0;34m[\u001b[0m\u001b[0;34m'sense'\u001b[0m\u001b[0;34m]\u001b[0m\u001b[0;34m\u001b[0m\u001b[0;34m\u001b[0m\u001b[0m\n\u001b[1;32m      5\u001b[0m     \u001b[0;32mfor\u001b[0m \u001b[0mi\u001b[0m \u001b[0;32min\u001b[0m \u001b[0mrange\u001b[0m\u001b[0;34m(\u001b[0m\u001b[0mlen\u001b[0m\u001b[0;34m(\u001b[0m\u001b[0mword_data\u001b[0m\u001b[0;34m.\u001b[0m\u001b[0mindex\u001b[0m\u001b[0;34m)\u001b[0m\u001b[0;34m)\u001b[0m\u001b[0;34m:\u001b[0m\u001b[0;34m\u001b[0m\u001b[0;34m\u001b[0m\u001b[0m\n",
      "\u001b[0;31mIndexError\u001b[0m: only integers, slices (`:`), ellipsis (`...`), numpy.newaxis (`None`) and integer or boolean arrays are valid indices"
     ]
    }
   ],
   "source": [
    "for u in users:\n",
    "    results, senses = get_subject_mtx(results, u, 'bank_n', 'training')\n",
    "    plot_mtx(results, senses)"
   ]
  },
  {
   "cell_type": "code",
   "execution_count": null,
   "metadata": {},
   "outputs": [],
   "source": []
  }
 ],
 "metadata": {
  "kernelspec": {
   "display_name": "Python [conda env:bert]",
   "language": "python",
   "name": "conda-env-bert-py"
  },
  "language_info": {
   "codemirror_mode": {
    "name": "ipython",
    "version": 3
   },
   "file_extension": ".py",
   "mimetype": "text/x-python",
   "name": "python",
   "nbconvert_exporter": "python",
   "pygments_lexer": "ipython3",
   "version": "3.7.6"
  }
 },
 "nbformat": 4,
 "nbformat_minor": 2
}
