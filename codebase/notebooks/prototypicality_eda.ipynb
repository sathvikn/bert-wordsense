{
 "cells": [
  {
   "cell_type": "code",
   "execution_count": 268,
   "metadata": {},
   "outputs": [],
   "source": [
    "import pandas as pd\n",
    "import numpy as np\n",
    "import seaborn as sns\n",
    "import matplotlib.pyplot as plt\n",
    "import os\n",
    "pd.set_option('max_colwidth', 400)"
   ]
  },
  {
   "cell_type": "code",
   "execution_count": 421,
   "metadata": {},
   "outputs": [],
   "source": [
    "type_data = pd.read_csv(\"../data/prototypicality/glass_n.csv\")"
   ]
  },
  {
   "cell_type": "code",
   "execution_count": 422,
   "metadata": {},
   "outputs": [],
   "source": [
    "def true_vs_other(row):\n",
    "    true_sense = row['sense']\n",
    "    true_sim = row[true_sense]\n",
    "    max_others = max(row[[c for c in row.index if c not in [true_sense, 'sentence', 'sense']]])\n",
    "    return true_sim - max_others"
   ]
  },
  {
   "cell_type": "code",
   "execution_count": 423,
   "metadata": {},
   "outputs": [],
   "source": [
    "type_data['prototypicality'] = type_data.apply(true_vs_other, axis = 1)"
   ]
  },
  {
   "cell_type": "code",
   "execution_count": 424,
   "metadata": {},
   "outputs": [],
   "source": [
    "def sent_proto(df, fn):\n",
    "    max_prots = pd.DataFrame(df.groupby('sense')['prototypicality'].agg(fn)).reset_index()\n",
    "    sentences = []\n",
    "    for s in max_prots['sense']:\n",
    "        prot = max_prots[max_prots['sense'] == s]['prototypicality'].values[0]\n",
    "        sent = df[(df['prototypicality'] == prot) & (df['sense'] == s)]['sentence'].values[0]\n",
    "        sentences.append(sent)\n",
    "    max_prots['sentence'] = sentences\n",
    "    return max_prots"
   ]
  },
  {
   "cell_type": "code",
   "execution_count": 425,
   "metadata": {
    "scrolled": true
   },
   "outputs": [
    {
     "data": {
      "text/html": [
       "<div>\n",
       "<style scoped>\n",
       "    .dataframe tbody tr th:only-of-type {\n",
       "        vertical-align: middle;\n",
       "    }\n",
       "\n",
       "    .dataframe tbody tr th {\n",
       "        vertical-align: top;\n",
       "    }\n",
       "\n",
       "    .dataframe thead th {\n",
       "        text-align: right;\n",
       "    }\n",
       "</style>\n",
       "<table border=\"1\" class=\"dataframe\">\n",
       "  <thead>\n",
       "    <tr style=\"text-align: right;\">\n",
       "      <th></th>\n",
       "      <th>sense</th>\n",
       "      <th>prototypicality</th>\n",
       "      <th>sentence</th>\n",
       "    </tr>\n",
       "  </thead>\n",
       "  <tbody>\n",
       "    <tr>\n",
       "      <th>0</th>\n",
       "      <td>glass.n.01</td>\n",
       "      <td>-0.075803</td>\n",
       "      <td>It is not an entirely happy book , as Mrs. Fink soon becomes jealous of Alicia and , in retaliation , refuses to continue to scrape the algae off her glass .</td>\n",
       "    </tr>\n",
       "    <tr>\n",
       "      <th>1</th>\n",
       "      <td>glass.n.02</td>\n",
       "      <td>-0.190047</td>\n",
       "      <td>The suburban branch is thereby credited with a sale which would have been made even if its glass doors had never opened .</td>\n",
       "    </tr>\n",
       "    <tr>\n",
       "      <th>2</th>\n",
       "      <td>glass.n.03</td>\n",
       "      <td>0.070885</td>\n",
       "      <td>Lord Byron poured himself another glass of wine and held it up to the candle flame admiring the rich color .</td>\n",
       "    </tr>\n",
       "  </tbody>\n",
       "</table>\n",
       "</div>"
      ],
      "text/plain": [
       "        sense  prototypicality  \\\n",
       "0  glass.n.01        -0.075803   \n",
       "1  glass.n.02        -0.190047   \n",
       "2  glass.n.03         0.070885   \n",
       "\n",
       "                                                                                                                                                        sentence  \n",
       "0  It is not an entirely happy book , as Mrs. Fink soon becomes jealous of Alicia and , in retaliation , refuses to continue to scrape the algae off her glass .  \n",
       "1                                      The suburban branch is thereby credited with a sale which would have been made even if its glass doors had never opened .  \n",
       "2                                                   Lord Byron poured himself another glass of wine and held it up to the candle flame admiring the rich color .  "
      ]
     },
     "execution_count": 425,
     "metadata": {},
     "output_type": "execute_result"
    }
   ],
   "source": [
    "sent_proto(type_data, 'min')"
   ]
  },
  {
   "cell_type": "code",
   "execution_count": 426,
   "metadata": {},
   "outputs": [
    {
     "data": {
      "text/html": [
       "<div>\n",
       "<style scoped>\n",
       "    .dataframe tbody tr th:only-of-type {\n",
       "        vertical-align: middle;\n",
       "    }\n",
       "\n",
       "    .dataframe tbody tr th {\n",
       "        vertical-align: top;\n",
       "    }\n",
       "\n",
       "    .dataframe thead th {\n",
       "        text-align: right;\n",
       "    }\n",
       "</style>\n",
       "<table border=\"1\" class=\"dataframe\">\n",
       "  <thead>\n",
       "    <tr style=\"text-align: right;\">\n",
       "      <th></th>\n",
       "      <th>sense</th>\n",
       "      <th>prototypicality</th>\n",
       "      <th>sentence</th>\n",
       "    </tr>\n",
       "  </thead>\n",
       "  <tbody>\n",
       "    <tr>\n",
       "      <th>0</th>\n",
       "      <td>glass.n.01</td>\n",
       "      <td>0.287352</td>\n",
       "      <td>The photochemical reaction cells consisted of 10 mm. i.d. Pyrex tubing , 5.5 cm. long , diffraction effects being minimized by the fact that the light passed through only liquid glass interfaces and not gas glass interfaces .</td>\n",
       "    </tr>\n",
       "    <tr>\n",
       "      <th>1</th>\n",
       "      <td>glass.n.02</td>\n",
       "      <td>0.159501</td>\n",
       "      <td>She filled a big pitcher and set it , with glasses , on a tray .</td>\n",
       "    </tr>\n",
       "    <tr>\n",
       "      <th>2</th>\n",
       "      <td>glass.n.03</td>\n",
       "      <td>0.135136</td>\n",
       "      <td>After Captain Docherty sent Arleigh Griffith for Hoag he was able to complete his detailed inspection of the third floor and to receive a report from his man covering the floors above before Griffith returned , buoyed up by a brief stop for another glass of champagne .</td>\n",
       "    </tr>\n",
       "  </tbody>\n",
       "</table>\n",
       "</div>"
      ],
      "text/plain": [
       "        sense  prototypicality  \\\n",
       "0  glass.n.01         0.287352   \n",
       "1  glass.n.02         0.159501   \n",
       "2  glass.n.03         0.135136   \n",
       "\n",
       "                                                                                                                                                                                                                                                                        sentence  \n",
       "0                                              The photochemical reaction cells consisted of 10 mm. i.d. Pyrex tubing , 5.5 cm. long , diffraction effects being minimized by the fact that the light passed through only liquid glass interfaces and not gas glass interfaces .  \n",
       "1                                                                                                                                                                                                               She filled a big pitcher and set it , with glasses , on a tray .  \n",
       "2  After Captain Docherty sent Arleigh Griffith for Hoag he was able to complete his detailed inspection of the third floor and to receive a report from his man covering the floors above before Griffith returned , buoyed up by a brief stop for another glass of champagne .  "
      ]
     },
     "execution_count": 426,
     "metadata": {},
     "output_type": "execute_result"
    }
   ],
   "source": [
    "sent_proto(type_data, 'max')"
   ]
  },
  {
   "cell_type": "markdown",
   "metadata": {},
   "source": [
    "## MFS Analysis\n",
    "\n",
    "Could the most frequent sense be having an effect on prototypicality ratings? From discussion of \"Modeling word interpretation with deep language models\" by Aina et al (2020). Here, we look at the rank of the most frequent sense's centroid when computing prototypicality ratings. For vectors representing all but the MFS, we compute its cosine similarity with all the sense centroids, and extract the rank of the MFS's similarity. If we divide it by the number of senses, we get the percentile. \n",
    "\n",
    "We find that MFS is above the median cosine similarity for 78.5% of the vectors (1 vector for each instance)."
   ]
  },
  {
   "cell_type": "code",
   "execution_count": 427,
   "metadata": {},
   "outputs": [],
   "source": [
    "def mfs_rank(row, mfs):\n",
    "    other_senses = [c for c in row.index if c not in ['sentence', 'sense', 'prototypicality', 'mfs_rank']]\n",
    "    sense_dists = [(c, row[c]) for c in other_senses]\n",
    "    sorted_dists = sorted(sense_dists, key = lambda t: t[1])\n",
    "    return ([i for i in range(len(sorted_dists)) if sorted_dists[i][0] == mfs][0] + 1) / len(other_senses)"
   ]
  },
  {
   "cell_type": "code",
   "execution_count": 428,
   "metadata": {},
   "outputs": [],
   "source": [
    "def mfs_dist(type_df):\n",
    "    mfs = np.argmax(type_df['sense'].value_counts())\n",
    "    other_senses = type_df[type_df['sense'] != mfs]\n",
    "    mfs_ranks = other_senses.apply(mfs_rank, args = (mfs,), axis = 1)\n",
    "    return list(mfs_ranks)"
   ]
  },
  {
   "cell_type": "code",
   "execution_count": 429,
   "metadata": {},
   "outputs": [],
   "source": [
    "mfs_pct_ranks = []\n",
    "for fname in os.listdir(os.path.join('..', 'data', 'prototypicality')):\n",
    "    type_df = pd.read_csv(os.path.join('..', 'data', 'prototypicality', fname))\n",
    "    if type(mfs_dist(type_df)[0]) == float:\n",
    "        mfs_pct_ranks += mfs_dist(type_df)\n"
   ]
  },
  {
   "cell_type": "code",
   "execution_count": 354,
   "metadata": {},
   "outputs": [
    {
     "data": {
      "text/plain": [
       "Text(0.5, 1.0, 'Distribution of MFS Rank Percentile')"
      ]
     },
     "execution_count": 354,
     "metadata": {},
     "output_type": "execute_result"
    },
    {
     "data": {
      "image/png": "[encoded data removed]",
      "text/plain": [
       "<Figure size 432x288 with 1 Axes>"
      ]
     },
     "metadata": {
      "needs_background": "light"
     },
     "output_type": "display_data"
    }
   ],
   "source": [
    "plt.hist(mfs_pct_ranks)\n",
    "plt.title(\"Distribution of MFS Rank Percentile\")"
   ]
  },
  {
   "cell_type": "code",
   "execution_count": 334,
   "metadata": {},
   "outputs": [
    {
     "data": {
      "text/plain": [
       "0.7850405583852104"
      ]
     },
     "execution_count": 334,
     "metadata": {},
     "output_type": "execute_result"
    }
   ],
   "source": [
    "np.count_nonzero(np.array(mfs_pct_ranks) >= 0.5) / len(mfs_pct_ranks)"
   ]
  },
  {
   "cell_type": "markdown",
   "metadata": {},
   "source": [
    "## Checking against Lower Dimensionalities"
   ]
  },
  {
   "cell_type": "markdown",
   "metadata": {},
   "source": [
    "### Important Weights from Logistic Regression"
   ]
  },
  {
   "cell_type": "code",
   "execution_count": 430,
   "metadata": {},
   "outputs": [],
   "source": [
    "type_data = pd.read_csv(\"../data/prototypicality_stimuli/glass_n.csv\")\n",
    "type_data['prototypicality'] = type_data.apply(true_vs_other, axis = 1)"
   ]
  },
  {
   "cell_type": "code",
   "execution_count": 431,
   "metadata": {
    "scrolled": true
   },
   "outputs": [
    {
     "data": {
      "text/html": [
       "<div>\n",
       "<style scoped>\n",
       "    .dataframe tbody tr th:only-of-type {\n",
       "        vertical-align: middle;\n",
       "    }\n",
       "\n",
       "    .dataframe tbody tr th {\n",
       "        vertical-align: top;\n",
       "    }\n",
       "\n",
       "    .dataframe thead th {\n",
       "        text-align: right;\n",
       "    }\n",
       "</style>\n",
       "<table border=\"1\" class=\"dataframe\">\n",
       "  <thead>\n",
       "    <tr style=\"text-align: right;\">\n",
       "      <th></th>\n",
       "      <th>sense</th>\n",
       "      <th>prototypicality</th>\n",
       "      <th>sentence</th>\n",
       "    </tr>\n",
       "  </thead>\n",
       "  <tbody>\n",
       "    <tr>\n",
       "      <th>0</th>\n",
       "      <td>glass.n.01</td>\n",
       "      <td>0.020914</td>\n",
       "      <td>It is not an entirely happy book , as Mrs. Fink soon becomes jealous of Alicia and , in retaliation , refuses to continue to scrape the algae off her glass .</td>\n",
       "    </tr>\n",
       "    <tr>\n",
       "      <th>1</th>\n",
       "      <td>glass.n.02</td>\n",
       "      <td>-0.026633</td>\n",
       "      <td>There was a glass pane in the front door , and through this he could see into a hallway where a plump woman with red hair was arranging flowers .</td>\n",
       "    </tr>\n",
       "    <tr>\n",
       "      <th>2</th>\n",
       "      <td>glass.n.03</td>\n",
       "      <td>0.073009</td>\n",
       "      <td>Lord Byron poured himself another glass of wine and held it up to the candle flame admiring the rich color .</td>\n",
       "    </tr>\n",
       "  </tbody>\n",
       "</table>\n",
       "</div>"
      ],
      "text/plain": [
       "        sense  prototypicality  \\\n",
       "0  glass.n.01         0.020914   \n",
       "1  glass.n.02        -0.026633   \n",
       "2  glass.n.03         0.073009   \n",
       "\n",
       "                                                                                                                                                        sentence  \n",
       "0  It is not an entirely happy book , as Mrs. Fink soon becomes jealous of Alicia and , in retaliation , refuses to continue to scrape the algae off her glass .  \n",
       "1              There was a glass pane in the front door , and through this he could see into a hallway where a plump woman with red hair was arranging flowers .  \n",
       "2                                                   Lord Byron poured himself another glass of wine and held it up to the candle flame admiring the rich color .  "
      ]
     },
     "execution_count": 431,
     "metadata": {},
     "output_type": "execute_result"
    }
   ],
   "source": [
    "sent_proto(type_data, 'min')"
   ]
  },
  {
   "cell_type": "code",
   "execution_count": 432,
   "metadata": {},
   "outputs": [
    {
     "data": {
      "text/html": [
       "<div>\n",
       "<style scoped>\n",
       "    .dataframe tbody tr th:only-of-type {\n",
       "        vertical-align: middle;\n",
       "    }\n",
       "\n",
       "    .dataframe tbody tr th {\n",
       "        vertical-align: top;\n",
       "    }\n",
       "\n",
       "    .dataframe thead th {\n",
       "        text-align: right;\n",
       "    }\n",
       "</style>\n",
       "<table border=\"1\" class=\"dataframe\">\n",
       "  <thead>\n",
       "    <tr style=\"text-align: right;\">\n",
       "      <th></th>\n",
       "      <th>sense</th>\n",
       "      <th>prototypicality</th>\n",
       "      <th>sentence</th>\n",
       "    </tr>\n",
       "  </thead>\n",
       "  <tbody>\n",
       "    <tr>\n",
       "      <th>0</th>\n",
       "      <td>glass.n.01</td>\n",
       "      <td>0.195002</td>\n",
       "      <td>He lived in an apartment house not over three or four years old , a reclaimed island of landscaped brick and glass on the fringe of the business district .</td>\n",
       "    </tr>\n",
       "    <tr>\n",
       "      <th>1</th>\n",
       "      <td>glass.n.02</td>\n",
       "      <td>0.118872</td>\n",
       "      <td>I asked , taking a final gulp of my drink , and handing him the empty glass .</td>\n",
       "    </tr>\n",
       "    <tr>\n",
       "      <th>2</th>\n",
       "      <td>glass.n.03</td>\n",
       "      <td>0.087689</td>\n",
       "      <td>After Captain Docherty sent Arleigh Griffith for Hoag he was able to complete his detailed inspection of the third floor and to receive a report from his man covering the floors above before Griffith returned , buoyed up by a brief stop for another glass of champagne .</td>\n",
       "    </tr>\n",
       "  </tbody>\n",
       "</table>\n",
       "</div>"
      ],
      "text/plain": [
       "        sense  prototypicality  \\\n",
       "0  glass.n.01         0.195002   \n",
       "1  glass.n.02         0.118872   \n",
       "2  glass.n.03         0.087689   \n",
       "\n",
       "                                                                                                                                                                                                                                                                        sentence  \n",
       "0                                                                                                                    He lived in an apartment house not over three or four years old , a reclaimed island of landscaped brick and glass on the fringe of the business district .  \n",
       "1                                                                                                                                                                                                  I asked , taking a final gulp of my drink , and handing him the empty glass .  \n",
       "2  After Captain Docherty sent Arleigh Griffith for Hoag he was able to complete his detailed inspection of the third floor and to receive a report from his man covering the floors above before Griffith returned , buoyed up by a brief stop for another glass of champagne .  "
      ]
     },
     "execution_count": 432,
     "metadata": {},
     "output_type": "execute_result"
    }
   ],
   "source": [
    "sent_proto(type_data, 'max')"
   ]
  },
  {
   "cell_type": "markdown",
   "metadata": {},
   "source": [
    "### PCA"
   ]
  },
  {
   "cell_type": "code",
   "execution_count": 418,
   "metadata": {},
   "outputs": [],
   "source": [
    "type_data = pd.read_csv(\"../data/prototypicality_pca/glass_n.csv\")\n",
    "type_data['prototypicality'] = type_data.apply(true_vs_other, axis = 1)"
   ]
  },
  {
   "cell_type": "code",
   "execution_count": 419,
   "metadata": {
    "scrolled": false
   },
   "outputs": [
    {
     "data": {
      "text/html": [
       "<div>\n",
       "<style scoped>\n",
       "    .dataframe tbody tr th:only-of-type {\n",
       "        vertical-align: middle;\n",
       "    }\n",
       "\n",
       "    .dataframe tbody tr th {\n",
       "        vertical-align: top;\n",
       "    }\n",
       "\n",
       "    .dataframe thead th {\n",
       "        text-align: right;\n",
       "    }\n",
       "</style>\n",
       "<table border=\"1\" class=\"dataframe\">\n",
       "  <thead>\n",
       "    <tr style=\"text-align: right;\">\n",
       "      <th></th>\n",
       "      <th>sense</th>\n",
       "      <th>prototypicality</th>\n",
       "      <th>sentence</th>\n",
       "    </tr>\n",
       "  </thead>\n",
       "  <tbody>\n",
       "    <tr>\n",
       "      <th>0</th>\n",
       "      <td>glass.n.01</td>\n",
       "      <td>-0.493225</td>\n",
       "      <td>It is not an entirely happy book , as Mrs. Fink soon becomes jealous of Alicia and , in retaliation , refuses to continue to scrape the algae off her glass .</td>\n",
       "    </tr>\n",
       "    <tr>\n",
       "      <th>1</th>\n",
       "      <td>glass.n.02</td>\n",
       "      <td>-0.698217</td>\n",
       "      <td>The suburban branch is thereby credited with a sale which would have been made even if its glass doors had never opened .</td>\n",
       "    </tr>\n",
       "    <tr>\n",
       "      <th>2</th>\n",
       "      <td>glass.n.03</td>\n",
       "      <td>0.155130</td>\n",
       "      <td>Lord Byron poured himself another glass of wine and held it up to the candle flame admiring the rich color .</td>\n",
       "    </tr>\n",
       "  </tbody>\n",
       "</table>\n",
       "</div>"
      ],
      "text/plain": [
       "        sense  prototypicality  \\\n",
       "0  glass.n.01        -0.493225   \n",
       "1  glass.n.02        -0.698217   \n",
       "2  glass.n.03         0.155130   \n",
       "\n",
       "                                                                                                                                                        sentence  \n",
       "0  It is not an entirely happy book , as Mrs. Fink soon becomes jealous of Alicia and , in retaliation , refuses to continue to scrape the algae off her glass .  \n",
       "1                                      The suburban branch is thereby credited with a sale which would have been made even if its glass doors had never opened .  \n",
       "2                                                   Lord Byron poured himself another glass of wine and held it up to the candle flame admiring the rich color .  "
      ]
     },
     "execution_count": 419,
     "metadata": {},
     "output_type": "execute_result"
    }
   ],
   "source": [
    "sent_proto(type_data, 'min')"
   ]
  },
  {
   "cell_type": "code",
   "execution_count": 420,
   "metadata": {
    "scrolled": true
   },
   "outputs": [
    {
     "data": {
      "text/html": [
       "<div>\n",
       "<style scoped>\n",
       "    .dataframe tbody tr th:only-of-type {\n",
       "        vertical-align: middle;\n",
       "    }\n",
       "\n",
       "    .dataframe tbody tr th {\n",
       "        vertical-align: top;\n",
       "    }\n",
       "\n",
       "    .dataframe thead th {\n",
       "        text-align: right;\n",
       "    }\n",
       "</style>\n",
       "<table border=\"1\" class=\"dataframe\">\n",
       "  <thead>\n",
       "    <tr style=\"text-align: right;\">\n",
       "      <th></th>\n",
       "      <th>sense</th>\n",
       "      <th>prototypicality</th>\n",
       "      <th>sentence</th>\n",
       "    </tr>\n",
       "  </thead>\n",
       "  <tbody>\n",
       "    <tr>\n",
       "      <th>0</th>\n",
       "      <td>glass.n.01</td>\n",
       "      <td>1.115821</td>\n",
       "      <td>Spectra were also obtained from a sample in a spherical container which was made by blowing a bubble on the end of a capillary glass tube .</td>\n",
       "    </tr>\n",
       "    <tr>\n",
       "      <th>1</th>\n",
       "      <td>glass.n.02</td>\n",
       "      <td>0.433459</td>\n",
       "      <td>I asked , taking a final gulp of my drink , and handing him the empty glass .</td>\n",
       "    </tr>\n",
       "    <tr>\n",
       "      <th>2</th>\n",
       "      <td>glass.n.03</td>\n",
       "      <td>0.402790</td>\n",
       "      <td>Here and there she stayed to visit and drink a glass of sherry .</td>\n",
       "    </tr>\n",
       "  </tbody>\n",
       "</table>\n",
       "</div>"
      ],
      "text/plain": [
       "        sense  prototypicality  \\\n",
       "0  glass.n.01         1.115821   \n",
       "1  glass.n.02         0.433459   \n",
       "2  glass.n.03         0.402790   \n",
       "\n",
       "                                                                                                                                      sentence  \n",
       "0  Spectra were also obtained from a sample in a spherical container which was made by blowing a bubble on the end of a capillary glass tube .  \n",
       "1                                                                I asked , taking a final gulp of my drink , and handing him the empty glass .  \n",
       "2                                                                             Here and there she stayed to visit and drink a glass of sherry .  "
      ]
     },
     "execution_count": 420,
     "metadata": {},
     "output_type": "execute_result"
    }
   ],
   "source": [
    "sent_proto(type_data, 'max')"
   ]
  },
  {
   "cell_type": "markdown",
   "metadata": {},
   "source": [
    "PCA appears to give off the strongest signal for an instance of a sence being more \"prototypical\" but the actual sentences don't show more/less prototypical uses of the sense."
   ]
  }
 ],
 "metadata": {
  "kernelspec": {
   "display_name": "Python [conda env:bert]",
   "language": "python",
   "name": "conda-env-bert-py"
  },
  "language_info": {
   "codemirror_mode": {
    "name": "ipython",
    "version": 3
   },
   "file_extension": ".py",
   "mimetype": "text/x-python",
   "name": "python",
   "nbconvert_exporter": "python",
   "pygments_lexer": "ipython3",
   "version": "3.7.6"
  }
 },
 "nbformat": 4,
 "nbformat_minor": 2
}
