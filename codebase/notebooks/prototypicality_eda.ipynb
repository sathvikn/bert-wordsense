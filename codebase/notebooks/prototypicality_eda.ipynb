{
 "cells": [
  {
   "cell_type": "code",
   "execution_count": 141,
   "metadata": {},
   "outputs": [],
   "source": [
    "import pandas as pd\n",
    "import numpy as np\n",
    "import seaborn as sns\n",
    "import matplotlib.pyplot as plt\n",
    "import os\n",
    "pd.set_option('max_colwidth', 400)"
   ]
  },
  {
   "cell_type": "code",
   "execution_count": 41,
   "metadata": {},
   "outputs": [
    {
     "data": {
      "text/html": [
       "<div>\n",
       "<style scoped>\n",
       "    .dataframe tbody tr th:only-of-type {\n",
       "        vertical-align: middle;\n",
       "    }\n",
       "\n",
       "    .dataframe tbody tr th {\n",
       "        vertical-align: top;\n",
       "    }\n",
       "\n",
       "    .dataframe thead th {\n",
       "        text-align: right;\n",
       "    }\n",
       "</style>\n",
       "<table border=\"1\" class=\"dataframe\">\n",
       "  <thead>\n",
       "    <tr style=\"text-align: right;\">\n",
       "      <th></th>\n",
       "      <th>sense</th>\n",
       "      <th>sentence</th>\n",
       "      <th>center.n.01</th>\n",
       "      <th>heart.n.01</th>\n",
       "      <th>heart.n.02</th>\n",
       "      <th>heart.n.03</th>\n",
       "      <th>kernel.n.03</th>\n",
       "    </tr>\n",
       "  </thead>\n",
       "  <tbody>\n",
       "    <tr>\n",
       "      <th>0</th>\n",
       "      <td>center.n.01</td>\n",
       "      <td>On the contrary , even in the heart of `` the Bible belt '' itself , as can be attested by any one who is called to work there , the industrial and technological revolutions have long been under way , together with the corresponding changes in man 's picture of himself and his world .</td>\n",
       "      <td>0.858364</td>\n",
       "      <td>0.590945</td>\n",
       "      <td>0.421943</td>\n",
       "      <td>0.537494</td>\n",
       "      <td>0.685745</td>\n",
       "    </tr>\n",
       "    <tr>\n",
       "      <th>1</th>\n",
       "      <td>center.n.01</td>\n",
       "      <td>Raymond Vernon reports that residents of East St. Louis have been driving across the Mississippi , through the heart of downtown St. Louis and out to the western suburbs for major shopping , simply because parking is easier at the big branches than it is in the heart of town .</td>\n",
       "      <td>0.921553</td>\n",
       "      <td>0.500834</td>\n",
       "      <td>0.406983</td>\n",
       "      <td>0.465657</td>\n",
       "      <td>0.626638</td>\n",
       "    </tr>\n",
       "    <tr>\n",
       "      <th>2</th>\n",
       "      <td>center.n.01</td>\n",
       "      <td>Raymond Vernon reports that residents of East St. Louis have been driving across the Mississippi , through the heart of downtown St. Louis and out to the western suburbs for major shopping , simply because parking is easier at the big branches than it is in the heart of town .</td>\n",
       "      <td>0.921553</td>\n",
       "      <td>0.500834</td>\n",
       "      <td>0.406983</td>\n",
       "      <td>0.465657</td>\n",
       "      <td>0.626638</td>\n",
       "    </tr>\n",
       "    <tr>\n",
       "      <th>3</th>\n",
       "      <td>center.n.01</td>\n",
       "      <td>They had let this black hole of death in Warsaw 's heart exist without a cry of protest .</td>\n",
       "      <td>0.743972</td>\n",
       "      <td>0.811503</td>\n",
       "      <td>0.617245</td>\n",
       "      <td>0.687736</td>\n",
       "      <td>0.625006</td>\n",
       "    </tr>\n",
       "    <tr>\n",
       "      <th>4</th>\n",
       "      <td>heart.n.03</td>\n",
       "      <td>Lublin was their heart .</td>\n",
       "      <td>0.612036</td>\n",
       "      <td>0.816514</td>\n",
       "      <td>0.621011</td>\n",
       "      <td>0.803187</td>\n",
       "      <td>0.664973</td>\n",
       "    </tr>\n",
       "    <tr>\n",
       "      <th>...</th>\n",
       "      <td>...</td>\n",
       "      <td>...</td>\n",
       "      <td>...</td>\n",
       "      <td>...</td>\n",
       "      <td>...</td>\n",
       "      <td>...</td>\n",
       "      <td>...</td>\n",
       "    </tr>\n",
       "    <tr>\n",
       "      <th>61</th>\n",
       "      <td>heart.n.01</td>\n",
       "      <td>With all his heart he had loved the Navy and now he must act in accordance with the Navy 's implacable laws .</td>\n",
       "      <td>0.501679</td>\n",
       "      <td>0.807477</td>\n",
       "      <td>0.529976</td>\n",
       "      <td>0.717619</td>\n",
       "      <td>0.503535</td>\n",
       "    </tr>\n",
       "    <tr>\n",
       "      <th>62</th>\n",
       "      <td>heart.n.01</td>\n",
       "      <td>One did one 's best and if fortune frowned , an eighteen year old boy with murder in his heart sailed aboard one 's ship .</td>\n",
       "      <td>0.590441</td>\n",
       "      <td>0.796833</td>\n",
       "      <td>0.563190</td>\n",
       "      <td>0.701873</td>\n",
       "      <td>0.583774</td>\n",
       "    </tr>\n",
       "    <tr>\n",
       "      <th>63</th>\n",
       "      <td>heart.n.01</td>\n",
       "      <td>He can even be a mild voiced little town guy with big town ideas and level gray eyes and a heart even Houdini could n't figure out , how it is unlocked .</td>\n",
       "      <td>0.498317</td>\n",
       "      <td>0.745876</td>\n",
       "      <td>0.586803</td>\n",
       "      <td>0.715173</td>\n",
       "      <td>0.587462</td>\n",
       "    </tr>\n",
       "    <tr>\n",
       "      <th>64</th>\n",
       "      <td>heart.n.01</td>\n",
       "      <td>And in a way the promise works out true , for whether he wants you or not , you go with him in your heart .</td>\n",
       "      <td>0.508697</td>\n",
       "      <td>0.774219</td>\n",
       "      <td>0.504302</td>\n",
       "      <td>0.667726</td>\n",
       "      <td>0.511128</td>\n",
       "    </tr>\n",
       "    <tr>\n",
       "      <th>65</th>\n",
       "      <td>heart.n.01</td>\n",
       "      <td>Homes and factories and schools and a big wide federal highway , instead of peaceful corn to rest your eyes on while you tried to rest your heart , while you tried not to look at the balloon and the bandstand and the uniforms and the flash of the instruments .</td>\n",
       "      <td>0.563517</td>\n",
       "      <td>0.863050</td>\n",
       "      <td>0.731900</td>\n",
       "      <td>0.755334</td>\n",
       "      <td>0.607616</td>\n",
       "    </tr>\n",
       "  </tbody>\n",
       "</table>\n",
       "<p>66 rows × 7 columns</p>\n",
       "</div>"
      ],
      "text/plain": [
       "          sense  \\\n",
       "0   center.n.01   \n",
       "1   center.n.01   \n",
       "2   center.n.01   \n",
       "3   center.n.01   \n",
       "4    heart.n.03   \n",
       "..          ...   \n",
       "61   heart.n.01   \n",
       "62   heart.n.01   \n",
       "63   heart.n.01   \n",
       "64   heart.n.01   \n",
       "65   heart.n.01   \n",
       "\n",
       "                                                                                                                                                                                                                                                                                         sentence  \\\n",
       "0   On the contrary , even in the heart of `` the Bible belt '' itself , as can be attested by any one who is called to work there , the industrial and technological revolutions have long been under way , together with the corresponding changes in man 's picture of himself and his world .   \n",
       "1           Raymond Vernon reports that residents of East St. Louis have been driving across the Mississippi , through the heart of downtown St. Louis and out to the western suburbs for major shopping , simply because parking is easier at the big branches than it is in the heart of town .   \n",
       "2           Raymond Vernon reports that residents of East St. Louis have been driving across the Mississippi , through the heart of downtown St. Louis and out to the western suburbs for major shopping , simply because parking is easier at the big branches than it is in the heart of town .   \n",
       "3                                                                                                                                                                                                       They had let this black hole of death in Warsaw 's heart exist without a cry of protest .   \n",
       "4                                                                                                                                                                                                                                                                        Lublin was their heart .   \n",
       "..                                                                                                                                                                                                                                                                                            ...   \n",
       "61                                                                                                                                                                                  With all his heart he had loved the Navy and now he must act in accordance with the Navy 's implacable laws .   \n",
       "62                                                                                                                                                                     One did one 's best and if fortune frowned , an eighteen year old boy with murder in his heart sailed aboard one 's ship .   \n",
       "63                                                                                                                                      He can even be a mild voiced little town guy with big town ideas and level gray eyes and a heart even Houdini could n't figure out , how it is unlocked .   \n",
       "64                                                                                                                                                                                    And in a way the promise works out true , for whether he wants you or not , you go with him in your heart .   \n",
       "65                           Homes and factories and schools and a big wide federal highway , instead of peaceful corn to rest your eyes on while you tried to rest your heart , while you tried not to look at the balloon and the bandstand and the uniforms and the flash of the instruments .   \n",
       "\n",
       "    center.n.01  heart.n.01  heart.n.02  heart.n.03  kernel.n.03  \n",
       "0      0.858364    0.590945    0.421943    0.537494     0.685745  \n",
       "1      0.921553    0.500834    0.406983    0.465657     0.626638  \n",
       "2      0.921553    0.500834    0.406983    0.465657     0.626638  \n",
       "3      0.743972    0.811503    0.617245    0.687736     0.625006  \n",
       "4      0.612036    0.816514    0.621011    0.803187     0.664973  \n",
       "..          ...         ...         ...         ...          ...  \n",
       "61     0.501679    0.807477    0.529976    0.717619     0.503535  \n",
       "62     0.590441    0.796833    0.563190    0.701873     0.583774  \n",
       "63     0.498317    0.745876    0.586803    0.715173     0.587462  \n",
       "64     0.508697    0.774219    0.504302    0.667726     0.511128  \n",
       "65     0.563517    0.863050    0.731900    0.755334     0.607616  \n",
       "\n",
       "[66 rows x 7 columns]"
      ]
     },
     "execution_count": 41,
     "metadata": {},
     "output_type": "execute_result"
    }
   ],
   "source": [
    "type_data = pd.read_csv(\"../data/prototypicality/heart_n.csv\")\n",
    "type_data"
   ]
  },
  {
   "cell_type": "code",
   "execution_count": 42,
   "metadata": {},
   "outputs": [],
   "source": [
    "def true_vs_other(row):\n",
    "    true_sense = row['sense']\n",
    "    true_sim = row[true_sense]\n",
    "    max_others = np.mean(row[[c for c in row.index if c not in [true_sense, 'sentence', 'sense']]])\n",
    "    return true_sim - max_others"
   ]
  },
  {
   "cell_type": "code",
   "execution_count": 43,
   "metadata": {},
   "outputs": [],
   "source": [
    "type_data['prototypicality'] = type_data.apply(true_vs_other, axis = 1)"
   ]
  },
  {
   "cell_type": "code",
   "execution_count": 44,
   "metadata": {},
   "outputs": [
    {
     "data": {
      "text/html": [
       "<div>\n",
       "<style scoped>\n",
       "    .dataframe tbody tr th:only-of-type {\n",
       "        vertical-align: middle;\n",
       "    }\n",
       "\n",
       "    .dataframe tbody tr th {\n",
       "        vertical-align: top;\n",
       "    }\n",
       "\n",
       "    .dataframe thead th {\n",
       "        text-align: right;\n",
       "    }\n",
       "</style>\n",
       "<table border=\"1\" class=\"dataframe\">\n",
       "  <thead>\n",
       "    <tr style=\"text-align: right;\">\n",
       "      <th></th>\n",
       "      <th>sentence</th>\n",
       "      <th>prototypicality</th>\n",
       "    </tr>\n",
       "    <tr>\n",
       "      <th>sense</th>\n",
       "      <th></th>\n",
       "      <th></th>\n",
       "    </tr>\n",
       "  </thead>\n",
       "  <tbody>\n",
       "    <tr>\n",
       "      <th>center.n.01</th>\n",
       "      <td>On the contrary , even in the heart of `` the Bible belt '' itself , as can be attested by any one who is called to work there , the industrial and technological revolutions have long been under way , together with the corresponding changes in man 's picture of himself and his world .</td>\n",
       "      <td>0.058600</td>\n",
       "    </tr>\n",
       "    <tr>\n",
       "      <th>heart.n.01</th>\n",
       "      <td>And in a way the promise works out true , for whether he wants you or not , you go with him in your heart .</td>\n",
       "      <td>0.104825</td>\n",
       "    </tr>\n",
       "    <tr>\n",
       "      <th>heart.n.02</th>\n",
       "      <td>A still more sophisticated system has been devised for determining the effective power of the heart itself .</td>\n",
       "      <td>0.110233</td>\n",
       "    </tr>\n",
       "    <tr>\n",
       "      <th>heart.n.03</th>\n",
       "      <td>But what you have n't got is the heart to back up that talent with .</td>\n",
       "      <td>0.124554</td>\n",
       "    </tr>\n",
       "    <tr>\n",
       "      <th>kernel.n.03</th>\n",
       "      <td>Certainly not in Orchestra hall where he has played countless recitals , and where Thursday night he celebrated his 20th season with the Chicago Symphony orchestra , playing the Brahms Concerto with his own slashing , demon-ridden cadenza melting into the high , pale , pure and lovely song with which a violinist unlocks the heart of the music , or forever finds it closed .</td>\n",
       "      <td>0.251520</td>\n",
       "    </tr>\n",
       "  </tbody>\n",
       "</table>\n",
       "</div>"
      ],
      "text/plain": [
       "                                                                                                                                                                                                                                                                                                                                                                                            sentence  \\\n",
       "sense                                                                                                                                                                                                                                                                                                                                                                                                  \n",
       "center.n.01                                                                                            On the contrary , even in the heart of `` the Bible belt '' itself , as can be attested by any one who is called to work there , the industrial and technological revolutions have long been under way , together with the corresponding changes in man 's picture of himself and his world .   \n",
       "heart.n.01                                                                                                                                                                                                                                                                               And in a way the promise works out true , for whether he wants you or not , you go with him in your heart .   \n",
       "heart.n.02                                                                                                                                                                                                                                                                              A still more sophisticated system has been devised for determining the effective power of the heart itself .   \n",
       "heart.n.03                                                                                                                                                                                                                                                                                                                      But what you have n't got is the heart to back up that talent with .   \n",
       "kernel.n.03  Certainly not in Orchestra hall where he has played countless recitals , and where Thursday night he celebrated his 20th season with the Chicago Symphony orchestra , playing the Brahms Concerto with his own slashing , demon-ridden cadenza melting into the high , pale , pure and lovely song with which a violinist unlocks the heart of the music , or forever finds it closed .   \n",
       "\n",
       "             prototypicality  \n",
       "sense                         \n",
       "center.n.01         0.058600  \n",
       "heart.n.01          0.104825  \n",
       "heart.n.02          0.110233  \n",
       "heart.n.03          0.124554  \n",
       "kernel.n.03         0.251520  "
      ]
     },
     "execution_count": 44,
     "metadata": {},
     "output_type": "execute_result"
    }
   ],
   "source": [
    "type_data[['sense', 'sentence', 'prototypicality']].groupby('sense').agg('min')"
   ]
  },
  {
   "cell_type": "code",
   "execution_count": 45,
   "metadata": {},
   "outputs": [
    {
     "data": {
      "text/html": [
       "<div>\n",
       "<style scoped>\n",
       "    .dataframe tbody tr th:only-of-type {\n",
       "        vertical-align: middle;\n",
       "    }\n",
       "\n",
       "    .dataframe tbody tr th {\n",
       "        vertical-align: top;\n",
       "    }\n",
       "\n",
       "    .dataframe thead th {\n",
       "        text-align: right;\n",
       "    }\n",
       "</style>\n",
       "<table border=\"1\" class=\"dataframe\">\n",
       "  <thead>\n",
       "    <tr style=\"text-align: right;\">\n",
       "      <th></th>\n",
       "      <th>sentence</th>\n",
       "      <th>prototypicality</th>\n",
       "    </tr>\n",
       "    <tr>\n",
       "      <th>sense</th>\n",
       "      <th></th>\n",
       "      <th></th>\n",
       "    </tr>\n",
       "  </thead>\n",
       "  <tbody>\n",
       "    <tr>\n",
       "      <th>center.n.01</th>\n",
       "      <td>They had let this black hole of death in Warsaw 's heart exist without a cry of protest .</td>\n",
       "      <td>0.421525</td>\n",
       "    </tr>\n",
       "    <tr>\n",
       "      <th>heart.n.01</th>\n",
       "      <td>`` We no longer have Tom Moore 's and Longfellow 's ' heart for any fate ' , either '' , I said .</td>\n",
       "      <td>0.244275</td>\n",
       "    </tr>\n",
       "    <tr>\n",
       "      <th>heart.n.02</th>\n",
       "      <td>The original electrocardiograph primarily indicates irregularities in the heartbeat , but today 's techniques allow exact measurements of the flow of blood through the aorta , dimensioning of the heart and its chambers , and a much more detailed study of each heartbeat .</td>\n",
       "      <td>0.413712</td>\n",
       "    </tr>\n",
       "    <tr>\n",
       "      <th>heart.n.03</th>\n",
       "      <td>`` They require , for existence , a brave spirit and a high heart , and where do you find these ?</td>\n",
       "      <td>0.317598</td>\n",
       "    </tr>\n",
       "    <tr>\n",
       "      <th>kernel.n.03</th>\n",
       "      <td>The material of the Porter film is simplicity itself ; much of it has continued to be used over the years and the heart of it - good guys and bad guys in the old West - pretty well dominated television toward the end of the 1950's .</td>\n",
       "      <td>0.352114</td>\n",
       "    </tr>\n",
       "  </tbody>\n",
       "</table>\n",
       "</div>"
      ],
      "text/plain": [
       "                                                                                                                                                                                                                                                                                    sentence  \\\n",
       "sense                                                                                                                                                                                                                                                                                          \n",
       "center.n.01                                                                                                                                                                                        They had let this black hole of death in Warsaw 's heart exist without a cry of protest .   \n",
       "heart.n.01                                                                                                                                                                                 `` We no longer have Tom Moore 's and Longfellow 's ' heart for any fate ' , either '' , I said .   \n",
       "heart.n.02   The original electrocardiograph primarily indicates irregularities in the heartbeat , but today 's techniques allow exact measurements of the flow of blood through the aorta , dimensioning of the heart and its chambers , and a much more detailed study of each heartbeat .   \n",
       "heart.n.03                                                                                                                                                                                 `` They require , for existence , a brave spirit and a high heart , and where do you find these ?   \n",
       "kernel.n.03                                         The material of the Porter film is simplicity itself ; much of it has continued to be used over the years and the heart of it - good guys and bad guys in the old West - pretty well dominated television toward the end of the 1950's .   \n",
       "\n",
       "             prototypicality  \n",
       "sense                         \n",
       "center.n.01         0.421525  \n",
       "heart.n.01          0.244275  \n",
       "heart.n.02          0.413712  \n",
       "heart.n.03          0.317598  \n",
       "kernel.n.03         0.352114  "
      ]
     },
     "execution_count": 45,
     "metadata": {},
     "output_type": "execute_result"
    }
   ],
   "source": [
    "type_data[['sense', 'sentence', 'prototypicality']].groupby('sense').agg('max')"
   ]
  },
  {
   "cell_type": "markdown",
   "metadata": {},
   "source": [
    "### MFS Analysis\n",
    "\n",
    "Could the most frequent sense be having an effect on prototypicality ratings? From discussion of \"Modeling word interpretation with deep language models\" by Aina et al (2020). Here, we look at the rank of the most frequent sense's centroid when computing prototypicality ratings. For vectors representing all but the MFS, we compute its cosine similarity with all the sense centroids, and extract the rank of the MFS's similarity. If we divide it by the number of senses, we get the percentile. \n",
    "\n",
    "We find that MFS is above the median cosine similarity for 78.5% of the vectors (1 vector for each instance)."
   ]
  },
  {
   "cell_type": "code",
   "execution_count": 139,
   "metadata": {},
   "outputs": [],
   "source": [
    "def mfs_rank(row, mfs):\n",
    "    other_senses = [c for c in row.index if c not in ['sentence', 'sense', 'prototypicality', 'mfs_rank']]\n",
    "    sense_dists = [(c, row[c]) for c in other_senses]\n",
    "    sorted_dists = sorted(sense_dists, key = lambda t: t[1])\n",
    "    return ([i for i in range(len(sorted_dists)) if sorted_dists[i][0] == mfs][0] + 1) / len(other_senses)"
   ]
  },
  {
   "cell_type": "code",
   "execution_count": 112,
   "metadata": {},
   "outputs": [],
   "source": [
    "def mfs_dist(type_df):\n",
    "    mfs = np.argmax(type_df['sense'].value_counts())\n",
    "    other_senses = type_df[type_df['sense'] != mfs]\n",
    "    mfs_ranks = other_senses.apply(mfs_rank, args = (mfs,), axis = 1)\n",
    "    return list(mfs_ranks)"
   ]
  },
  {
   "cell_type": "code",
   "execution_count": 132,
   "metadata": {},
   "outputs": [],
   "source": [
    "mfs_pct_ranks = []\n",
    "for fname in os.listdir(os.path.join('..', 'data', 'prototypicality')):\n",
    "    type_df = pd.read_csv(os.path.join('..', 'data', 'prototypicality', fname))\n",
    "    if type(mfs_dist(type_df)[0]) == float:\n",
    "        mfs_pct_ranks += mfs_dist(type_df)\n"
   ]
  },
  {
   "cell_type": "code",
   "execution_count": 140,
   "metadata": {},
   "outputs": [
    {
     "data": {
      "text/plain": [
       "Text(0.5, 1.0, 'Distribution of MFS Rank Percentile')"
      ]
     },
     "execution_count": 140,
     "metadata": {},
     "output_type": "execute_result"
    },
    {
     "data": {
      "image/png": "[encoded data removed]",
      "text/plain": [
       "<Figure size 432x288 with 1 Axes>"
      ]
     },
     "metadata": {
      "needs_background": "light"
     },
     "output_type": "display_data"
    }
   ],
   "source": [
    "plt.hist(mfs_pct_ranks)\n",
    "plt.title(\"Distribution of MFS Rank Percentile\")"
   ]
  },
  {
   "cell_type": "code",
   "execution_count": 136,
   "metadata": {},
   "outputs": [
    {
     "data": {
      "text/plain": [
       "0.7850405583852104"
      ]
     },
     "execution_count": 136,
     "metadata": {},
     "output_type": "execute_result"
    }
   ],
   "source": [
    "np.count_nonzero(np.array(mfs_pct_ranks) >= 0.5) / len(mfs_pct_ranks)"
   ]
  },
  {
   "cell_type": "markdown",
   "metadata": {},
   "source": [
    "## Checking against dimensionality reduced versions"
   ]
  },
  {
   "cell_type": "code",
   "execution_count": 168,
   "metadata": {},
   "outputs": [],
   "source": [
    "type_data = pd.read_csv(\"../data/prototypicality_stimuli/school_n.csv\")\n",
    "type_data['prototypicality'] = type_data.apply(true_vs_other, axis = 1)"
   ]
  },
  {
   "cell_type": "code",
   "execution_count": 169,
   "metadata": {},
   "outputs": [
    {
     "data": {
      "text/html": [
       "<div>\n",
       "<style scoped>\n",
       "    .dataframe tbody tr th:only-of-type {\n",
       "        vertical-align: middle;\n",
       "    }\n",
       "\n",
       "    .dataframe tbody tr th {\n",
       "        vertical-align: top;\n",
       "    }\n",
       "\n",
       "    .dataframe thead th {\n",
       "        text-align: right;\n",
       "    }\n",
       "</style>\n",
       "<table border=\"1\" class=\"dataframe\">\n",
       "  <thead>\n",
       "    <tr style=\"text-align: right;\">\n",
       "      <th></th>\n",
       "      <th>sentence</th>\n",
       "      <th>prototypicality</th>\n",
       "    </tr>\n",
       "    <tr>\n",
       "      <th>sense</th>\n",
       "      <th></th>\n",
       "      <th></th>\n",
       "    </tr>\n",
       "  </thead>\n",
       "  <tbody>\n",
       "    <tr>\n",
       "      <th>school.n.01</th>\n",
       "      <td>According to the theory proposed , this is a consequence of the severe condition of perceived threat that persists unabated for the anxious child in an ambiguous sort of school environment .</td>\n",
       "      <td>-0.009508</td>\n",
       "    </tr>\n",
       "    <tr>\n",
       "      <th>school.n.02</th>\n",
       "      <td>An hour of bouncing , a brief stop in a village to inspect a new school or dispensary .</td>\n",
       "      <td>0.028624</td>\n",
       "    </tr>\n",
       "    <tr>\n",
       "      <th>school.n.03</th>\n",
       "      <td>During the summers , while he was still in school , Mercer worked for his father 's firm as a messenger boy .</td>\n",
       "      <td>0.047377</td>\n",
       "    </tr>\n",
       "  </tbody>\n",
       "</table>\n",
       "</div>"
      ],
      "text/plain": [
       "                                                                                                                                                                                                   sentence  \\\n",
       "sense                                                                                                                                                                                                         \n",
       "school.n.01  According to the theory proposed , this is a consequence of the severe condition of perceived threat that persists unabated for the anxious child in an ambiguous sort of school environment .   \n",
       "school.n.02                                                                                                         An hour of bouncing , a brief stop in a village to inspect a new school or dispensary .   \n",
       "school.n.03                                                                                   During the summers , while he was still in school , Mercer worked for his father 's firm as a messenger boy .   \n",
       "\n",
       "             prototypicality  \n",
       "sense                         \n",
       "school.n.01        -0.009508  \n",
       "school.n.02         0.028624  \n",
       "school.n.03         0.047377  "
      ]
     },
     "execution_count": 169,
     "metadata": {},
     "output_type": "execute_result"
    }
   ],
   "source": [
    "type_data[['sense', 'sentence', 'prototypicality']].groupby('sense').agg('min')"
   ]
  },
  {
   "cell_type": "code",
   "execution_count": 170,
   "metadata": {},
   "outputs": [
    {
     "data": {
      "text/html": [
       "<div>\n",
       "<style scoped>\n",
       "    .dataframe tbody tr th:only-of-type {\n",
       "        vertical-align: middle;\n",
       "    }\n",
       "\n",
       "    .dataframe tbody tr th {\n",
       "        vertical-align: top;\n",
       "    }\n",
       "\n",
       "    .dataframe thead th {\n",
       "        text-align: right;\n",
       "    }\n",
       "</style>\n",
       "<table border=\"1\" class=\"dataframe\">\n",
       "  <thead>\n",
       "    <tr style=\"text-align: right;\">\n",
       "      <th></th>\n",
       "      <th>sentence</th>\n",
       "      <th>prototypicality</th>\n",
       "    </tr>\n",
       "    <tr>\n",
       "      <th>sense</th>\n",
       "      <th></th>\n",
       "      <th></th>\n",
       "    </tr>\n",
       "  </thead>\n",
       "  <tbody>\n",
       "    <tr>\n",
       "      <th>school.n.01</th>\n",
       "      <td>`` You must have been good at history at school .</td>\n",
       "      <td>0.095143</td>\n",
       "    </tr>\n",
       "    <tr>\n",
       "      <th>school.n.02</th>\n",
       "      <td>What we need is to get back to the group , to learning and apprenticeship , to the cafe and the school '' .</td>\n",
       "      <td>0.088202</td>\n",
       "    </tr>\n",
       "    <tr>\n",
       "      <th>school.n.03</th>\n",
       "      <td>When the family business failed , Mercer left school and on his mother 's urging - for she hoped that he would become an actor - he joined a local little theater group .</td>\n",
       "      <td>0.114084</td>\n",
       "    </tr>\n",
       "  </tbody>\n",
       "</table>\n",
       "</div>"
      ],
      "text/plain": [
       "                                                                                                                                                                              sentence  \\\n",
       "sense                                                                                                                                                                                    \n",
       "school.n.01                                                                                                                          `` You must have been good at history at school .   \n",
       "school.n.02                                                                What we need is to get back to the group , to learning and apprenticeship , to the cafe and the school '' .   \n",
       "school.n.03  When the family business failed , Mercer left school and on his mother 's urging - for she hoped that he would become an actor - he joined a local little theater group .   \n",
       "\n",
       "             prototypicality  \n",
       "sense                         \n",
       "school.n.01         0.095143  \n",
       "school.n.02         0.088202  \n",
       "school.n.03         0.114084  "
      ]
     },
     "execution_count": 170,
     "metadata": {},
     "output_type": "execute_result"
    }
   ],
   "source": [
    "type_data[['sense', 'sentence', 'prototypicality']].groupby('sense').agg('max')"
   ]
  },
  {
   "cell_type": "code",
   "execution_count": null,
   "metadata": {},
   "outputs": [],
   "source": []
  }
 ],
 "metadata": {
  "kernelspec": {
   "display_name": "Python [conda env:bert]",
   "language": "python",
   "name": "conda-env-bert-py"
  },
  "language_info": {
   "codemirror_mode": {
    "name": "ipython",
    "version": 3
   },
   "file_extension": ".py",
   "mimetype": "text/x-python",
   "name": "python",
   "nbconvert_exporter": "python",
   "pygments_lexer": "ipython3",
   "version": "3.7.6"
  }
 },
 "nbformat": 4,
 "nbformat_minor": 2
}
