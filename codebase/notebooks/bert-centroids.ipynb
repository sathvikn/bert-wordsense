{
 "cells": [
  {
   "cell_type": "code",
   "execution_count": 87,
   "metadata": {},
   "outputs": [
    {
     "data": {
      "text/plain": [
       "<Figure size 432x288 with 0 Axes>"
      ]
     },
     "metadata": {},
     "output_type": "display_data"
    }
   ],
   "source": [
    "from core.metrics import *\n",
    "from core.semcor_bert_pipeline import load_data\n",
    "from core.analysis import annotate_mtx\n",
    "import matplotlib.pyplot as plt"
   ]
  },
  {
   "cell_type": "code",
   "execution_count": 3,
   "metadata": {},
   "outputs": [],
   "source": [
    "shared_words = ['table', 'foot', 'degree', 'plane', 'model', 'right']"
   ]
  },
  {
   "cell_type": "code",
   "execution_count": 96,
   "metadata": {},
   "outputs": [
    {
     "data": {
      "image/png": "[encoded data removed]",
      "text/plain": [
       "<Figure size 432x288 with 1 Axes>"
      ]
     },
     "metadata": {
      "needs_background": "light"
     },
     "output_type": "display_data"
    }
   ],
   "source": [
    "def cosine_sim_mtx(word, pos)\n",
    "    data = load_data(word, pos, 'semcor')\n",
    "    embeddings_by_sense = {}\n",
    "    sense_indices = data['sense_indices']\n",
    "    strip_synset = lambda s: s.strip(\"Synset()\").strip(\"'\")\n",
    "    sense_names = [strip_synset(i) for i in data['sense_names']]\n",
    "    word_embeddings = data['embeddings']\n",
    "    word_embeddings = np.array([np.array(e) for e in word_embeddings])\n",
    "    embeddings_by_sense[sense_names[0]] = np.array(word_embeddings[:sense_indices[0] - 1])\n",
    "    for i in np.arange(1, len(sense_indices)):\n",
    "        end = sense_indices[i]\n",
    "        start = sense_indices[i - 1]\n",
    "        embeddings_by_sense[sense_names[i]] = np.asarray(word_embeddings[start:end])\n",
    "\n",
    "    result_mtx = []\n",
    "    for i in sense_names:\n",
    "        row = []\n",
    "        for j in sense_names:\n",
    "            dist = cs_centroids(embeddings_by_sense[i], embeddings_by_sense[j])\n",
    "            row.append(dist)\n",
    "        result_mtx.append(np.asarray(row))\n",
    "    result_mtx = np.asarray(result_mtx)\n",
    "    return result_mtx\n",
    "    \n",
    "ax = plt.axes()\n",
    "im = ax.imshow(result_mtx)\n",
    "annotate_mtx(result_mtx, im, ax, sense_names)"
   ]
  }
 ],
 "metadata": {
  "kernelspec": {
   "display_name": "Python [conda env:bert] *",
   "language": "python",
   "name": "conda-env-bert-py"
  },
  "language_info": {
   "codemirror_mode": {
    "name": "ipython",
    "version": 3
   },
   "file_extension": ".py",
   "mimetype": "text/x-python",
   "name": "python",
   "nbconvert_exporter": "python",
   "pygments_lexer": "ipython3",
   "version": "3.7.6"
  }
 },
 "nbformat": 4,
 "nbformat_minor": 2
}
