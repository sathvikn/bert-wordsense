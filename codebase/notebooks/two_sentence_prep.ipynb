{
 "cells": [
  {
   "cell_type": "code",
   "execution_count": 143,
   "metadata": {},
   "outputs": [],
   "source": [
    "from core.semcor_bert_pipeline import *\n",
    "import pandas as pd"
   ]
  },
  {
   "cell_type": "code",
   "execution_count": 144,
   "metadata": {},
   "outputs": [],
   "source": [
    "df = pd.read_csv('../data/rabagliati_2013_stimuli.csv')\n",
    "tokenizer = BertTokenizer.from_pretrained(\"bert-base-uncased\")\n",
    "tokenize_ctx = lambda t: tokenizer.tokenize(t)\n",
    "df['tokenized_dis_ctx'] = df['dis_ctx'].apply(tokenize_ctx)"
   ]
  },
  {
   "cell_type": "code",
   "execution_count": 145,
   "metadata": {},
   "outputs": [],
   "source": [
    "model = initialize_model()"
   ]
  },
  {
   "cell_type": "code",
   "execution_count": 185,
   "metadata": {},
   "outputs": [],
   "source": [
    "df = df[~df['target'].isin(['moose', 'mousse'])] #BERT tokenization issues"
   ]
  },
  {
   "cell_type": "code",
   "execution_count": 186,
   "metadata": {},
   "outputs": [],
   "source": [
    "bert_data = []\n",
    "for i in np.arange(0, len(df.index) - 4, 4):\n",
    "    type_stimuli = df.iloc[i:i + 4]\n",
    "    for sent_ctx in ['curr', 'prev']:\n",
    "        curr_prev_ctx = type_stimuli[type_stimuli['sentence_ctx'] == sent_ctx]\n",
    "        for row in curr_prev_ctx.iterrows():\n",
    "            row = row[1]\n",
    "            s1, s2, target_token = row['s1'], row['s2'], row['target']\n",
    "            indexed_tokens, tokenized_text = preprocess(s1, target_token, s2 = s2)\n",
    "            target_activations, attns = get_model_output(indexed_tokens, model)\n",
    "            attn_dict = process_raw_attentions([attns], [tokenized_text])[0]\n",
    "            target_embeddings = sum_layers(target_activations, -4)\n",
    "            bert_data.append({\"attns\": attn_dict, \"target_embed\": target_embeddings, \"target_name\": target_token,\n",
    "                             \"tokenized_sents\": tokenized_text[0], \"tokenized_dis\": row['tokenized_dis_ctx'],\n",
    "                             \"sent_ctx\": sent_ctx})"
   ]
  },
  {
   "cell_type": "code",
   "execution_count": 187,
   "metadata": {},
   "outputs": [],
   "source": [
    "def find_sub_list(sl,l):\n",
    "    sll=len(sl)\n",
    "    for ind in (i for i,e in enumerate(l) if e==sl[0]):\n",
    "        if l[ind:ind+sll]==sl:\n",
    "            return ind,ind+sll-1\n"
   ]
  },
  {
   "cell_type": "code",
   "execution_count": 188,
   "metadata": {},
   "outputs": [],
   "source": [
    "prev_attn = []\n",
    "curr_attn = []\n",
    "prev_layers = []\n",
    "curr_layers = []\n",
    "failures = []\n",
    "for d in bert_data:\n",
    "    dis_indices = find_sub_list(d['tokenized_dis'], d['tokenized_sents'])\n",
    "    if dis_indices is not None:\n",
    "        dis_start = dis_indices[0]\n",
    "        dis_end = dis_indices[1]\n",
    "        for layer in d['attns']:\n",
    "            if d['sent_ctx'] == 'prev':\n",
    "                prev_attn.append(np.sum(d['attns'][layer][dis_start:dis_end]))\n",
    "                prev_layers.append(layer)\n",
    "            if d['sent_ctx'] == 'curr':\n",
    "                curr_attn.append(np.sum(d['attns'][layer][dis_start:dis_end]))\n",
    "                curr_layers.append(layer)\n",
    "    else:\n",
    "        failures.append((d['tokenized_dis'], d['tokenized_sents']))"
   ]
  },
  {
   "cell_type": "code",
   "execution_count": 195,
   "metadata": {},
   "outputs": [
    {
     "data": {
      "text/plain": [
       "<matplotlib.axes._subplots.AxesSubplot at 0x1330767d0>"
      ]
     },
     "execution_count": 195,
     "metadata": {},
     "output_type": "execute_result"
    },
    {
     "data": {
      "image/png": "[encoded data removed]",
      "text/plain": [
       "<Figure size 432x288 with 1 Axes>"
      ]
     },
     "metadata": {
      "needs_background": "light"
     },
     "output_type": "display_data"
    }
   ],
   "source": [
    "results = pd.DataFrame({\"layer\": prev_layers + curr_layers, \"attn\": prev_attn + curr_attn,\n",
    "              \"dis_location\": ([\"prev_sentence\"] * len(prev_attn)) + (['curr_sentence'] * len(curr_attn))})\n",
    "sns.pointplot(x = 'layer', y = 'attn', hue = 'dis_location', data = results)"
   ]
  },
  {
   "cell_type": "code",
   "execution_count": null,
   "metadata": {},
   "outputs": [],
   "source": [
    "prev_attn = []\n",
    "curr_attn = []\n",
    "prev_layers = []\n",
    "curr_layers = []\n",
    "failures = []\n",
    "for d in bert_data:\n",
    "    dis_indices = find_sub_list(d['tokenized_dis'], d['tokenized_sents'])\n",
    "    if dis_indices is not None:\n",
    "        dis_start = dis_indices[0]\n",
    "        dis_end = dis_indices[1]\n",
    "        for layer in d['attns']:\n",
    "            if d['sent_ctx'] == 'prev':\n",
    "                prev_attn.append(np.sum(d['attns'][layer][dis_start:dis_end]))\n",
    "                prev_layers.append(layer)\n",
    "            if d['sent_ctx'] == 'curr':\n",
    "                curr_attn.append(np.sum(d['attns'][layer][dis_start:dis_end]))\n",
    "                curr_layers.append(layer)\n",
    "    else:\n",
    "        failures.append((d['tokenized_dis'], d['tokenized_sents']))"
   ]
  }
 ],
 "metadata": {
  "kernelspec": {
   "display_name": "Python [conda env:bert]",
   "language": "python",
   "name": "conda-env-bert-py"
  },
  "language_info": {
   "codemirror_mode": {
    "name": "ipython",
    "version": 3
   },
   "file_extension": ".py",
   "mimetype": "text/x-python",
   "name": "python",
   "nbconvert_exporter": "python",
   "pygments_lexer": "ipython3",
   "version": "3.7.6"
  }
 },
 "nbformat": 4,
 "nbformat_minor": 2
}
