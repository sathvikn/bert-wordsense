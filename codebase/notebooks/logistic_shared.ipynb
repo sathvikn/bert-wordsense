{
 "cells": [
  {
   "cell_type": "code",
   "execution_count": 1,
   "metadata": {},
   "outputs": [],
   "source": [
    "from sklearn.linear_model import Lasso, LogisticRegression\n",
    "from sklearn.preprocessing import LabelEncoder\n",
    "from sklearn.model_selection import KFold\n",
    "from sklearn.metrics import accuracy_score, f1_score\n",
    "import numpy as np\n",
    "import pandas as pd\n",
    "from core import semcor_bert_pipeline\n",
    "from core.metrics import *"
   ]
  },
  {
   "cell_type": "code",
   "execution_count": 2,
   "metadata": {
    "scrolled": true
   },
   "outputs": [
    {
     "name": "stderr",
     "output_type": "stream",
     "text": [
      "/anaconda3/envs/bert/lib/python3.7/site-packages/sklearn/metrics/_classification.py:1515: UndefinedMetricWarning: F-score is ill-defined and being set to 0.0 due to no true nor predicted samples. Use `zero_division` parameter to control this behavior.\n",
      "  average, \"true nor predicted\", 'F-score is', len(true_sum)\n",
      "/anaconda3/envs/bert/lib/python3.7/site-packages/sklearn/metrics/_classification.py:1515: UndefinedMetricWarning: F-score is ill-defined and being set to 0.0 due to no true nor predicted samples. Use `zero_division` parameter to control this behavior.\n",
      "  average, \"true nor predicted\", 'F-score is', len(true_sum)\n",
      "/anaconda3/envs/bert/lib/python3.7/site-packages/sklearn/metrics/_classification.py:1515: UndefinedMetricWarning: F-score is ill-defined and being set to 0.0 due to no true nor predicted samples. Use `zero_division` parameter to control this behavior.\n",
      "  average, \"true nor predicted\", 'F-score is', len(true_sum)\n",
      "/anaconda3/envs/bert/lib/python3.7/site-packages/sklearn/metrics/_classification.py:1515: UndefinedMetricWarning: F-score is ill-defined and being set to 0.0 due to no true nor predicted samples. Use `zero_division` parameter to control this behavior.\n",
      "  average, \"true nor predicted\", 'F-score is', len(true_sum)\n",
      "/anaconda3/envs/bert/lib/python3.7/site-packages/sklearn/metrics/_classification.py:1515: UndefinedMetricWarning: F-score is ill-defined and being set to 0.0 due to no true nor predicted samples. Use `zero_division` parameter to control this behavior.\n",
      "  average, \"true nor predicted\", 'F-score is', len(true_sum)\n",
      "/anaconda3/envs/bert/lib/python3.7/site-packages/sklearn/metrics/_classification.py:1515: UndefinedMetricWarning: F-score is ill-defined and being set to 0.0 due to no true nor predicted samples. Use `zero_division` parameter to control this behavior.\n",
      "  average, \"true nor predicted\", 'F-score is', len(true_sum)\n"
     ]
    }
   ],
   "source": [
    "shared_metrics = {}\n",
    "shared_words = ['foot.n', 'plane.n', 'model.n', 'degree.n']\n",
    "fmt_sense_12 = lambda w: [w + '.01', w + '.02']\n",
    "shared_senses = [fmt_sense_12(w) for w in shared_words]\n",
    "shared_senses[-1] = ['degree.n.01', 'academic_degree.n.01']\n",
    "shared_senses[1] = ['airplane.n.01', 'plane.n.02']\n",
    "for w_s in zip(shared_words, shared_senses):\n",
    "    model_data = binary_logistic(w_s[0], w_s[1])\n",
    "    weight_values, weight_indices = nonzero_weights(model_data['model'])\n",
    "    f_scores, accuracies, wrong_indices = k_fold_cv(model_data['data'], model_data['transformed_labels'])\n",
    "    shared_metrics[w_s[0]] = {'senses': w_s[1], 'data': model_data, 'weights': weight_values,\n",
    "                    'weight_indices': weight_indices, 'f1_kfold': f_scores, 'acc_kfold': accuracies,\n",
    "                             'incorrect_indices': wrong_indices}\n",
    "    "
   ]
  },
  {
   "cell_type": "code",
   "execution_count": 3,
   "metadata": {
    "scrolled": true
   },
   "outputs": [
    {
     "data": {
      "text/html": [
       "<div>\n",
       "<style scoped>\n",
       "    .dataframe tbody tr th:only-of-type {\n",
       "        vertical-align: middle;\n",
       "    }\n",
       "\n",
       "    .dataframe tbody tr th {\n",
       "        vertical-align: top;\n",
       "    }\n",
       "\n",
       "    .dataframe thead th {\n",
       "        text-align: right;\n",
       "    }\n",
       "</style>\n",
       "<table border=\"1\" class=\"dataframe\">\n",
       "  <thead>\n",
       "    <tr style=\"text-align: right;\">\n",
       "      <th></th>\n",
       "      <th>word_type</th>\n",
       "      <th>avg_f1</th>\n",
       "      <th>avg_acc</th>\n",
       "      <th>pct_nonzero_weights</th>\n",
       "      <th>max_wt</th>\n",
       "      <th>min_wt</th>\n",
       "      <th>mean_nonzero_wt</th>\n",
       "      <th>sd_nonzero_wt</th>\n",
       "    </tr>\n",
       "  </thead>\n",
       "  <tbody>\n",
       "    <tr>\n",
       "      <th>0</th>\n",
       "      <td>foot.n</td>\n",
       "      <td>0.600000</td>\n",
       "      <td>0.973333</td>\n",
       "      <td>0.031250</td>\n",
       "      <td>0.221690</td>\n",
       "      <td>-0.230311</td>\n",
       "      <td>0.029156</td>\n",
       "      <td>0.132311</td>\n",
       "    </tr>\n",
       "    <tr>\n",
       "      <th>1</th>\n",
       "      <td>plane.n</td>\n",
       "      <td>0.333333</td>\n",
       "      <td>0.940000</td>\n",
       "      <td>0.015625</td>\n",
       "      <td>0.499859</td>\n",
       "      <td>-0.255368</td>\n",
       "      <td>0.056093</td>\n",
       "      <td>0.224953</td>\n",
       "    </tr>\n",
       "    <tr>\n",
       "      <th>2</th>\n",
       "      <td>model.n</td>\n",
       "      <td>0.291429</td>\n",
       "      <td>0.874242</td>\n",
       "      <td>0.036458</td>\n",
       "      <td>0.258451</td>\n",
       "      <td>-0.274350</td>\n",
       "      <td>0.019918</td>\n",
       "      <td>0.137800</td>\n",
       "    </tr>\n",
       "    <tr>\n",
       "      <th>3</th>\n",
       "      <td>degree.n</td>\n",
       "      <td>0.800000</td>\n",
       "      <td>1.000000</td>\n",
       "      <td>0.018229</td>\n",
       "      <td>0.456464</td>\n",
       "      <td>-0.226661</td>\n",
       "      <td>0.001347</td>\n",
       "      <td>0.166190</td>\n",
       "    </tr>\n",
       "  </tbody>\n",
       "</table>\n",
       "</div>"
      ],
      "text/plain": [
       "  word_type    avg_f1   avg_acc  pct_nonzero_weights    max_wt    min_wt  \\\n",
       "0    foot.n  0.600000  0.973333             0.031250  0.221690 -0.230311   \n",
       "1   plane.n  0.333333  0.940000             0.015625  0.499859 -0.255368   \n",
       "2   model.n  0.291429  0.874242             0.036458  0.258451 -0.274350   \n",
       "3  degree.n  0.800000  1.000000             0.018229  0.456464 -0.226661   \n",
       "\n",
       "   mean_nonzero_wt  sd_nonzero_wt  \n",
       "0         0.029156       0.132311  \n",
       "1         0.056093       0.224953  \n",
       "2         0.019918       0.137800  \n",
       "3         0.001347       0.166190  "
      ]
     },
     "execution_count": 3,
     "metadata": {},
     "output_type": "execute_result"
    }
   ],
   "source": [
    "shared_stats = []\n",
    "incorrect = []\n",
    "for k in shared_metrics:\n",
    "    word_results = shared_metrics[k]\n",
    "    weights = word_results['weights']\n",
    "    incorrect.append(misclassified_sentences(word_results['data'], word_results['incorrect_indices']))\n",
    "    shared_stats.append({'word_type': k, 'avg_f1': np.mean(word_results['f1_kfold']), 'avg_acc': np.mean(word_results['acc_kfold']),\n",
    "    'pct_nonzero_weights': len(weights) / 768, 'max_wt': max(weights), 'min_wt': min(weights), 'mean_nonzero_wt': np.mean(weights), 'sd_nonzero_wt': np.std(weights)})\n",
    "pd.DataFrame(shared_stats)"
   ]
  },
  {
   "cell_type": "markdown",
   "metadata": {},
   "source": [
    "Misclassified senses (Only binary classification, 3/16 senses for math plane were misclassified)"
   ]
  },
  {
   "cell_type": "code",
   "execution_count": 4,
   "metadata": {},
   "outputs": [
    {
     "data": {
      "text/html": [
       "<div>\n",
       "<style scoped>\n",
       "    .dataframe tbody tr th:only-of-type {\n",
       "        vertical-align: middle;\n",
       "    }\n",
       "\n",
       "    .dataframe tbody tr th {\n",
       "        vertical-align: top;\n",
       "    }\n",
       "\n",
       "    .dataframe thead th {\n",
       "        text-align: right;\n",
       "    }\n",
       "</style>\n",
       "<table border=\"1\" class=\"dataframe\">\n",
       "  <thead>\n",
       "    <tr style=\"text-align: right;\">\n",
       "      <th></th>\n",
       "      <th>true_label</th>\n",
       "      <th>sentences</th>\n",
       "    </tr>\n",
       "  </thead>\n",
       "  <tbody>\n",
       "    <tr>\n",
       "      <th>0</th>\n",
       "      <td>foot.n.02</td>\n",
       "      <td>When it comes to rate of early growth , the Indian python leads with a figure of about 3 feet 6 inches per year for the first two years , more or less .</td>\n",
       "    </tr>\n",
       "    <tr>\n",
       "      <th>1</th>\n",
       "      <td>foot.n.02</td>\n",
       "      <td>He reasons that as anacondas 30 feet long are often found , some might be 38 , and occasional `` monstrous freaks '' over 50 .</td>\n",
       "    </tr>\n",
       "    <tr>\n",
       "      <th>2</th>\n",
       "      <td>foot.n.02</td>\n",
       "      <td>He rejects dimensions of 70 feet and more .</td>\n",
       "    </tr>\n",
       "    <tr>\n",
       "      <th>3</th>\n",
       "      <td>foot.n.02</td>\n",
       "      <td>Hans Schweizer had one that increased from 19 - 1 2 inches to 5 feet 3 inches in five years , and J . J . Quelch records a growth of from less than 4 feet to nearly 10 in about six years .</td>\n",
       "    </tr>\n",
       "    <tr>\n",
       "      <th>0</th>\n",
       "      <td>plane.n.02</td>\n",
       "      <td>If a is the major axis of an ellipsoid and b and c are the other two axes , the radius of curvature in the ab plane at the end of the axis is * * f , and the difference in pressure along the a and b axes is * * f .</td>\n",
       "    </tr>\n",
       "    <tr>\n",
       "      <th>1</th>\n",
       "      <td>plane.n.02</td>\n",
       "      <td>Also , planetary gravitational attraction increases the dust concentration near the plane of the ecliptic as the sun is approached .</td>\n",
       "    </tr>\n",
       "    <tr>\n",
       "      <th>2</th>\n",
       "      <td>plane.n.02</td>\n",
       "      <td>We will refer to the plane of C and **f as the C-plane and to the plane of the graph as the f-plane .</td>\n",
       "    </tr>\n",
       "    <tr>\n",
       "      <th>0</th>\n",
       "      <td>model.n.01</td>\n",
       "      <td>The Glazer-Fine Arts edition ( Concert-Disc ) is a model of lucidity and organization .</td>\n",
       "    </tr>\n",
       "    <tr>\n",
       "      <th>1</th>\n",
       "      <td>model.n.01</td>\n",
       "      <td>I asked Quasimodo recently how he accomplished this , and he replied that he had painted his model `` a beautiful shade of red and then had her breathe on the canvas '' , which was his typical tongue-in-cheek way of chiding me for my lack of sensitivity .</td>\n",
       "    </tr>\n",
       "    <tr>\n",
       "      <th>2</th>\n",
       "      <td>model.n.01</td>\n",
       "      <td>The Glazer-Fine Arts edition ( Concert-Disc ) is a model of lucidity and organization .</td>\n",
       "    </tr>\n",
       "    <tr>\n",
       "      <th>3</th>\n",
       "      <td>model.n.01</td>\n",
       "      <td>We shall not be able entirely to pass over these connections to the East as we consider Ripe Geometric pottery , the epic and the myth , and the religious evolution of early Greece ; the important point , however , is that these magnificent achievements , unlike those of later decades , were only incidentally influenced by Oriental models .</td>\n",
       "    </tr>\n",
       "    <tr>\n",
       "      <th>4</th>\n",
       "      <td>model.n.01</td>\n",
       "      <td>The Brooklyn College student shows some striking departures from prevailing collegiate models .</td>\n",
       "    </tr>\n",
       "    <tr>\n",
       "      <th>5</th>\n",
       "      <td>model.n.01</td>\n",
       "      <td>But at the end of the sitting , when Michelangelo showed him the quick , free drawings , with the mother roughed in , holding her son , the model grasped what Michelangelo was after , and promised to speak to his friends .</td>\n",
       "    </tr>\n",
       "    <tr>\n",
       "      <th>6</th>\n",
       "      <td>model.n.01</td>\n",
       "      <td>We devote a chapter to the binomial distribution not only because it is a mathematical model for an enormous variety of real life phenomena , but also because it has important properties that recur in many other probability models .</td>\n",
       "    </tr>\n",
       "  </tbody>\n",
       "</table>\n",
       "</div>"
      ],
      "text/plain": [
       "   true_label  \\\n",
       "0   foot.n.02   \n",
       "1   foot.n.02   \n",
       "2   foot.n.02   \n",
       "3   foot.n.02   \n",
       "0  plane.n.02   \n",
       "1  plane.n.02   \n",
       "2  plane.n.02   \n",
       "0  model.n.01   \n",
       "1  model.n.01   \n",
       "2  model.n.01   \n",
       "3  model.n.01   \n",
       "4  model.n.01   \n",
       "5  model.n.01   \n",
       "6  model.n.01   \n",
       "\n",
       "                                                                                                                                                                                                                                                                                                                                                sentences  \n",
       "0                                                                                                                                                                                                When it comes to rate of early growth , the Indian python leads with a figure of about 3 feet 6 inches per year for the first two years , more or less .  \n",
       "1                                                                                                                                                                                                                          He reasons that as anacondas 30 feet long are often found , some might be 38 , and occasional `` monstrous freaks '' over 50 .  \n",
       "2                                                                                                                                                                                                                                                                                                             He rejects dimensions of 70 feet and more .  \n",
       "3                                                                                                                                                            Hans Schweizer had one that increased from 19 - 1 2 inches to 5 feet 3 inches in five years , and J . J . Quelch records a growth of from less than 4 feet to nearly 10 in about six years .  \n",
       "0                                                                                                                                  If a is the major axis of an ellipsoid and b and c are the other two axes , the radius of curvature in the ab plane at the end of the axis is * * f , and the difference in pressure along the a and b axes is * * f .  \n",
       "1                                                                                                                                                                                                                    Also , planetary gravitational attraction increases the dust concentration near the plane of the ecliptic as the sun is approached .  \n",
       "2                                                                                                                                                                                                                                                   We will refer to the plane of C and **f as the C-plane and to the plane of the graph as the f-plane .  \n",
       "0                                                                                                                                                                                                                                                                 The Glazer-Fine Arts edition ( Concert-Disc ) is a model of lucidity and organization .  \n",
       "1                                                                                         I asked Quasimodo recently how he accomplished this , and he replied that he had painted his model `` a beautiful shade of red and then had her breathe on the canvas '' , which was his typical tongue-in-cheek way of chiding me for my lack of sensitivity .  \n",
       "2                                                                                                                                                                                                                                                                 The Glazer-Fine Arts edition ( Concert-Disc ) is a model of lucidity and organization .  \n",
       "3  We shall not be able entirely to pass over these connections to the East as we consider Ripe Geometric pottery , the epic and the myth , and the religious evolution of early Greece ; the important point , however , is that these magnificent achievements , unlike those of later decades , were only incidentally influenced by Oriental models .  \n",
       "4                                                                                                                                                                                                                                                         The Brooklyn College student shows some striking departures from prevailing collegiate models .  \n",
       "5                                                                                                                          But at the end of the sitting , when Michelangelo showed him the quick , free drawings , with the mother roughed in , holding her son , the model grasped what Michelangelo was after , and promised to speak to his friends .  \n",
       "6                                                                                                                We devote a chapter to the binomial distribution not only because it is a mathematical model for an enormous variety of real life phenomena , but also because it has important properties that recur in many other probability models .  "
      ]
     },
     "execution_count": 4,
     "metadata": {},
     "output_type": "execute_result"
    }
   ],
   "source": [
    "pd.set_option('display.max_colwidth', 500)\n",
    "pd.concat(incorrect)"
   ]
  },
  {
   "cell_type": "markdown",
   "metadata": {},
   "source": [
    "I thought this might be useful to see if weights at similar positions were used."
   ]
  },
  {
   "cell_type": "code",
   "execution_count": 212,
   "metadata": {},
   "outputs": [
    {
     "data": {
      "text/plain": [
       "[('foot.n',\n",
       "  array([ 13,  29,  70,  89, 141, 158, 191, 226, 231, 287, 304, 308, 493,\n",
       "         518, 532, 547, 637, 664, 693, 709, 730])),\n",
       " ('table.n',\n",
       "  array([  9,  37,  49, 136, 143, 286, 308, 317, 332, 334, 393, 398, 445,\n",
       "         471, 609, 619, 666, 680])),\n",
       " ('plane.n',\n",
       "  array([105, 157, 254, 286, 308, 409, 411, 414, 448, 480, 513, 619, 637,\n",
       "         685, 695])),\n",
       " ('right.n', array([ 58,  62,  65, 135, 184, 308, 338, 514, 606, 747])),\n",
       " ('model.n',\n",
       "  array([ 74, 121, 161, 282, 308, 340, 364, 423, 434, 450, 452, 473, 525,\n",
       "         552, 586, 619, 739])),\n",
       " ('degree.n',\n",
       "  array([ 15,  22, 220, 262, 328, 350, 432, 523, 541, 544, 565, 620, 724]))]"
      ]
     },
     "execution_count": 212,
     "metadata": {},
     "output_type": "execute_result"
    }
   ],
   "source": [
    "[(k, shared_metrics[k]['weight_indices']) for k in shared_words]"
   ]
  }
 ],
 "metadata": {
  "kernelspec": {
   "display_name": "Python [conda env:bert] *",
   "language": "python",
   "name": "conda-env-bert-py"
  },
  "language_info": {
   "codemirror_mode": {
    "name": "ipython",
    "version": 3
   },
   "file_extension": ".py",
   "mimetype": "text/x-python",
   "name": "python",
   "nbconvert_exporter": "python",
   "pygments_lexer": "ipython3",
   "version": "3.7.6"
  }
 },
 "nbformat": 4,
 "nbformat_minor": 2
}
