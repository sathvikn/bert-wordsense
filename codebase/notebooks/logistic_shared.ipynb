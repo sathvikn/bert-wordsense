{
 "cells": [
  {
   "cell_type": "code",
   "execution_count": 1,
   "metadata": {},
   "outputs": [
    {
     "data": {
      "text/plain": [
       "<Figure size 432x288 with 0 Axes>"
      ]
     },
     "metadata": {},
     "output_type": "display_data"
    }
   ],
   "source": [
    "from sklearn.linear_model import Lasso, LogisticRegression\n",
    "from sklearn.preprocessing import LabelEncoder\n",
    "from sklearn.model_selection import KFold\n",
    "from sklearn.metrics import accuracy_score, f1_score, confusion_matrix\n",
    "import numpy as np\n",
    "import pandas as pd\n",
    "from core.analysis import *\n",
    "from core import semcor_bert_pipeline\n",
    "from core.metrics import *"
   ]
  },
  {
   "cell_type": "markdown",
   "metadata": {},
   "source": [
    "## Binary Logistic Regression"
   ]
  },
  {
   "cell_type": "markdown",
   "metadata": {},
   "source": [
    "For the shared words, we find that homonymous and polysemous senses are able to be distinguished"
   ]
  },
  {
   "cell_type": "code",
   "execution_count": 2,
   "metadata": {
    "scrolled": true
   },
   "outputs": [
    {
     "name": "stderr",
     "output_type": "stream",
     "text": [
      "/anaconda3/envs/bert/lib/python3.7/site-packages/sklearn/metrics/_classification.py:1515: UndefinedMetricWarning: F-score is ill-defined and being set to 0.0 due to no true nor predicted samples. Use `zero_division` parameter to control this behavior.\n",
      "  average, \"true nor predicted\", 'F-score is', len(true_sum)\n"
     ]
    }
   ],
   "source": [
    "shared_metrics = {}\n",
    "shared_words = ['foot.n', 'plane.n', 'model.n', 'table.n', 'degree.n', 'right.n']\n",
    "fmt_sense_12 = lambda w: [w + '.01', w + '.02']\n",
    "shared_senses = [fmt_sense_12(w) for w in shared_words]\n",
    "shared_senses[-1] = ['degree.n.01', 'academic_degree.n.01']\n",
    "shared_senses[1] = ['airplane.n.01', 'plane.n.02']\n",
    "for w_s in zip(shared_words, shared_senses):\n",
    "    model_data = binary_logistic(w_s[0], w_s[1])\n",
    "    weight_values, weight_indices = nonzero_weights(model_data['model'])\n",
    "    f_scores, accuracies, wrong_indices = k_fold_cv(model_data['data'], model_data['transformed_labels'], k = )\n",
    "    shared_metrics[w_s[0]] = {'senses': w_s[1], 'data': model_data, 'weights': weight_values,\n",
    "                    'weight_indices': weight_indices, 'f1_kfold': f_scores, 'acc_kfold': accuracies,\n",
    "                             'incorrect_indices': wrong_indices}\n",
    "    "
   ]
  },
  {
   "cell_type": "code",
   "execution_count": 3,
   "metadata": {
    "scrolled": true
   },
   "outputs": [
    {
     "data": {
      "text/html": [
       "<div>\n",
       "<style scoped>\n",
       "    .dataframe tbody tr th:only-of-type {\n",
       "        vertical-align: middle;\n",
       "    }\n",
       "\n",
       "    .dataframe tbody tr th {\n",
       "        vertical-align: top;\n",
       "    }\n",
       "\n",
       "    .dataframe thead th {\n",
       "        text-align: right;\n",
       "    }\n",
       "</style>\n",
       "<table border=\"1\" class=\"dataframe\">\n",
       "  <thead>\n",
       "    <tr style=\"text-align: right;\">\n",
       "      <th></th>\n",
       "      <th>word_type</th>\n",
       "      <th>avg_f1</th>\n",
       "      <th>avg_acc</th>\n",
       "      <th>pct_nonzero_weights</th>\n",
       "      <th>max_wt</th>\n",
       "      <th>min_wt</th>\n",
       "      <th>mean_nonzero_wt</th>\n",
       "      <th>sd_nonzero_wt</th>\n",
       "    </tr>\n",
       "  </thead>\n",
       "  <tbody>\n",
       "    <tr>\n",
       "      <th>0</th>\n",
       "      <td>foot.n</td>\n",
       "      <td>1.000000</td>\n",
       "      <td>1.000000</td>\n",
       "      <td>0.031250</td>\n",
       "      <td>0.221638</td>\n",
       "      <td>-0.229722</td>\n",
       "      <td>0.028953</td>\n",
       "      <td>0.132456</td>\n",
       "    </tr>\n",
       "    <tr>\n",
       "      <th>1</th>\n",
       "      <td>plane.n</td>\n",
       "      <td>0.933333</td>\n",
       "      <td>0.980000</td>\n",
       "      <td>0.015625</td>\n",
       "      <td>0.491381</td>\n",
       "      <td>-0.265000</td>\n",
       "      <td>0.054483</td>\n",
       "      <td>0.223284</td>\n",
       "    </tr>\n",
       "    <tr>\n",
       "      <th>2</th>\n",
       "      <td>model.n</td>\n",
       "      <td>0.518095</td>\n",
       "      <td>0.885455</td>\n",
       "      <td>0.037760</td>\n",
       "      <td>0.274155</td>\n",
       "      <td>-0.291541</td>\n",
       "      <td>0.020775</td>\n",
       "      <td>0.136917</td>\n",
       "    </tr>\n",
       "    <tr>\n",
       "      <th>3</th>\n",
       "      <td>table.n</td>\n",
       "      <td>0.992000</td>\n",
       "      <td>0.993548</td>\n",
       "      <td>0.033854</td>\n",
       "      <td>0.475794</td>\n",
       "      <td>-0.253788</td>\n",
       "      <td>0.013552</td>\n",
       "      <td>0.151044</td>\n",
       "    </tr>\n",
       "    <tr>\n",
       "      <th>4</th>\n",
       "      <td>degree.n</td>\n",
       "      <td>1.000000</td>\n",
       "      <td>1.000000</td>\n",
       "      <td>0.018229</td>\n",
       "      <td>0.456742</td>\n",
       "      <td>-0.227727</td>\n",
       "      <td>0.001208</td>\n",
       "      <td>0.166292</td>\n",
       "    </tr>\n",
       "  </tbody>\n",
       "</table>\n",
       "</div>"
      ],
      "text/plain": [
       "  word_type    avg_f1   avg_acc  pct_nonzero_weights    max_wt    min_wt  \\\n",
       "0    foot.n  1.000000  1.000000             0.031250  0.221638 -0.229722   \n",
       "1   plane.n  0.933333  0.980000             0.015625  0.491381 -0.265000   \n",
       "2   model.n  0.518095  0.885455             0.037760  0.274155 -0.291541   \n",
       "3   table.n  0.992000  0.993548             0.033854  0.475794 -0.253788   \n",
       "4  degree.n  1.000000  1.000000             0.018229  0.456742 -0.227727   \n",
       "\n",
       "   mean_nonzero_wt  sd_nonzero_wt  \n",
       "0         0.028953       0.132456  \n",
       "1         0.054483       0.223284  \n",
       "2         0.020775       0.136917  \n",
       "3         0.013552       0.151044  \n",
       "4         0.001208       0.166292  "
      ]
     },
     "execution_count": 3,
     "metadata": {},
     "output_type": "execute_result"
    }
   ],
   "source": [
    "shared_stats = []\n",
    "incorrect = []\n",
    "for k in shared_metrics:\n",
    "    word_results = shared_metrics[k]\n",
    "    weights = word_results['weights']\n",
    "    incorrect.append(misclassified_sentences(word_results['data'], word_results['incorrect_indices']))\n",
    "    shared_stats.append({'word_type': k, 'avg_f1': np.mean(word_results['f1_kfold']), 'avg_acc': np.mean(word_results['acc_kfold']),\n",
    "    'pct_nonzero_weights': len(weights) / 768, 'max_wt': max(weights), 'min_wt': min(weights), 'mean_nonzero_wt': np.mean(weights), 'sd_nonzero_wt': np.std(weights)})\n",
    "pd.DataFrame(shared_stats)"
   ]
  },
  {
   "cell_type": "markdown",
   "metadata": {},
   "source": [
    "Misclassified senses (Only binary classification, 3/16 senses for math plane were misclassified)"
   ]
  },
  {
   "cell_type": "code",
   "execution_count": 4,
   "metadata": {},
   "outputs": [
    {
     "data": {
      "text/html": [
       "<div>\n",
       "<style scoped>\n",
       "    .dataframe tbody tr th:only-of-type {\n",
       "        vertical-align: middle;\n",
       "    }\n",
       "\n",
       "    .dataframe tbody tr th {\n",
       "        vertical-align: top;\n",
       "    }\n",
       "\n",
       "    .dataframe thead th {\n",
       "        text-align: right;\n",
       "    }\n",
       "</style>\n",
       "<table border=\"1\" class=\"dataframe\">\n",
       "  <thead>\n",
       "    <tr style=\"text-align: right;\">\n",
       "      <th></th>\n",
       "      <th>true_label</th>\n",
       "      <th>sentences</th>\n",
       "    </tr>\n",
       "  </thead>\n",
       "  <tbody>\n",
       "    <tr>\n",
       "      <th>0</th>\n",
       "      <td>plane.n.02</td>\n",
       "      <td>The plane of the action in the scene is not parallel with the plane of the film in the camera or on the screen .</td>\n",
       "    </tr>\n",
       "    <tr>\n",
       "      <th>0</th>\n",
       "      <td>model.n.01</td>\n",
       "      <td>His first model arrived at dusk .</td>\n",
       "    </tr>\n",
       "    <tr>\n",
       "      <th>1</th>\n",
       "      <td>model.n.01</td>\n",
       "      <td>We devote a chapter to the binomial distribution not only because it is a mathematical model for an enormous variety of real life phenomena , but also because it has important properties that recur in many other probability models .</td>\n",
       "    </tr>\n",
       "    <tr>\n",
       "      <th>2</th>\n",
       "      <td>model.n.01</td>\n",
       "      <td>His first model arrived at dusk .</td>\n",
       "    </tr>\n",
       "    <tr>\n",
       "      <th>3</th>\n",
       "      <td>model.n.01</td>\n",
       "      <td>His first model arrived at dusk .</td>\n",
       "    </tr>\n",
       "    <tr>\n",
       "      <th>4</th>\n",
       "      <td>model.n.01</td>\n",
       "      <td>The model quite plainly thought Michelangelo crazy ; only the instructions from his rabbi kept him from bolting .</td>\n",
       "    </tr>\n",
       "    <tr>\n",
       "      <th>5</th>\n",
       "      <td>model.n.01</td>\n",
       "      <td>But at the end of the sitting , when Michelangelo showed him the quick , free drawings , with the mother roughed in , holding her son , the model grasped what Michelangelo was after , and promised to speak to his friends .</td>\n",
       "    </tr>\n",
       "    <tr>\n",
       "      <th>0</th>\n",
       "      <td>table.n.01</td>\n",
       "      <td>The registration figures given in Table 2 must be interpreted with caution since the estimate for eligible electors were made without the benefit of a reliable census .</td>\n",
       "    </tr>\n",
       "  </tbody>\n",
       "</table>\n",
       "</div>"
      ],
      "text/plain": [
       "   true_label  \\\n",
       "0  plane.n.02   \n",
       "0  model.n.01   \n",
       "1  model.n.01   \n",
       "2  model.n.01   \n",
       "3  model.n.01   \n",
       "4  model.n.01   \n",
       "5  model.n.01   \n",
       "0  table.n.01   \n",
       "\n",
       "                                                                                                                                                                                                                                  sentences  \n",
       "0                                                                                                                          The plane of the action in the scene is not parallel with the plane of the film in the camera or on the screen .  \n",
       "0                                                                                                                                                                                                         His first model arrived at dusk .  \n",
       "1  We devote a chapter to the binomial distribution not only because it is a mathematical model for an enormous variety of real life phenomena , but also because it has important properties that recur in many other probability models .  \n",
       "2                                                                                                                                                                                                         His first model arrived at dusk .  \n",
       "3                                                                                                                                                                                                         His first model arrived at dusk .  \n",
       "4                                                                                                                         The model quite plainly thought Michelangelo crazy ; only the instructions from his rabbi kept him from bolting .  \n",
       "5            But at the end of the sitting , when Michelangelo showed him the quick , free drawings , with the mother roughed in , holding her son , the model grasped what Michelangelo was after , and promised to speak to his friends .  \n",
       "0                                                                  The registration figures given in Table 2 must be interpreted with caution since the estimate for eligible electors were made without the benefit of a reliable census .  "
      ]
     },
     "execution_count": 4,
     "metadata": {},
     "output_type": "execute_result"
    }
   ],
   "source": [
    "pd.set_option('display.max_colwidth', 500)\n",
    "pd.concat(incorrect)"
   ]
  },
  {
   "cell_type": "markdown",
   "metadata": {},
   "source": [
    "I thought this might be useful to see if weights at similar positions were used."
   ]
  },
  {
   "cell_type": "code",
   "execution_count": 7,
   "metadata": {},
   "outputs": [
    {
     "data": {
      "text/plain": [
       "[('foot.n',\n",
       "  array([ 13,  29,  40,  70,  89, 184, 191, 217, 231, 278, 287, 304, 308,\n",
       "         332, 493, 518, 528, 532, 547, 637, 664, 693, 709, 730])),\n",
       " ('plane.n',\n",
       "  array([105, 157, 254, 286, 308, 324, 411, 413, 448, 513, 539, 619])),\n",
       " ('model.n',\n",
       "  array([ 18,  49,  68,  74,  79, 101, 114, 242, 254, 259, 282, 289, 340,\n",
       "         364, 450, 473, 477, 509, 520, 523, 525, 527, 552, 574, 586, 597,\n",
       "         618, 739, 749])),\n",
       " ('table.n',\n",
       "  array([ 37,  67,  94, 136, 143, 188, 213, 228, 252, 286, 298, 317, 332,\n",
       "         334, 363, 376, 393, 445, 481, 487, 552, 661, 666, 680, 705, 753])),\n",
       " ('degree.n',\n",
       "  array([ 15,  22, 220, 262, 328, 350, 432, 523, 537, 541, 544, 620, 622,\n",
       "         724]))]"
      ]
     },
     "execution_count": 7,
     "metadata": {},
     "output_type": "execute_result"
    }
   ],
   "source": [
    "[(k, shared_metrics[k]['weight_indices']) for k in shared_words]"
   ]
  },
  {
   "cell_type": "markdown",
   "metadata": {},
   "source": [
    "## All Classes"
   ]
  },
  {
   "cell_type": "code",
   "execution_count": 5,
   "metadata": {},
   "outputs": [],
   "source": [
    "db = access_db()"
   ]
  },
  {
   "cell_type": "code",
   "execution_count": 17,
   "metadata": {},
   "outputs": [
    {
     "name": "stdout",
     "output_type": "stream",
     "text": [
      "foot.n\n",
      "plane.n\n"
     ]
    },
    {
     "name": "stderr",
     "output_type": "stream",
     "text": [
      "/anaconda3/envs/bert/lib/python3.7/site-packages/sklearn/linear_model/_sag.py:330: ConvergenceWarning: The max_iter was reached which means the coef_ did not converge\n",
      "  \"the coef_ did not converge\", ConvergenceWarning)\n"
     ]
    },
    {
     "name": "stdout",
     "output_type": "stream",
     "text": [
      "model.n\n",
      "table.n\n"
     ]
    },
    {
     "name": "stderr",
     "output_type": "stream",
     "text": [
      "/anaconda3/envs/bert/lib/python3.7/site-packages/sklearn/linear_model/_sag.py:330: ConvergenceWarning: The max_iter was reached which means the coef_ did not converge\n",
      "  \"the coef_ did not converge\", ConvergenceWarning)\n"
     ]
    },
    {
     "name": "stdout",
     "output_type": "stream",
     "text": [
      "degree.n\n",
      "right.n\n"
     ]
    }
   ],
   "source": [
    "shared_model_data = {}\n",
    "shared_stats = []\n",
    "incorrect = []\n",
    "shared_words = ['foot.n', 'plane.n', 'model.n', 'table.n', 'degree.n', 'right.n']\n",
    "for w in shared_words:\n",
    "    print(w) #Checking where the model doesn't converge\n",
    "    model_results = logistic_cv(w, sel_senses = [fb_to_local(s) for s in get_senses(db, w.replace('.n', \"_n\"))],\n",
    "                               use_masc = False)\n",
    "    shared_model_data[w] = model_results\n",
    "    shared_stats.append({\"word\": w, 'avg_f1': np.mean(model_results['f1']),\n",
    "                         'avg_acc': np.mean(model_results['acc'])})    \n",
    "    incorrect.append(misclassified_sentences(model_results, model_results['incorrect_indices']))"
   ]
  },
  {
   "cell_type": "code",
   "execution_count": 18,
   "metadata": {},
   "outputs": [
    {
     "data": {
      "text/html": [
       "<div>\n",
       "<style scoped>\n",
       "    .dataframe tbody tr th:only-of-type {\n",
       "        vertical-align: middle;\n",
       "    }\n",
       "\n",
       "    .dataframe tbody tr th {\n",
       "        vertical-align: top;\n",
       "    }\n",
       "\n",
       "    .dataframe thead th {\n",
       "        text-align: right;\n",
       "    }\n",
       "</style>\n",
       "<table border=\"1\" class=\"dataframe\">\n",
       "  <thead>\n",
       "    <tr style=\"text-align: right;\">\n",
       "      <th></th>\n",
       "      <th>word</th>\n",
       "      <th>avg_f1</th>\n",
       "      <th>avg_acc</th>\n",
       "    </tr>\n",
       "  </thead>\n",
       "  <tbody>\n",
       "    <tr>\n",
       "      <th>0</th>\n",
       "      <td>foot.n</td>\n",
       "      <td>0.992533</td>\n",
       "      <td>0.993103</td>\n",
       "    </tr>\n",
       "    <tr>\n",
       "      <th>1</th>\n",
       "      <td>plane.n</td>\n",
       "      <td>0.898217</td>\n",
       "      <td>0.921429</td>\n",
       "    </tr>\n",
       "    <tr>\n",
       "      <th>2</th>\n",
       "      <td>model.n</td>\n",
       "      <td>0.916190</td>\n",
       "      <td>0.914286</td>\n",
       "    </tr>\n",
       "    <tr>\n",
       "      <th>3</th>\n",
       "      <td>table.n</td>\n",
       "      <td>0.913582</td>\n",
       "      <td>0.925735</td>\n",
       "    </tr>\n",
       "    <tr>\n",
       "      <th>4</th>\n",
       "      <td>degree.n</td>\n",
       "      <td>0.575987</td>\n",
       "      <td>0.563636</td>\n",
       "    </tr>\n",
       "    <tr>\n",
       "      <th>5</th>\n",
       "      <td>right.n</td>\n",
       "      <td>0.949059</td>\n",
       "      <td>0.945455</td>\n",
       "    </tr>\n",
       "  </tbody>\n",
       "</table>\n",
       "</div>"
      ],
      "text/plain": [
       "       word    avg_f1   avg_acc\n",
       "0    foot.n  0.992533  0.993103\n",
       "1   plane.n  0.898217  0.921429\n",
       "2   model.n  0.916190  0.914286\n",
       "3   table.n  0.913582  0.925735\n",
       "4  degree.n  0.575987  0.563636\n",
       "5   right.n  0.949059  0.945455"
      ]
     },
     "execution_count": 18,
     "metadata": {},
     "output_type": "execute_result"
    }
   ],
   "source": [
    "pd.DataFrame(shared_stats)"
   ]
  },
  {
   "cell_type": "code",
   "execution_count": 15,
   "metadata": {
    "scrolled": false
   },
   "outputs": [
    {
     "data": {
      "image/png": "[encoded data removed]",
      "text/plain": [
       "<Figure size 432x288 with 1 Axes>"
      ]
     },
     "metadata": {
      "needs_background": "light"
     },
     "output_type": "display_data"
    },
    {
     "data": {
      "image/png": "[encoded data removed]",
      "text/plain": [
       "<Figure size 432x288 with 1 Axes>"
      ]
     },
     "metadata": {
      "needs_background": "light"
     },
     "output_type": "display_data"
    },
    {
     "data": {
      "image/png": "[encoded data removed]",
      "text/plain": [
       "<Figure size 432x288 with 1 Axes>"
      ]
     },
     "metadata": {
      "needs_background": "light"
     },
     "output_type": "display_data"
    },
    {
     "data": {
      "image/png": "[encoded data removed]",
      "text/plain": [
       "<Figure size 432x288 with 1 Axes>"
      ]
     },
     "metadata": {
      "needs_background": "light"
     },
     "output_type": "display_data"
    },
    {
     "data": {
      "image/png": "[encoded data removed]",
      "text/plain": [
       "<Figure size 432x288 with 1 Axes>"
      ]
     },
     "metadata": {
      "needs_background": "light"
     },
     "output_type": "display_data"
    },
    {
     "data": {
      "image/png": "[encoded data removed]",
      "text/plain": [
       "<Figure size 432x288 with 1 Axes>"
      ]
     },
     "metadata": {
      "needs_background": "light"
     },
     "output_type": "display_data"
    }
   ],
   "source": [
    "for w in shared_words:\n",
    "    word_matrices = shared_model_data[w]['confusion_matrices']\n",
    "    senses = [fb_to_local(s) for s in get_senses(db, w.replace('.n', \"_n\"))]\n",
    "    plot_confusion_mtx(word_matrices, senses)"
   ]
  },
  {
   "cell_type": "code",
   "execution_count": 16,
   "metadata": {},
   "outputs": [
    {
     "data": {
      "text/html": [
       "<div>\n",
       "<style scoped>\n",
       "    .dataframe tbody tr th:only-of-type {\n",
       "        vertical-align: middle;\n",
       "    }\n",
       "\n",
       "    .dataframe tbody tr th {\n",
       "        vertical-align: top;\n",
       "    }\n",
       "\n",
       "    .dataframe thead th {\n",
       "        text-align: right;\n",
       "    }\n",
       "</style>\n",
       "<table border=\"1\" class=\"dataframe\">\n",
       "  <thead>\n",
       "    <tr style=\"text-align: right;\">\n",
       "      <th></th>\n",
       "      <th>true_label</th>\n",
       "      <th>sentences</th>\n",
       "    </tr>\n",
       "  </thead>\n",
       "  <tbody>\n",
       "    <tr>\n",
       "      <th>0</th>\n",
       "      <td>foot.n.02</td>\n",
       "      <td>Hans Schweizer had one that increased from 19 - 1 2 inches to 5 feet 3 inches in five years , and J . J . Quelch records a growth of from less than 4 feet to nearly 10 in about six years .</td>\n",
       "    </tr>\n",
       "    <tr>\n",
       "      <th>0</th>\n",
       "      <td>plane.n.02</td>\n",
       "      <td>If a is the major axis of an ellipsoid and b and c are the other two axes , the radius of curvature in the ab plane at the end of the axis is * * f , and the difference in pressure along the a and b axes is * * f .</td>\n",
       "    </tr>\n",
       "    <tr>\n",
       "      <th>1</th>\n",
       "      <td>plane.n.02</td>\n",
       "      <td>Also , planetary gravitational attraction increases the dust concentration near the plane of the ecliptic as the sun is approached .</td>\n",
       "    </tr>\n",
       "    <tr>\n",
       "      <th>0</th>\n",
       "      <td>model.n.03</td>\n",
       "      <td>He worked for two hours a day with each model sent by the rabbi .</td>\n",
       "    </tr>\n",
       "    <tr>\n",
       "      <th>1</th>\n",
       "      <td>model.n.03</td>\n",
       "      <td>His first model arrived at dusk .</td>\n",
       "    </tr>\n",
       "    <tr>\n",
       "      <th>0</th>\n",
       "      <td>table.n.01</td>\n",
       "      <td>Although the standard deviation values on which spread of the lines are based are relatively larger for those centers which begin to ossify early ( Table 1 ) , there are considerable differences in this value between centers having the closely timed Onsets .</td>\n",
       "    </tr>\n",
       "    <tr>\n",
       "      <th>1</th>\n",
       "      <td>table.n.01</td>\n",
       "      <td>It was stated earlier that one purpose of this study was to extend the analysis of variability of Onset and Completion in each of the 21 growth centers somewhat beyond that provided by the data in Tables 1 and 2 .</td>\n",
       "    </tr>\n",
       "    <tr>\n",
       "      <th>2</th>\n",
       "      <td>table.n.01</td>\n",
       "      <td>It may be assumed that differences in ratings due to selection of growth centers from specific regions of the body will be small , according to existing tables of onset age and completion age for centers throughout the body .</td>\n",
       "    </tr>\n",
       "    <tr>\n",
       "      <th>0</th>\n",
       "      <td>academic_degree.n.01</td>\n",
       "      <td>Dr. Clark holds an earned Doctor of Education degree from the University of Oklahoma .</td>\n",
       "    </tr>\n",
       "    <tr>\n",
       "      <th>1</th>\n",
       "      <td>academic_degree.n.01</td>\n",
       "      <td>He also received a Master of Science degree from Texas A+I College and a Bachelor of Science degree from Southwestern State College , Weatherford , Okla. .</td>\n",
       "    </tr>\n",
       "    <tr>\n",
       "      <th>2</th>\n",
       "      <td>academic_degree.n.01</td>\n",
       "      <td>For proper accreditation of schools , teachers in any course must have a degree at least one level above that for which the student is a candidate .</td>\n",
       "    </tr>\n",
       "    <tr>\n",
       "      <th>3</th>\n",
       "      <td>academic_degree.n.01</td>\n",
       "      <td>Indeed , it has only been a matter of the last few years that reputable schools of art have granted degrees at all .</td>\n",
       "    </tr>\n",
       "    <tr>\n",
       "      <th>4</th>\n",
       "      <td>academic_degree.n.01</td>\n",
       "      <td>One solution is the acquisition of degrees in education but it is a poor substitute .</td>\n",
       "    </tr>\n",
       "    <tr>\n",
       "      <th>5</th>\n",
       "      <td>academic_degree.n.01</td>\n",
       "      <td>The basic problem involved is that a college setting up a graduate school must have an entirely separate faculty for the advanced degree .</td>\n",
       "    </tr>\n",
       "    <tr>\n",
       "      <th>6</th>\n",
       "      <td>academic_degree.n.01</td>\n",
       "      <td>Most professors in the course must , naturally , again have a higher degree than the course offers .</td>\n",
       "    </tr>\n",
       "    <tr>\n",
       "      <th>7</th>\n",
       "      <td>academic_degree.n.01</td>\n",
       "      <td>He completed his training in pharmacy also , taking his degree with high honors in 1797 , and in 1799 was awarded the degree of Doctor of Philosophy along with a prize for an essay in medicine .</td>\n",
       "    </tr>\n",
       "    <tr>\n",
       "      <th>8</th>\n",
       "      <td>academic_degree.n.01</td>\n",
       "      <td>In all `` degree '' courses in interior design a number of `` academic '' or `` general studies '' courses are included .</td>\n",
       "    </tr>\n",
       "    <tr>\n",
       "      <th>9</th>\n",
       "      <td>academic_degree.n.01</td>\n",
       "      <td>He also received a Master of Science degree from Texas A+I College and a Bachelor of Science degree from Southwestern State College , Weatherford , Okla. .</td>\n",
       "    </tr>\n",
       "    <tr>\n",
       "      <th>0</th>\n",
       "      <td>right.n.02</td>\n",
       "      <td>Her quarters were on the right as you walked into the building , and her small front room was clogged with heavy furniture - a big , round , oak dining table and chairs , a buffet , with a row of unclaimed letters inserted between the mirror and its frame .</td>\n",
       "    </tr>\n",
       "  </tbody>\n",
       "</table>\n",
       "</div>"
      ],
      "text/plain": [
       "             true_label  \\\n",
       "0             foot.n.02   \n",
       "0            plane.n.02   \n",
       "1            plane.n.02   \n",
       "0            model.n.03   \n",
       "1            model.n.03   \n",
       "0            table.n.01   \n",
       "1            table.n.01   \n",
       "2            table.n.01   \n",
       "0  academic_degree.n.01   \n",
       "1  academic_degree.n.01   \n",
       "2  academic_degree.n.01   \n",
       "3  academic_degree.n.01   \n",
       "4  academic_degree.n.01   \n",
       "5  academic_degree.n.01   \n",
       "6  academic_degree.n.01   \n",
       "7  academic_degree.n.01   \n",
       "8  academic_degree.n.01   \n",
       "9  academic_degree.n.01   \n",
       "0            right.n.02   \n",
       "\n",
       "                                                                                                                                                                                                                                                            sentences  \n",
       "0                                                                        Hans Schweizer had one that increased from 19 - 1 2 inches to 5 feet 3 inches in five years , and J . J . Quelch records a growth of from less than 4 feet to nearly 10 in about six years .  \n",
       "0                                              If a is the major axis of an ellipsoid and b and c are the other two axes , the radius of curvature in the ab plane at the end of the axis is * * f , and the difference in pressure along the a and b axes is * * f .  \n",
       "1                                                                                                                                Also , planetary gravitational attraction increases the dust concentration near the plane of the ecliptic as the sun is approached .  \n",
       "0                                                                                                                                                                                                   He worked for two hours a day with each model sent by the rabbi .  \n",
       "1                                                                                                                                                                                                                                   His first model arrived at dusk .  \n",
       "0  Although the standard deviation values on which spread of the lines are based are relatively larger for those centers which begin to ossify early ( Table 1 ) , there are considerable differences in this value between centers having the closely timed Onsets .  \n",
       "1                                               It was stated earlier that one purpose of this study was to extend the analysis of variability of Onset and Completion in each of the 21 growth centers somewhat beyond that provided by the data in Tables 1 and 2 .  \n",
       "2                                   It may be assumed that differences in ratings due to selection of growth centers from specific regions of the body will be small , according to existing tables of onset age and completion age for centers throughout the body .  \n",
       "0                                                                                                                                                                              Dr. Clark holds an earned Doctor of Education degree from the University of Oklahoma .  \n",
       "1                                                                                                         He also received a Master of Science degree from Texas A+I College and a Bachelor of Science degree from Southwestern State College , Weatherford , Okla. .  \n",
       "2                                                                                                                For proper accreditation of schools , teachers in any course must have a degree at least one level above that for which the student is a candidate .  \n",
       "3                                                                                                                                                Indeed , it has only been a matter of the last few years that reputable schools of art have granted degrees at all .  \n",
       "4                                                                                                                                                                               One solution is the acquisition of degrees in education but it is a poor substitute .  \n",
       "5                                                                                                                          The basic problem involved is that a college setting up a graduate school must have an entirely separate faculty for the advanced degree .  \n",
       "6                                                                                                                                                                Most professors in the course must , naturally , again have a higher degree than the course offers .  \n",
       "7                                                                  He completed his training in pharmacy also , taking his degree with high honors in 1797 , and in 1799 was awarded the degree of Doctor of Philosophy along with a prize for an essay in medicine .  \n",
       "8                                                                                                                                           In all `` degree '' courses in interior design a number of `` academic '' or `` general studies '' courses are included .  \n",
       "9                                                                                                         He also received a Master of Science degree from Texas A+I College and a Bachelor of Science degree from Southwestern State College , Weatherford , Okla. .  \n",
       "0   Her quarters were on the right as you walked into the building , and her small front room was clogged with heavy furniture - a big , round , oak dining table and chairs , a buffet , with a row of unclaimed letters inserted between the mirror and its frame .  "
      ]
     },
     "execution_count": 16,
     "metadata": {},
     "output_type": "execute_result"
    }
   ],
   "source": [
    "pd.set_option('display.max_colwidth', 500)\n",
    "\n",
    "pd.concat(incorrect)"
   ]
  },
  {
   "cell_type": "markdown",
   "metadata": {},
   "source": [
    "## Weight Analyses"
   ]
  },
  {
   "cell_type": "markdown",
   "metadata": {},
   "source": [
    "If we look at cosine distance of centroids, will we achieve comparable results using only the embeddings at indices that had nonzero weights?"
   ]
  },
  {
   "cell_type": "code",
   "execution_count": 62,
   "metadata": {},
   "outputs": [],
   "source": [
    "for w in shared_model_data.keys():\n",
    "    results = shared_model_data[w]\n",
    "    save_embeds_with_wts(results['data'], results['labels'], results['weights'], w)"
   ]
  },
  {
   "cell_type": "code",
   "execution_count": 64,
   "metadata": {},
   "outputs": [],
   "source": [
    "def cosine_sim_mtx(word, pos, sel_senses = [], use_masc = False, corpus = 'semcor', normalize = False):\n",
    "    data = semcor_bert_pipeline.load_data(word, pos, corpus)\n",
    "    word_embeddings = data['embeddings']\n",
    "    sense_labels = data['sense_labels']\n",
    "    if use_masc:\n",
    "        try:\n",
    "            masc_data = semcor_bert_pipeline.load_data(word, pos, 'masc')\n",
    "            word_embeddings += masc_data['embeddings']\n",
    "            sense_labels += masc_data['sense_labels']\n",
    "        except:\n",
    "            pass\n",
    "\n",
    "    embeddings_by_sense = {}\n",
    "    word_embeddings = np.array([np.array(e) for e in word_embeddings])\n",
    "    if not len(sel_senses):\n",
    "        strip_synset = lambda s: s.strip(\"Synset()\").strip(\"'\")\n",
    "        sel_senses = [strip_synset(i) for i in data['sense_names']]\n",
    "    for s in sel_senses:\n",
    "        embeddings_by_sense[s] = word_embeddings[np.argwhere(np.array(sense_labels) == s).flatten()]\n",
    "    result_mtx = []\n",
    "    for i in sel_senses:\n",
    "        row = []\n",
    "        for j in sel_senses:\n",
    "            dist = cs_centroids(embeddings_by_sense[i], embeddings_by_sense[j])\n",
    "            row.append(dist)\n",
    "        result_mtx.append(np.asarray(row))\n",
    "    result_mtx = np.asarray(result_mtx)\n",
    "    if normalize:\n",
    "        return normalize_cos_dist(result_mtx), sel_senses\n",
    "    return result_mtx, sel_senses\n"
   ]
  },
  {
   "cell_type": "code",
   "execution_count": 68,
   "metadata": {},
   "outputs": [],
   "source": [
    "from sklearn.manifold import MDS"
   ]
  },
  {
   "cell_type": "code",
   "execution_count": 7,
   "metadata": {},
   "outputs": [],
   "source": [
    "shared_words = ['foot.n', 'plane.n', 'model.n', 'table.n', 'degree.n', 'right.n']\n"
   ]
  },
  {
   "cell_type": "code",
   "execution_count": 11,
   "metadata": {},
   "outputs": [
    {
     "data": {
      "image/png": "[encoded data removed]",
      "text/plain": [
       "<Figure size 432x288 with 1 Axes>"
      ]
     },
     "metadata": {
      "needs_background": "light"
     },
     "output_type": "display_data"
    },
    {
     "data": {
      "image/png": "[encoded data removed]",
      "text/plain": [
       "<Figure size 432x288 with 1 Axes>"
      ]
     },
     "metadata": {
      "needs_background": "light"
     },
     "output_type": "display_data"
    },
    {
     "data": {
      "image/png": "[encoded data removed]",
      "text/plain": [
       "<Figure size 432x288 with 1 Axes>"
      ]
     },
     "metadata": {
      "needs_background": "light"
     },
     "output_type": "display_data"
    },
    {
     "data": {
      "image/png": "[encoded data removed]",
      "text/plain": [
       "<Figure size 432x288 with 1 Axes>"
      ]
     },
     "metadata": {
      "needs_background": "light"
     },
     "output_type": "display_data"
    },
    {
     "data": {
      "image/png": "[encoded data removed]",
      "text/plain": [
       "<Figure size 432x288 with 1 Axes>"
      ]
     },
     "metadata": {
      "needs_background": "light"
     },
     "output_type": "display_data"
    },
    {
     "data": {
      "image/png": "[encoded data removed]",
      "text/plain": [
       "<Figure size 432x288 with 1 Axes>"
      ]
     },
     "metadata": {
      "needs_background": "light"
     },
     "output_type": "display_data"
    }
   ],
   "source": [
    "for w in shared_words:\n",
    "    result_mtx, sense_names = cosine_sim_mtx(w.replace('.n', ''), 'n',sel_senses = [fb_to_local(s) for s in get_senses(db, w.replace('.', \"_\"))],\n",
    "                                            use_masc = False, normalize = False)\n",
    "    mds_model = MDS(n_components = 2, dissimilarity = 'precomputed')\n",
    "    plot_mds(result_mtx, w.replace('.', '_'), mds_model, db, \"BERT Centroid\")"
   ]
  },
  {
   "cell_type": "code",
   "execution_count": 13,
   "metadata": {},
   "outputs": [
    {
     "name": "stderr",
     "output_type": "stream",
     "text": [
      "/Users/sathvik/Desktop/Berkeley/Research/thesis/codebase/core/analysis.py:82: SettingWithCopyWarning: \n",
      "A value is trying to be set on a copy of a slice from a DataFrame.\n",
      "Try using .loc[row_indexer,col_indexer] = value instead\n",
      "\n",
      "See the caveats in the documentation: http://pandas.pydata.org/pandas-docs/stable/user_guide/indexing.html#returning-a-view-versus-a-copy\n",
      "  time['changes'] = user_changes['prevChanged'].values\n"
     ]
    }
   ],
   "source": [
    "results, incl_users = get_results_elig_users(db, 'Self Consistency', 0.2)"
   ]
  },
  {
   "cell_type": "code",
   "execution_count": 19,
   "metadata": {},
   "outputs": [],
   "source": [
    "matrices = {w: {} for w in shared_words}\n",
    "\n",
    "#print(\"Spearman Rank Correlations for Shared Words\")\n",
    "for w in shared_words:\n",
    "    expt_means = mean_distance_mtx(results, w.replace('.', '_'), 'shared', incl_users, normalize = True)\n",
    "    matrices[w]['expt'] = expt_means\n",
    "    word, pos = w.split(\".\")\n",
    "    bert_cs, sense_names = cosine_sim_mtx(word, pos, sel_senses = [fb_to_local(s) for s in get_senses(db, w.replace('.', '_'))],\n",
    "                                          use_masc = True)\n",
    "    bert_cs = normalize_cos_dist(bert_cs)\n",
    "    matrices[w]['bert'] = bert_cs\n"
   ]
  },
  {
   "cell_type": "code",
   "execution_count": 21,
   "metadata": {},
   "outputs": [
    {
     "data": {
      "text/plain": [
       "0.7676373989782944"
      ]
     },
     "execution_count": 21,
     "metadata": {},
     "output_type": "execute_result"
    }
   ],
   "source": [
    "all_human_avg = [matrices[w]['expt'] for w in shared_words]\n",
    "all_bert_cs = [matrices[w]['bert'] for w in shared_words]\n",
    "bert_human_shared = mtx_correlation(all_human_avg, all_bert_cs, method = 'pearson')\n",
    "bert_human_shared"
   ]
  },
  {
   "cell_type": "code",
   "execution_count": 23,
   "metadata": {},
   "outputs": [
    {
     "data": {
      "text/plain": [
       "1.1102230246251565e-16"
      ]
     },
     "execution_count": 23,
     "metadata": {},
     "output_type": "execute_result"
    }
   ],
   "source": [
    "0.7676373989782945 - bert_human_shared"
   ]
  },
  {
   "cell_type": "code",
   "execution_count": null,
   "metadata": {},
   "outputs": [],
   "source": [
    "def get_lemma_counts(results, incl_users):\n",
    "    test_repeat = results[(results['userID'].isin(incl_users)) & (results['trialType'].isin(['test', 'repeat']))]\n",
    "    lemma_counts = test_repeat['lemma'].value_counts()\n",
    "    lemma_counts = pd.DataFrame(lemma_counts / [get_num_senses(l, db) for l in lemma_counts.index]).sort_values('lemma',\n",
    "                                                                                                 ascending = False)\n",
    "    lemma_counts['num_trials'] = lemma_counts['lemma']\n",
    "    lemma_counts.drop('lemma', axis = 1, inplace = True)\n",
    "    lemma_counts = lemma_counts.reset_index()\n",
    "    lemma_counts.rename({'index': 'lemma'}, axis = 1, inplace = True)\n",
    "    return lemma_counts"
   ]
  }
 ],
 "metadata": {
  "kernelspec": {
   "display_name": "Python [conda env:bert] *",
   "language": "python",
   "name": "conda-env-bert-py"
  },
  "language_info": {
   "codemirror_mode": {
    "name": "ipython",
    "version": 3
   },
   "file_extension": ".py",
   "mimetype": "text/x-python",
   "name": "python",
   "nbconvert_exporter": "python",
   "pygments_lexer": "ipython3",
   "version": "3.7.6"
  }
 },
 "nbformat": 4,
 "nbformat_minor": 2
}
