{
 "cells": [
  {
   "cell_type": "code",
   "execution_count": 1,
   "metadata": {},
   "outputs": [
    {
     "data": {
      "text/plain": [
       "<Figure size 432x288 with 0 Axes>"
      ]
     },
     "metadata": {},
     "output_type": "display_data"
    }
   ],
   "source": [
    "from core.analysis import *\n",
    "from core.metrics import *\n",
    "from core.semcor_bert_pipeline import get_pos"
   ]
  },
  {
   "cell_type": "markdown",
   "metadata": {},
   "source": [
    "In this notebook, we compare the correlations between human similarity data with the cosine distance matrices of the full BERT embeddings and the subsets of the embeddings we found were useful in WSD."
   ]
  },
  {
   "cell_type": "markdown",
   "metadata": {},
   "source": [
    "## Data Prep"
   ]
  },
  {
   "cell_type": "code",
   "execution_count": 2,
   "metadata": {},
   "outputs": [
    {
     "name": "stderr",
     "output_type": "stream",
     "text": [
      "/Users/sathvik/Desktop/Berkeley/Research/thesis/codebase/core/analysis.py:82: SettingWithCopyWarning: \n",
      "A value is trying to be set on a copy of a slice from a DataFrame.\n",
      "Try using .loc[row_indexer,col_indexer] = value instead\n",
      "\n",
      "See the caveats in the documentation: http://pandas.pydata.org/pandas-docs/stable/user_guide/indexing.html#returning-a-view-versus-a-copy\n",
      "  time['changes'] = user_changes['prevChanged'].values\n"
     ]
    }
   ],
   "source": [
    "db = access_db()\n",
    "results, corrs = get_results_users(db)"
   ]
  },
  {
   "cell_type": "code",
   "execution_count": 36,
   "metadata": {},
   "outputs": [],
   "source": [
    "min_time = corrs.drop('userID', axis = 1).apply(np.mean)['timeTaken'] - corrs.drop('userID', axis = 1).apply(np.std)['timeTaken']\n",
    "incl_users = corrs[(corrs['timeTaken'] > min_time) & ((corrs['Group Consistency'] > 0.4) & (corrs['Self Consistency'] > 0.2))]['userID']\n",
    "incl_users = incl_users.tolist()"
   ]
  },
  {
   "cell_type": "code",
   "execution_count": 37,
   "metadata": {},
   "outputs": [],
   "source": [
    "shared_words = ['foot_n', 'table_n', 'plane_n', 'degree_n', 'right_n', 'model_n']\n",
    "lemma_counts = get_lemma_counts(results, incl_users, db)\n",
    "test_repeat_words = lemma_counts[lemma_counts['num_trials'] > 10]['lemma'].tolist()\n",
    "all_words = shared_words + test_repeat_words"
   ]
  },
  {
   "cell_type": "code",
   "execution_count": 47,
   "metadata": {},
   "outputs": [],
   "source": [
    "def get_test_result_data(results, w, incl_users):\n",
    "    test_means = mean_distance_mtx(results, w, 'test', incl_users, normalize = True)\n",
    "    repeat_means = mean_distance_mtx(results, w, 'repeat', incl_users, normalize = True)\n",
    "    expt_means = test_means\n",
    "    if repeat_means.shape:\n",
    "        expt_means = np.mean([test_means, repeat_means], axis = 0)\n",
    "        expt_means /= np.max(expt_means)\n",
    "    return expt_means"
   ]
  },
  {
   "cell_type": "code",
   "execution_count": 48,
   "metadata": {},
   "outputs": [],
   "source": [
    "matrices = {}\n",
    "for w in all_words:\n",
    "    matrices[w] = {}\n",
    "    word, pos = w.split('_')\n",
    "    cs_mtx_full, _ = cosine_sim_mtx(word, pos, sel_senses = [fb_to_local(s) for s in get_senses(db, w)],\n",
    "                                                    use_masc = False, normalize = True)\n",
    "    matrices[w]['bert_full'] = cs_mtx_full\n",
    "    if w in test_repeat_words:\n",
    "        expt_mtx = get_test_result_data(results, w, incl_users)\n",
    "    else:\n",
    "        expt_mtx = mean_distance_mtx(results, w, 'shared', incl_users, normalize = True)\n",
    "    matrices[w]['expt'] = expt_mtx\n",
    "    cs_mtx_sel, _ = cosine_sim_mtx(word, pos, sel_senses = [fb_to_local(s) for s in get_senses(db, w)],\n",
    "                                                    corpus = 'select_weights', use_masc = False, normalize = True)\n",
    "    matrices[w]['bert_selected'] = cs_mtx_sel"
   ]
  },
  {
   "cell_type": "code",
   "execution_count": 49,
   "metadata": {},
   "outputs": [],
   "source": [
    "all_human_avg = [matrices[w]['expt'] for w in all_words]\n",
    "all_bert_full = [matrices[w]['bert_full'] for w in all_words]\n",
    "all_bert_sel = [matrices[w]['bert_selected'] for w in all_words]"
   ]
  },
  {
   "cell_type": "code",
   "execution_count": 50,
   "metadata": {},
   "outputs": [],
   "source": [
    "results['num_senses'] = results['lemma'].apply(get_num_senses, args = [db])\n",
    "results['pos'] = results['lemma'].apply(get_pos, args = ['_'])\n",
    "all_trials = results[results['lemma'].isin(all_words) & (results['userID'].isin(incl_users))]"
   ]
  },
  {
   "cell_type": "markdown",
   "metadata": {},
   "source": [
    "## Global Correlations"
   ]
  },
  {
   "cell_type": "code",
   "execution_count": 51,
   "metadata": {},
   "outputs": [
    {
     "data": {
      "text/html": [
       "<div>\n",
       "<style scoped>\n",
       "    .dataframe tbody tr th:only-of-type {\n",
       "        vertical-align: middle;\n",
       "    }\n",
       "\n",
       "    .dataframe tbody tr th {\n",
       "        vertical-align: top;\n",
       "    }\n",
       "\n",
       "    .dataframe thead th {\n",
       "        text-align: right;\n",
       "    }\n",
       "</style>\n",
       "<table border=\"1\" class=\"dataframe\">\n",
       "  <thead>\n",
       "    <tr style=\"text-align: right;\">\n",
       "      <th></th>\n",
       "      <th>Pearson Correlation with Average Reported Distance</th>\n",
       "    </tr>\n",
       "  </thead>\n",
       "  <tbody>\n",
       "    <tr>\n",
       "      <th>nonzero_weights</th>\n",
       "      <td>0.494547</td>\n",
       "    </tr>\n",
       "    <tr>\n",
       "      <th>all_weights</th>\n",
       "      <td>0.513578</td>\n",
       "    </tr>\n",
       "  </tbody>\n",
       "</table>\n",
       "</div>"
      ],
      "text/plain": [
       "                 Pearson Correlation with Average Reported Distance\n",
       "nonzero_weights                                           0.494547 \n",
       "all_weights                                               0.513578 "
      ]
     },
     "execution_count": 51,
     "metadata": {},
     "output_type": "execute_result"
    }
   ],
   "source": [
    "pd.DataFrame(pd.Series({'nonzero_weights': mtx_correlation(all_human_avg, all_bert_sel, method = 'pearson'),\n",
    "'all_weights': mtx_correlation(all_human_avg, all_bert_full, method = 'pearson')}),\n",
    "             columns = ['Pearson Correlation with Average Reported Distance'])"
   ]
  },
  {
   "cell_type": "markdown",
   "metadata": {},
   "source": [
    "## POS Correlations"
   ]
  },
  {
   "cell_type": "code",
   "execution_count": 52,
   "metadata": {},
   "outputs": [],
   "source": [
    "import matplotlib.pyplot as plt\n",
    "import seaborn as sns"
   ]
  },
  {
   "cell_type": "code",
   "execution_count": 53,
   "metadata": {},
   "outputs": [
    {
     "data": {
      "text/plain": [
       "Text(0.5, 1, 'Correlation of BERT Embeddings with Experimental Data Based on PoS')"
      ]
     },
     "execution_count": 53,
     "metadata": {},
     "output_type": "execute_result"
    },
    {
     "data": {
      "image/png": "[encoded data removed]",
      "text/plain": [
       "<Figure size 535.625x432 with 1 Axes>"
      ]
     },
     "metadata": {
      "needs_background": "light"
     },
     "output_type": "display_data"
    }
   ],
   "source": [
    "pos_results = []\n",
    "for e in ['bert_full', 'bert_selected']:\n",
    "    for p in ['n', 'v']:\n",
    "        pos_results.append({\"BERT Embeddings\": e, \"POS\": p, \n",
    "                            \"Correlation with Average Reported Distance\": containing_query(all_trials, 'pos', [p], matrices, bert_key = e)})\n",
    "pos_results = pd.DataFrame(pos_results)\n",
    "sns.catplot(x=\"POS\", y=\"Correlation with Average Reported Distance\", hue=\"BERT Embeddings\", data=pos_results,\n",
    "                height=6, kind=\"bar\", palette=\"muted\")\n",
    "plt.title(\"Correlation of BERT Embeddings with Experimental Data Based on PoS\")"
   ]
  },
  {
   "cell_type": "markdown",
   "metadata": {},
   "source": [
    "## Correlation with Number of Senses"
   ]
  },
  {
   "cell_type": "code",
   "execution_count": 54,
   "metadata": {},
   "outputs": [
    {
     "data": {
      "text/plain": [
       "<matplotlib.legend.Legend at 0x1311debd0>"
      ]
     },
     "execution_count": 54,
     "metadata": {},
     "output_type": "execute_result"
    },
    {
     "data": {
      "image/png": "[encoded data removed]",
      "text/plain": [
       "<Figure size 432x288 with 1 Axes>"
      ]
     },
     "metadata": {
      "needs_background": "light"
     },
     "output_type": "display_data"
    }
   ],
   "source": [
    "plt.plot(range(3, 7),\n",
    "         [containing_query(all_trials, 'num_senses', [i], matrices, bert_key = 'bert_full') for i in range(3, 7)], label = 'full embeddings')\n",
    "plt.plot(range(3, 7),\n",
    "         [containing_query(all_trials, 'num_senses', [i], matrices, bert_key = 'bert_selected') for i in range(3, 7)], label = 'selected values')\n",
    "plt.xlabel(\"Number of Senses\")\n",
    "plt.ylabel(\"Pearson Correlation\")\n",
    "plt.title(\"Correlation between BERT and Averaged Experimental Data vs. Number of Senses\")\n",
    "plt.legend()"
   ]
  },
  {
   "cell_type": "markdown",
   "metadata": {},
   "source": [
    "## Correlation with Entropy"
   ]
  },
  {
   "cell_type": "code",
   "execution_count": 55,
   "metadata": {},
   "outputs": [],
   "source": [
    "semcor_entropy = pd.read_csv('../data/expt_semcor_types.csv')\n",
    "semcor_entropy.drop(\"Unnamed: 0\", axis = 1, inplace = True)\n",
    "semcor_entropy['lemma'] = semcor_entropy['Lemma'].apply(lambda l: l.replace('.', '_'))\n",
    "semcor_entropy.drop('Lemma', axis = 1, inplace = True)\n",
    "all_entropy = all_trials.merge(semcor_entropy, on = 'lemma')"
   ]
  },
  {
   "cell_type": "code",
   "execution_count": 56,
   "metadata": {},
   "outputs": [
    {
     "data": {
      "text/plain": [
       "Text(0.5, 1, 'Correlation of BERT Embeddings with Experimental Data Based on PoS')"
      ]
     },
     "execution_count": 56,
     "metadata": {},
     "output_type": "execute_result"
    },
    {
     "data": {
      "image/png": "[encoded data removed]",
      "text/plain": [
       "<Figure size 535.625x432 with 1 Axes>"
      ]
     },
     "metadata": {
      "needs_background": "light"
     },
     "output_type": "display_data"
    }
   ],
   "source": [
    "entropy_results = []\n",
    "for e in ['bert_full', 'bert_selected']:\n",
    "    for b in [(0, 1.45), (1.45, 2.5)]:\n",
    "        corr_for_ent = range_query(all_entropy, 'entropy', b[0], b[1], matrices, bert_key = e)\n",
    "        if b[0] == 0:\n",
    "            ent_level = 'Low/Medium'\n",
    "        else:\n",
    "            ent_level = 'High'\n",
    "        entropy_results.append({\"Entropy\": ent_level, 'BERT Embeddings': e,\n",
    "                                    \"Correlation with Average Reported Distance\": corr_for_ent})\n",
    "entropy_results = pd.DataFrame(entropy_results)\n",
    "sns.catplot(x=\"Entropy\", y=\"Correlation with Average Reported Distance\", hue=\"BERT Embeddings\", data=entropy_results,\n",
    "                height=6, kind=\"bar\", palette=\"muted\")\n",
    "plt.title(\"Correlation of BERT Embeddings with Experimental Data Based on PoS\")"
   ]
  },
  {
   "cell_type": "markdown",
   "metadata": {},
   "source": [
    "## Comparing Experimental Data with Confusion Matrices"
   ]
  },
  {
   "cell_type": "code",
   "execution_count": 62,
   "metadata": {},
   "outputs": [],
   "source": [
    "with open('../data/test_confusion_matrices.json', 'r') as f:\n",
    "    confusion_mtx = json.load(f)"
   ]
  },
  {
   "cell_type": "code",
   "execution_count": 65,
   "metadata": {},
   "outputs": [],
   "source": [
    "for w in matrices:\n",
    "    if w in confusion_mtx:\n",
    "        matrices[w]['confusion'] = confusion_mtx[w]"
   ]
  },
  {
   "cell_type": "code",
   "execution_count": 103,
   "metadata": {
    "scrolled": true
   },
   "outputs": [
    {
     "name": "stdout",
     "output_type": "stream",
     "text": [
      "Spearman Correlation between Human Data and Confusion Matrices -0.6313951674674304\n"
     ]
    }
   ],
   "source": [
    "test_human_avg = [matrices[w]['expt'].flatten().tolist() for w in test_repeat_words]\n",
    "conf = [matrices[w]['confusion'] for w in test_repeat_words]\n",
    "flatten = lambda l: [item for sublist in l for item in sublist]\n",
    "print(\"Spearman Correlation between Human Data and Confusion Matrices\",\n",
    "      mtx_correlation(flatten(test_human_avg), flatten(flatten(conf)), confusion = True))"
   ]
  },
  {
   "cell_type": "code",
   "execution_count": 121,
   "metadata": {},
   "outputs": [],
   "source": [
    "def containing_query(df, value, selection_criteria, dist_mtx_dict, bert_key = 'bert'):\n",
    "    words_with_crit = df[df[value].isin(selection_criteria)]['lemma'].unique()\n",
    "    data_for_words = {w : dist_mtx_dict[w] for w in words_with_crit}\n",
    "    if bert_key == 'confusion':\n",
    "        expt_data = [matrices[w]['expt'].flatten().tolist() for w in data_for_words]\n",
    "        conf_matrices = [data_for_words[w][bert_key] for w in data_for_words]\n",
    "        return mtx_correlation(flatten(expt_data), flatten(flatten(conf_matrices)), confusion = True)\n",
    "    return mtx_correlation([data_for_words[w]['expt'] for w in data_for_words],\n",
    "                          [data_for_words[w][bert_key] for w in data_for_words], method = 'pearson')\n",
    "\n",
    "def range_query(df, value, low, high, dist_mtx_dict, bert_key = 'bert'):\n",
    "    #Inclusive of low and high\n",
    "    words_with_crit = df[(df[value] >= low) & (df[value] <= high)]['lemma'].unique()\n",
    "    data_for_words = {w : dist_mtx_dict[w] for w in words_with_crit}\n",
    "    if bert_key == 'confusion':\n",
    "        expt_data = [matrices[w]['expt'].flatten().tolist() for w in data_for_words]\n",
    "        conf_matrices = [data_for_words[w][bert_key] for w in data_for_words]\n",
    "        return mtx_correlation(flatten(expt_data), flatten(flatten(conf_matrices)), confusion = True)\n",
    "\n",
    "    return mtx_correlation([data_for_words[w]['expt'] for w in data_for_words],\n",
    "                          [data_for_words[w][bert_key] for w in data_for_words], method = 'pearson')\n"
   ]
  },
  {
   "cell_type": "code",
   "execution_count": 113,
   "metadata": {},
   "outputs": [
    {
     "name": "stdout",
     "output_type": "stream",
     "text": [
      "n Correlation with Average Reported Distance -0.6588724183545459\n",
      "v Correlation with Average Reported Distance -0.581205431868766\n"
     ]
    }
   ],
   "source": [
    "test_rep_matrices = {k:v for k,v in matrices.items() if k in test_repeat_words}\n",
    "test_rep_trials = all_trials[all_trials['trialType'].isin(['test', 'repeat'])]\n",
    "for p in ['n', 'v']:\n",
    "    print(p, \"Correlation with Average Reported Distance\",\n",
    "          containing_query(test_rep_trials, 'pos', [p], test_rep_matrices, bert_key = 'confusion'))\n"
   ]
  },
  {
   "cell_type": "code",
   "execution_count": 115,
   "metadata": {},
   "outputs": [
    {
     "data": {
      "text/plain": [
       "<matplotlib.legend.Legend at 0x132503fd0>"
      ]
     },
     "execution_count": 115,
     "metadata": {},
     "output_type": "execute_result"
    },
    {
     "data": {
      "image/png": "[encoded data removed]",
      "text/plain": [
       "<Figure size 432x288 with 1 Axes>"
      ]
     },
     "metadata": {
      "needs_background": "light"
     },
     "output_type": "display_data"
    }
   ],
   "source": [
    "plt.plot(range(3, 7),\n",
    "         [containing_query(test_rep_trials, 'num_senses', [i],\n",
    "                           test_rep_matrices, bert_key = 'confusion') for i in range(3, 7)], label = 'full embeddings')\n",
    "plt.xlabel(\"Number of Senses\")\n",
    "plt.ylabel(\"Spearman Correlation\")\n",
    "plt.title(\"Correlation between BERT Confusion Matricesand Averaged Experimental Data vs. Number of Senses\")\n",
    "plt.legend()"
   ]
  },
  {
   "cell_type": "code",
   "execution_count": 126,
   "metadata": {},
   "outputs": [
    {
     "name": "stdout",
     "output_type": "stream",
     "text": [
      "Correlation for med/low entropy words -0.778875441409051\n"
     ]
    }
   ],
   "source": [
    "test_rep_entropy = all_entropy[all_entropy['trialType'].isin(['test', 'repeat'])]\n",
    "\n",
    "print(\"Correlation for med/low entropy words\", range_query(test_rep_entropy, 'entropy', 0, 1.45,\n",
    "                                                       test_rep_matrices, bert_key = 'confusion'))"
   ]
  },
  {
   "cell_type": "code",
   "execution_count": 128,
   "metadata": {},
   "outputs": [
    {
     "name": "stdout",
     "output_type": "stream",
     "text": [
      "Correlation for high entropy words -0.5552614666622168\n"
     ]
    }
   ],
   "source": [
    "print(\"Correlation for high entropy words\", range_query(test_rep_entropy, 'entropy', 1.45, 2,\n",
    "                                                       test_rep_matrices, bert_key = 'confusion'))"
   ]
  }
 ],
 "metadata": {
  "kernelspec": {
   "display_name": "Python [conda env:bert] *",
   "language": "python",
   "name": "conda-env-bert-py"
  },
  "language_info": {
   "codemirror_mode": {
    "name": "ipython",
    "version": 3
   },
   "file_extension": ".py",
   "mimetype": "text/x-python",
   "name": "python",
   "nbconvert_exporter": "python",
   "pygments_lexer": "ipython3",
   "version": "3.7.6"
  }
 },
 "nbformat": 4,
 "nbformat_minor": 2
}
