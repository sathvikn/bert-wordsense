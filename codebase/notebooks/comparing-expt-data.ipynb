{
 "cells": [
  {
   "cell_type": "code",
   "execution_count": 1,
   "metadata": {},
   "outputs": [
    {
     "data": {
      "text/plain": [
       "<Figure size 432x288 with 0 Axes>"
      ]
     },
     "metadata": {},
     "output_type": "display_data"
    }
   ],
   "source": [
    "from core.analysis import *\n",
    "from core.metrics import *\n",
    "from core.semcor_bert_pipeline import get_pos"
   ]
  },
  {
   "cell_type": "markdown",
   "metadata": {},
   "source": [
    "In this notebook, we compare the correlations between human similarity data with the cosine distance matrices of the full BERT embeddings and the subsets of the embeddings we found were useful in discriminating between a type's senses."
   ]
  },
  {
   "cell_type": "markdown",
   "metadata": {},
   "source": [
    "## Data Prep"
   ]
  },
  {
   "cell_type": "code",
   "execution_count": 3,
   "metadata": {
    "scrolled": true
   },
   "outputs": [
    {
     "name": "stderr",
     "output_type": "stream",
     "text": [
      "/Users/sathvik/Desktop/Berkeley/Research/thesis/codebase/core/analysis.py:144: SettingWithCopyWarning: \n",
      "A value is trying to be set on a copy of a slice from a DataFrame.\n",
      "Try using .loc[row_indexer,col_indexer] = value instead\n",
      "\n",
      "See the caveats in the documentation: http://pandas.pydata.org/pandas-docs/stable/user_guide/indexing.html#returning-a-view-versus-a-copy\n",
      "  time['changes'] = user_changes['prevChanged'].values\n"
     ]
    }
   ],
   "source": [
    "db = access_db()"
   ]
  },
  {
   "cell_type": "code",
   "execution_count": 4,
   "metadata": {},
   "outputs": [],
   "source": [
    "results = pd.read_csv(\"../data/approved_expt_results.csv\")\n",
    "incl_users = results['userID'].unique()"
   ]
  },
  {
   "cell_type": "code",
   "execution_count": 6,
   "metadata": {},
   "outputs": [],
   "source": [
    "shared_words = ['foot_n', 'table_n', 'plane_n', 'degree_n', 'right_n', 'model_n']\n",
    "lemma_counts = get_lemma_counts(results, incl_users, db)\n",
    "test_repeat_words = lemma_counts[lemma_counts['num_trials'] > 10]['lemma'].tolist()\n",
    "all_words = shared_words + test_repeat_words"
   ]
  },
  {
   "cell_type": "code",
   "execution_count": 8,
   "metadata": {},
   "outputs": [],
   "source": [
    "def cosine_sim_mtx(word, pos, sel_senses = [], corpus = 'semcor', use_masc = False, normalize = False):\n",
    "    \"\"\"\n",
    "    Inputs:\n",
    "    word- string, lemma name\n",
    "    pos- string, part of speech (n, v, s)\n",
    "    sel_senses- list of senses to compute similarity between (defaults to all)\n",
    "    use_masc- if Google MASC corpus should be included\n",
    "    normalize- if True, return the normalized cosine distance matrix \n",
    "    corpus\n",
    "\n",
    "    Output:\n",
    "\n",
    "    result_mtx- matrix of pairwise cosine similarities for the senses of type word.pos\n",
    "    sel_senses- list of senses compared in the matrix (defaults to all senses)\n",
    "    \"\"\"\n",
    "\n",
    "    #Loads from filesystem\n",
    "    data = semcor_bert_pipeline.load_data(word, pos, corpus)\n",
    "    word_embeddings = data['embeddings']\n",
    "    sense_labels = data['sense_labels']\n",
    "\n",
    "    if use_masc:\n",
    "        try:\n",
    "            masc_data = semcor_bert_pipeline.load_data(word, pos, 'masc')\n",
    "            word_embeddings += masc_data['embeddings']\n",
    "            sense_labels += masc_data['sense_labels']\n",
    "        except:\n",
    "            pass\n",
    "\n",
    "#Gathering embeddings\n",
    "    embeddings_by_sense = {}\n",
    "    word_embeddings = np.array([np.array(e) for e in word_embeddings])\n",
    "    if not len(sel_senses):\n",
    "        strip_synset = lambda s: s.strip(\"Synset()\").strip(\"'\")\n",
    "        sel_senses = [strip_synset(i) for i in data['sense_names']]\n",
    "    for s in sel_senses:\n",
    "        embeddings_by_sense[s] = word_embeddings[np.argwhere(np.array(sense_labels) == s).flatten()]\n",
    "    result_mtx = []\n",
    "\n",
    "    #For each pair of senses, compute cosine similarity between centroids\n",
    "    for i in sel_senses:\n",
    "        row = []\n",
    "        for j in sel_senses:\n",
    "            dist = cs_centroids(embeddings_by_sense[i], embeddings_by_sense[j])\n",
    "            row.append(dist)\n",
    "        result_mtx.append(np.asarray(row))\n",
    "    result_mtx = np.asarray(result_mtx)\n",
    "    if normalize:\n",
    "        return normalize_cos_dist(result_mtx), sel_senses\n",
    "    return result_mtx, sel_senses\n"
   ]
  },
  {
   "cell_type": "code",
   "execution_count": 9,
   "metadata": {},
   "outputs": [],
   "source": [
    "matrices = {}\n",
    "#Dictionary with type -> {expt: mean distance matrix, bert_full: cosine distance matrix for full embeddings, \n",
    "#bert_selected: cosine distance matrix for embeddings selected by L1 Regularization}\n",
    "for w in all_words:\n",
    "    matrices[w] = {}\n",
    "    word, pos = w.split('_')\n",
    "    cs_mtx_full, _ = cosine_sim_mtx(word, pos, sel_senses = [fb_to_local(s) for s in get_senses(db, w)],\n",
    "                                                    use_masc = False, normalize = True)\n",
    "    matrices[w]['bert_full'] = cs_mtx_full\n",
    "    if w in test_repeat_words:\n",
    "        expt_mtx = get_test_result_data(results, w, incl_users)\n",
    "    else:\n",
    "        expt_mtx = mean_distance_mtx(results, w, 'shared', incl_users, normalize = True)\n",
    "    matrices[w]['expt'] = expt_mtx\n",
    "    cs_mtx_sel, _ = cosine_sim_mtx(word, pos, sel_senses = [fb_to_local(s) for s in get_senses(db, w)],\n",
    "                                                    corpus = 'select_weights', use_masc = False, normalize = True)\n",
    "    matrices[w]['bert_selected'] = cs_mtx_sel"
   ]
  },
  {
   "cell_type": "code",
   "execution_count": 10,
   "metadata": {},
   "outputs": [],
   "source": [
    "all_human_avg = [matrices[w]['expt'] for w in all_words]\n",
    "all_bert_full = [matrices[w]['bert_full'] for w in all_words]\n",
    "all_bert_sel = [matrices[w]['bert_selected'] for w in all_words]"
   ]
  },
  {
   "cell_type": "code",
   "execution_count": 11,
   "metadata": {},
   "outputs": [],
   "source": [
    "results['num_senses'] = results['lemma'].apply(get_num_senses, args = [db])\n",
    "results['pos'] = results['lemma'].apply(get_pos, args = ['_'])\n",
    "all_trials = results[results['lemma'].isin(all_words) & (results['userID'].isin(incl_users))]"
   ]
  },
  {
   "cell_type": "markdown",
   "metadata": {},
   "source": [
    "## Global Correlations"
   ]
  },
  {
   "cell_type": "code",
   "execution_count": 14,
   "metadata": {},
   "outputs": [
    {
     "data": {
      "text/html": [
       "<div>\n",
       "<style scoped>\n",
       "    .dataframe tbody tr th:only-of-type {\n",
       "        vertical-align: middle;\n",
       "    }\n",
       "\n",
       "    .dataframe tbody tr th {\n",
       "        vertical-align: top;\n",
       "    }\n",
       "\n",
       "    .dataframe thead th {\n",
       "        text-align: right;\n",
       "    }\n",
       "</style>\n",
       "<table border=\"1\" class=\"dataframe\">\n",
       "  <thead>\n",
       "    <tr style=\"text-align: right;\">\n",
       "      <th></th>\n",
       "      <th>Spearman Correlation with Average Reported Distance</th>\n",
       "    </tr>\n",
       "  </thead>\n",
       "  <tbody>\n",
       "    <tr>\n",
       "      <th>Embeddings with Nonzero Weights</th>\n",
       "      <td>0.521778</td>\n",
       "    </tr>\n",
       "    <tr>\n",
       "      <th>Full Embeddings</th>\n",
       "      <td>0.544198</td>\n",
       "    </tr>\n",
       "  </tbody>\n",
       "</table>\n",
       "</div>"
      ],
      "text/plain": [
       "                                 Spearman Correlation with Average Reported Distance\n",
       "Embeddings with Nonzero Weights                                           0.521778  \n",
       "Full Embeddings                                                           0.544198  "
      ]
     },
     "execution_count": 14,
     "metadata": {},
     "output_type": "execute_result"
    }
   ],
   "source": [
    "pd.DataFrame(pd.Series({'Embeddings with Nonzero Weights': mtx_correlation(all_human_avg, all_bert_sel, method = 'spearman')[0],\n",
    "'Full Embeddings': mtx_correlation(all_human_avg, all_bert_full, method = 'spearman')[0]}),\n",
    "             columns = ['Spearman Correlation with Average Reported Distance'])"
   ]
  },
  {
   "cell_type": "markdown",
   "metadata": {},
   "source": [
    "## POS Correlations"
   ]
  },
  {
   "cell_type": "code",
   "execution_count": 125,
   "metadata": {},
   "outputs": [],
   "source": [
    "import matplotlib.pyplot as plt\n",
    "import seaborn as sns"
   ]
  },
  {
   "cell_type": "code",
   "execution_count": 138,
   "metadata": {},
   "outputs": [
    {
     "name": "stdout",
     "output_type": "stream",
     "text": [
      "[]\n"
     ]
    },
    {
     "ename": "IndexError",
     "evalue": "invalid index to scalar variable.",
     "output_type": "error",
     "traceback": [
      "\u001b[0;31m---------------------------------------------------------------------------\u001b[0m",
      "\u001b[0;31mIndexError\u001b[0m                                Traceback (most recent call last)",
      "\u001b[0;32m<ipython-input-138-a6fc64fae160>\u001b[0m in \u001b[0;36m<module>\u001b[0;34m\u001b[0m\n\u001b[1;32m     12\u001b[0m         \u001b[0mprint\u001b[0m\u001b[0;34m(\u001b[0m\u001b[0mpos_results\u001b[0m\u001b[0;34m)\u001b[0m\u001b[0;34m\u001b[0m\u001b[0;34m\u001b[0m\u001b[0m\n\u001b[1;32m     13\u001b[0m         pos_results.append({\"BERT Embedding Type\": legend_val, \"Part of Speech\": pos_label, \n\u001b[0;32m---> 14\u001b[0;31m                             \"Pearson Correlation with Average Reported Distance\": containing_query(all_trials, 'pos', [p], matrices, bert_key = e)})\n\u001b[0m\u001b[1;32m     15\u001b[0m \u001b[0mpos_results\u001b[0m \u001b[0;34m=\u001b[0m \u001b[0mpd\u001b[0m\u001b[0;34m.\u001b[0m\u001b[0mDataFrame\u001b[0m\u001b[0;34m(\u001b[0m\u001b[0mpos_results\u001b[0m\u001b[0;34m)\u001b[0m\u001b[0;34m\u001b[0m\u001b[0;34m\u001b[0m\u001b[0m\n\u001b[1;32m     16\u001b[0m \u001b[0mplt\u001b[0m\u001b[0;34m.\u001b[0m\u001b[0mfigure\u001b[0m\u001b[0;34m(\u001b[0m\u001b[0mfigsize\u001b[0m \u001b[0;34m=\u001b[0m \u001b[0;34m(\u001b[0m\u001b[0;36m10\u001b[0m\u001b[0;34m,\u001b[0m \u001b[0;36m8\u001b[0m\u001b[0;34m)\u001b[0m\u001b[0;34m)\u001b[0m\u001b[0;34m\u001b[0m\u001b[0;34m\u001b[0m\u001b[0m\n",
      "\u001b[0;32m<ipython-input-137-b1b86a833693>\u001b[0m in \u001b[0;36mcontaining_query\u001b[0;34m(df, value, selection_criteria, dist_mtx_dict, bert_key)\u001b[0m\n\u001b[1;32m      8\u001b[0m     \u001b[0ma\u001b[0m \u001b[0;34m=\u001b[0m \u001b[0;34m[\u001b[0m\u001b[0mdata_for_words\u001b[0m\u001b[0;34m[\u001b[0m\u001b[0mw\u001b[0m\u001b[0;34m]\u001b[0m\u001b[0;34m[\u001b[0m\u001b[0mbert_key\u001b[0m\u001b[0;34m]\u001b[0m \u001b[0;32mfor\u001b[0m \u001b[0mw\u001b[0m \u001b[0;32min\u001b[0m \u001b[0mdata_for_words\u001b[0m\u001b[0;34m]\u001b[0m\u001b[0;34m\u001b[0m\u001b[0;34m\u001b[0m\u001b[0m\n\u001b[1;32m      9\u001b[0m     return mtx_correlation([data_for_words[w]['expt'] for w in data_for_words],\n\u001b[0;32m---> 10\u001b[0;31m                           [data_for_words[w][bert_key] for w in data_for_words])[0]\n\u001b[0m\u001b[1;32m     11\u001b[0m \u001b[0;34m\u001b[0m\u001b[0m\n\u001b[1;32m     12\u001b[0m \u001b[0;32mdef\u001b[0m \u001b[0mrange_query\u001b[0m\u001b[0;34m(\u001b[0m\u001b[0mdf\u001b[0m\u001b[0;34m,\u001b[0m \u001b[0mvalue\u001b[0m\u001b[0;34m,\u001b[0m \u001b[0mlow\u001b[0m\u001b[0;34m,\u001b[0m \u001b[0mhigh\u001b[0m\u001b[0;34m,\u001b[0m \u001b[0mdist_mtx_dict\u001b[0m\u001b[0;34m,\u001b[0m \u001b[0mbert_key\u001b[0m \u001b[0;34m=\u001b[0m \u001b[0;34m'bert'\u001b[0m\u001b[0;34m)\u001b[0m\u001b[0;34m:\u001b[0m\u001b[0;34m\u001b[0m\u001b[0;34m\u001b[0m\u001b[0m\n",
      "\u001b[0;31mIndexError\u001b[0m: invalid index to scalar variable."
     ]
    }
   ],
   "source": [
    "pos_results = []\n",
    "for e in ['bert_full', 'bert_selected']:\n",
    "    if e == 'bert_full':\n",
    "        legend_val = \"Full Embeddings\"\n",
    "    else:\n",
    "        legend_val = \"Embeddings with Nonzero Weights\"\n",
    "    for p in ['n', 'v']:\n",
    "        if p == 'n':\n",
    "            pos_label = 'Nouns'\n",
    "        else:\n",
    "            pos_label = 'Verbs'\n",
    "        print(pos_results)\n",
    "        pos_results.append({\"BERT Embedding Type\": legend_val, \"Part of Speech\": pos_label, \n",
    "                            \"Pearson Correlation with Average Reported Distance\": containing_query(all_trials, 'pos', [p], matrices, bert_key = e)})\n",
    "pos_results = pd.DataFrame(pos_results)\n",
    "plt.figure(figsize = (10, 8))\n",
    "sns.catplot(x=\"Part of Speech\", y=\"Pearson Correlation with Average Reported Distance\", hue=\"BERT Embedding Type\",\n",
    "            data=pos_results, legend = False,\n",
    "                height=6, kind=\"bar\", palette=\"muted\")\n",
    "plt.title(\"BERT vs. Reported Distances Across Parts of Speech\")\n",
    "plt.ylim(0, 1)\n",
    "\n",
    "plt.tight_layout()\n",
    "plt.legend(loc = 'upper left')\n",
    "plt.savefig(\"../../results/figures/pos_cos_corr.png\")"
   ]
  },
  {
   "cell_type": "markdown",
   "metadata": {},
   "source": [
    "## Correlation with Number of Senses"
   ]
  },
  {
   "cell_type": "code",
   "execution_count": 143,
   "metadata": {},
   "outputs": [],
   "source": [
    "def containing_query(df, value, selection_criteria, dist_mtx_dict, bert_key = 'bert'):\n",
    "    words_with_crit = df[df[value].isin(selection_criteria)]['lemma'].unique()\n",
    "    data_for_words = {w : dist_mtx_dict[w] for w in words_with_crit}\n",
    "    if bert_key == 'confusion':\n",
    "        expt_data = [(1 - data_for_words[w]['expt']).tolist() for w in data_for_words]\n",
    "        conf_matrices = [data_for_words[w][bert_key] for w in data_for_words]\n",
    "        return stats.spearmanr(flatten(flatten(expt_data)), flatten(flatten(conf_matrices)))[0]\n",
    "    a = [data_for_words[w][bert_key] for w in data_for_words]\n",
    "    #print(a)\n",
    "    return mtx_correlation([data_for_words[w]['expt'] for w in data_for_words],\n",
    "                          [data_for_words[w][bert_key] for w in data_for_words])\n",
    "\n"
   ]
  },
  {
   "cell_type": "code",
   "execution_count": 146,
   "metadata": {},
   "outputs": [
    {
     "data": {
      "image/png": "[encoded data removed]",
      "text/plain": [
       "<Figure size 720x576 with 1 Axes>"
      ]
     },
     "metadata": {
      "needs_background": "light"
     },
     "output_type": "display_data"
    }
   ],
   "source": [
    "plt.figure(figsize = (10, 8))\n",
    "plt.plot(range(3, 8),\n",
    "         [containing_query(all_trials, 'num_senses', [i], matrices, bert_key = 'bert_full') for i in range(3, 8)], \n",
    "         marker = 'o', label = 'Full Embeddings')\n",
    "plt.plot(range(3, 8),\n",
    "         [containing_query(all_trials, 'num_senses', [i], matrices, bert_key = 'bert_selected') for i in range(3, 8)],\n",
    "         marker = 'o', label = 'Selected Values')\n",
    "plt.xlabel(\"Number of Senses\")\n",
    "plt.ylabel(\"Pearson Correlation\")\n",
    "plt.xticks(np.arange(3, 8))\n",
    "plt.title(\"Correlation Between BERT and Experimental Data Based on Trial Item's Number of Senses\", fontsize = 12.5)\n",
    "plt.legend()\n",
    "plt.ylim(0, 1)\n",
    "plt.savefig('../../results/figures/num_senses_corr.png')"
   ]
  },
  {
   "cell_type": "code",
   "execution_count": 73,
   "metadata": {},
   "outputs": [],
   "source": [
    "semcor_entropy = pd.read_csv('../data/expt_semcor_types.csv')\n",
    "semcor_entropy.drop(\"Unnamed: 0\", axis = 1, inplace = True)\n",
    "semcor_entropy['lemma'] = semcor_entropy['Lemma'].apply(lambda l: l.replace('.', '_'))\n",
    "semcor_entropy.drop('Lemma', axis = 1, inplace = True)\n",
    "all_entropy = all_trials.merge(semcor_entropy, on = 'lemma')"
   ]
  },
  {
   "cell_type": "code",
   "execution_count": 74,
   "metadata": {},
   "outputs": [
    {
     "data": {
      "image/png": "[encoded data removed]",
      "text/plain": [
       "<Figure size 642.5x432 with 1 Axes>"
      ]
     },
     "metadata": {
      "needs_background": "light"
     },
     "output_type": "display_data"
    }
   ],
   "source": [
    "entropy_results = []\n",
    "for e in ['bert_full', 'bert_selected']:\n",
    "    if e == 'bert_full':\n",
    "        legend_val = \"Full Embeddings\"\n",
    "    else:\n",
    "        legend_val = \"Embeddings with Nonzero Weights\"\n",
    "\n",
    "    for b in [(0, 1.45), (1.45, 2.5)]:\n",
    "        corr_for_ent = range_query(all_entropy, 'entropy', b[0], b[1], matrices, bert_key = e)\n",
    "        if b[0] == 0:\n",
    "            ent_level = 'Low/Medium'\n",
    "        else:\n",
    "            ent_level = 'High'\n",
    "        entropy_results.append({\"Entropy Level\": ent_level, 'BERT Embedding Type': legend_val,\n",
    "                                    \"Correlation with Average Reported Distance\": corr_for_ent})\n",
    "entropy_results = pd.DataFrame(entropy_results)\n",
    "sns.catplot(x=\"Entropy Level\", y=\"Correlation with Average Reported Distance\", hue=\"BERT Embedding Type\", data=entropy_results,\n",
    "                height=6, kind=\"bar\", palette=\"muted\")\n",
    "plt.title(\"Correlation of BERT Embeddings with Experimental Data Based on Entropy\")\n",
    "plt.ylim(0, 1)\n",
    "plt.tight_layout()\n",
    "plt.savefig('../../results/figures/entropy_corr.png')"
   ]
  },
  {
   "cell_type": "markdown",
   "metadata": {},
   "source": [
    "## Comparing Experimental Data with Confusion Matrices"
   ]
  },
  {
   "cell_type": "code",
   "execution_count": 130,
   "metadata": {},
   "outputs": [],
   "source": [
    "with open('../data/test_confusion_matrices.json', 'r') as f:\n",
    "    confusion_mtx = json.load(f)"
   ]
  },
  {
   "cell_type": "code",
   "execution_count": 131,
   "metadata": {},
   "outputs": [],
   "source": [
    "for w in matrices:\n",
    "    if w in confusion_mtx:\n",
    "        matrices[w]['confusion'] = confusion_mtx[w]"
   ]
  },
  {
   "cell_type": "code",
   "execution_count": 132,
   "metadata": {},
   "outputs": [],
   "source": [
    "def mtx_correlation(m1, m2, method = 'spearman', randomize_m1_labels = False, confusion = False): \n",
    "    #m1 and m2 are lists of distance matrices, spearman or pearson correlation\n",
    "    #assert len(m1) == len(m2)\n",
    "    if confusion:\n",
    "        return stats.spearmanr(m1, m2)[0]\n",
    "    else:\n",
    "        flat_m1 = []\n",
    "        for i in range(len(m1)):\n",
    "            #OpTimiZAtIoNS\n",
    "            ut_m1 = m1[i][np.triu_indices(m1[i].shape[0], k = 1)]\n",
    "            if randomize_m1_labels:\n",
    "                np.random.shuffle(ut_m1)\n",
    "            flat_m1 += ut_m1.tolist()\n",
    "        flat_m2 = []\n",
    "        for i in range(len(m2)):\n",
    "            ut_m2 = m2[i][np.triu_indices(m2[i].shape[0], k = 1)]\n",
    "            flat_m2 += ut_m2.tolist()\n",
    "        if method == 'spearman':\n",
    "            return stats.spearmanr(flat_m1, flat_m2)[0]\n",
    "        if method == 'pearson':\n",
    "            return stats.pearsonr(flat_m1, flat_m2)[0]\n"
   ]
  },
  {
   "cell_type": "code",
   "execution_count": 133,
   "metadata": {
    "scrolled": true
   },
   "outputs": [
    {
     "name": "stdout",
     "output_type": "stream",
     "text": [
      "Spearman Correlation between Human Data and Confusion Matrices SpearmanrResult(correlation=0.628775736740911, pvalue=1.8642698726752398e-50)\n"
     ]
    }
   ],
   "source": [
    "flatten = lambda l: [item for sublist in l for item in sublist]\n",
    "\n",
    "test_human_avg = [flatten((1 - matrices[w]['expt']).tolist()) for w in test_repeat_words]\n",
    "conf = [flatten(matrices[w]['confusion']) for w in test_repeat_words]\n",
    "print(\"Spearman Correlation between Human Data and Confusion Matrices\",\n",
    "      stats.spearmanr(flatten(test_human_avg), flatten(conf)))"
   ]
  },
  {
   "cell_type": "code",
   "execution_count": 139,
   "metadata": {},
   "outputs": [],
   "source": [
    "def range_query(df, value, low, high, dist_mtx_dict, bert_key = 'bert'):\n",
    "    #Inclusive of low and high\n",
    "    words_with_crit = df[(df[value] >= low) & (df[value] <= high)]['lemma'].unique()\n",
    "    data_for_words = {w : dist_mtx_dict[w] for w in words_with_crit}\n",
    "    if bert_key == 'confusion':\n",
    "        expt_data = [(1 - data_for_words[w]['expt']).tolist() for w in data_for_words]\n",
    "        conf_matrices = [data_for_words[w][bert_key] for w in data_for_words]\n",
    "\n",
    "        return stats.spearmanr(flatten(flatten(expt_data)), flatten(flatten(conf_matrices)))[0]\n",
    "\n",
    "    return mtx_correlation([data_for_words[w]['expt'] for w in data_for_words],\n",
    "                          [data_for_words[w][bert_key] for w in data_for_words])[0]\n"
   ]
  },
  {
   "cell_type": "code",
   "execution_count": 135,
   "metadata": {},
   "outputs": [
    {
     "name": "stdout",
     "output_type": "stream",
     "text": [
      "n Correlation with Average Reported Distance 0.6453700758312424\n",
      "v Correlation with Average Reported Distance 0.600027725508347\n"
     ]
    }
   ],
   "source": [
    "test_rep_matrices = {k:v for k,v in matrices.items() if k in test_repeat_words}\n",
    "test_rep_trials = all_trials[all_trials['trialType'].isin(['test', 'repeat'])]\n",
    "for p in ['n', 'v']:\n",
    "    print(p, \"Correlation with Average Reported Distance\",\n",
    "          containing_query(test_rep_trials, 'pos', [p], test_rep_matrices, bert_key = 'confusion'))\n"
   ]
  },
  {
   "cell_type": "code",
   "execution_count": 81,
   "metadata": {},
   "outputs": [
    {
     "data": {
      "image/png": "[encoded data removed]",
      "text/plain": [
       "<Figure size 576x288 with 1 Axes>"
      ]
     },
     "metadata": {
      "needs_background": "light"
     },
     "output_type": "display_data"
    }
   ],
   "source": [
    "plt.figure(figsize = (8, 4))\n",
    "plt.plot(range(3, 8),\n",
    "         [containing_query(test_rep_trials, 'num_senses', [i],\n",
    "                           test_rep_matrices, bert_key = 'confusion') for i in range(3, 8)], marker = 'o')\n",
    "plt.xlabel(\"Number of Senses\")\n",
    "plt.ylabel(\"Spearman Correlation\")\n",
    "plt.title(\"Correlation of Confusion Matrices and Relatedness Based on Number of Senses\")\n",
    "plt.ylim(0, 1)\n",
    "plt.xticks(np.arange(3, 8))\n",
    "plt.tight_layout()\n",
    "plt.savefig('../../results/figures/conf_num_senses.png')"
   ]
  },
  {
   "cell_type": "code",
   "execution_count": 100,
   "metadata": {},
   "outputs": [
    {
     "name": "stdout",
     "output_type": "stream",
     "text": [
      "Correlation for med/low entropy words 0.7738542661103431\n"
     ]
    }
   ],
   "source": [
    "test_rep_entropy = all_entropy[all_entropy['trialType'].isin(['test', 'repeat'])]\n",
    "\n",
    "print(\"Correlation for med/low entropy words\", range_query(test_rep_entropy, 'entropy', 0, 1.45,\n",
    "                                                       test_rep_matrices, bert_key = 'confusion'))"
   ]
  },
  {
   "cell_type": "code",
   "execution_count": 101,
   "metadata": {},
   "outputs": [
    {
     "name": "stdout",
     "output_type": "stream",
     "text": [
      "Correlation for high entropy words 0.5173360234917262\n"
     ]
    }
   ],
   "source": [
    "print(\"Correlation for high entropy words\", range_query(test_rep_entropy, 'entropy', 1.45, 2,\n",
    "                                                       test_rep_matrices, bert_key = 'confusion'))"
   ]
  }
 ],
 "metadata": {
  "kernelspec": {
   "display_name": "Python [conda env:bert]",
   "language": "python",
   "name": "conda-env-bert-py"
  },
  "language_info": {
   "codemirror_mode": {
    "name": "ipython",
    "version": 3
   },
   "file_extension": ".py",
   "mimetype": "text/x-python",
   "name": "python",
   "nbconvert_exporter": "python",
   "pygments_lexer": "ipython3",
   "version": "3.7.6"
  }
 },
 "nbformat": 4,
 "nbformat_minor": 2
}
