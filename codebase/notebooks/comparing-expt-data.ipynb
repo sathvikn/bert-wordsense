{
 "cells": [
  {
   "cell_type": "code",
   "execution_count": 2,
   "metadata": {},
   "outputs": [
    {
     "data": {
      "text/plain": [
       "<Figure size 432x288 with 0 Axes>"
      ]
     },
     "metadata": {},
     "output_type": "display_data"
    }
   ],
   "source": [
    "from core.analysis import *\n",
    "from core.metrics import *\n",
    "from core.semcor_bert_pipeline import get_pos"
   ]
  },
  {
   "cell_type": "markdown",
   "metadata": {},
   "source": [
    "In this notebook, we compare the correlations between human similarity data with the cosine distance matrices of the full BERT embeddings and the subsets of the embeddings we found were useful in discriminating between a type's senses."
   ]
  },
  {
   "cell_type": "markdown",
   "metadata": {},
   "source": [
    "# Comparing Relatedness to Cosine Distance"
   ]
  },
  {
   "cell_type": "markdown",
   "metadata": {},
   "source": [
    "## Data Prep"
   ]
  },
  {
   "cell_type": "code",
   "execution_count": 3,
   "metadata": {
    "scrolled": true
   },
   "outputs": [],
   "source": [
    "db = access_db()"
   ]
  },
  {
   "cell_type": "code",
   "execution_count": 5,
   "metadata": {},
   "outputs": [],
   "source": [
    "results = pd.read_csv(\"../data/approved_expt_results.csv\")\n",
    "incl_users = results['userID'].unique()"
   ]
  },
  {
   "cell_type": "code",
   "execution_count": 7,
   "metadata": {},
   "outputs": [],
   "source": [
    "shared_words = ['foot_n', 'table_n', 'plane_n', 'degree_n', 'right_n', 'model_n']\n",
    "lemma_counts = get_lemma_counts(results, incl_users, db)\n",
    "test_repeat_words = lemma_counts[lemma_counts['num_trials'] > 10]['lemma'].tolist()\n",
    "all_words = shared_words + test_repeat_words"
   ]
  },
  {
   "cell_type": "code",
   "execution_count": 8,
   "metadata": {},
   "outputs": [],
   "source": [
    "matrices = {}\n",
    "#Dictionary with type -> {expt: mean distance matrix, bert_full: cosine distance matrix for full embeddings, \n",
    "#bert_selected: cosine distance matrix for embeddings selected by L1 Regularization}\n",
    "for w in all_words:\n",
    "    matrices[w] = {}\n",
    "    word, pos = w.split('_')\n",
    "    cs_mtx_full, _ = cosine_sim_mtx(word, pos, sel_senses = [fb_to_local(s) for s in get_senses(db, w)],\n",
    "                                                    use_masc = False, normalize = True)\n",
    "    matrices[w]['bert_full'] = cs_mtx_full\n",
    "    if w in test_repeat_words:\n",
    "        expt_mtx = get_test_result_data(results, w, incl_users)\n",
    "    else:\n",
    "        expt_mtx = mean_distance_mtx(results, w, 'shared', incl_users, normalize = True)\n",
    "    matrices[w]['expt'] = expt_mtx\n",
    "    cs_mtx_sel, _ = cosine_sim_mtx(word, pos, sel_senses = [fb_to_local(s) for s in get_senses(db, w)],\n",
    "                                                    corpus = 'select_weights', use_masc = False, normalize = True)\n",
    "    matrices[w]['bert_selected'] = cs_mtx_sel"
   ]
  },
  {
   "cell_type": "code",
   "execution_count": 9,
   "metadata": {},
   "outputs": [],
   "source": [
    "all_human_avg = [matrices[w]['expt'] for w in all_words]\n",
    "all_bert_full = [matrices[w]['bert_full'] for w in all_words]\n",
    "all_bert_sel = [matrices[w]['bert_selected'] for w in all_words]"
   ]
  },
  {
   "cell_type": "code",
   "execution_count": 10,
   "metadata": {},
   "outputs": [],
   "source": [
    "results['num_senses'] = results['lemma'].apply(get_num_senses, args = [db])\n",
    "results['pos'] = results['lemma'].apply(get_pos, args = ['_'])\n",
    "all_trials = results[results['lemma'].isin(all_words) & (results['userID'].isin(incl_users))]"
   ]
  },
  {
   "cell_type": "markdown",
   "metadata": {},
   "source": [
    "## Global Correlations"
   ]
  },
  {
   "cell_type": "markdown",
   "metadata": {},
   "source": [
    "There's still less of a correlation than the shared words alone, but there's a very low drop if we use the parts of the embeddings w/nonzero weights only"
   ]
  },
  {
   "cell_type": "code",
   "execution_count": 11,
   "metadata": {
    "scrolled": true
   },
   "outputs": [
    {
     "data": {
      "text/html": [
       "<div>\n",
       "<style scoped>\n",
       "    .dataframe tbody tr th:only-of-type {\n",
       "        vertical-align: middle;\n",
       "    }\n",
       "\n",
       "    .dataframe tbody tr th {\n",
       "        vertical-align: top;\n",
       "    }\n",
       "\n",
       "    .dataframe thead th {\n",
       "        text-align: right;\n",
       "    }\n",
       "</style>\n",
       "<table border=\"1\" class=\"dataframe\">\n",
       "  <thead>\n",
       "    <tr style=\"text-align: right;\">\n",
       "      <th></th>\n",
       "      <th>Spearman Correlation with Average Reported Distance</th>\n",
       "    </tr>\n",
       "  </thead>\n",
       "  <tbody>\n",
       "    <tr>\n",
       "      <th>Embeddings with Nonzero Weights</th>\n",
       "      <td>0.521778</td>\n",
       "    </tr>\n",
       "    <tr>\n",
       "      <th>Full Embeddings</th>\n",
       "      <td>0.544198</td>\n",
       "    </tr>\n",
       "  </tbody>\n",
       "</table>\n",
       "</div>"
      ],
      "text/plain": [
       "                                 Spearman Correlation with Average Reported Distance\n",
       "Embeddings with Nonzero Weights                                           0.521778  \n",
       "Full Embeddings                                                           0.544198  "
      ]
     },
     "execution_count": 11,
     "metadata": {},
     "output_type": "execute_result"
    }
   ],
   "source": [
    "pd.DataFrame(pd.Series({'Embeddings with Nonzero Weights': mtx_correlation(all_human_avg, all_bert_sel, method = 'spearman')[0],\n",
    "'Full Embeddings': mtx_correlation(all_human_avg, all_bert_full, method = 'spearman')[0]}),\n",
    "             columns = ['Spearman Correlation with Average Reported Distance'])"
   ]
  },
  {
   "cell_type": "markdown",
   "metadata": {},
   "source": [
    "## POS Correlations"
   ]
  },
  {
   "cell_type": "markdown",
   "metadata": {},
   "source": [
    "There is not much of a difference between the correlations between BERT and human data across nouns and verbs. This is the case for both the full embeddings and the items in the vector important in sense discrimination."
   ]
  },
  {
   "cell_type": "code",
   "execution_count": 12,
   "metadata": {},
   "outputs": [],
   "source": [
    "import matplotlib.pyplot as plt\n",
    "import seaborn as sns"
   ]
  },
  {
   "cell_type": "code",
   "execution_count": 15,
   "metadata": {},
   "outputs": [
    {
     "data": {
      "text/html": [
       "<div>\n",
       "<style scoped>\n",
       "    .dataframe tbody tr th:only-of-type {\n",
       "        vertical-align: middle;\n",
       "    }\n",
       "\n",
       "    .dataframe tbody tr th {\n",
       "        vertical-align: top;\n",
       "    }\n",
       "\n",
       "    .dataframe thead th {\n",
       "        text-align: right;\n",
       "    }\n",
       "</style>\n",
       "<table border=\"1\" class=\"dataframe\">\n",
       "  <thead>\n",
       "    <tr style=\"text-align: right;\">\n",
       "      <th></th>\n",
       "      <th>BERT Embedding Type</th>\n",
       "      <th>Part of Speech</th>\n",
       "      <th>Spearman Correlation with Average Reported Distance</th>\n",
       "    </tr>\n",
       "  </thead>\n",
       "  <tbody>\n",
       "    <tr>\n",
       "      <th>0</th>\n",
       "      <td>Full Embeddings</td>\n",
       "      <td>Nouns</td>\n",
       "      <td>(0.4874626437133006, 2.1660971122609556e-08)</td>\n",
       "    </tr>\n",
       "    <tr>\n",
       "      <th>1</th>\n",
       "      <td>Full Embeddings</td>\n",
       "      <td>Verbs</td>\n",
       "      <td>(0.6234187556199298, 6.367783532663593e-09)</td>\n",
       "    </tr>\n",
       "    <tr>\n",
       "      <th>2</th>\n",
       "      <td>Embeddings with Nonzero Weights</td>\n",
       "      <td>Nouns</td>\n",
       "      <td>(0.45396299132103185, 2.429627621769828e-07)</td>\n",
       "    </tr>\n",
       "    <tr>\n",
       "      <th>3</th>\n",
       "      <td>Embeddings with Nonzero Weights</td>\n",
       "      <td>Verbs</td>\n",
       "      <td>(0.6076406777397705, 1.9187202588252973e-08)</td>\n",
       "    </tr>\n",
       "  </tbody>\n",
       "</table>\n",
       "</div>"
      ],
      "text/plain": [
       "               BERT Embedding Type Part of Speech  \\\n",
       "0                  Full Embeddings          Nouns   \n",
       "1                  Full Embeddings          Verbs   \n",
       "2  Embeddings with Nonzero Weights          Nouns   \n",
       "3  Embeddings with Nonzero Weights          Verbs   \n",
       "\n",
       "  Spearman Correlation with Average Reported Distance  \n",
       "0       (0.4874626437133006, 2.1660971122609556e-08)   \n",
       "1        (0.6234187556199298, 6.367783532663593e-09)   \n",
       "2       (0.45396299132103185, 2.429627621769828e-07)   \n",
       "3       (0.6076406777397705, 1.9187202588252973e-08)   "
      ]
     },
     "execution_count": 15,
     "metadata": {},
     "output_type": "execute_result"
    }
   ],
   "source": [
    "pos_results"
   ]
  },
  {
   "cell_type": "code",
   "execution_count": 16,
   "metadata": {},
   "outputs": [
    {
     "data": {
      "text/plain": [
       "<Figure size 720x576 with 0 Axes>"
      ]
     },
     "metadata": {},
     "output_type": "display_data"
    },
    {
     "data": {
      "image/png": "[encoded data removed]",
      "text/plain": [
       "<Figure size 432x432 with 1 Axes>"
      ]
     },
     "metadata": {
      "needs_background": "light"
     },
     "output_type": "display_data"
    }
   ],
   "source": [
    "pos_results = []\n",
    "for e in ['bert_full', 'bert_selected']:\n",
    "    if e == 'bert_full':\n",
    "        legend_val = \"Full Embeddings\"\n",
    "    else:\n",
    "        legend_val = \"Embeddings with Nonzero Weights\"\n",
    "    for p in ['n', 'v']:\n",
    "        if p == 'n':\n",
    "            pos_label = 'Nouns'\n",
    "        else:\n",
    "            pos_label = 'Verbs'\n",
    "        pos_results.append({\"BERT Embedding Type\": legend_val, \"Part of Speech\": pos_label, \n",
    "                            \"Spearman Correlation with Average Reported Distance\": \n",
    "                            containing_query(all_trials, 'pos', [p], matrices, bert_key = e)[0]})\n",
    "pos_results = pd.DataFrame(pos_results)\n",
    "plt.figure(figsize = (10, 8))\n",
    "sns.catplot(x=\"Part of Speech\", y=\"Spearman Correlation with Average Reported Distance\", hue=\"BERT Embedding Type\",\n",
    "            data=pos_results, legend = False,\n",
    "                height=6, kind=\"bar\", palette=\"muted\")\n",
    "plt.title(\"BERT vs. Reported Distances Across Parts of Speech\")\n",
    "plt.ylim(0, 1)\n",
    "\n",
    "plt.tight_layout()\n",
    "plt.legend(loc = 'upper left')\n",
    "plt.savefig(\"../../results/figures/pos_cos_corr.png\")"
   ]
  },
  {
   "cell_type": "markdown",
   "metadata": {},
   "source": [
    "## Correlation with Number of Senses"
   ]
  },
  {
   "cell_type": "markdown",
   "metadata": {},
   "source": [
    "The correlation between human intuition and BERT data does not decrease monotonically, though this could be an artifact of there being fewer words with more senses."
   ]
  },
  {
   "cell_type": "code",
   "execution_count": 23,
   "metadata": {},
   "outputs": [
    {
     "data": {
      "image/png": "[encoded data removed]",
      "text/plain": [
       "<Figure size 720x576 with 1 Axes>"
      ]
     },
     "metadata": {
      "needs_background": "light"
     },
     "output_type": "display_data"
    }
   ],
   "source": [
    "plt.figure(figsize = (10, 8))\n",
    "plt.plot(range(3, 8),\n",
    "         [containing_query(all_trials, 'num_senses', [i], matrices, bert_key = 'bert_full') for i in range(3, 8)], \n",
    "         marker = 'o', label = 'Full Embeddings')\n",
    "plt.plot(range(3, 8),\n",
    "         [containing_query(all_trials, 'num_senses', [i], matrices, bert_key = 'bert_selected') for i in range(3, 8)],\n",
    "         marker = 'o', label = 'Selected Values')\n",
    "plt.xlabel(\"Number of Senses\")\n",
    "plt.ylabel(\"Pearson Correlation\")\n",
    "plt.xticks(np.arange(3, 8))\n",
    "plt.title(\"Correlation Between BERT and Experimental Data Based on Trial Item's Number of Senses\", fontsize = 12.5)\n",
    "plt.legend()\n",
    "plt.ylim(0, 1)\n",
    "plt.savefig('../../results/figures/num_senses_corr.png')"
   ]
  },
  {
   "cell_type": "markdown",
   "metadata": {},
   "source": [
    "## Correlations based on Entropy"
   ]
  },
  {
   "cell_type": "markdown",
   "metadata": {},
   "source": [
    "BERT embeddings are far less correlated with human relatedness judgements for high entropy types. Correlation decreases by around 0.4)."
   ]
  },
  {
   "cell_type": "code",
   "execution_count": 17,
   "metadata": {},
   "outputs": [],
   "source": [
    "semcor_entropy = pd.read_csv('../data/expt_semcor_types_revised.csv') #Reading entropy in\n",
    "semcor_entropy['lemma'] = semcor_entropy['Lemma'].apply(lambda l: l.replace('.', '_'))\n",
    "semcor_entropy.drop('Lemma', axis = 1, inplace = True)\n",
    "all_entropy = all_trials.merge(semcor_entropy, on = 'lemma')"
   ]
  },
  {
   "cell_type": "code",
   "execution_count": 19,
   "metadata": {},
   "outputs": [
    {
     "data": {
      "text/html": [
       "<div>\n",
       "<style scoped>\n",
       "    .dataframe tbody tr th:only-of-type {\n",
       "        vertical-align: middle;\n",
       "    }\n",
       "\n",
       "    .dataframe tbody tr th {\n",
       "        vertical-align: top;\n",
       "    }\n",
       "\n",
       "    .dataframe thead th {\n",
       "        text-align: right;\n",
       "    }\n",
       "</style>\n",
       "<table border=\"1\" class=\"dataframe\">\n",
       "  <thead>\n",
       "    <tr style=\"text-align: right;\">\n",
       "      <th></th>\n",
       "      <th>Entropy Level</th>\n",
       "      <th>BERT Embedding Type</th>\n",
       "      <th>Correlation with Average Reported Distance</th>\n",
       "    </tr>\n",
       "  </thead>\n",
       "  <tbody>\n",
       "    <tr>\n",
       "      <th>0</th>\n",
       "      <td>Low/Medium</td>\n",
       "      <td>Full Embeddings</td>\n",
       "      <td>0.570738</td>\n",
       "    </tr>\n",
       "    <tr>\n",
       "      <th>1</th>\n",
       "      <td>High</td>\n",
       "      <td>Full Embeddings</td>\n",
       "      <td>0.345577</td>\n",
       "    </tr>\n",
       "    <tr>\n",
       "      <th>2</th>\n",
       "      <td>Low/Medium</td>\n",
       "      <td>Embeddings with Nonzero Weights</td>\n",
       "      <td>0.511466</td>\n",
       "    </tr>\n",
       "    <tr>\n",
       "      <th>3</th>\n",
       "      <td>High</td>\n",
       "      <td>Embeddings with Nonzero Weights</td>\n",
       "      <td>0.342535</td>\n",
       "    </tr>\n",
       "  </tbody>\n",
       "</table>\n",
       "</div>"
      ],
      "text/plain": [
       "  Entropy Level              BERT Embedding Type  \\\n",
       "0    Low/Medium                  Full Embeddings   \n",
       "1          High                  Full Embeddings   \n",
       "2    Low/Medium  Embeddings with Nonzero Weights   \n",
       "3          High  Embeddings with Nonzero Weights   \n",
       "\n",
       "   Correlation with Average Reported Distance  \n",
       "0                                    0.570738  \n",
       "1                                    0.345577  \n",
       "2                                    0.511466  \n",
       "3                                    0.342535  "
      ]
     },
     "execution_count": 19,
     "metadata": {},
     "output_type": "execute_result"
    }
   ],
   "source": [
    "entropy_results"
   ]
  },
  {
   "cell_type": "code",
   "execution_count": 18,
   "metadata": {},
   "outputs": [
    {
     "data": {
      "image/png": "[encoded data removed]",
      "text/plain": [
       "<Figure size 642.5x432 with 1 Axes>"
      ]
     },
     "metadata": {
      "needs_background": "light"
     },
     "output_type": "display_data"
    }
   ],
   "source": [
    "entropy_results = []\n",
    "for e in ['bert_full', 'bert_selected']:\n",
    "    if e == 'bert_full':\n",
    "        legend_val = \"Full Embeddings\"\n",
    "    else:\n",
    "        legend_val = \"Embeddings with Nonzero Weights\"\n",
    "\n",
    "    for b in [(0, 1.45), (1.45, 2.5)]:\n",
    "        corr_for_ent = range_query(all_entropy, 'entropy', b[0], b[1], matrices, bert_key = e)[0]\n",
    "        if b[0] == 0:\n",
    "            ent_level = 'Low/Medium'\n",
    "        else:\n",
    "            ent_level = 'High'\n",
    "        entropy_results.append({\"Entropy Level\": ent_level, 'BERT Embedding Type': legend_val,\n",
    "                                    \"Correlation with Average Reported Distance\": corr_for_ent})\n",
    "entropy_results = pd.DataFrame(entropy_results)\n",
    "sns.catplot(x=\"Entropy Level\", y=\"Correlation with Average Reported Distance\", hue=\"BERT Embedding Type\", data=entropy_results,\n",
    "                height=6, kind=\"bar\", palette=\"muted\")\n",
    "plt.title(\"Correlation of BERT Embeddings with Experimental Data Based on Entropy\")\n",
    "plt.ylim(0, 1)\n",
    "plt.tight_layout()\n",
    "plt.savefig('../../results/figures/entropy_corr.png')"
   ]
  },
  {
   "cell_type": "markdown",
   "metadata": {},
   "source": [
    "# Comparing Experimental Data with Confusion Matrices"
   ]
  },
  {
   "cell_type": "code",
   "execution_count": 28,
   "metadata": {},
   "outputs": [],
   "source": [
    "with open('../data/test_confusion_matrices.json', 'r') as f:\n",
    "    confusion_mtx = json.load(f)"
   ]
  },
  {
   "cell_type": "code",
   "execution_count": 29,
   "metadata": {},
   "outputs": [],
   "source": [
    "for w in matrices:\n",
    "    if w in confusion_mtx:\n",
    "        matrices[w]['confusion'] = np.array(confusion_mtx[w])"
   ]
  },
  {
   "cell_type": "code",
   "execution_count": 132,
   "metadata": {},
   "outputs": [],
   "source": [
    "def mtx_correlation(m1, m2, method = 'spearman', randomize_m1_labels = False, confusion = False): \n",
    "    #m1 and m2 are lists of distance matrices, spearman or pearson correlation\n",
    "    #assert len(m1) == len(m2)\n",
    "    if confusion:\n",
    "        return stats.spearmanr(m1, m2)[0]\n",
    "    else:\n",
    "        flat_m1 = []\n",
    "        for i in range(len(m1)):\n",
    "            #OpTimiZAtIoNS\n",
    "            ut_m1 = m1[i][np.triu_indices(m1[i].shape[0], k = 1)]\n",
    "            if randomize_m1_labels:\n",
    "                np.random.shuffle(ut_m1)\n",
    "            flat_m1 += ut_m1.tolist()\n",
    "        flat_m2 = []\n",
    "        for i in range(len(m2)):\n",
    "            ut_m2 = m2[i][np.triu_indices(m2[i].shape[0], k = 1)]\n",
    "            flat_m2 += ut_m2.tolist()\n",
    "        if method == 'spearman':\n",
    "            return stats.spearmanr(flat_m1, flat_m2)[0]\n",
    "        if method == 'pearson':\n",
    "            return stats.pearsonr(flat_m1, flat_m2)[0]\n"
   ]
  },
  {
   "cell_type": "markdown",
   "metadata": {},
   "source": [
    "Confusion matrices (shows how probe discriminates between senses) is more correlated with human relatedness judgements than the cosine distances. BERT isn't great at approximating these, but captures some signal."
   ]
  },
  {
   "cell_type": "code",
   "execution_count": 30,
   "metadata": {
    "scrolled": true
   },
   "outputs": [
    {
     "name": "stdout",
     "output_type": "stream",
     "text": [
      "Spearman Correlation between Human Data and Confusion Matrices SpearmanrResult(correlation=0.628775736740911, pvalue=1.8642698726752398e-50)\n"
     ]
    }
   ],
   "source": [
    "flatten = lambda l: [item for sublist in l for item in sublist]\n",
    "\n",
    "test_human_avg = [flatten((1 - matrices[w]['expt']).tolist()) for w in test_repeat_words]\n",
    "conf = [flatten(matrices[w]['confusion']) for w in test_repeat_words]\n",
    "print(\"Spearman Correlation between Human Data and Confusion Matrices\",\n",
    "      stats.spearmanr(flatten(test_human_avg), flatten(conf)))"
   ]
  },
  {
   "cell_type": "code",
   "execution_count": 24,
   "metadata": {},
   "outputs": [],
   "source": [
    "def range_query(df, value, low, high, dist_mtx_dict, bert_key = 'bert'):\n",
    "    #Inclusive of low and high\n",
    "    words_with_crit = df[(df[value] >= low) & (df[value] <= high)]['lemma'].unique()\n",
    "    data_for_words = {w : dist_mtx_dict[w] for w in words_with_crit}\n",
    "    if bert_key == 'confusion':\n",
    "        expt_data = [(1 - data_for_words[w]['expt']).tolist() for w in data_for_words]\n",
    "        conf_matrices = [data_for_words[w][bert_key] for w in data_for_words]\n",
    "\n",
    "        return stats.spearmanr(flatten(flatten(expt_data)), flatten(flatten(conf_matrices)))[0]\n",
    "\n",
    "    return mtx_correlation([data_for_words[w]['expt'] for w in data_for_words],\n",
    "                          [data_for_words[w][bert_key] for w in data_for_words])[0]\n"
   ]
  },
  {
   "cell_type": "markdown",
   "metadata": {},
   "source": [
    "Again, we see barely any differences across PoS when looking at confusion matrices vs. relatedness."
   ]
  },
  {
   "cell_type": "code",
   "execution_count": 31,
   "metadata": {},
   "outputs": [
    {
     "name": "stdout",
     "output_type": "stream",
     "text": [
      "n Correlation with Average Reported Distance (-0.23494088248880945, 0.018627344781285488)\n",
      "v Correlation with Average Reported Distance (-0.28915907641989896, 0.014455422941964953)\n"
     ]
    }
   ],
   "source": [
    "test_rep_matrices = {k:v for k,v in matrices.items() if k in test_repeat_words}\n",
    "test_rep_trials = all_trials[all_trials['trialType'].isin(['test', 'repeat'])]\n",
    "for p in ['n', 'v']:\n",
    "    print(p, \"Correlation with Average Reported Distance\",\n",
    "          containing_query(test_rep_trials, 'pos', [p], test_rep_matrices, bert_key = 'confusion'))\n"
   ]
  },
  {
   "cell_type": "markdown",
   "metadata": {},
   "source": [
    "Discrimination is robust across the number of senses"
   ]
  },
  {
   "cell_type": "code",
   "execution_count": 81,
   "metadata": {},
   "outputs": [
    {
     "data": {
      "image/png": "[encoded data removed]",
      "text/plain": [
       "<Figure size 576x288 with 1 Axes>"
      ]
     },
     "metadata": {
      "needs_background": "light"
     },
     "output_type": "display_data"
    }
   ],
   "source": [
    "plt.figure(figsize = (8, 4))\n",
    "plt.plot(range(3, 8),\n",
    "         [containing_query(test_rep_trials, 'num_senses', [i],\n",
    "                           test_rep_matrices, bert_key = 'confusion') for i in range(3, 8)], marker = 'o')\n",
    "plt.xlabel(\"Number of Senses\")\n",
    "plt.ylabel(\"Spearman Correlation\")\n",
    "plt.title(\"Correlation of Confusion Matrices and Relatedness Based on Number of Senses\")\n",
    "plt.ylim(0, 1)\n",
    "plt.xticks(np.arange(3, 8))\n",
    "plt.tight_layout()\n",
    "plt.savefig('../../results/figures/conf_num_senses.png')"
   ]
  },
  {
   "cell_type": "markdown",
   "metadata": {},
   "source": [
    "Again, we see that the correlation between confusion matrices and human relatedness judgements decreases substantially (by around 0.3) for low entropy types."
   ]
  },
  {
   "cell_type": "code",
   "execution_count": 32,
   "metadata": {},
   "outputs": [
    {
     "name": "stdout",
     "output_type": "stream",
     "text": [
      "Correlation for med/low entropy words 0.7381649761411729\n"
     ]
    }
   ],
   "source": [
    "test_rep_entropy = all_entropy[all_entropy['trialType'].isin(['test', 'repeat'])]\n",
    "\n",
    "print(\"Correlation for med/low entropy words\", range_query(test_rep_entropy, 'entropy', 0, 1.45,\n",
    "                                                       test_rep_matrices, bert_key = 'confusion'))"
   ]
  },
  {
   "cell_type": "code",
   "execution_count": 33,
   "metadata": {},
   "outputs": [
    {
     "name": "stdout",
     "output_type": "stream",
     "text": [
      "Correlation for high entropy words 0.5604283861382621\n"
     ]
    }
   ],
   "source": [
    "print(\"Correlation for high entropy words\", range_query(test_rep_entropy, 'entropy', 1.45, 2,\n",
    "                                                       test_rep_matrices, bert_key = 'confusion'))"
   ]
  }
 ],
 "metadata": {
  "kernelspec": {
   "display_name": "Python [conda env:bert]",
   "language": "python",
   "name": "conda-env-bert-py"
  },
  "language_info": {
   "codemirror_mode": {
    "name": "ipython",
    "version": 3
   },
   "file_extension": ".py",
   "mimetype": "text/x-python",
   "name": "python",
   "nbconvert_exporter": "python",
   "pygments_lexer": "ipython3",
   "version": "3.7.6"
  }
 },
 "nbformat": 4,
 "nbformat_minor": 2
}
