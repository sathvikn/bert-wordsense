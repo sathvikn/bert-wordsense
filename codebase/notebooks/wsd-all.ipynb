{
 "cells": [
  {
   "cell_type": "code",
   "execution_count": 3,
   "metadata": {},
   "outputs": [],
   "source": [
    "from core.metrics import *\n",
    "from core.semcor_bert_pipeline import get_pos\n",
    "import numpy as np\n",
    "import pandas as pd\n",
    "import matplotlib.pyplot as plt\n",
    "import seaborn as sns"
   ]
  },
  {
   "cell_type": "code",
   "execution_count": 12,
   "metadata": {},
   "outputs": [],
   "source": [
    "df = pd.read_csv('../data/randscore_entropy.csv')\n",
    "df['pos'] = df['Lemma'].apply(get_pos)\n",
    "df = df[df['pos'].isin(['n', 'v'])]\n",
    "df = df[['Lemma', 'pos', 'entropy', 'num_senses']].drop_duplicates()\n",
    "words = df['Lemma']"
   ]
  },
  {
   "cell_type": "code",
   "execution_count": 5,
   "metadata": {},
   "outputs": [],
   "source": [
    "model_data = {}\n",
    "test_stats = []"
   ]
  },
  {
   "cell_type": "code",
   "execution_count": 6,
   "metadata": {},
   "outputs": [
    {
     "name": "stdout",
     "output_type": "stream",
     "text": [
      "Running Model for thing.n\n",
      "Running Model for meet.v\n",
      "Running Model for lead.v\n",
      "Running Model for serve.v\n",
      "Running Model for give.v\n",
      "Running Model for raise.v\n",
      "Running Model for cover.v\n",
      "Running Model for play.v\n",
      "Running Model for grow.v\n",
      "Running Model for apply.v\n",
      "Running Model for life.n\n",
      "Running Model for follow.v\n",
      "Running Model for time.n\n",
      "Running Model for find.v\n",
      "Running Model for trouble.n\n",
      "Running Model for deny.v\n"
     ]
    },
    {
     "name": "stderr",
     "output_type": "stream",
     "text": [
      "/anaconda3/envs/bert/lib/python3.7/site-packages/sklearn/linear_model/_sag.py:330: ConvergenceWarning: The max_iter was reached which means the coef_ did not converge\n",
      "  \"the coef_ did not converge\", ConvergenceWarning)\n",
      "/anaconda3/envs/bert/lib/python3.7/site-packages/sklearn/linear_model/_sag.py:330: ConvergenceWarning: The max_iter was reached which means the coef_ did not converge\n",
      "  \"the coef_ did not converge\", ConvergenceWarning)\n"
     ]
    },
    {
     "name": "stdout",
     "output_type": "stream",
     "text": [
      "Running Model for discover.v\n",
      "Running Model for line.n\n",
      "Running Model for make.v\n",
      "Running Model for show.v\n",
      "Running Model for feel.v\n",
      "Running Model for death.n\n",
      "Running Model for accept.v\n",
      "Running Model for reach.v\n",
      "Running Model for wish.v\n",
      "Running Model for world.n\n",
      "Running Model for force.n\n",
      "Running Model for call.v\n",
      "Running Model for write.v\n",
      "Running Model for system.n\n",
      "Running Model for set.v\n",
      "Running Model for history.n\n",
      "Running Model for move.v\n",
      "Running Model for change.n\n",
      "Running Model for end.n\n",
      "Running Model for side.n\n",
      "Running Model for open.v\n",
      "Running Model for represent.v\n",
      "Running Model for receive.v\n",
      "Running Model for section.n\n",
      "Running Model for day.n\n",
      "Running Model for place.n\n",
      "Running Model for hold.v\n",
      "Running Model for think_of.v\n",
      "Running Model for drive.v\n",
      "Running Model for bring.v\n",
      "Running Model for state.n\n",
      "Running Model for part.n\n",
      "Running Model for know.v\n",
      "Running Model for suffer.v\n",
      "Running Model for form.v\n",
      "Running Model for avoid.v\n",
      "Running Model for perform.v\n"
     ]
    },
    {
     "name": "stderr",
     "output_type": "stream",
     "text": [
      "/anaconda3/envs/bert/lib/python3.7/site-packages/sklearn/linear_model/_sag.py:330: ConvergenceWarning: The max_iter was reached which means the coef_ did not converge\n",
      "  \"the coef_ did not converge\", ConvergenceWarning)\n"
     ]
    },
    {
     "name": "stdout",
     "output_type": "stream",
     "text": [
      "Running Model for indicate.v\n",
      "Running Model for spirit.n\n",
      "Running Model for note.v\n",
      "Running Model for go.v\n",
      "Running Model for course.n\n",
      "Running Model for paint.v\n",
      "Running Model for expression.n\n",
      "Running Model for direction.n\n",
      "Running Model for corner.n\n",
      "Running Model for experience.n\n",
      "Running Model for stage.n\n",
      "Running Model for develop.v\n",
      "Running Model for refer.v\n",
      "Running Model for rise.v\n",
      "Running Model for mark.v\n",
      "Running Model for performance.n\n",
      "Running Model for strike.v\n",
      "Running Model for start.v\n",
      "Running Model for space.n\n",
      "Running Model for study.v\n",
      "Running Model for break.v\n",
      "Running Model for get.v\n",
      "Running Model for fire.v\n",
      "Running Model for contribute.v\n",
      "Running Model for gain.v\n",
      "Running Model for sense.n\n",
      "Running Model for item.n\n",
      "Running Model for answer.n\n",
      "Running Model for plan.v\n",
      "Running Model for hit.v\n",
      "Running Model for produce.v\n",
      "Running Model for hope.v\n",
      "Running Model for deal.v\n",
      "Running Model for sound.n\n",
      "Running Model for game.n\n",
      "Running Model for watch.v\n",
      "Running Model for hang.v\n",
      "Running Model for party.n\n",
      "Running Model for speak.v\n",
      "Running Model for heart.n\n",
      "Running Model for change.v\n",
      "Running Model for love.v\n",
      "Running Model for express.v\n",
      "Running Model for need.v\n",
      "Running Model for wait.v\n",
      "Running Model for declare.v\n",
      "Running Model for light.n\n",
      "Running Model for point.n\n",
      "Running Model for reveal.v\n",
      "Running Model for maintain.v\n",
      "Running Model for put.v\n",
      "Running Model for consider.v\n",
      "Running Model for position.n\n",
      "Running Model for drop.v\n",
      "Running Model for field.n\n",
      "Running Model for recognize.v\n",
      "Running Model for close.v\n",
      "Running Model for involve.v\n",
      "Running Model for value.n\n",
      "Running Model for prepare.v\n",
      "Running Model for remain.v\n",
      "Running Model for support.v\n",
      "Running Model for report.v\n",
      "Running Model for quality.n\n",
      "Running Model for keep.v\n",
      "Running Model for end.v\n",
      "Running Model for remember.v\n",
      "Running Model for present.v\n",
      "Running Model for result.n\n",
      "Running Model for source.n\n"
     ]
    },
    {
     "name": "stderr",
     "output_type": "stream",
     "text": [
      "/anaconda3/envs/bert/lib/python3.7/site-packages/sklearn/linear_model/_sag.py:330: ConvergenceWarning: The max_iter was reached which means the coef_ did not converge\n",
      "  \"the coef_ did not converge\", ConvergenceWarning)\n"
     ]
    },
    {
     "name": "stdout",
     "output_type": "stream",
     "text": [
      "Running Model for stand.v\n",
      "Running Model for begin.v\n",
      "Running Model for send.v\n",
      "Running Model for treat.v\n",
      "Running Model for suggest.v\n",
      "Running Model for stay.v\n",
      "Running Model for case.n\n",
      "Running Model for look.v\n",
      "Running Model for surface.n\n",
      "Running Model for man.n\n",
      "Running Model for determine.v\n",
      "Running Model for ask.v\n",
      "Running Model for live.v\n",
      "Running Model for continue.v\n",
      "Running Model for occur.v\n",
      "Running Model for choose.v\n",
      "Running Model for interest.n\n",
      "Running Model for assume.v\n",
      "Running Model for area.n\n",
      "Running Model for control.n\n",
      "Running Model for secretary.n\n",
      "Running Model for matter.n\n",
      "Running Model for note.n\n",
      "Running Model for property.n\n",
      "Running Model for notion.n\n",
      "Running Model for standard.n\n"
     ]
    },
    {
     "name": "stderr",
     "output_type": "stream",
     "text": [
      "/anaconda3/envs/bert/lib/python3.7/site-packages/sklearn/linear_model/_sag.py:330: ConvergenceWarning: The max_iter was reached which means the coef_ did not converge\n",
      "  \"the coef_ did not converge\", ConvergenceWarning)\n"
     ]
    },
    {
     "name": "stdout",
     "output_type": "stream",
     "text": [
      "Running Model for extend.v\n",
      "Running Model for labor.n\n",
      "Running Model for fear.v\n",
      "Running Model for culture.n\n",
      "Running Model for bond.n\n",
      "Running Model for match.v\n",
      "Running Model for trade.n\n",
      "Running Model for commit.v\n",
      "Running Model for frequency.n\n",
      "Running Model for duty.n\n",
      "Running Model for dry.v\n",
      "Running Model for operation.n\n",
      "Running Model for phase.n\n",
      "Running Model for reject.v\n",
      "Running Model for news.n\n",
      "Running Model for voice.n\n",
      "Running Model for task.n\n",
      "Running Model for benefit.n\n",
      "Running Model for propose.v\n",
      "Running Model for combine.v\n",
      "Running Model for assumption.n\n",
      "Running Model for unit.n\n",
      "Running Model for threaten.v\n"
     ]
    },
    {
     "name": "stderr",
     "output_type": "stream",
     "text": [
      "/anaconda3/envs/bert/lib/python3.7/site-packages/sklearn/linear_model/_sag.py:330: ConvergenceWarning: The max_iter was reached which means the coef_ did not converge\n",
      "  \"the coef_ did not converge\", ConvergenceWarning)\n"
     ]
    },
    {
     "name": "stdout",
     "output_type": "stream",
     "text": [
      "Running Model for snow.n\n",
      "Running Model for result.v\n",
      "Running Model for foot.n\n",
      "Running Model for treatment.n\n",
      "Running Model for church.n\n",
      "Running Model for aspect.n\n",
      "Running Model for list.v\n",
      "Running Model for pass_through.v\n",
      "Running Model for pattern.n\n",
      "Running Model for face.v\n",
      "Running Model for discussion.n\n",
      "Running Model for sign.v\n",
      "Running Model for dance.v\n",
      "Running Model for prove.v\n",
      "Running Model for pick_up.v\n",
      "Running Model for sing.v\n",
      "Running Model for work.n\n",
      "Running Model for captain.n\n",
      "Running Model for establish.v\n",
      "Running Model for imply.v\n"
     ]
    },
    {
     "name": "stderr",
     "output_type": "stream",
     "text": [
      "/anaconda3/envs/bert/lib/python3.7/site-packages/sklearn/linear_model/_sag.py:330: ConvergenceWarning: The max_iter was reached which means the coef_ did not converge\n",
      "  \"the coef_ did not converge\", ConvergenceWarning)\n"
     ]
    },
    {
     "name": "stdout",
     "output_type": "stream",
     "text": [
      "Running Model for question.v\n",
      "Running Model for tone.n\n",
      "Running Model for demonstrate.v\n",
      "Running Model for earth.n\n",
      "Running Model for carry_out.v\n",
      "Running Model for plane.n\n",
      "Running Model for policy.n\n",
      "Running Model for design.n\n",
      "Running Model for story.n\n",
      "Running Model for control.v\n",
      "Running Model for increase.v\n",
      "Running Model for cloud.n\n",
      "Running Model for payment.n\n",
      "Running Model for question.n\n",
      "Running Model for conduct.v\n",
      "Running Model for order.v\n",
      "Running Model for loss.n\n",
      "Running Model for consideration.n\n",
      "Running Model for meaning.n\n",
      "Running Model for university.n\n",
      "Running Model for investigate.v\n",
      "Running Model for store.v\n"
     ]
    },
    {
     "name": "stderr",
     "output_type": "stream",
     "text": [
      "/anaconda3/envs/bert/lib/python3.7/site-packages/sklearn/linear_model/_sag.py:330: ConvergenceWarning: The max_iter was reached which means the coef_ did not converge\n",
      "  \"the coef_ did not converge\", ConvergenceWarning)\n"
     ]
    },
    {
     "name": "stdout",
     "output_type": "stream",
     "text": [
      "Running Model for maturity.n\n"
     ]
    },
    {
     "name": "stderr",
     "output_type": "stream",
     "text": [
      "/anaconda3/envs/bert/lib/python3.7/site-packages/sklearn/linear_model/_sag.py:330: ConvergenceWarning: The max_iter was reached which means the coef_ did not converge\n",
      "  \"the coef_ did not converge\", ConvergenceWarning)\n"
     ]
    },
    {
     "name": "stdout",
     "output_type": "stream",
     "text": [
      "Running Model for class.n\n",
      "Running Model for family.n\n",
      "Running Model for share.v\n",
      "Running Model for destroy.v\n",
      "Running Model for development.n\n",
      "Running Model for score.v\n",
      "Running Model for subject.n\n",
      "Running Model for become.v\n",
      "Running Model for memory.n\n",
      "Running Model for ride.v\n",
      "Running Model for run.v\n",
      "Running Model for character.n\n",
      "Running Model for extent.n\n",
      "Running Model for activity.n\n",
      "Running Model for amount.n\n",
      "Running Model for look.n\n",
      "Running Model for land.n\n",
      "Running Model for read.v\n",
      "Running Model for sale.n\n",
      "Running Model for cell.n\n",
      "Running Model for enjoy.v\n",
      "Running Model for win.v\n",
      "Running Model for vary.v\n",
      "Running Model for requirement.n\n",
      "Running Model for prevent.v\n",
      "Running Model for act.v\n",
      "Running Model for remind.v\n",
      "Running Model for miss.v\n",
      "Running Model for head.v\n",
      "Running Model for message.n\n",
      "Running Model for require.v\n",
      "Running Model for rate.n\n",
      "Running Model for plant.n\n",
      "Running Model for act.n\n",
      "Running Model for board.n\n",
      "Running Model for distribution.n\n",
      "Running Model for design.v\n",
      "Running Model for reality.n\n",
      "Running Model for top.n\n",
      "Running Model for function.n\n",
      "Running Model for success.n\n",
      "Running Model for hope.n\n",
      "Running Model for response.n\n",
      "Running Model for happen.v\n",
      "Running Model for difficulty.n\n",
      "Running Model for war.n\n",
      "Running Model for gas.n\n"
     ]
    },
    {
     "name": "stderr",
     "output_type": "stream",
     "text": [
      "/anaconda3/envs/bert/lib/python3.7/site-packages/sklearn/linear_model/_sag.py:330: ConvergenceWarning: The max_iter was reached which means the coef_ did not converge\n",
      "  \"the coef_ did not converge\", ConvergenceWarning)\n"
     ]
    },
    {
     "name": "stdout",
     "output_type": "stream",
     "text": [
      "Running Model for structure.n\n",
      "Running Model for piece.n\n",
      "Running Model for level.n\n",
      "Running Model for find_out.v\n",
      "Running Model for lay.v\n",
      "Running Model for confront.v\n",
      "Running Model for glass.n\n",
      "Running Model for set.n\n",
      "Running Model for deliver.v\n",
      "Running Model for growth.n\n"
     ]
    },
    {
     "name": "stderr",
     "output_type": "stream",
     "text": [
      "/anaconda3/envs/bert/lib/python3.7/site-packages/sklearn/linear_model/_sag.py:330: ConvergenceWarning: The max_iter was reached which means the coef_ did not converge\n",
      "  \"the coef_ did not converge\", ConvergenceWarning)\n"
     ]
    },
    {
     "name": "stdout",
     "output_type": "stream",
     "text": [
      "Running Model for paper.n\n",
      "Running Model for learn.v\n",
      "Running Model for moment.n\n",
      "Running Model for production.n\n",
      "Running Model for model.n\n",
      "Running Model for pain.n\n",
      "Running Model for shout.v\n",
      "Running Model for divide.v\n"
     ]
    },
    {
     "name": "stderr",
     "output_type": "stream",
     "text": [
      "/anaconda3/envs/bert/lib/python3.7/site-packages/sklearn/linear_model/_sag.py:330: ConvergenceWarning: The max_iter was reached which means the coef_ did not converge\n",
      "  \"the coef_ did not converge\", ConvergenceWarning)\n"
     ]
    },
    {
     "name": "stdout",
     "output_type": "stream",
     "text": [
      "Running Model for add.v\n",
      "Running Model for include.v\n",
      "Running Model for country.n\n",
      "Running Model for pay.v\n",
      "Running Model for fail.v\n",
      "Running Model for radiation.n\n",
      "Running Model for number.n\n",
      "Running Model for law.n\n",
      "Running Model for table.n\n",
      "Running Model for succeed.v\n",
      "Running Model for shot.n\n",
      "Running Model for dollar.n\n",
      "Running Model for examine.v\n",
      "Running Model for notice.v\n",
      "Running Model for degree.n\n",
      "Running Model for argue.v\n",
      "Running Model for information.n\n",
      "Running Model for share.n\n",
      "Running Model for define.v\n",
      "Running Model for neighborhood.n\n",
      "Running Model for product.n\n",
      "Running Model for step.n\n",
      "Running Model for cost.v\n",
      "Running Model for offer.v\n",
      "Running Model for nod.v\n",
      "Running Model for job.n\n",
      "Running Model for tradition.n\n",
      "Running Model for regard.v\n",
      "Running Model for floor.n\n",
      "Running Model for newspaper.n\n",
      "Running Model for believe.v\n",
      "Running Model for fact.n\n",
      "Running Model for pressure.n\n",
      "Running Model for need.n\n",
      "Running Model for material.n\n",
      "Running Model for claim.n\n",
      "Running Model for help.v\n",
      "Running Model for film.n\n",
      "Running Model for program.n\n",
      "Running Model for swing.v\n",
      "Running Model for business.n\n",
      "Running Model for claim.v\n",
      "Running Model for child.n\n",
      "Running Model for air.n\n",
      "Running Model for evidence.n\n",
      "Running Model for refuse.v\n",
      "Running Model for organization.n\n",
      "Running Model for reason.n\n",
      "Running Model for fall.v\n",
      "Running Model for create.v\n",
      "Running Model for power.n\n",
      "Running Model for sound.v\n",
      "Running Model for increase.n\n",
      "Running Model for spend.v\n",
      "Running Model for procedure.n\n",
      "Running Model for agree.v\n",
      "Running Model for purpose.n\n",
      "Running Model for save.v\n",
      "Running Model for manner.n\n",
      "Running Model for cause.v\n",
      "Running Model for promise.v\n",
      "Running Model for collect.v\n",
      "Running Model for issue.v\n",
      "Running Model for yard.n\n",
      "Running Model for season.n\n",
      "Running Model for expect.v\n",
      "Running Model for reflect.v\n",
      "Running Model for publish.v\n",
      "Running Model for handle.v\n",
      "Running Model for theory.n\n",
      "Running Model for feed.v\n",
      "Running Model for situation.n\n",
      "Running Model for direct.v\n",
      "Running Model for contain.v\n",
      "Running Model for individual.n\n",
      "Running Model for ground.n\n",
      "Running Model for art.n\n",
      "Running Model for enter.v\n",
      "Running Model for right.n\n",
      "Running Model for shake.v\n",
      "Running Model for operate.v\n",
      "Running Model for industry.n\n",
      "Running Model for come_in.v\n",
      "Running Model for visit.v\n",
      "Running Model for way.n\n",
      "Running Model for hour.n\n",
      "Running Model for example.n\n",
      "Running Model for join.v\n",
      "Running Model for stop.v\n",
      "Running Model for appear.v\n",
      "Running Model for difference.n\n",
      "Running Model for problem.n\n",
      "Running Model for means.n\n",
      "Running Model for finish.v\n",
      "Running Model for sit.v\n",
      "Running Model for company.n\n",
      "Running Model for figure.n\n",
      "Running Model for form.n\n",
      "Running Model for affect.v\n",
      "Running Model for feeling.n\n",
      "Running Model for go_on.v\n",
      "Running Model for talk.v\n",
      "Running Model for compare.v\n",
      "Running Model for mean.v\n",
      "Running Model for encourage.v\n",
      "Running Model for eat.v\n",
      "Running Model for state.v\n",
      "Running Model for wear.v\n",
      "Running Model for observe.v\n"
     ]
    },
    {
     "name": "stderr",
     "output_type": "stream",
     "text": [
      "/anaconda3/envs/bert/lib/python3.7/site-packages/sklearn/linear_model/_sag.py:330: ConvergenceWarning: The max_iter was reached which means the coef_ did not converge\n",
      "  \"the coef_ did not converge\", ConvergenceWarning)\n"
     ]
    },
    {
     "name": "stdout",
     "output_type": "stream",
     "text": [
      "Running Model for experiment.n\n",
      "Running Model for thought.n\n",
      "Running Model for admit.v\n",
      "Running Model for improve.v\n",
      "Running Model for announce.v\n",
      "Running Model for face.n\n",
      "Running Model for condition.n\n",
      "Running Model for study.n\n",
      "Running Model for sell.v\n",
      "Running Model for allow.v\n",
      "Running Model for obtain.v\n",
      "Running Model for action.n\n",
      "Running Model for head.n\n",
      "Running Model for pass.v\n",
      "Running Model for seem.v\n",
      "Running Model for lose.v\n",
      "Running Model for return.v\n",
      "Running Model for mind.n\n",
      "Running Model for city.n\n",
      "Running Model for school.n\n",
      "Running Model for place.v\n",
      "Running Model for build.v\n",
      "Running Model for turn.v\n"
     ]
    }
   ],
   "source": [
    "for w in words:\n",
    "    print(\"Running Model for\", w)\n",
    "    try:\n",
    "        model_results = logistic_cv(w, use_masc = False)\n",
    "        model_data[w] = model_results\n",
    "        test_stats.append({\"word\": w, 'avg_f1': np.mean(model_results['f1']),\n",
    "                             'avg_acc': np.mean(model_results['acc'])})  \n",
    "    except:\n",
    "        continue"
   ]
  },
  {
   "cell_type": "code",
   "execution_count": 15,
   "metadata": {},
   "outputs": [
    {
     "data": {
      "text/plain": [
       "Text(0.5, 1, 'Number of Senses and Average F1 Score')"
      ]
     },
     "execution_count": 15,
     "metadata": {},
     "output_type": "execute_result"
    },
    {
     "data": {
      "image/png": "[encoded data removed]",
      "text/plain": [
       "<Figure size 402.375x360 with 1 Axes>"
      ]
     },
     "metadata": {
      "needs_background": "light"
     },
     "output_type": "display_data"
    }
   ],
   "source": [
    "model_perf = pd.DataFrame(test_stats).merge(df, left_on ='word', right_on = 'Lemma')\n",
    "sns.catplot(x = 'num_senses', y = 'avg_f1', hue = 'pos', data = model_perf, alpha = 0.5)\n",
    "plt.title(\"Number of Senses and Average F1 Score\")"
   ]
  },
  {
   "cell_type": "code",
   "execution_count": 19,
   "metadata": {},
   "outputs": [
    {
     "data": {
      "text/plain": [
       "Text(0.5, 1.0, 'Entropy and Average F1 Score')"
      ]
     },
     "execution_count": 19,
     "metadata": {},
     "output_type": "execute_result"
    },
    {
     "data": {
      "image/png": "[encoded data removed]",
      "text/plain": [
       "<Figure size 432x288 with 1 Axes>"
      ]
     },
     "metadata": {
      "needs_background": "light"
     },
     "output_type": "display_data"
    }
   ],
   "source": [
    "sns.scatterplot(x = 'entropy', y = 'avg_f1', hue = 'pos', data = model_perf, alpha = 0.4)\n",
    "plt.title(\"Entropy and Average F1 Score\")"
   ]
  },
  {
   "cell_type": "code",
   "execution_count": 26,
   "metadata": {},
   "outputs": [],
   "source": [
    "model_perf.to_csv(\"../data/model_perf.csv\")"
   ]
  }
 ],
 "metadata": {
  "kernelspec": {
   "display_name": "Python [conda env:bert] *",
   "language": "python",
   "name": "conda-env-bert-py"
  },
  "language_info": {
   "codemirror_mode": {
    "name": "ipython",
    "version": 3
   },
   "file_extension": ".py",
   "mimetype": "text/x-python",
   "name": "python",
   "nbconvert_exporter": "python",
   "pygments_lexer": "ipython3",
   "version": "3.7.6"
  }
 },
 "nbformat": 4,
 "nbformat_minor": 2
}
