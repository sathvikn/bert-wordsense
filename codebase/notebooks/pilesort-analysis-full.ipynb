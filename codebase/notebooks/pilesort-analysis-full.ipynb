{
 "cells": [
  {
   "cell_type": "code",
   "execution_count": 1,
   "metadata": {},
   "outputs": [
    {
     "data": {
      "text/plain": [
       "<Figure size 432x288 with 0 Axes>"
      ]
     },
     "metadata": {},
     "output_type": "display_data"
    }
   ],
   "source": [
    "import pandas as pd\n",
    "from core.analysis import *"
   ]
  },
  {
   "cell_type": "markdown",
   "metadata": {},
   "source": [
    "## Data Prep"
   ]
  },
  {
   "cell_type": "code",
   "execution_count": 2,
   "metadata": {},
   "outputs": [],
   "source": [
    "db = access_db()\n",
    "trials = get_trial_data(db)\n",
    "participants = get_participant_data(db)"
   ]
  },
  {
   "cell_type": "code",
   "execution_count": 3,
   "metadata": {},
   "outputs": [],
   "source": [
    "user_data = participants[(participants['completedTask'] == 1) & (participants.index > 4) \n",
    "                         & ~(participants['workerID'].str.startswith(\"pilot\"))] #excluding my data/Jon/Stephan\n",
    "results = trials[trials['userID'].isin(user_data['userID'])]\n",
    "users = user_data['userID']"
   ]
  },
  {
   "cell_type": "markdown",
   "metadata": {},
   "source": [
    "## MDS"
   ]
  },
  {
   "cell_type": "code",
   "execution_count": 11,
   "metadata": {},
   "outputs": [],
   "source": [
    "all_shared_defs = display_sense_definitions(results, 'shared')"
   ]
  },
  {
   "cell_type": "code",
   "execution_count": 12,
   "metadata": {},
   "outputs": [
    {
     "data": {
      "text/html": [
       "<div>\n",
       "<style scoped>\n",
       "    .dataframe tbody tr th:only-of-type {\n",
       "        vertical-align: middle;\n",
       "    }\n",
       "\n",
       "    .dataframe tbody tr th {\n",
       "        vertical-align: top;\n",
       "    }\n",
       "\n",
       "    .dataframe thead th {\n",
       "        text-align: right;\n",
       "    }\n",
       "</style>\n",
       "<table border=\"1\" class=\"dataframe\">\n",
       "  <thead>\n",
       "    <tr style=\"text-align: right;\">\n",
       "      <th></th>\n",
       "      <th>Sense</th>\n",
       "      <th>Type</th>\n",
       "      <th>Definition</th>\n",
       "    </tr>\n",
       "  </thead>\n",
       "  <tbody>\n",
       "    <tr>\n",
       "      <th>212</th>\n",
       "      <td>foot_n_01</td>\n",
       "      <td>foot_n</td>\n",
       "      <td>the part of the leg of a human being below the ankle joint</td>\n",
       "    </tr>\n",
       "    <tr>\n",
       "      <th>213</th>\n",
       "      <td>foot_n_02</td>\n",
       "      <td>foot_n</td>\n",
       "      <td>a linear unit of length equal to 12 inches or a third of a yard</td>\n",
       "    </tr>\n",
       "    <tr>\n",
       "      <th>214</th>\n",
       "      <td>foot_n_03</td>\n",
       "      <td>foot_n</td>\n",
       "      <td>the lower part of anything</td>\n",
       "    </tr>\n",
       "  </tbody>\n",
       "</table>\n",
       "</div>"
      ],
      "text/plain": [
       "         Sense    Type  \\\n",
       "212  foot_n_01  foot_n   \n",
       "213  foot_n_02  foot_n   \n",
       "214  foot_n_03  foot_n   \n",
       "\n",
       "                                                          Definition  \n",
       "212       the part of the leg of a human being below the ankle joint  \n",
       "213  a linear unit of length equal to 12 inches or a third of a yard  \n",
       "214                                       the lower part of anything  "
      ]
     },
     "execution_count": 12,
     "metadata": {},
     "output_type": "execute_result"
    },
    {
     "data": {
      "image/png": "[encoded data removed]",
      "text/plain": [
       "<Figure size 432x288 with 1 Axes>"
      ]
     },
     "metadata": {
      "needs_background": "light"
     },
     "output_type": "display_data"
    }
   ],
   "source": [
    "plot_individual_mds(results, 'foot_n', 'shared', users, db, all_shared_defs)"
   ]
  },
  {
   "cell_type": "code",
   "execution_count": 13,
   "metadata": {},
   "outputs": [
    {
     "data": {
      "text/html": [
       "<div>\n",
       "<style scoped>\n",
       "    .dataframe tbody tr th:only-of-type {\n",
       "        vertical-align: middle;\n",
       "    }\n",
       "\n",
       "    .dataframe tbody tr th {\n",
       "        vertical-align: top;\n",
       "    }\n",
       "\n",
       "    .dataframe thead th {\n",
       "        text-align: right;\n",
       "    }\n",
       "</style>\n",
       "<table border=\"1\" class=\"dataframe\">\n",
       "  <thead>\n",
       "    <tr style=\"text-align: right;\">\n",
       "      <th></th>\n",
       "      <th>Sense</th>\n",
       "      <th>Type</th>\n",
       "      <th>Definition</th>\n",
       "    </tr>\n",
       "  </thead>\n",
       "  <tbody>\n",
       "    <tr>\n",
       "      <th>215</th>\n",
       "      <td>table_n_01</td>\n",
       "      <td>table_n</td>\n",
       "      <td>a set of data arranged in rows and columns</td>\n",
       "    </tr>\n",
       "    <tr>\n",
       "      <th>216</th>\n",
       "      <td>table_n_02</td>\n",
       "      <td>table_n</td>\n",
       "      <td>a piece of furniture having a smooth flat top that is usually supported by one or more vertical legs</td>\n",
       "    </tr>\n",
       "    <tr>\n",
       "      <th>217</th>\n",
       "      <td>table_n_03</td>\n",
       "      <td>table_n</td>\n",
       "      <td>a piece of furniture with tableware for a meal laid out on it</td>\n",
       "    </tr>\n",
       "  </tbody>\n",
       "</table>\n",
       "</div>"
      ],
      "text/plain": [
       "          Sense     Type  \\\n",
       "215  table_n_01  table_n   \n",
       "216  table_n_02  table_n   \n",
       "217  table_n_03  table_n   \n",
       "\n",
       "                                                                                               Definition  \n",
       "215                                                            a set of data arranged in rows and columns  \n",
       "216  a piece of furniture having a smooth flat top that is usually supported by one or more vertical legs  \n",
       "217                                         a piece of furniture with tableware for a meal laid out on it  "
      ]
     },
     "execution_count": 13,
     "metadata": {},
     "output_type": "execute_result"
    },
    {
     "data": {
      "image/png": "[encoded data removed]",
      "text/plain": [
       "<Figure size 432x288 with 1 Axes>"
      ]
     },
     "metadata": {
      "needs_background": "light"
     },
     "output_type": "display_data"
    }
   ],
   "source": [
    "plot_individual_mds(results, 'table_n', 'shared', users, db, all_shared_defs)"
   ]
  },
  {
   "cell_type": "code",
   "execution_count": 14,
   "metadata": {},
   "outputs": [
    {
     "data": {
      "text/html": [
       "<div>\n",
       "<style scoped>\n",
       "    .dataframe tbody tr th:only-of-type {\n",
       "        vertical-align: middle;\n",
       "    }\n",
       "\n",
       "    .dataframe tbody tr th {\n",
       "        vertical-align: top;\n",
       "    }\n",
       "\n",
       "    .dataframe thead th {\n",
       "        text-align: right;\n",
       "    }\n",
       "</style>\n",
       "<table border=\"1\" class=\"dataframe\">\n",
       "  <thead>\n",
       "    <tr style=\"text-align: right;\">\n",
       "      <th></th>\n",
       "      <th>Sense</th>\n",
       "      <th>Type</th>\n",
       "      <th>Definition</th>\n",
       "    </tr>\n",
       "  </thead>\n",
       "  <tbody>\n",
       "    <tr>\n",
       "      <th>218</th>\n",
       "      <td>airplane_n_01</td>\n",
       "      <td>plane_n</td>\n",
       "      <td>an aircraft that has a fixed wing and is powered by propellers or jets</td>\n",
       "    </tr>\n",
       "    <tr>\n",
       "      <th>219</th>\n",
       "      <td>plane_n_02</td>\n",
       "      <td>plane_n</td>\n",
       "      <td>(mathematics) an unbounded two-dimensional shape</td>\n",
       "    </tr>\n",
       "    <tr>\n",
       "      <th>220</th>\n",
       "      <td>plane_n_03</td>\n",
       "      <td>plane_n</td>\n",
       "      <td>a level of existence or development</td>\n",
       "    </tr>\n",
       "  </tbody>\n",
       "</table>\n",
       "</div>"
      ],
      "text/plain": [
       "             Sense     Type  \\\n",
       "218  airplane_n_01  plane_n   \n",
       "219     plane_n_02  plane_n   \n",
       "220     plane_n_03  plane_n   \n",
       "\n",
       "                                                                 Definition  \n",
       "218  an aircraft that has a fixed wing and is powered by propellers or jets  \n",
       "219                        (mathematics) an unbounded two-dimensional shape  \n",
       "220                                     a level of existence or development  "
      ]
     },
     "execution_count": 14,
     "metadata": {},
     "output_type": "execute_result"
    },
    {
     "data": {
      "image/png": "[encoded data removed]",
      "text/plain": [
       "<Figure size 432x288 with 1 Axes>"
      ]
     },
     "metadata": {
      "needs_background": "light"
     },
     "output_type": "display_data"
    }
   ],
   "source": [
    "plot_individual_mds(results, 'plane_n', 'shared', users, db, all_shared_defs)"
   ]
  },
  {
   "cell_type": "code",
   "execution_count": 15,
   "metadata": {},
   "outputs": [
    {
     "data": {
      "text/html": [
       "<div>\n",
       "<style scoped>\n",
       "    .dataframe tbody tr th:only-of-type {\n",
       "        vertical-align: middle;\n",
       "    }\n",
       "\n",
       "    .dataframe tbody tr th {\n",
       "        vertical-align: top;\n",
       "    }\n",
       "\n",
       "    .dataframe thead th {\n",
       "        text-align: right;\n",
       "    }\n",
       "</style>\n",
       "<table border=\"1\" class=\"dataframe\">\n",
       "  <thead>\n",
       "    <tr style=\"text-align: right;\">\n",
       "      <th></th>\n",
       "      <th>Sense</th>\n",
       "      <th>Type</th>\n",
       "      <th>Definition</th>\n",
       "    </tr>\n",
       "  </thead>\n",
       "  <tbody>\n",
       "    <tr>\n",
       "      <th>221</th>\n",
       "      <td>academic_degree_n_01</td>\n",
       "      <td>degree_n</td>\n",
       "      <td>an award conferred by a college or university signifying that the recipient has satisfactorily completed a course of study</td>\n",
       "    </tr>\n",
       "    <tr>\n",
       "      <th>222</th>\n",
       "      <td>degree_n_01</td>\n",
       "      <td>degree_n</td>\n",
       "      <td>a position on a scale of intensity or amount or quality</td>\n",
       "    </tr>\n",
       "    <tr>\n",
       "      <th>223</th>\n",
       "      <td>degree_n_02</td>\n",
       "      <td>degree_n</td>\n",
       "      <td>a specific identifiable position in a continuum or series or especially in a process</td>\n",
       "    </tr>\n",
       "  </tbody>\n",
       "</table>\n",
       "</div>"
      ],
      "text/plain": [
       "                    Sense      Type  \\\n",
       "221  academic_degree_n_01  degree_n   \n",
       "222           degree_n_01  degree_n   \n",
       "223           degree_n_02  degree_n   \n",
       "\n",
       "                                                                                                                     Definition  \n",
       "221  an award conferred by a college or university signifying that the recipient has satisfactorily completed a course of study  \n",
       "222                                                                     a position on a scale of intensity or amount or quality  \n",
       "223                                        a specific identifiable position in a continuum or series or especially in a process  "
      ]
     },
     "execution_count": 15,
     "metadata": {},
     "output_type": "execute_result"
    },
    {
     "data": {
      "image/png": "[encoded data removed]",
      "text/plain": [
       "<Figure size 432x288 with 1 Axes>"
      ]
     },
     "metadata": {
      "needs_background": "light"
     },
     "output_type": "display_data"
    }
   ],
   "source": [
    "plot_individual_mds(results, 'degree_n', 'shared', users, db, all_shared_defs)"
   ]
  },
  {
   "cell_type": "code",
   "execution_count": 16,
   "metadata": {},
   "outputs": [
    {
     "data": {
      "text/html": [
       "<div>\n",
       "<style scoped>\n",
       "    .dataframe tbody tr th:only-of-type {\n",
       "        vertical-align: middle;\n",
       "    }\n",
       "\n",
       "    .dataframe tbody tr th {\n",
       "        vertical-align: top;\n",
       "    }\n",
       "\n",
       "    .dataframe thead th {\n",
       "        text-align: right;\n",
       "    }\n",
       "</style>\n",
       "<table border=\"1\" class=\"dataframe\">\n",
       "  <thead>\n",
       "    <tr style=\"text-align: right;\">\n",
       "      <th></th>\n",
       "      <th>Sense</th>\n",
       "      <th>Type</th>\n",
       "      <th>Definition</th>\n",
       "    </tr>\n",
       "  </thead>\n",
       "  <tbody>\n",
       "    <tr>\n",
       "      <th>224</th>\n",
       "      <td>right_n_01</td>\n",
       "      <td>right_n</td>\n",
       "      <td>an abstract idea of that which is due to a person or governmental body by law or tradition or nature; ; - Eleanor Roosevelt</td>\n",
       "    </tr>\n",
       "    <tr>\n",
       "      <th>225</th>\n",
       "      <td>right_n_02</td>\n",
       "      <td>right_n</td>\n",
       "      <td>location near or direction toward the right side; i.e. the side to the south when a person or object faces east</td>\n",
       "    </tr>\n",
       "    <tr>\n",
       "      <th>226</th>\n",
       "      <td>right_n_04</td>\n",
       "      <td>right_n</td>\n",
       "      <td>those who support political or social or economic conservatism; those who believe that things are better left unchanged</td>\n",
       "    </tr>\n",
       "  </tbody>\n",
       "</table>\n",
       "</div>"
      ],
      "text/plain": [
       "          Sense     Type  \\\n",
       "224  right_n_01  right_n   \n",
       "225  right_n_02  right_n   \n",
       "226  right_n_04  right_n   \n",
       "\n",
       "                                                                                                                      Definition  \n",
       "224  an abstract idea of that which is due to a person or governmental body by law or tradition or nature; ; - Eleanor Roosevelt  \n",
       "225              location near or direction toward the right side; i.e. the side to the south when a person or object faces east  \n",
       "226      those who support political or social or economic conservatism; those who believe that things are better left unchanged  "
      ]
     },
     "execution_count": 16,
     "metadata": {},
     "output_type": "execute_result"
    },
    {
     "data": {
      "image/png": "[encoded data removed]",
      "text/plain": [
       "<Figure size 432x288 with 1 Axes>"
      ]
     },
     "metadata": {
      "needs_background": "light"
     },
     "output_type": "display_data"
    }
   ],
   "source": [
    "plot_individual_mds(results, 'right_n', 'shared', users, db, all_shared_defs)"
   ]
  },
  {
   "cell_type": "code",
   "execution_count": 17,
   "metadata": {},
   "outputs": [
    {
     "data": {
      "text/html": [
       "<div>\n",
       "<style scoped>\n",
       "    .dataframe tbody tr th:only-of-type {\n",
       "        vertical-align: middle;\n",
       "    }\n",
       "\n",
       "    .dataframe tbody tr th {\n",
       "        vertical-align: top;\n",
       "    }\n",
       "\n",
       "    .dataframe thead th {\n",
       "        text-align: right;\n",
       "    }\n",
       "</style>\n",
       "<table border=\"1\" class=\"dataframe\">\n",
       "  <thead>\n",
       "    <tr style=\"text-align: right;\">\n",
       "      <th></th>\n",
       "      <th>Sense</th>\n",
       "      <th>Type</th>\n",
       "      <th>Definition</th>\n",
       "    </tr>\n",
       "  </thead>\n",
       "  <tbody>\n",
       "    <tr>\n",
       "      <th>227</th>\n",
       "      <td>model_n_01</td>\n",
       "      <td>model_n</td>\n",
       "      <td>a hypothetical description of a complex entity or process</td>\n",
       "    </tr>\n",
       "    <tr>\n",
       "      <th>228</th>\n",
       "      <td>model_n_02</td>\n",
       "      <td>model_n</td>\n",
       "      <td>a type of product</td>\n",
       "    </tr>\n",
       "    <tr>\n",
       "      <th>229</th>\n",
       "      <td>model_n_03</td>\n",
       "      <td>model_n</td>\n",
       "      <td>a person who poses for a photographer or painter or sculptor</td>\n",
       "    </tr>\n",
       "  </tbody>\n",
       "</table>\n",
       "</div>"
      ],
      "text/plain": [
       "          Sense     Type  \\\n",
       "227  model_n_01  model_n   \n",
       "228  model_n_02  model_n   \n",
       "229  model_n_03  model_n   \n",
       "\n",
       "                                                       Definition  \n",
       "227     a hypothetical description of a complex entity or process  \n",
       "228                                             a type of product  \n",
       "229  a person who poses for a photographer or painter or sculptor  "
      ]
     },
     "execution_count": 17,
     "metadata": {},
     "output_type": "execute_result"
    },
    {
     "data": {
      "image/png": "[encoded data removed]",
      "text/plain": [
       "<Figure size 432x288 with 1 Axes>"
      ]
     },
     "metadata": {
      "needs_background": "light"
     },
     "output_type": "display_data"
    }
   ],
   "source": [
    "plot_individual_mds(results, 'model_n', 'shared', users, db, all_shared_defs)"
   ]
  },
  {
   "cell_type": "markdown",
   "metadata": {},
   "source": [
    "## Consistency"
   ]
  },
  {
   "cell_type": "code",
   "execution_count": 18,
   "metadata": {},
   "outputs": [],
   "source": [
    "repeat_corr = all_repeats(results, users, plot = False) #self correlation\n",
    "shared_results = results[results['trialType'] == 'shared']\n",
    "shared_corrs = group_consistency(shared_results, users) #shared correlation\n",
    "user_time_word_changes = get_time_and_changes(results, user_data) #metadata\n",
    "consistency = pd.DataFrame({'Group Consistency': shared_corrs, 'Self Consistency': repeat_corr})\n",
    "corrs = user_time_word_changes.merge(consistency, on = user_time_word_changes.index).drop('key_0', axis = 1)\n",
    "corrs['Correlation with SN'] = my_correlations(participants, trials, results, users) #vs gold standard"
   ]
  },
  {
   "cell_type": "code",
   "execution_count": 16,
   "metadata": {},
   "outputs": [
    {
     "data": {
      "text/plain": [
       "timeTaken              692.897357\n",
       "changes                  6.964286\n",
       "Group Consistency        0.512886\n",
       "Self Consistency         0.549777\n",
       "Correlation with SN      0.509483\n",
       "dtype: float64"
      ]
     },
     "execution_count": 16,
     "metadata": {},
     "output_type": "execute_result"
    }
   ],
   "source": [
    "corrs.drop('userID', axis = 1).apply(np.mean)"
   ]
  },
  {
   "cell_type": "code",
   "execution_count": 19,
   "metadata": {
    "scrolled": true
   },
   "outputs": [
    {
     "data": {
      "image/png": "[encoded data removed]",
      "text/plain": [
       "<Figure size 432x288 with 1 Axes>"
      ]
     },
     "metadata": {
      "needs_background": "light"
     },
     "output_type": "display_data"
    }
   ],
   "source": [
    "random_self = simulate_self_correlation(1000, db)\n",
    "plot_consistency_hist(random_self, corrs['Self Consistency'], \n",
    "                      \"Self Consistency of Subjects vs. Random Matrices\", legend = False)"
   ]
  },
  {
   "cell_type": "code",
   "execution_count": 20,
   "metadata": {},
   "outputs": [
    {
     "data": {
      "image/png": "[encoded data removed]",
      "text/plain": [
       "<Figure size 432x288 with 1 Axes>"
      ]
     },
     "metadata": {
      "needs_background": "light"
     },
     "output_type": "display_data"
    }
   ],
   "source": [
    "random_group = [random_vs_all(shared_results) for _ in range(1000)]\n",
    "plot_consistency_hist(random_group, corrs['Group Consistency'], \n",
    "                      \"Group Consistency of Subjects vs. Random Matrices\", legend = False)"
   ]
  },
  {
   "cell_type": "markdown",
   "metadata": {},
   "source": [
    "Exclusion criteria: Self below 0.3?"
   ]
  }
 ],
 "metadata": {
  "kernelspec": {
   "display_name": "Python [conda env:bert] *",
   "language": "python",
   "name": "conda-env-bert-py"
  },
  "language_info": {
   "codemirror_mode": {
    "name": "ipython",
    "version": 3
   },
   "file_extension": ".py",
   "mimetype": "text/x-python",
   "name": "python",
   "nbconvert_exporter": "python",
   "pygments_lexer": "ipython3",
   "version": "3.7.6"
  }
 },
 "nbformat": 4,
 "nbformat_minor": 2
}
