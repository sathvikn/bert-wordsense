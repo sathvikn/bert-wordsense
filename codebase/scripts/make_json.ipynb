{
 "cells": [
  {
   "cell_type": "code",
   "execution_count": 10,
   "metadata": {},
   "outputs": [],
   "source": [
    "import os\n",
    "import numpy as np\n",
    "import json\n",
    "import pandas as pd\n",
    "from nltk.corpus import wordnet as wn"
   ]
  },
  {
   "cell_type": "code",
   "execution_count": 17,
   "metadata": {},
   "outputs": [],
   "source": [
    "semcor_samples = pd.read_csv('../data/randscore_entropy.csv')\n",
    "lemmas = np.random.choice(semcor_samples['Lemma'].unique(), 20)"
   ]
  },
  {
   "cell_type": "code",
   "execution_count": 18,
   "metadata": {},
   "outputs": [],
   "source": [
    "make_fname = lambda x: x.split('.')[0] + '_' + x.split('.')[1] + '.json'\n",
    "lemmas = [make_fname(l) for l in lemmas]\n",
    "datapath = os.path.join('..', 'data', 'pipeline_results', 'sparse')"
   ]
  },
  {
   "cell_type": "code",
   "execution_count": 29,
   "metadata": {
    "scrolled": true
   },
   "outputs": [],
   "source": [
    "sense_as_str = lambda s: s.split('(')[1].replace(')', '')\n",
    "inputs = {}\n",
    "for l in lemmas:\n",
    "    with open(os.path.join(datapath, l), 'r') as f:\n",
    "        logged_data = json.load(f)\n",
    "    lem = logged_data['lemma']\n",
    "    inputs[lem] = {}\n",
    "    for s in logged_data['sense_names']:\n",
    "        l = sense_as_str(s)\n",
    "        #Needed to change NLTK source code for this to work\n",
    "        defn = wn.synset(l).definition()\n",
    "        inputs[lem][l] = defn\n",
    "    inputs[lem]['senses'] = len(logged_data['sense_names'])\n",
    "    inputs[lem]['type'] = lem"
   ]
  },
  {
   "cell_type": "code",
   "execution_count": 30,
   "metadata": {},
   "outputs": [
    {
     "data": {
      "text/plain": [
       "{'benefit.n': {\"'benefit.n.02'\": 'something that aids or promotes well-being',\n",
       "  \"'benefit.n.01'\": 'financial assistance in time of need',\n",
       "  'senses': 2,\n",
       "  'type': 'benefit.n'},\n",
       " 'sound.n': {\"'sound.n.02'\": 'the subjective sensation of hearing something',\n",
       "  \"'sound.n.01'\": 'the particular auditory effect produced by a given cause',\n",
       "  'senses': 2,\n",
       "  'type': 'sound.n'},\n",
       " 'payment.n': {\"'payment.n.02'\": 'the act of paying money',\n",
       "  \"'payment.n.01'\": 'a sum of money paid or a claim discharged',\n",
       "  'senses': 2,\n",
       "  'type': 'payment.n'},\n",
       " 'claim.v': {\"'claim.v.02'\": \"demand as being one's due or property; assert one's right or title to\",\n",
       "  \"'claim.v.01'\": 'assert or affirm strongly; state to be true or existing',\n",
       "  'senses': 2,\n",
       "  'type': 'claim.v'},\n",
       " 'business.n': {\"'occupation.n.01'\": 'the principal activity in your life that you do to earn money',\n",
       "  \"'business.n.01'\": 'a commercial or industrial enterprise and the people who constitute it',\n",
       "  \"'commercial_enterprise.n.02'\": 'the activity of providing goods and services involving financial and commercial and industrial aspects',\n",
       "  'senses': 3,\n",
       "  'type': 'business.n'},\n",
       " 'consider.v': {\"'see.v.05'\": 'deem to be',\n",
       "  \"'consider.v.03'\": 'take into consideration for exemplifying purposes',\n",
       "  \"'consider.v.04'\": 'show consideration for; take into account',\n",
       "  \"'study.v.03'\": 'give careful consideration to',\n",
       "  \"'consider.v.05'\": 'think about carefully; weigh',\n",
       "  'senses': 5,\n",
       "  'type': 'consider.v'},\n",
       " 'art.n': {\"'art.n.01'\": 'the products of human creativity; works of art collectively',\n",
       "  \"'art.n.02'\": 'the creation of beautiful or significant things',\n",
       "  'senses': 2,\n",
       "  'type': 'art.n'},\n",
       " 'open.a': {\"'open.a.01'\": 'affording unobstructed entrance and exit; not shut or closed',\n",
       "  \"'open.a.02'\": 'affording free passage or access',\n",
       "  'senses': 2,\n",
       "  'type': 'open.a'},\n",
       " 'dance.v': {\"'dance.v.01'\": 'move in a graceful and rhythmical way',\n",
       "  \"'dance.v.02'\": 'move in a pattern; usually to musical accompaniment; do or perform a dance',\n",
       "  'senses': 2,\n",
       "  'type': 'dance.v'},\n",
       " 'face.v': {\"'confront.v.01'\": 'oppose, as in hostility or a competition',\n",
       "  \"'confront.v.02'\": 'deal with (something unpleasant) head on',\n",
       "  \"'front.v.01'\": 'be oriented in a certain direction, often with respect to another reference point; be opposite to',\n",
       "  'senses': 3,\n",
       "  'type': 'face.v'},\n",
       " 'claim.n': {\"'claim.n.01'\": 'an assertion of a right (as to money or property)',\n",
       "  \"'claim.n.02'\": 'an assertion that something is true or factual',\n",
       "  'senses': 2,\n",
       "  'type': 'claim.n'},\n",
       " 'find_out.v': {\"'learn.v.02'\": 'get to know or become aware of, usually accidentally',\n",
       "  \"'determine.v.01'\": 'establish after a calculation, investigation, experiment, survey, or study',\n",
       "  'senses': 2,\n",
       "  'type': 'find_out.v'},\n",
       " 'hang.v': {\"'hang.v.03'\": 'kill by hanging',\n",
       "  \"'hang.v.02'\": 'cause to be hanging or suspended',\n",
       "  \"'hang.v.01'\": 'be suspended or hanging',\n",
       "  'senses': 3,\n",
       "  'type': 'hang.v'},\n",
       " 'deal.v': {\"'consider.v.03'\": 'take into consideration for exemplifying purposes',\n",
       "  \"'cover.v.05'\": 'act on verbally or in some form of artistic expression',\n",
       "  \"'deal.v.03'\": 'take action with respect to (someone or something)',\n",
       "  'senses': 3,\n",
       "  'type': 'deal.v'},\n",
       " 'rise.v': {\"'rise.v.01'\": 'move upward',\n",
       "  \"'rise.v.02'\": 'increase in value or to a higher point',\n",
       "  \"'arise.v.03'\": \"rise to one's feet\",\n",
       "  'senses': 3,\n",
       "  'type': 'rise.v'},\n",
       " 'technical.a': {\"'technical.a.02'\": 'characterizing or showing skill in or specialized knowledge of applied arts and sciences',\n",
       "  \"'technical.a.01'\": 'of or relating to technique or proficiency in a practical skill',\n",
       "  'senses': 2,\n",
       "  'type': 'technical.a'},\n",
       " 'watch.v': {\"'watch.v.01'\": 'look attentively',\n",
       "  \"'watch.v.03'\": 'see or watch',\n",
       "  \"'watch.v.02'\": 'follow with the eyes or the mind',\n",
       "  'senses': 3,\n",
       "  'type': 'watch.v'},\n",
       " 'early.a': {\"'early.a.01'\": 'at or near the beginning of a period of time or course of events or before the usual or expected time',\n",
       "  \"'early.a.02'\": 'being or occurring at an early stage of development',\n",
       "  'senses': 2,\n",
       "  'type': 'early.a'},\n",
       " 'issue.v': {\"'issue.v.03'\": 'bring out an official document (such as a warrant)',\n",
       "  \"'publish.v.02'\": 'prepare and issue for public distribution or sale',\n",
       "  \"'issue.v.02'\": 'circulate or distribute or equip with',\n",
       "  'senses': 3,\n",
       "  'type': 'issue.v'},\n",
       " 'success.n': {\"'success.n.02'\": 'an attainment that is successful',\n",
       "  \"'success.n.01'\": 'an event that accomplishes its intended purpose',\n",
       "  'senses': 2,\n",
       "  'type': 'success.n'}}"
      ]
     },
     "execution_count": 30,
     "metadata": {},
     "output_type": "execute_result"
    }
   ],
   "source": [
    "inputs"
   ]
  },
  {
   "cell_type": "code",
   "execution_count": null,
   "metadata": {},
   "outputs": [],
   "source": []
  }
 ],
 "metadata": {
  "kernelspec": {
   "display_name": "Python [conda env:bert] *",
   "language": "python",
   "name": "conda-env-bert-py"
  },
  "language_info": {
   "codemirror_mode": {
    "name": "ipython",
    "version": 3
   },
   "file_extension": ".py",
   "mimetype": "text/x-python",
   "name": "python",
   "nbconvert_exporter": "python",
   "pygments_lexer": "ipython3",
   "version": "3.7.6"
  }
 },
 "nbformat": 4,
 "nbformat_minor": 2
}
