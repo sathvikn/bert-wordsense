{
 "cells": [
  {
   "cell_type": "code",
   "execution_count": 1,
   "metadata": {},
   "outputs": [],
   "source": [
    "from semcor_bert_utils import *"
   ]
  },
  {
   "cell_type": "code",
   "execution_count": 2,
   "metadata": {},
   "outputs": [],
   "source": [
    "semcor_reader = SemCorSelector()\n",
    "model = initialize_model()"
   ]
  },
  {
   "cell_type": "markdown",
   "metadata": {},
   "source": [
    "# Material Item Polysemy\n",
    "\n",
    "## Glass"
   ]
  },
  {
   "cell_type": "code",
   "execution_count": 3,
   "metadata": {},
   "outputs": [],
   "source": [
    "semcor_reader.get_word_data('glass')"
   ]
  },
  {
   "cell_type": "code",
   "execution_count": 4,
   "metadata": {},
   "outputs": [
    {
     "name": "stdout",
     "output_type": "stream",
     "text": [
      "Senses for word glass\n"
     ]
    },
    {
     "data": {
      "text/plain": [
       "{('n', '01'), ('n', '02'), ('n', '03'), None}"
      ]
     },
     "execution_count": 4,
     "metadata": {},
     "output_type": "execute_result"
    }
   ],
   "source": [
    "semcor_reader.get_senses_for_curr_word()"
   ]
  },
  {
   "cell_type": "code",
   "execution_count": 5,
   "metadata": {},
   "outputs": [
    {
     "name": "stdout",
     "output_type": "stream",
     "text": [
      "Number of sentences for sense ('n', '01') 21\n",
      "Number of sentences for sense ('n', '02') 10\n",
      "Number of sentences for sense ('n', '03') 4\n"
     ]
    }
   ],
   "source": [
    "sel_senses = [('n', '01'), ('n', '02'), ('n', '03')]\n",
    "glass_sentences, glass_trees, glass_indices = semcor_reader.get_selected_sense_sents(sel_senses)"
   ]
  },
  {
   "cell_type": "code",
   "execution_count": 6,
   "metadata": {},
   "outputs": [],
   "source": [
    "glass_raw_embeddings = get_raw_embeddings('glass', glass_sentences, model)\n",
    "glass_summed_embeds = process_raw_embeddings(glass_raw_embeddings, 4, sum_layers)\n"
   ]
  },
  {
   "cell_type": "code",
   "execution_count": 9,
   "metadata": {},
   "outputs": [],
   "source": [
    "def plot_embeddings(e, sense_indices, sense_names, word_name):\n",
    "    assert len(sense_indices) == len(sense_names)\n",
    "    as_arr = np.asarray([t.numpy() for t in e])\n",
    "    dim_red = TSNE()\n",
    "    tsne_results = dim_red.fit_transform(as_arr)\n",
    "    num_senses = len(sense_indices)\n",
    "    results_for_sense = []\n",
    "\n",
    "    results_for_sense.append(tsne_results[:sense_indices[0] - 1])\n",
    "    for i in np.arange(len(sense_indices) - 1):\n",
    "        start = sense_indices[i]\n",
    "        end = sense_indices[i + 1]\n",
    "        results_for_sense.append(tsne_results[start:end])\n",
    "    \n",
    "    sense_dict = {}\n",
    "    for i in range(num_senses):\n",
    "        if i == 2:\n",
    "            plt.scatter(results_for_sense[i][:,0], results_for_sense[i][:,1], label = sense_names[i], color = 'purple')\n",
    "        else:\n",
    "            plt.scatter(results_for_sense[i][:,0], results_for_sense[i][:,1], label = sense_names[i])\n",
    "        sense_dict[sense_names[i]] = results_for_sense[i]\n",
    "\n",
    "    plt.title(\"BERT Embeddings for Senses of the Word \\\"\" + word_name + \"\\\" \")\n",
    "    plt.legend()\n",
    "    return sense_dict\n"
   ]
  },
  {
   "cell_type": "code",
   "execution_count": 16,
   "metadata": {},
   "outputs": [
    {
     "data": {
      "image/png": "[encoded data removed]",
      "text/plain": [
       "<Figure size 432x288 with 1 Axes>"
      ]
     },
     "metadata": {
      "needs_background": "light"
     },
     "output_type": "display_data"
    }
   ],
   "source": [
    "glass_results = plot_embeddings(glass_summed_embeds,\n",
    "                                glass_indices, ['material', 'container', 'quantity'], 'glass')"
   ]
  },
  {
   "cell_type": "code",
   "execution_count": 22,
   "metadata": {},
   "outputs": [
    {
     "data": {
      "text/plain": [
       "[1, 4]"
      ]
     },
     "execution_count": 22,
     "metadata": {},
     "output_type": "execute_result"
    }
   ],
   "source": [
    "[i for i in np.arange(len(glass_results['container'])) if glass_results['container'][i][0] >= 50]"
   ]
  },
  {
   "cell_type": "code",
   "execution_count": 25,
   "metadata": {},
   "outputs": [
    {
     "data": {
      "text/plain": [
       "[21, 31, 35]"
      ]
     },
     "execution_count": 25,
     "metadata": {},
     "output_type": "execute_result"
    }
   ],
   "source": [
    "glass_indices"
   ]
  },
  {
   "cell_type": "code",
   "execution_count": 27,
   "metadata": {},
   "outputs": [
    {
     "data": {
      "text/plain": [
       "'The suburban branch is thereby credited with a sale which would have been made even if its glass doors had never opened .'"
      ]
     },
     "execution_count": 27,
     "metadata": {},
     "output_type": "execute_result"
    }
   ],
   "source": [
    "glass_sentences[22]"
   ]
  },
  {
   "cell_type": "code",
   "execution_count": 30,
   "metadata": {},
   "outputs": [
    {
     "data": {
      "text/plain": [
       "'There was a glass pane in the front door , and through this he could see into a hallway where a plump woman with red hair was arranging flowers .'"
      ]
     },
     "execution_count": 30,
     "metadata": {},
     "output_type": "execute_result"
    }
   ],
   "source": [
    "glass_sentences[25]"
   ]
  },
  {
   "cell_type": "code",
   "execution_count": 36,
   "metadata": {},
   "outputs": [],
   "source": [
    "glass_sentences.insert(0, glass_sentences[22])\n"
   ]
  },
  {
   "cell_type": "code",
   "execution_count": 37,
   "metadata": {},
   "outputs": [],
   "source": [
    "glass_sentences.insert(0, glass_sentences[26])"
   ]
  },
  {
   "cell_type": "code",
   "execution_count": 41,
   "metadata": {},
   "outputs": [
    {
     "data": {
      "text/plain": [
       "'The suburban branch is thereby credited with a sale which would have been made even if its glass doors had never opened .'"
      ]
     },
     "execution_count": 41,
     "metadata": {},
     "output_type": "execute_result"
    }
   ],
   "source": [
    "glass_sentences[24]"
   ]
  },
  {
   "cell_type": "code",
   "execution_count": 43,
   "metadata": {},
   "outputs": [
    {
     "data": {
      "text/plain": [
       "'There was a glass pane in the front door , and through this he could see into a hallway where a plump woman with red hair was arranging flowers .'"
      ]
     },
     "execution_count": 43,
     "metadata": {},
     "output_type": "execute_result"
    }
   ],
   "source": [
    "glass_sentences[27]"
   ]
  },
  {
   "cell_type": "code",
   "execution_count": 40,
   "metadata": {},
   "outputs": [
    {
     "data": {
      "text/plain": [
       "['There was a glass pane in the front door , and through this he could see into a hallway where a plump woman with red hair was arranging flowers .',\n",
       " 'The suburban branch is thereby credited with a sale which would have been made even if its glass doors had never opened .']"
      ]
     },
     "execution_count": 40,
     "metadata": {},
     "output_type": "execute_result"
    }
   ],
   "source": [
    "glass_sentences[:2]"
   ]
  },
  {
   "cell_type": "code",
   "execution_count": 46,
   "metadata": {},
   "outputs": [],
   "source": [
    "del glass_sentences[24:28:3]"
   ]
  },
  {
   "cell_type": "code",
   "execution_count": 57,
   "metadata": {},
   "outputs": [
    {
     "data": {
      "text/plain": [
       "'Two men murmured with their heads together at the end of the bar , while the sleek headed bartender absently polished a glass .'"
      ]
     },
     "execution_count": 57,
     "metadata": {},
     "output_type": "execute_result"
    }
   ],
   "source": [
    "glass_sentences[30]"
   ]
  },
  {
   "cell_type": "code",
   "execution_count": 58,
   "metadata": {},
   "outputs": [
    {
     "data": {
      "text/plain": [
       "35"
      ]
     },
     "execution_count": 58,
     "metadata": {},
     "output_type": "execute_result"
    }
   ],
   "source": [
    "len(glass_sentences)"
   ]
  },
  {
   "cell_type": "code",
   "execution_count": 59,
   "metadata": {},
   "outputs": [],
   "source": [
    "glass_indices = [23, 31, 35]"
   ]
  },
  {
   "cell_type": "code",
   "execution_count": 60,
   "metadata": {},
   "outputs": [],
   "source": [
    "glass_raw_embeddings = get_raw_embeddings('glass', glass_sentences, model)\n",
    "glass_summed_embeds = process_raw_embeddings(glass_raw_embeddings, 4, sum_layers)\n"
   ]
  },
  {
   "cell_type": "code",
   "execution_count": 61,
   "metadata": {},
   "outputs": [
    {
     "data": {
      "image/png": "[encoded data removed]",
      "text/plain": [
       "<Figure size 432x288 with 1 Axes>"
      ]
     },
     "metadata": {
      "needs_background": "light"
     },
     "output_type": "display_data"
    }
   ],
   "source": [
    "glass_results = plot_embeddings(glass_summed_embeds,\n",
    "                                glass_indices, ['material', 'container', 'quantity'], 'glass')"
   ]
  },
  {
   "cell_type": "code",
   "execution_count": 64,
   "metadata": {},
   "outputs": [],
   "source": [
    "def find_closest_distance(e1_lst, e2_lst):\n",
    "    return np.mean([min([euc_dist(e1, e2) for e2 in e2_lst]) for e1 in e1_lst])\n",
    "\n"
   ]
  },
  {
   "cell_type": "code",
   "execution_count": 65,
   "metadata": {},
   "outputs": [],
   "source": [
    "def centroid(arr):\n",
    "    arr = lst_to_np(arr)\n",
    "    length, dim = arr.shape\n",
    "    return np.array([np.sum(arr[:, i])/length for i in range(dim)])\n"
   ]
  },
  {
   "cell_type": "code",
   "execution_count": 66,
   "metadata": {},
   "outputs": [],
   "source": [
    "def lst_to_np(arr):\n",
    "    return np.array([t.numpy() for t in arr])"
   ]
  },
  {
   "cell_type": "code",
   "execution_count": 67,
   "metadata": {},
   "outputs": [],
   "source": [
    "material_orig = glass_summed_embeds[:glass_indices[0]]\n",
    "cntr_orig = glass_summed_embeds[glass_indices[0]:glass_indices[1]]\n",
    "quant_orig = glass_summed_embeds[glass_indices[1]:glass_indices[2]]"
   ]
  },
  {
   "cell_type": "code",
   "execution_count": 68,
   "metadata": {},
   "outputs": [],
   "source": [
    "def cosine_sim(v1, v2):\n",
    "    return np.dot(v1, v2) / (np.linalg.norm(v1) * np.linalg.norm(v2))"
   ]
  },
  {
   "cell_type": "code",
   "execution_count": 69,
   "metadata": {},
   "outputs": [],
   "source": [
    "def cs_centroids(s1, s2):\n",
    "    return cosine_sim(centroid(s1), centroid(s2))"
   ]
  },
  {
   "cell_type": "code",
   "execution_count": 70,
   "metadata": {},
   "outputs": [],
   "source": [
    "def dist_centroids(s1, s2):\n",
    "    return euc_dist(centroid(s1), centroid(s2))"
   ]
  },
  {
   "cell_type": "code",
   "execution_count": 89,
   "metadata": {},
   "outputs": [
    {
     "data": {
      "text/plain": [
       "49.920660023562"
      ]
     },
     "execution_count": 89,
     "metadata": {},
     "output_type": "execute_result"
    }
   ],
   "source": [
    "dist_centroids(material_orig, cntr_orig)"
   ]
  },
  {
   "cell_type": "code",
   "execution_count": 90,
   "metadata": {},
   "outputs": [
    {
     "data": {
      "text/plain": [
       "28.723487090539177"
      ]
     },
     "execution_count": 90,
     "metadata": {},
     "output_type": "execute_result"
    }
   ],
   "source": [
    "dist_centroids(cntr_orig, quant_orig)"
   ]
  },
  {
   "cell_type": "code",
   "execution_count": 91,
   "metadata": {},
   "outputs": [
    {
     "data": {
      "text/plain": [
       "55.19707240246716"
      ]
     },
     "execution_count": 91,
     "metadata": {},
     "output_type": "execute_result"
    }
   ],
   "source": [
    "dist_centroids(material_orig, quant_orig)"
   ]
  },
  {
   "cell_type": "markdown",
   "metadata": {},
   "source": [
    "Cosine Similarity"
   ]
  },
  {
   "cell_type": "code",
   "execution_count": 71,
   "metadata": {},
   "outputs": [
    {
     "data": {
      "text/plain": [
       "0.6464858189334435"
      ]
     },
     "execution_count": 71,
     "metadata": {},
     "output_type": "execute_result"
    }
   ],
   "source": [
    "cs_centroids(material_orig, cntr_orig)"
   ]
  },
  {
   "cell_type": "code",
   "execution_count": 72,
   "metadata": {},
   "outputs": [
    {
     "data": {
      "text/plain": [
       "0.897841636248237"
      ]
     },
     "execution_count": 72,
     "metadata": {},
     "output_type": "execute_result"
    }
   ],
   "source": [
    "cs_centroids(cntr_orig, quant_orig)"
   ]
  },
  {
   "cell_type": "code",
   "execution_count": 73,
   "metadata": {},
   "outputs": [
    {
     "data": {
      "text/plain": [
       "0.5958294515148661"
      ]
     },
     "execution_count": 73,
     "metadata": {},
     "output_type": "execute_result"
    }
   ],
   "source": [
    "cs_centroids(material_orig, quant_orig)"
   ]
  },
  {
   "cell_type": "markdown",
   "metadata": {},
   "source": [
    "## Linen"
   ]
  },
  {
   "cell_type": "code",
   "execution_count": 26,
   "metadata": {},
   "outputs": [],
   "source": [
    "semcor_reader.get_word_data('linen')"
   ]
  },
  {
   "cell_type": "code",
   "execution_count": 27,
   "metadata": {},
   "outputs": [
    {
     "name": "stdout",
     "output_type": "stream",
     "text": [
      "Senses for word linen\n"
     ]
    },
    {
     "data": {
      "text/plain": [
       "{('n', '01'), ('n', '02'), None}"
      ]
     },
     "execution_count": 27,
     "metadata": {},
     "output_type": "execute_result"
    }
   ],
   "source": [
    "semcor_reader.get_senses_for_curr_word()"
   ]
  },
  {
   "cell_type": "code",
   "execution_count": 28,
   "metadata": {},
   "outputs": [
    {
     "name": "stdout",
     "output_type": "stream",
     "text": [
      "Number of sentences for sense ('n', '01') 2\n",
      "Number of sentences for sense ('n', '02') 1\n"
     ]
    }
   ],
   "source": [
    "sel_senses = [('n', '01'), ('n', '02')]\n",
    "linen_sentences, sense_indices = semcor_reader.get_selected_sense_sents(sel_senses)"
   ]
  },
  {
   "cell_type": "code",
   "execution_count": 30,
   "metadata": {},
   "outputs": [
    {
     "data": {
      "text/plain": [
       "['a fabric woven with fibers from the flax plant',\n",
       " 'a high-quality paper made of linen fibers or with a linen finish',\n",
       " 'white goods or clothing made with linen cloth']"
      ]
     },
     "execution_count": 30,
     "metadata": {},
     "output_type": "execute_result"
    }
   ],
   "source": [
    "[i.definition() for i in nltk.corpus.wordnet.synsets('linen')]"
   ]
  },
  {
   "cell_type": "code",
   "execution_count": 32,
   "metadata": {},
   "outputs": [
    {
     "data": {
      "image/png": "[encoded data removed]",
      "text/plain": [
       "<Figure size 432x288 with 1 Axes>"
      ]
     },
     "metadata": {
      "needs_background": "light"
     },
     "output_type": "display_data"
    }
   ],
   "source": [
    "linen_raw_embeddings = get_raw_embeddings('linen', linen_sentences, model)\n",
    "linen_summed_embeds = process_raw_embeddings(linen_raw_embeddings, 4, sum_layers)\n",
    "plot_embeddings(linen_summed_embeds, sense_indices, ['material', 'item'], 'linen')"
   ]
  },
  {
   "cell_type": "markdown",
   "metadata": {},
   "source": [
    "## Iron"
   ]
  },
  {
   "cell_type": "code",
   "execution_count": 34,
   "metadata": {
    "scrolled": true
   },
   "outputs": [
    {
     "name": "stdout",
     "output_type": "stream",
     "text": [
      "Senses for word iron\n"
     ]
    },
    {
     "data": {
      "text/plain": [
       "{('n', '01'), ('n', '02'), ('v', '01'), None}"
      ]
     },
     "execution_count": 34,
     "metadata": {},
     "output_type": "execute_result"
    }
   ],
   "source": [
    "semcor_reader.get_word_data('iron')\n",
    "semcor_reader.get_senses_for_curr_word()"
   ]
  },
  {
   "cell_type": "code",
   "execution_count": 1,
   "metadata": {},
   "outputs": [
    {
     "data": {
      "text/plain": [
       "tuple"
      ]
     },
     "execution_count": 1,
     "metadata": {},
     "output_type": "execute_result"
    }
   ],
   "source": [
    "type(('n', '01'))"
   ]
  },
  {
   "cell_type": "code",
   "execution_count": 37,
   "metadata": {},
   "outputs": [
    {
     "name": "stdout",
     "output_type": "stream",
     "text": [
      "Number of sentences for sense ('n', '01') 16\n",
      "Number of sentences for sense ('n', '02') 1\n"
     ]
    }
   ],
   "source": [
    "sel_senses = [('n', '01'), ('n', '02')]\n",
    "iron_sentences, sense_indices = semcor_reader.get_selected_sense_sents(sel_senses)"
   ]
  },
  {
   "cell_type": "code",
   "execution_count": null,
   "metadata": {},
   "outputs": [],
   "source": []
  },
  {
   "cell_type": "code",
   "execution_count": 40,
   "metadata": {},
   "outputs": [
    {
     "data": {
      "image/png": "[encoded data removed]",
      "text/plain": [
       "<Figure size 432x288 with 1 Axes>"
      ]
     },
     "metadata": {
      "needs_background": "light"
     },
     "output_type": "display_data"
    }
   ],
   "source": [
    "iron_raw_embeddings = get_raw_embeddings('iron', iron_sentences, model)\n",
    "iron_summed_embeds = process_raw_embeddings(iron_raw_embeddings, 4, sum_layers)\n",
    "plot_embeddings(iron_summed_embeds, sense_indices, ['material', 'item'], 'iron')"
   ]
  },
  {
   "cell_type": "markdown",
   "metadata": {},
   "source": [
    "## Nickel"
   ]
  },
  {
   "cell_type": "code",
   "execution_count": 57,
   "metadata": {},
   "outputs": [
    {
     "name": "stdout",
     "output_type": "stream",
     "text": [
      "Senses for word nickel\n"
     ]
    },
    {
     "data": {
      "text/plain": [
       "{('n', '01'), ('n', '02')}"
      ]
     },
     "execution_count": 57,
     "metadata": {},
     "output_type": "execute_result"
    }
   ],
   "source": [
    "semcor_reader.get_word_data('nickel')\n",
    "semcor_reader.get_senses_for_curr_word()"
   ]
  },
  {
   "cell_type": "code",
   "execution_count": 62,
   "metadata": {},
   "outputs": [
    {
     "name": "stdout",
     "output_type": "stream",
     "text": [
      "Number of sentences for sense ('n', '01') 4\n",
      "Number of sentences for sense ('n', '02') 1\n"
     ]
    }
   ],
   "source": [
    "sel_senses = [('n', '01'), ('n', '02')]\n",
    "nickel_senses, sense_indices = semcor_reader.get_selected_sense_sents(sel_senses)"
   ]
  },
  {
   "cell_type": "code",
   "execution_count": 63,
   "metadata": {},
   "outputs": [
    {
     "data": {
      "image/png": "[encoded data removed]",
      "text/plain": [
       "<Figure size 432x288 with 1 Axes>"
      ]
     },
     "metadata": {
      "needs_background": "light"
     },
     "output_type": "display_data"
    }
   ],
   "source": [
    "nickel_raw_embeddings = get_raw_embeddings('nickel', nickel_senses, model)\n",
    "nickel_summed_embeds = process_raw_embeddings(nickel_raw_embeddings, 4, sum_layers)\n",
    "plot_embeddings(iron_summed_embeds, sense_indices, ['material', 'item'], 'nickel')"
   ]
  },
  {
   "cell_type": "markdown",
   "metadata": {},
   "source": [
    "# Visualizing Embeddings for Most Frequently Occurring Words in SEMCOR"
   ]
  },
  {
   "cell_type": "markdown",
   "metadata": {},
   "source": [
    "## Use"
   ]
  },
  {
   "cell_type": "code",
   "execution_count": 95,
   "metadata": {},
   "outputs": [],
   "source": [
    "semcor_reader.get_word_data('use')"
   ]
  },
  {
   "cell_type": "code",
   "execution_count": 96,
   "metadata": {},
   "outputs": [
    {
     "name": "stdout",
     "output_type": "stream",
     "text": [
      "Senses for word use\n"
     ]
    },
    {
     "data": {
      "text/plain": [
       "{('n', '01'),\n",
       " ('n', '02'),\n",
       " ('n', '03'),\n",
       " ('v', '00'),\n",
       " ('v', '01'),\n",
       " ('v', '02'),\n",
       " ('v', '03'),\n",
       " ('v', '05'),\n",
       " None}"
      ]
     },
     "execution_count": 96,
     "metadata": {},
     "output_type": "execute_result"
    }
   ],
   "source": [
    "semcor_reader.get_senses_for_curr_word()"
   ]
  },
  {
   "cell_type": "code",
   "execution_count": 100,
   "metadata": {},
   "outputs": [
    {
     "name": "stdout",
     "output_type": "stream",
     "text": [
      "Number of sentences for sense ('n', '01') 85\n",
      "Number of sentences for sense ('v', '01') 140\n"
     ]
    }
   ],
   "source": [
    "sel_senses = [('n', '01'), ('v', '01')]\n",
    "use_sentences, sense_indices = semcor_reader.get_selected_sense_sents(sel_senses)"
   ]
  },
  {
   "cell_type": "code",
   "execution_count": 104,
   "metadata": {},
   "outputs": [
    {
     "data": {
      "image/png": "[encoded data removed]",
      "text/plain": [
       "<Figure size 432x288 with 1 Axes>"
      ]
     },
     "metadata": {
      "needs_background": "light"
     },
     "output_type": "display_data"
    }
   ],
   "source": [
    "use_raw = get_raw_embeddings('use', use_sentences, model)\n",
    "use_summed = process_raw_embeddings(use_raw, 4, sum_layers)\n",
    "plot_embeddings(use_summed, sense_indices, ['noun', 'verb'], 'use')"
   ]
  },
  {
   "cell_type": "markdown",
   "metadata": {},
   "source": [
    "## Left"
   ]
  },
  {
   "cell_type": "code",
   "execution_count": 75,
   "metadata": {},
   "outputs": [],
   "source": [
    "semcor_reader.get_word_data('left')"
   ]
  },
  {
   "cell_type": "code",
   "execution_count": 76,
   "metadata": {},
   "outputs": [
    {
     "name": "stdout",
     "output_type": "stream",
     "text": [
      "Senses for word left\n"
     ]
    },
    {
     "data": {
      "text/plain": [
       "{('a', '01'),\n",
       " ('n', '01'),\n",
       " ('n', '02'),\n",
       " ('n', '03'),\n",
       " ('r', '01'),\n",
       " ('s', '01'),\n",
       " ('s', '03'),\n",
       " ('v', '00'),\n",
       " ('v', '01'),\n",
       " ('v', '02'),\n",
       " ('v', '03'),\n",
       " ('v', '04'),\n",
       " ('v', '06'),\n",
       " ('v', '07'),\n",
       " ('v', '08'),\n",
       " ('v', '11'),\n",
       " ('v', '12'),\n",
       " None}"
      ]
     },
     "execution_count": 76,
     "metadata": {},
     "output_type": "execute_result"
    }
   ],
   "source": [
    "semcor_reader.get_senses_for_curr_word()"
   ]
  },
  {
   "cell_type": "code",
   "execution_count": 77,
   "metadata": {},
   "outputs": [
    {
     "name": "stdout",
     "output_type": "stream",
     "text": [
      "Number of sentences for sense ('n', '01') 19\n",
      "Number of sentences for sense ('n', '02') 1\n",
      "Number of sentences for sense ('n', '03') 8\n"
     ]
    },
    {
     "ename": "ValueError",
     "evalue": "too many values to unpack (expected 2)",
     "output_type": "error",
     "traceback": [
      "\u001b[0;31m---------------------------------------------------------------------------\u001b[0m",
      "\u001b[0;31mValueError\u001b[0m                                Traceback (most recent call last)",
      "\u001b[0;32m<ipython-input-77-f7a38e3fe858>\u001b[0m in \u001b[0;36m<module>\u001b[0;34m\u001b[0m\n\u001b[1;32m      2\u001b[0m  \u001b[0;34m(\u001b[0m\u001b[0;34m'n'\u001b[0m\u001b[0;34m,\u001b[0m \u001b[0;34m'02'\u001b[0m\u001b[0;34m)\u001b[0m\u001b[0;34m,\u001b[0m\u001b[0;34m\u001b[0m\u001b[0;34m\u001b[0m\u001b[0m\n\u001b[1;32m      3\u001b[0m  ('n', '03')]\n\u001b[0;32m----> 4\u001b[0;31m \u001b[0mleft_sentences\u001b[0m\u001b[0;34m,\u001b[0m \u001b[0msense_indices\u001b[0m \u001b[0;34m=\u001b[0m \u001b[0msemcor_reader\u001b[0m\u001b[0;34m.\u001b[0m\u001b[0mget_selected_sense_sents\u001b[0m\u001b[0;34m(\u001b[0m\u001b[0msel_senses\u001b[0m\u001b[0;34m)\u001b[0m\u001b[0;34m\u001b[0m\u001b[0;34m\u001b[0m\u001b[0m\n\u001b[0m",
      "\u001b[0;31mValueError\u001b[0m: too many values to unpack (expected 2)"
     ]
    }
   ],
   "source": [
    "sel_senses = [('n', '01'),\n",
    " ('n', '02'),\n",
    " ('n', '03')]\n",
    "left_sentences, sense_indices = semcor_reader.get_selected_sense_sents(sel_senses)"
   ]
  },
  {
   "cell_type": "code",
   "execution_count": 137,
   "metadata": {},
   "outputs": [
    {
     "data": {
      "image/png": "[encoded data removed]",
      "text/plain": [
       "<Figure size 432x288 with 1 Axes>"
      ]
     },
     "metadata": {
      "needs_background": "light"
     },
     "output_type": "display_data"
    }
   ],
   "source": [
    "left_raw = get_raw_embeddings('left', left_sentences, model)\n",
    "left_summed = process_raw_embeddings(left_raw, 4, sum_layers)\n",
    "plot_embeddings(left_summed, sense_indices, ['adj', 'verb'], 'left')"
   ]
  },
  {
   "cell_type": "markdown",
   "metadata": {},
   "source": [
    "## Right"
   ]
  },
  {
   "cell_type": "code",
   "execution_count": 21,
   "metadata": {},
   "outputs": [],
   "source": [
    "semcor_reader.get_word_data('right')"
   ]
  },
  {
   "cell_type": "code",
   "execution_count": 22,
   "metadata": {},
   "outputs": [
    {
     "name": "stdout",
     "output_type": "stream",
     "text": [
      "Senses for word right\n"
     ]
    },
    {
     "data": {
      "text/plain": [
       "{('a', '01'),\n",
       " ('a', '04'),\n",
       " ('a', '05'),\n",
       " ('a', '4;3'),\n",
       " ('n', '01'),\n",
       " ('n', '02'),\n",
       " ('n', '04'),\n",
       " ('n', '05'),\n",
       " ('n', '06'),\n",
       " ('r', '01'),\n",
       " ('r', '02'),\n",
       " ('r', '03'),\n",
       " ('r', '04'),\n",
       " ('r', '06'),\n",
       " ('r', '07'),\n",
       " ('s', '01'),\n",
       " ('s', '02'),\n",
       " ('s', '04'),\n",
       " None}"
      ]
     },
     "execution_count": 22,
     "metadata": {},
     "output_type": "execute_result"
    }
   ],
   "source": [
    "semcor_reader.get_senses_for_curr_word()"
   ]
  },
  {
   "cell_type": "code",
   "execution_count": 23,
   "metadata": {},
   "outputs": [
    {
     "name": "stdout",
     "output_type": "stream",
     "text": [
      "Number of sentences for sense ('n', '01') 33\n",
      "Number of sentences for sense ('n', '02') 12\n"
     ]
    }
   ],
   "source": [
    "sel_senses = [('n', '01'),\n",
    " ('n', '02')]\n",
    "right_sentences, right_tagged, sense_indices = semcor_reader.get_selected_sense_sents(sel_senses)"
   ]
  },
  {
   "cell_type": "code",
   "execution_count": 24,
   "metadata": {},
   "outputs": [],
   "source": [
    "right_raw = get_raw_embeddings('right', right_sentences, model)\n",
    "right_summed = process_raw_embeddings(right_raw, 4, sum_layers)"
   ]
  },
  {
   "cell_type": "code",
   "execution_count": 40,
   "metadata": {},
   "outputs": [
    {
     "data": {
      "image/png": "[encoded data removed]",
      "text/plain": [
       "<Figure size 432x288 with 1 Axes>"
      ]
     },
     "metadata": {
      "needs_background": "light"
     },
     "output_type": "display_data"
    }
   ],
   "source": [
    "right_results = plot_embeddings(right_summed, sense_indices, ['idea', 'direction'], 'right')"
   ]
  },
  {
   "cell_type": "markdown",
   "metadata": {},
   "source": [
    "## Table"
   ]
  },
  {
   "cell_type": "code",
   "execution_count": 6,
   "metadata": {},
   "outputs": [
    {
     "name": "stdout",
     "output_type": "stream",
     "text": [
      "Senses for word table\n"
     ]
    },
    {
     "data": {
      "text/plain": [
       "{('n', '01'), ('n', '02'), ('n', '03'), None}"
      ]
     },
     "execution_count": 6,
     "metadata": {},
     "output_type": "execute_result"
    }
   ],
   "source": [
    "semcor_reader.get_word_data('table')\n",
    "semcor_reader.get_senses_for_curr_word()"
   ]
  },
  {
   "cell_type": "code",
   "execution_count": 7,
   "metadata": {},
   "outputs": [
    {
     "data": {
      "text/plain": [
       "'a set of data arranged in rows and columns'"
      ]
     },
     "execution_count": 7,
     "metadata": {},
     "output_type": "execute_result"
    }
   ],
   "source": [
    "nltk.corpus.wordnet.synsets('table')[0].definition()"
   ]
  },
  {
   "cell_type": "code",
   "execution_count": 47,
   "metadata": {},
   "outputs": [
    {
     "name": "stdout",
     "output_type": "stream",
     "text": [
      "Number of sentences for sense ('n', '01') 11\n",
      "Number of sentences for sense ('n', '02') 25\n",
      "Number of sentences for sense ('n', '03') 4\n"
     ]
    }
   ],
   "source": [
    "sel_senses = [('n', '01'), ('n', '02'), ('n', '03')]\n",
    "tbl_sentences, tbl_tagged, sense_indices = semcor_reader.get_selected_sense_sents(sel_senses)"
   ]
  },
  {
   "cell_type": "code",
   "execution_count": 48,
   "metadata": {},
   "outputs": [
    {
     "data": {
      "text/plain": [
       "[('n', '01'), ('n', '02'), ('n', '03')]"
      ]
     },
     "execution_count": 48,
     "metadata": {},
     "output_type": "execute_result"
    }
   ],
   "source": [
    "sel_senses"
   ]
  },
  {
   "cell_type": "code",
   "execution_count": 49,
   "metadata": {},
   "outputs": [
    {
     "data": {
      "text/plain": [
       "[11, 36, 40]"
      ]
     },
     "execution_count": 49,
     "metadata": {},
     "output_type": "execute_result"
    }
   ],
   "source": [
    "sense_indices"
   ]
  },
  {
   "cell_type": "code",
   "execution_count": 50,
   "metadata": {},
   "outputs": [],
   "source": [
    "tree_labels = []\n",
    "this_sense_indices = [0] + sense_indices\n",
    "for i in np.arange(len(sense_indices)):\n",
    "    start = this_sense_indices[i]\n",
    "    end = this_sense_indices[i + 1]\n",
    "    tree_labels += (end - start) * [sel_senses[i]]\n"
   ]
  },
  {
   "cell_type": "code",
   "execution_count": 51,
   "metadata": {},
   "outputs": [
    {
     "data": {
      "text/plain": [
       "40"
      ]
     },
     "execution_count": 51,
     "metadata": {},
     "output_type": "execute_result"
    }
   ],
   "source": [
    "sense_indices[-1]"
   ]
  },
  {
   "cell_type": "code",
   "execution_count": 53,
   "metadata": {},
   "outputs": [
    {
     "data": {
      "text/plain": [
       "True"
      ]
     },
     "execution_count": 53,
     "metadata": {},
     "output_type": "execute_result"
    }
   ],
   "source": [
    "len(tree_labels) == len(tbl_sentences)"
   ]
  },
  {
   "cell_type": "code",
   "execution_count": 9,
   "metadata": {},
   "outputs": [],
   "source": [
    "tbl_raw = get_raw_embeddings('table', tbl_sentences, model)\n",
    "tbl_summed = process_raw_embeddings(tbl_raw, 4, sum_layers)"
   ]
  },
  {
   "cell_type": "code",
   "execution_count": 10,
   "metadata": {},
   "outputs": [
    {
     "data": {
      "image/png": "[encoded data removed]",
      "text/plain": [
       "<Figure size 432x288 with 1 Axes>"
      ]
     },
     "metadata": {
      "needs_background": "light"
     },
     "output_type": "display_data"
    }
   ],
   "source": [
    "tbl_results = plot_embeddings(tbl_summed, sense_indices, ['data', 'furniture'], 'table')"
   ]
  },
  {
   "cell_type": "code",
   "execution_count": 11,
   "metadata": {},
   "outputs": [],
   "source": [
    "second = tbl_summed.pop(2)\n",
    "tbl_summed.append(second)"
   ]
  },
  {
   "cell_type": "code",
   "execution_count": 81,
   "metadata": {},
   "outputs": [],
   "source": [
    "sense_indices[0] -= 1"
   ]
  },
  {
   "cell_type": "code",
   "execution_count": 82,
   "metadata": {},
   "outputs": [
    {
     "data": {
      "image/png": "[encoded data removed]",
      "text/plain": [
       "<Figure size 432x288 with 1 Axes>"
      ]
     },
     "metadata": {
      "needs_background": "light"
     },
     "output_type": "display_data"
    }
   ],
   "source": [
    "tbl_results = plot_embeddings(tbl_summed, sense_indices, ['data', 'furniture'], 'table')"
   ]
  },
  {
   "cell_type": "code",
   "execution_count": 83,
   "metadata": {},
   "outputs": [
    {
     "data": {
      "text/plain": [
       "[10, 36]"
      ]
     },
     "execution_count": 83,
     "metadata": {},
     "output_type": "execute_result"
    }
   ],
   "source": [
    "sense_indices"
   ]
  },
  {
   "cell_type": "code",
   "execution_count": 84,
   "metadata": {},
   "outputs": [],
   "source": [
    "data_embeds = tbl_summed[:sense_indices[0]]\n",
    "furn_embeds = tbl_summed[sense_indices[0]:sense_indices[1]]"
   ]
  },
  {
   "cell_type": "code",
   "execution_count": 85,
   "metadata": {
    "scrolled": false
   },
   "outputs": [
    {
     "data": {
      "text/plain": [
       "72.635185"
      ]
     },
     "execution_count": 85,
     "metadata": {},
     "output_type": "execute_result"
    }
   ],
   "source": [
    "find_closest_distance(data_embeds, furn_embeds)"
   ]
  },
  {
   "cell_type": "code",
   "execution_count": 86,
   "metadata": {},
   "outputs": [
    {
     "data": {
      "text/plain": [
       "58.10873736089385"
      ]
     },
     "execution_count": 86,
     "metadata": {},
     "output_type": "execute_result"
    }
   ],
   "source": [
    "dist_centroids(data_embeds, furn_embeds)"
   ]
  },
  {
   "cell_type": "code",
   "execution_count": 88,
   "metadata": {},
   "outputs": [
    {
     "data": {
      "text/plain": [
       "0.5416212893501905"
      ]
     },
     "execution_count": 88,
     "metadata": {},
     "output_type": "execute_result"
    }
   ],
   "source": [
    "cs_centroids(data_embeds, furn_embeds)"
   ]
  },
  {
   "cell_type": "code",
   "execution_count": 4,
   "metadata": {},
   "outputs": [
    {
     "name": "stdout",
     "output_type": "stream",
     "text": [
      "Getting data from SEMCOR\n",
      "Senses for word table\n",
      "Getting sentences for relevant senses\n",
      "Number of sentences for sense ('n', '01') 11\n",
      "Number of sentences for sense ('n', '02') 25\n",
      "Generating BERT embeddings\n",
      "Plotting t-SNE\n"
     ]
    },
    {
     "data": {
      "image/png": "[encoded data removed]",
      "text/plain": [
       "<Figure size 432x288 with 1 Axes>"
      ]
     },
     "metadata": {
      "needs_background": "light"
     },
     "output_type": "display_data"
    }
   ],
   "source": [
    "tbl_embeds, tbl_tsne = run_pipeline('table', 'n', model, plot = True)"
   ]
  },
  {
   "cell_type": "code",
   "execution_count": 5,
   "metadata": {},
   "outputs": [
    {
     "ename": "NameError",
     "evalue": "name 'sense_indices' is not defined",
     "output_type": "error",
     "traceback": [
      "\u001b[0;31m---------------------------------------------------------------------------\u001b[0m",
      "\u001b[0;31mNameError\u001b[0m                                 Traceback (most recent call last)",
      "\u001b[0;32m<ipython-input-5-23bd1e15a8c6>\u001b[0m in \u001b[0;36m<module>\u001b[0;34m\u001b[0m\n\u001b[0;32m----> 1\u001b[0;31m \u001b[0mtree_labels\u001b[0m \u001b[0;34m=\u001b[0m \u001b[0msense_indices\u001b[0m\u001b[0;34m[\u001b[0m\u001b[0;36m0\u001b[0m\u001b[0;34m]\u001b[0m \u001b[0;34m*\u001b[0m \u001b[0;34m[\u001b[0m\u001b[0msel_senses\u001b[0m\u001b[0;34m[\u001b[0m\u001b[0;36m0\u001b[0m\u001b[0;34m]\u001b[0m\u001b[0;34m]\u001b[0m\u001b[0;34m\u001b[0m\u001b[0;34m\u001b[0m\u001b[0m\n\u001b[0m\u001b[1;32m      2\u001b[0m \u001b[0;32mfor\u001b[0m \u001b[0mi\u001b[0m \u001b[0;32min\u001b[0m \u001b[0mnp\u001b[0m\u001b[0;34m.\u001b[0m\u001b[0marange\u001b[0m\u001b[0;34m(\u001b[0m\u001b[0mlen\u001b[0m\u001b[0;34m(\u001b[0m\u001b[0msense_indices\u001b[0m\u001b[0;34m)\u001b[0m \u001b[0;34m-\u001b[0m \u001b[0;36m1\u001b[0m\u001b[0;34m)\u001b[0m\u001b[0;34m:\u001b[0m\u001b[0;34m\u001b[0m\u001b[0;34m\u001b[0m\u001b[0m\n\u001b[1;32m      3\u001b[0m     \u001b[0mstart\u001b[0m \u001b[0;34m=\u001b[0m \u001b[0msense_indices\u001b[0m\u001b[0;34m[\u001b[0m\u001b[0mi\u001b[0m\u001b[0;34m]\u001b[0m\u001b[0;34m\u001b[0m\u001b[0;34m\u001b[0m\u001b[0m\n\u001b[1;32m      4\u001b[0m     \u001b[0mend\u001b[0m \u001b[0;34m=\u001b[0m \u001b[0msense_indices\u001b[0m\u001b[0;34m[\u001b[0m\u001b[0mi\u001b[0m \u001b[0;34m+\u001b[0m \u001b[0;36m1\u001b[0m\u001b[0;34m]\u001b[0m\u001b[0;34m\u001b[0m\u001b[0;34m\u001b[0m\u001b[0m\n\u001b[1;32m      5\u001b[0m     \u001b[0mtree_labels\u001b[0m \u001b[0;34m+=\u001b[0m \u001b[0;34m(\u001b[0m\u001b[0mend\u001b[0m \u001b[0;34m-\u001b[0m \u001b[0mstart\u001b[0m\u001b[0;34m)\u001b[0m \u001b[0;34m*\u001b[0m \u001b[0;34m[\u001b[0m\u001b[0msel_senses\u001b[0m\u001b[0;34m[\u001b[0m\u001b[0mi\u001b[0m\u001b[0;34m]\u001b[0m\u001b[0;34m]\u001b[0m\u001b[0;34m\u001b[0m\u001b[0;34m\u001b[0m\u001b[0m\n",
      "\u001b[0;31mNameError\u001b[0m: name 'sense_indices' is not defined"
     ]
    }
   ],
   "source": [
    "tree_labels = sense_indices[0] * [sel_senses[0]]\n",
    "for i in np.arange(len(sense_indices) - 1):\n",
    "    start = sense_indices[i]\n",
    "    end = sense_indices[i + 1]\n",
    "    tree_labels += (end - start) * [sel_senses[i]]\n"
   ]
  }
 ],
 "metadata": {
  "kernelspec": {
   "display_name": "Python [conda env:bert]",
   "language": "python",
   "name": "conda-env-bert-py"
  },
  "language_info": {
   "codemirror_mode": {
    "name": "ipython",
    "version": 3
   },
   "file_extension": ".py",
   "mimetype": "text/x-python",
   "name": "python",
   "nbconvert_exporter": "python",
   "pygments_lexer": "ipython3",
   "version": "3.7.6"
  }
 },
 "nbformat": 4,
 "nbformat_minor": 2
}
